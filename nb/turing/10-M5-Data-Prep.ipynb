{
 "cells": [
  {
   "cell_type": "markdown",
   "id": "ca59edb2",
   "metadata": {},
   "source": [
    "# M5 EDA in Julia"
   ]
  },
  {
   "cell_type": "markdown",
   "id": "5e51636e",
   "metadata": {},
   "source": [
    "## Preparation"
   ]
  },
  {
   "cell_type": "code",
   "execution_count": 1,
   "id": "59f48102",
   "metadata": {
    "ExecuteTime": {
     "end_time": "2021-07-25T16:22:35.258000+02:00",
     "start_time": "2021-07-25T14:22:23.932Z"
    }
   },
   "outputs": [],
   "source": [
    "using DataFrames\n",
    "import CSV\n",
    "import Parquet\n",
    "using CategoricalArrays\n",
    "using FilePaths\n",
    "using FilePathsBase: /\n",
    "using Chain"
   ]
  },
  {
   "cell_type": "markdown",
   "id": "0afb1a14",
   "metadata": {},
   "source": [
    "See note: https://dataframes.juliadata.org/stable/man/getting_started/#Installation"
   ]
  },
  {
   "cell_type": "code",
   "execution_count": 2,
   "id": "f430fb08",
   "metadata": {
    "ExecuteTime": {
     "end_time": "2021-07-25T16:22:37.115000+02:00",
     "start_time": "2021-07-25T14:22:24.614Z"
    }
   },
   "outputs": [],
   "source": [
    "ENV[\"LINES\"] = 10\n",
    "ENV[\"COLUMNS\"] = 1000;"
   ]
  },
  {
   "cell_type": "code",
   "execution_count": 3,
   "id": "a2f56d4a",
   "metadata": {
    "ExecuteTime": {
     "end_time": "2021-07-25T16:22:39.816000+02:00",
     "start_time": "2021-07-25T14:22:25.629Z"
    }
   },
   "outputs": [],
   "source": [
    "path_data = parent(parent(cwd())) / \"data\";"
   ]
  },
  {
   "cell_type": "code",
   "execution_count": 50,
   "id": "d0ef32a2",
   "metadata": {
    "ExecuteTime": {
     "end_time": "2021-07-25T18:21:41.607000+02:00",
     "start_time": "2021-07-25T16:21:41.600Z"
    }
   },
   "outputs": [
    {
     "data": {
      "text/plain": [
       "@apath (macro with 1 method)"
      ]
     },
     "execution_count": 50,
     "metadata": {},
     "output_type": "execute_result"
    }
   ],
   "source": [
    "mkpath(path_data / \"clean\")\n",
    "macro xpath(arg)\n",
    "    return path_data / \"clean\" / (string(arg) * \".csv\")\n",
    "end\n",
    "macro apath(arg)\n",
    "    return string(path_data / \"clean\" / (string(arg) * \".arrow\"))\n",
    "end"
   ]
  },
  {
   "cell_type": "markdown",
   "id": "1a762604",
   "metadata": {},
   "source": [
    "## Load and preview files"
   ]
  },
  {
   "cell_type": "markdown",
   "id": "dc27bbfa",
   "metadata": {},
   "source": [
    "### Calendar"
   ]
  },
  {
   "cell_type": "code",
   "execution_count": 4,
   "id": "7cf0cbd5",
   "metadata": {
    "ExecuteTime": {
     "end_time": "2021-07-25T16:23:36.879000+02:00",
     "start_time": "2021-07-25T14:22:28.043Z"
    }
   },
   "outputs": [
    {
     "data": {
      "text/html": [
       "<div class=\"data-frame\"><p>1,969 rows × 14 columns</p><table class=\"data-frame\"><thead><tr><th></th><th>date</th><th>wm_yr_wk</th><th>weekday</th><th>wday</th><th>month</th><th>year</th><th>d</th><th>event_name_1</th><th>event_type_1</th><th>event_name_2</th><th>event_type_2</th><th>snap_CA</th><th>snap_TX</th><th>snap_WI</th></tr><tr><th></th><th title=\"Dates.Date\">Date…</th><th title=\"Int64\">Int64</th><th title=\"String\">String</th><th title=\"Int64\">Int64</th><th title=\"Int64\">Int64</th><th title=\"Int64\">Int64</th><th title=\"String\">String</th><th title=\"Union{Missing, String}\">String?</th><th title=\"Union{Missing, String}\">String?</th><th title=\"Union{Missing, String}\">String?</th><th title=\"Union{Missing, String}\">String?</th><th title=\"Int64\">Int64</th><th title=\"Int64\">Int64</th><th title=\"Int64\">Int64</th></tr></thead><tbody><tr><th>1</th><td>2011-01-29</td><td>11101</td><td>Saturday</td><td>1</td><td>1</td><td>2011</td><td>d_1</td><td><em>missing</em></td><td><em>missing</em></td><td><em>missing</em></td><td><em>missing</em></td><td>0</td><td>0</td><td>0</td></tr><tr><th>2</th><td>2011-01-30</td><td>11101</td><td>Sunday</td><td>2</td><td>1</td><td>2011</td><td>d_2</td><td><em>missing</em></td><td><em>missing</em></td><td><em>missing</em></td><td><em>missing</em></td><td>0</td><td>0</td><td>0</td></tr><tr><th>3</th><td>2011-01-31</td><td>11101</td><td>Monday</td><td>3</td><td>1</td><td>2011</td><td>d_3</td><td><em>missing</em></td><td><em>missing</em></td><td><em>missing</em></td><td><em>missing</em></td><td>0</td><td>0</td><td>0</td></tr><tr><th>4</th><td>2011-02-01</td><td>11101</td><td>Tuesday</td><td>4</td><td>2</td><td>2011</td><td>d_4</td><td><em>missing</em></td><td><em>missing</em></td><td><em>missing</em></td><td><em>missing</em></td><td>1</td><td>1</td><td>0</td></tr><tr><th>5</th><td>2011-02-02</td><td>11101</td><td>Wednesday</td><td>5</td><td>2</td><td>2011</td><td>d_5</td><td><em>missing</em></td><td><em>missing</em></td><td><em>missing</em></td><td><em>missing</em></td><td>1</td><td>0</td><td>1</td></tr><tr><th>6</th><td>2011-02-03</td><td>11101</td><td>Thursday</td><td>6</td><td>2</td><td>2011</td><td>d_6</td><td><em>missing</em></td><td><em>missing</em></td><td><em>missing</em></td><td><em>missing</em></td><td>1</td><td>1</td><td>1</td></tr><tr><th>7</th><td>2011-02-04</td><td>11101</td><td>Friday</td><td>7</td><td>2</td><td>2011</td><td>d_7</td><td><em>missing</em></td><td><em>missing</em></td><td><em>missing</em></td><td><em>missing</em></td><td>1</td><td>0</td><td>0</td></tr><tr><th>8</th><td>2011-02-05</td><td>11102</td><td>Saturday</td><td>1</td><td>2</td><td>2011</td><td>d_8</td><td><em>missing</em></td><td><em>missing</em></td><td><em>missing</em></td><td><em>missing</em></td><td>1</td><td>1</td><td>1</td></tr><tr><th>9</th><td>2011-02-06</td><td>11102</td><td>Sunday</td><td>2</td><td>2</td><td>2011</td><td>d_9</td><td>SuperBowl</td><td>Sporting</td><td><em>missing</em></td><td><em>missing</em></td><td>1</td><td>1</td><td>1</td></tr><tr><th>10</th><td>2011-02-07</td><td>11102</td><td>Monday</td><td>3</td><td>2</td><td>2011</td><td>d_10</td><td><em>missing</em></td><td><em>missing</em></td><td><em>missing</em></td><td><em>missing</em></td><td>1</td><td>1</td><td>0</td></tr><tr><th>&vellip;</th><td>&vellip;</td><td>&vellip;</td><td>&vellip;</td><td>&vellip;</td><td>&vellip;</td><td>&vellip;</td><td>&vellip;</td><td>&vellip;</td><td>&vellip;</td><td>&vellip;</td><td>&vellip;</td><td>&vellip;</td><td>&vellip;</td><td>&vellip;</td></tr></tbody></table></div>"
      ],
      "text/latex": [
       "\\begin{tabular}{r|cccccccccccccc}\n",
       "\t& date & wm\\_yr\\_wk & weekday & wday & month & year & d & event\\_name\\_1 & event\\_type\\_1 & event\\_name\\_2 & event\\_type\\_2 & snap\\_CA & snap\\_TX & snap\\_WI\\\\\n",
       "\t\\hline\n",
       "\t& Date… & Int64 & String & Int64 & Int64 & Int64 & String & String? & String? & String? & String? & Int64 & Int64 & Int64\\\\\n",
       "\t\\hline\n",
       "\t1 & 2011-01-29 & 11101 & Saturday & 1 & 1 & 2011 & d\\_1 & \\emph{missing} & \\emph{missing} & \\emph{missing} & \\emph{missing} & 0 & 0 & 0 \\\\\n",
       "\t2 & 2011-01-30 & 11101 & Sunday & 2 & 1 & 2011 & d\\_2 & \\emph{missing} & \\emph{missing} & \\emph{missing} & \\emph{missing} & 0 & 0 & 0 \\\\\n",
       "\t3 & 2011-01-31 & 11101 & Monday & 3 & 1 & 2011 & d\\_3 & \\emph{missing} & \\emph{missing} & \\emph{missing} & \\emph{missing} & 0 & 0 & 0 \\\\\n",
       "\t4 & 2011-02-01 & 11101 & Tuesday & 4 & 2 & 2011 & d\\_4 & \\emph{missing} & \\emph{missing} & \\emph{missing} & \\emph{missing} & 1 & 1 & 0 \\\\\n",
       "\t5 & 2011-02-02 & 11101 & Wednesday & 5 & 2 & 2011 & d\\_5 & \\emph{missing} & \\emph{missing} & \\emph{missing} & \\emph{missing} & 1 & 0 & 1 \\\\\n",
       "\t6 & 2011-02-03 & 11101 & Thursday & 6 & 2 & 2011 & d\\_6 & \\emph{missing} & \\emph{missing} & \\emph{missing} & \\emph{missing} & 1 & 1 & 1 \\\\\n",
       "\t7 & 2011-02-04 & 11101 & Friday & 7 & 2 & 2011 & d\\_7 & \\emph{missing} & \\emph{missing} & \\emph{missing} & \\emph{missing} & 1 & 0 & 0 \\\\\n",
       "\t8 & 2011-02-05 & 11102 & Saturday & 1 & 2 & 2011 & d\\_8 & \\emph{missing} & \\emph{missing} & \\emph{missing} & \\emph{missing} & 1 & 1 & 1 \\\\\n",
       "\t9 & 2011-02-06 & 11102 & Sunday & 2 & 2 & 2011 & d\\_9 & SuperBowl & Sporting & \\emph{missing} & \\emph{missing} & 1 & 1 & 1 \\\\\n",
       "\t10 & 2011-02-07 & 11102 & Monday & 3 & 2 & 2011 & d\\_10 & \\emph{missing} & \\emph{missing} & \\emph{missing} & \\emph{missing} & 1 & 1 & 0 \\\\\n",
       "\t$\\dots$ & $\\dots$ & $\\dots$ & $\\dots$ & $\\dots$ & $\\dots$ & $\\dots$ & $\\dots$ & $\\dots$ & $\\dots$ & $\\dots$ & $\\dots$ & $\\dots$ & $\\dots$ & $\\dots$ \\\\\n",
       "\\end{tabular}\n"
      ],
      "text/plain": [
       "\u001b[1m1969×14 DataFrame\u001b[0m\n",
       "\u001b[1m  Row \u001b[0m│\u001b[1m date       \u001b[0m\u001b[1m wm_yr_wk \u001b[0m\u001b[1m weekday  \u001b[0m\u001b[1m wday  \u001b[0m\u001b[1m month \u001b[0m\u001b[1m year  \u001b[0m\u001b[1m d      \u001b[0m\u001b[1m event_name_1 \u001b[0m\u001b[1m event_type_1 \u001b[0m\u001b[1m event_name_2 \u001b[0m\u001b[1m event_type_2 \u001b[0m\u001b[1m snap_CA \u001b[0m\u001b[1m snap_TX \u001b[0m\u001b[1m snap_WI \u001b[0m\n",
       "\u001b[1m      \u001b[0m│\u001b[90m Date…      \u001b[0m\u001b[90m Int64    \u001b[0m\u001b[90m String   \u001b[0m\u001b[90m Int64 \u001b[0m\u001b[90m Int64 \u001b[0m\u001b[90m Int64 \u001b[0m\u001b[90m String \u001b[0m\u001b[90m String?      \u001b[0m\u001b[90m String?      \u001b[0m\u001b[90m String?      \u001b[0m\u001b[90m String?      \u001b[0m\u001b[90m Int64   \u001b[0m\u001b[90m Int64   \u001b[0m\u001b[90m Int64   \u001b[0m\n",
       "──────┼────────────────────────────────────────────────────────────────────────────────────────────────────────────────────────────────────────────────\n",
       "    1 │ 2011-01-29     11101  Saturday      1      1   2011  d_1    \u001b[90m missing      \u001b[0m\u001b[90m missing      \u001b[0m\u001b[90m missing      \u001b[0m\u001b[90m missing      \u001b[0m       0        0        0\n",
       "  ⋮   │     ⋮          ⋮         ⋮        ⋮      ⋮      ⋮      ⋮          ⋮             ⋮             ⋮             ⋮           ⋮        ⋮        ⋮\n",
       "\u001b[36m                                                                                                                                      1968 rows omitted\u001b[0m"
      ]
     },
     "execution_count": 4,
     "metadata": {},
     "output_type": "execute_result"
    }
   ],
   "source": [
    "raw_calendar = CSV.read(path_data / \"calendar.csv\", DataFrame)"
   ]
  },
  {
   "cell_type": "code",
   "execution_count": 5,
   "id": "2b95654d",
   "metadata": {
    "ExecuteTime": {
     "end_time": "2021-07-25T16:23:49.915000+02:00",
     "start_time": "2021-07-25T14:22:28.433Z"
    }
   },
   "outputs": [
    {
     "data": {
      "text/html": [
       "<div class=\"data-frame\"><p>5,907 rows × 3 columns</p><table class=\"data-frame\"><thead><tr><th></th><th>date</th><th>state_id</th><th>snap</th></tr><tr><th></th><th title=\"Dates.Date\">Date…</th><th title=\"String\">String</th><th title=\"Int64\">Int64</th></tr></thead><tbody><tr><th>1</th><td>2011-01-29</td><td>CA</td><td>0</td></tr><tr><th>2</th><td>2011-01-30</td><td>CA</td><td>0</td></tr><tr><th>3</th><td>2011-01-31</td><td>CA</td><td>0</td></tr><tr><th>4</th><td>2011-02-01</td><td>CA</td><td>1</td></tr><tr><th>5</th><td>2011-02-02</td><td>CA</td><td>1</td></tr><tr><th>6</th><td>2011-02-03</td><td>CA</td><td>1</td></tr><tr><th>7</th><td>2011-02-04</td><td>CA</td><td>1</td></tr><tr><th>8</th><td>2011-02-05</td><td>CA</td><td>1</td></tr><tr><th>9</th><td>2011-02-06</td><td>CA</td><td>1</td></tr><tr><th>10</th><td>2011-02-07</td><td>CA</td><td>1</td></tr><tr><th>&vellip;</th><td>&vellip;</td><td>&vellip;</td><td>&vellip;</td></tr></tbody></table></div>"
      ],
      "text/latex": [
       "\\begin{tabular}{r|ccc}\n",
       "\t& date & state\\_id & snap\\\\\n",
       "\t\\hline\n",
       "\t& Date… & String & Int64\\\\\n",
       "\t\\hline\n",
       "\t1 & 2011-01-29 & CA & 0 \\\\\n",
       "\t2 & 2011-01-30 & CA & 0 \\\\\n",
       "\t3 & 2011-01-31 & CA & 0 \\\\\n",
       "\t4 & 2011-02-01 & CA & 1 \\\\\n",
       "\t5 & 2011-02-02 & CA & 1 \\\\\n",
       "\t6 & 2011-02-03 & CA & 1 \\\\\n",
       "\t7 & 2011-02-04 & CA & 1 \\\\\n",
       "\t8 & 2011-02-05 & CA & 1 \\\\\n",
       "\t9 & 2011-02-06 & CA & 1 \\\\\n",
       "\t10 & 2011-02-07 & CA & 1 \\\\\n",
       "\t$\\dots$ & $\\dots$ & $\\dots$ & $\\dots$ \\\\\n",
       "\\end{tabular}\n"
      ],
      "text/plain": [
       "\u001b[1m5907×3 DataFrame\u001b[0m\n",
       "\u001b[1m  Row \u001b[0m│\u001b[1m date       \u001b[0m\u001b[1m state_id \u001b[0m\u001b[1m snap  \u001b[0m\n",
       "\u001b[1m      \u001b[0m│\u001b[90m Date…      \u001b[0m\u001b[90m String   \u001b[0m\u001b[90m Int64 \u001b[0m\n",
       "──────┼─────────────────────────────\n",
       "    1 │ 2011-01-29  CA            0\n",
       "  ⋮   │     ⋮          ⋮        ⋮\n",
       "\u001b[36m                   5906 rows omitted\u001b[0m"
      ]
     },
     "execution_count": 5,
     "metadata": {},
     "output_type": "execute_result"
    }
   ],
   "source": [
    "snap = @chain raw_calendar begin\n",
    "    stack(r\"snap\", :date, variable_name=:state_raw, value_name=:snap)\n",
    "    select(:date, :state_raw => ByRow(x -> String(chop(x, head=5, tail=0))) => :state_id, :snap)\n",
    "end"
   ]
  },
  {
   "cell_type": "code",
   "execution_count": 6,
   "id": "034d459f",
   "metadata": {
    "ExecuteTime": {
     "end_time": "2021-07-25T16:23:53.198000+02:00",
     "start_time": "2021-07-25T14:22:28.792Z"
    }
   },
   "outputs": [
    {
     "data": {
      "text/html": [
       "<div class=\"data-frame\"><p>1,969 rows × 5 columns</p><table class=\"data-frame\"><thead><tr><th></th><th>date</th><th>event_name_1</th><th>event_type_1</th><th>event_name_2</th><th>event_type_2</th></tr><tr><th></th><th title=\"Dates.Date\">Date…</th><th title=\"CategoricalValue{String, UInt32}\">Cat…</th><th title=\"CategoricalValue{String, UInt32}\">Cat…</th><th title=\"CategoricalValue{String, UInt32}\">Cat…</th><th title=\"CategoricalValue{String, UInt32}\">Cat…</th></tr></thead><tbody><tr><th>1</th><td>2011-01-29</td><td>(No Event)</td><td>(No Event)</td><td>(No Event)</td><td>(No Event)</td></tr><tr><th>2</th><td>2011-01-30</td><td>(No Event)</td><td>(No Event)</td><td>(No Event)</td><td>(No Event)</td></tr><tr><th>3</th><td>2011-01-31</td><td>(No Event)</td><td>(No Event)</td><td>(No Event)</td><td>(No Event)</td></tr><tr><th>4</th><td>2011-02-01</td><td>(No Event)</td><td>(No Event)</td><td>(No Event)</td><td>(No Event)</td></tr><tr><th>5</th><td>2011-02-02</td><td>(No Event)</td><td>(No Event)</td><td>(No Event)</td><td>(No Event)</td></tr><tr><th>6</th><td>2011-02-03</td><td>(No Event)</td><td>(No Event)</td><td>(No Event)</td><td>(No Event)</td></tr><tr><th>7</th><td>2011-02-04</td><td>(No Event)</td><td>(No Event)</td><td>(No Event)</td><td>(No Event)</td></tr><tr><th>8</th><td>2011-02-05</td><td>(No Event)</td><td>(No Event)</td><td>(No Event)</td><td>(No Event)</td></tr><tr><th>9</th><td>2011-02-06</td><td>SuperBowl</td><td>Sporting</td><td>(No Event)</td><td>(No Event)</td></tr><tr><th>10</th><td>2011-02-07</td><td>(No Event)</td><td>(No Event)</td><td>(No Event)</td><td>(No Event)</td></tr><tr><th>&vellip;</th><td>&vellip;</td><td>&vellip;</td><td>&vellip;</td><td>&vellip;</td><td>&vellip;</td></tr></tbody></table></div>"
      ],
      "text/latex": [
       "\\begin{tabular}{r|ccccc}\n",
       "\t& date & event\\_name\\_1 & event\\_type\\_1 & event\\_name\\_2 & event\\_type\\_2\\\\\n",
       "\t\\hline\n",
       "\t& Date… & Cat… & Cat… & Cat… & Cat…\\\\\n",
       "\t\\hline\n",
       "\t1 & 2011-01-29 & (No Event) & (No Event) & (No Event) & (No Event) \\\\\n",
       "\t2 & 2011-01-30 & (No Event) & (No Event) & (No Event) & (No Event) \\\\\n",
       "\t3 & 2011-01-31 & (No Event) & (No Event) & (No Event) & (No Event) \\\\\n",
       "\t4 & 2011-02-01 & (No Event) & (No Event) & (No Event) & (No Event) \\\\\n",
       "\t5 & 2011-02-02 & (No Event) & (No Event) & (No Event) & (No Event) \\\\\n",
       "\t6 & 2011-02-03 & (No Event) & (No Event) & (No Event) & (No Event) \\\\\n",
       "\t7 & 2011-02-04 & (No Event) & (No Event) & (No Event) & (No Event) \\\\\n",
       "\t8 & 2011-02-05 & (No Event) & (No Event) & (No Event) & (No Event) \\\\\n",
       "\t9 & 2011-02-06 & SuperBowl & Sporting & (No Event) & (No Event) \\\\\n",
       "\t10 & 2011-02-07 & (No Event) & (No Event) & (No Event) & (No Event) \\\\\n",
       "\t$\\dots$ & $\\dots$ & $\\dots$ & $\\dots$ & $\\dots$ & $\\dots$ \\\\\n",
       "\\end{tabular}\n"
      ],
      "text/plain": [
       "\u001b[1m1969×5 DataFrame\u001b[0m\n",
       "\u001b[1m  Row \u001b[0m│\u001b[1m date       \u001b[0m\u001b[1m event_name_1 \u001b[0m\u001b[1m event_type_1 \u001b[0m\u001b[1m event_name_2 \u001b[0m\u001b[1m event_type_2 \u001b[0m\n",
       "\u001b[1m      \u001b[0m│\u001b[90m Date…      \u001b[0m\u001b[90m Categorical… \u001b[0m\u001b[90m Categorical… \u001b[0m\u001b[90m Categorical… \u001b[0m\u001b[90m Categorical… \u001b[0m\n",
       "──────┼────────────────────────────────────────────────────────────────────\n",
       "    1 │ 2011-01-29  (No Event)    (No Event)    (No Event)    (No Event)\n",
       "  ⋮   │     ⋮            ⋮             ⋮             ⋮             ⋮\n",
       "\u001b[36m                                                          1968 rows omitted\u001b[0m"
      ]
     },
     "execution_count": 6,
     "metadata": {},
     "output_type": "execute_result"
    }
   ],
   "source": [
    "cal_events = select(\n",
    "    raw_calendar, \n",
    "    :date, \n",
    "    (x => (y -> categorical(coalesce.(y, \"(No Event)\"))) => x \n",
    "        for x ∈ [:event_name_1, :event_type_1, :event_name_2, :event_type_2])...\n",
    ")"
   ]
  },
  {
   "cell_type": "code",
   "execution_count": 7,
   "id": "4c85be98",
   "metadata": {
    "ExecuteTime": {
     "end_time": "2021-07-25T16:23:53.324000+02:00",
     "start_time": "2021-07-25T14:22:29.187Z"
    }
   },
   "outputs": [
    {
     "data": {
      "text/html": [
       "<div class=\"data-frame\"><p>1,969 rows × 4 columns</p><table class=\"data-frame\"><thead><tr><th></th><th>date</th><th>year</th><th>month</th><th>weekday</th></tr><tr><th></th><th title=\"Dates.Date\">Date…</th><th title=\"Int64\">Int64</th><th title=\"Int64\">Int64</th><th title=\"String\">String</th></tr></thead><tbody><tr><th>1</th><td>2011-01-29</td><td>2011</td><td>1</td><td>Saturday</td></tr><tr><th>2</th><td>2011-01-30</td><td>2011</td><td>1</td><td>Sunday</td></tr><tr><th>3</th><td>2011-01-31</td><td>2011</td><td>1</td><td>Monday</td></tr><tr><th>4</th><td>2011-02-01</td><td>2011</td><td>2</td><td>Tuesday</td></tr><tr><th>5</th><td>2011-02-02</td><td>2011</td><td>2</td><td>Wednesday</td></tr><tr><th>6</th><td>2011-02-03</td><td>2011</td><td>2</td><td>Thursday</td></tr><tr><th>7</th><td>2011-02-04</td><td>2011</td><td>2</td><td>Friday</td></tr><tr><th>8</th><td>2011-02-05</td><td>2011</td><td>2</td><td>Saturday</td></tr><tr><th>9</th><td>2011-02-06</td><td>2011</td><td>2</td><td>Sunday</td></tr><tr><th>10</th><td>2011-02-07</td><td>2011</td><td>2</td><td>Monday</td></tr><tr><th>&vellip;</th><td>&vellip;</td><td>&vellip;</td><td>&vellip;</td><td>&vellip;</td></tr></tbody></table></div>"
      ],
      "text/latex": [
       "\\begin{tabular}{r|cccc}\n",
       "\t& date & year & month & weekday\\\\\n",
       "\t\\hline\n",
       "\t& Date… & Int64 & Int64 & String\\\\\n",
       "\t\\hline\n",
       "\t1 & 2011-01-29 & 2011 & 1 & Saturday \\\\\n",
       "\t2 & 2011-01-30 & 2011 & 1 & Sunday \\\\\n",
       "\t3 & 2011-01-31 & 2011 & 1 & Monday \\\\\n",
       "\t4 & 2011-02-01 & 2011 & 2 & Tuesday \\\\\n",
       "\t5 & 2011-02-02 & 2011 & 2 & Wednesday \\\\\n",
       "\t6 & 2011-02-03 & 2011 & 2 & Thursday \\\\\n",
       "\t7 & 2011-02-04 & 2011 & 2 & Friday \\\\\n",
       "\t8 & 2011-02-05 & 2011 & 2 & Saturday \\\\\n",
       "\t9 & 2011-02-06 & 2011 & 2 & Sunday \\\\\n",
       "\t10 & 2011-02-07 & 2011 & 2 & Monday \\\\\n",
       "\t$\\dots$ & $\\dots$ & $\\dots$ & $\\dots$ & $\\dots$ \\\\\n",
       "\\end{tabular}\n"
      ],
      "text/plain": [
       "\u001b[1m1969×4 DataFrame\u001b[0m\n",
       "\u001b[1m  Row \u001b[0m│\u001b[1m date       \u001b[0m\u001b[1m year  \u001b[0m\u001b[1m month \u001b[0m\u001b[1m weekday  \u001b[0m\n",
       "\u001b[1m      \u001b[0m│\u001b[90m Date…      \u001b[0m\u001b[90m Int64 \u001b[0m\u001b[90m Int64 \u001b[0m\u001b[90m String   \u001b[0m\n",
       "──────┼────────────────────────────────────\n",
       "    1 │ 2011-01-29   2011      1  Saturday\n",
       "  ⋮   │     ⋮         ⋮      ⋮       ⋮\n",
       "\u001b[36m                          1968 rows omitted\u001b[0m"
      ]
     },
     "execution_count": 7,
     "metadata": {},
     "output_type": "execute_result"
    }
   ],
   "source": [
    "cal_info = select(raw_calendar, :date, :year, :month, :weekday)"
   ]
  },
  {
   "cell_type": "code",
   "execution_count": 8,
   "id": "1e73473b",
   "metadata": {
    "ExecuteTime": {
     "end_time": "2021-07-25T16:23:53.492000+02:00",
     "start_time": "2021-07-25T14:22:29.515Z"
    }
   },
   "outputs": [
    {
     "data": {
      "text/html": [
       "<div class=\"data-frame\"><p>1,969 rows × 3 columns</p><table class=\"data-frame\"><thead><tr><th></th><th>date</th><th>d</th><th>wm_yr_wk</th></tr><tr><th></th><th title=\"Dates.Date\">Date…</th><th title=\"String\">String</th><th title=\"Int64\">Int64</th></tr></thead><tbody><tr><th>1</th><td>2011-01-29</td><td>d_1</td><td>11101</td></tr><tr><th>2</th><td>2011-01-30</td><td>d_2</td><td>11101</td></tr><tr><th>3</th><td>2011-01-31</td><td>d_3</td><td>11101</td></tr><tr><th>4</th><td>2011-02-01</td><td>d_4</td><td>11101</td></tr><tr><th>5</th><td>2011-02-02</td><td>d_5</td><td>11101</td></tr><tr><th>6</th><td>2011-02-03</td><td>d_6</td><td>11101</td></tr><tr><th>7</th><td>2011-02-04</td><td>d_7</td><td>11101</td></tr><tr><th>8</th><td>2011-02-05</td><td>d_8</td><td>11102</td></tr><tr><th>9</th><td>2011-02-06</td><td>d_9</td><td>11102</td></tr><tr><th>10</th><td>2011-02-07</td><td>d_10</td><td>11102</td></tr><tr><th>&vellip;</th><td>&vellip;</td><td>&vellip;</td><td>&vellip;</td></tr></tbody></table></div>"
      ],
      "text/latex": [
       "\\begin{tabular}{r|ccc}\n",
       "\t& date & d & wm\\_yr\\_wk\\\\\n",
       "\t\\hline\n",
       "\t& Date… & String & Int64\\\\\n",
       "\t\\hline\n",
       "\t1 & 2011-01-29 & d\\_1 & 11101 \\\\\n",
       "\t2 & 2011-01-30 & d\\_2 & 11101 \\\\\n",
       "\t3 & 2011-01-31 & d\\_3 & 11101 \\\\\n",
       "\t4 & 2011-02-01 & d\\_4 & 11101 \\\\\n",
       "\t5 & 2011-02-02 & d\\_5 & 11101 \\\\\n",
       "\t6 & 2011-02-03 & d\\_6 & 11101 \\\\\n",
       "\t7 & 2011-02-04 & d\\_7 & 11101 \\\\\n",
       "\t8 & 2011-02-05 & d\\_8 & 11102 \\\\\n",
       "\t9 & 2011-02-06 & d\\_9 & 11102 \\\\\n",
       "\t10 & 2011-02-07 & d\\_10 & 11102 \\\\\n",
       "\t$\\dots$ & $\\dots$ & $\\dots$ & $\\dots$ \\\\\n",
       "\\end{tabular}\n"
      ],
      "text/plain": [
       "\u001b[1m1969×3 DataFrame\u001b[0m\n",
       "\u001b[1m  Row \u001b[0m│\u001b[1m date       \u001b[0m\u001b[1m d      \u001b[0m\u001b[1m wm_yr_wk \u001b[0m\n",
       "\u001b[1m      \u001b[0m│\u001b[90m Date…      \u001b[0m\u001b[90m String \u001b[0m\u001b[90m Int64    \u001b[0m\n",
       "──────┼──────────────────────────────\n",
       "    1 │ 2011-01-29  d_1        11101\n",
       "  ⋮   │     ⋮         ⋮        ⋮\n",
       "\u001b[36m                    1968 rows omitted\u001b[0m"
      ]
     },
     "execution_count": 8,
     "metadata": {},
     "output_type": "execute_result"
    }
   ],
   "source": [
    "cal_mapping = select(raw_calendar, :date, :d, :wm_yr_wk)"
   ]
  },
  {
   "cell_type": "code",
   "execution_count": null,
   "id": "0a80f244",
   "metadata": {},
   "outputs": [],
   "source": []
  },
  {
   "cell_type": "markdown",
   "id": "009ff2bd",
   "metadata": {},
   "source": [
    "### Sales data"
   ]
  },
  {
   "cell_type": "code",
   "execution_count": 9,
   "id": "e83adb98",
   "metadata": {
    "ExecuteTime": {
     "end_time": "2021-07-25T16:23:56.915000+02:00",
     "start_time": "2021-07-25T14:22:30.606Z"
    }
   },
   "outputs": [
    {
     "data": {
      "text/html": [
       "<div class=\"data-frame\"><p>30,490 rows × 1,919 columns (omitted printing of 1782 columns)</p><table class=\"data-frame\"><thead><tr><th></th><th>id</th><th>item_id</th><th>dept_id</th><th>cat_id</th><th>store_id</th><th>state_id</th><th>d_1</th><th>d_2</th><th>d_3</th><th>d_4</th><th>d_5</th><th>d_6</th><th>d_7</th><th>d_8</th><th>d_9</th><th>d_10</th><th>d_11</th><th>d_12</th><th>d_13</th><th>d_14</th><th>d_15</th><th>d_16</th><th>d_17</th><th>d_18</th><th>d_19</th><th>d_20</th><th>d_21</th><th>d_22</th><th>d_23</th><th>d_24</th><th>d_25</th><th>d_26</th><th>d_27</th><th>d_28</th><th>d_29</th><th>d_30</th><th>d_31</th><th>d_32</th><th>d_33</th><th>d_34</th><th>d_35</th><th>d_36</th><th>d_37</th><th>d_38</th><th>d_39</th><th>d_40</th><th>d_41</th><th>d_42</th><th>d_43</th><th>d_44</th><th>d_45</th><th>d_46</th><th>d_47</th><th>d_48</th><th>d_49</th><th>d_50</th><th>d_51</th><th>d_52</th><th>d_53</th><th>d_54</th><th>d_55</th><th>d_56</th><th>d_57</th><th>d_58</th><th>d_59</th><th>d_60</th><th>d_61</th><th>d_62</th><th>d_63</th><th>d_64</th><th>d_65</th><th>d_66</th><th>d_67</th><th>d_68</th><th>d_69</th><th>d_70</th><th>d_71</th><th>d_72</th><th>d_73</th><th>d_74</th><th>d_75</th><th>d_76</th><th>d_77</th><th>d_78</th><th>d_79</th><th>d_80</th><th>d_81</th><th>d_82</th><th>d_83</th><th>d_84</th><th>d_85</th><th>d_86</th><th>d_87</th><th>d_88</th><th>d_89</th><th>d_90</th><th>d_91</th><th>d_92</th><th>d_93</th><th>d_94</th><th>d_95</th><th>d_96</th><th>d_97</th><th>d_98</th><th>d_99</th><th>d_100</th><th>d_101</th><th>d_102</th><th>d_103</th><th>d_104</th><th>d_105</th><th>d_106</th><th>d_107</th><th>d_108</th><th>d_109</th><th>d_110</th><th>d_111</th><th>d_112</th><th>d_113</th><th>d_114</th><th>d_115</th><th>d_116</th><th>d_117</th><th>d_118</th><th>d_119</th><th>d_120</th><th>d_121</th><th>d_122</th><th>d_123</th><th>d_124</th><th>d_125</th><th>d_126</th><th>d_127</th><th>d_128</th><th>d_129</th><th>d_130</th><th>d_131</th></tr><tr><th></th><th title=\"String\">String</th><th title=\"String\">String</th><th title=\"String\">String</th><th title=\"String\">String</th><th title=\"String\">String</th><th title=\"String\">String</th><th title=\"Int64\">Int64</th><th title=\"Int64\">Int64</th><th title=\"Int64\">Int64</th><th title=\"Int64\">Int64</th><th title=\"Int64\">Int64</th><th title=\"Int64\">Int64</th><th title=\"Int64\">Int64</th><th title=\"Int64\">Int64</th><th title=\"Int64\">Int64</th><th title=\"Int64\">Int64</th><th title=\"Int64\">Int64</th><th title=\"Int64\">Int64</th><th title=\"Int64\">Int64</th><th title=\"Int64\">Int64</th><th title=\"Int64\">Int64</th><th title=\"Int64\">Int64</th><th title=\"Int64\">Int64</th><th title=\"Int64\">Int64</th><th title=\"Int64\">Int64</th><th title=\"Int64\">Int64</th><th title=\"Int64\">Int64</th><th title=\"Int64\">Int64</th><th title=\"Int64\">Int64</th><th title=\"Int64\">Int64</th><th title=\"Int64\">Int64</th><th title=\"Int64\">Int64</th><th title=\"Int64\">Int64</th><th title=\"Int64\">Int64</th><th title=\"Int64\">Int64</th><th title=\"Int64\">Int64</th><th title=\"Int64\">Int64</th><th title=\"Int64\">Int64</th><th title=\"Int64\">Int64</th><th title=\"Int64\">Int64</th><th title=\"Int64\">Int64</th><th title=\"Int64\">Int64</th><th title=\"Int64\">Int64</th><th title=\"Int64\">Int64</th><th title=\"Int64\">Int64</th><th title=\"Int64\">Int64</th><th title=\"Int64\">Int64</th><th title=\"Int64\">Int64</th><th title=\"Int64\">Int64</th><th title=\"Int64\">Int64</th><th title=\"Int64\">Int64</th><th title=\"Int64\">Int64</th><th title=\"Int64\">Int64</th><th title=\"Int64\">Int64</th><th title=\"Int64\">Int64</th><th title=\"Int64\">Int64</th><th title=\"Int64\">Int64</th><th title=\"Int64\">Int64</th><th title=\"Int64\">Int64</th><th title=\"Int64\">Int64</th><th title=\"Int64\">Int64</th><th title=\"Int64\">Int64</th><th title=\"Int64\">Int64</th><th title=\"Int64\">Int64</th><th title=\"Int64\">Int64</th><th title=\"Int64\">Int64</th><th title=\"Int64\">Int64</th><th title=\"Int64\">Int64</th><th title=\"Int64\">Int64</th><th title=\"Int64\">Int64</th><th title=\"Int64\">Int64</th><th title=\"Int64\">Int64</th><th title=\"Int64\">Int64</th><th title=\"Int64\">Int64</th><th title=\"Int64\">Int64</th><th title=\"Int64\">Int64</th><th title=\"Int64\">Int64</th><th title=\"Int64\">Int64</th><th title=\"Int64\">Int64</th><th title=\"Int64\">Int64</th><th title=\"Int64\">Int64</th><th title=\"Int64\">Int64</th><th title=\"Int64\">Int64</th><th title=\"Int64\">Int64</th><th title=\"Int64\">Int64</th><th title=\"Int64\">Int64</th><th title=\"Int64\">Int64</th><th title=\"Int64\">Int64</th><th title=\"Int64\">Int64</th><th title=\"Int64\">Int64</th><th title=\"Int64\">Int64</th><th title=\"Int64\">Int64</th><th title=\"Int64\">Int64</th><th title=\"Int64\">Int64</th><th title=\"Int64\">Int64</th><th title=\"Int64\">Int64</th><th title=\"Int64\">Int64</th><th title=\"Int64\">Int64</th><th title=\"Int64\">Int64</th><th title=\"Int64\">Int64</th><th title=\"Int64\">Int64</th><th title=\"Int64\">Int64</th><th title=\"Int64\">Int64</th><th title=\"Int64\">Int64</th><th title=\"Int64\">Int64</th><th title=\"Int64\">Int64</th><th title=\"Int64\">Int64</th><th title=\"Int64\">Int64</th><th title=\"Int64\">Int64</th><th title=\"Int64\">Int64</th><th title=\"Int64\">Int64</th><th title=\"Int64\">Int64</th><th title=\"Int64\">Int64</th><th title=\"Int64\">Int64</th><th title=\"Int64\">Int64</th><th title=\"Int64\">Int64</th><th title=\"Int64\">Int64</th><th title=\"Int64\">Int64</th><th title=\"Int64\">Int64</th><th title=\"Int64\">Int64</th><th title=\"Int64\">Int64</th><th title=\"Int64\">Int64</th><th title=\"Int64\">Int64</th><th title=\"Int64\">Int64</th><th title=\"Int64\">Int64</th><th title=\"Int64\">Int64</th><th title=\"Int64\">Int64</th><th title=\"Int64\">Int64</th><th title=\"Int64\">Int64</th><th title=\"Int64\">Int64</th><th title=\"Int64\">Int64</th><th title=\"Int64\">Int64</th><th title=\"Int64\">Int64</th><th title=\"Int64\">Int64</th><th title=\"Int64\">Int64</th><th title=\"Int64\">Int64</th><th title=\"Int64\">Int64</th></tr></thead><tbody><tr><th>1</th><td>HOBBIES_1_001_CA_1_validation</td><td>HOBBIES_1_001</td><td>HOBBIES_1</td><td>HOBBIES</td><td>CA_1</td><td>CA</td><td>0</td><td>0</td><td>0</td><td>0</td><td>0</td><td>0</td><td>0</td><td>0</td><td>0</td><td>0</td><td>0</td><td>0</td><td>0</td><td>0</td><td>0</td><td>0</td><td>0</td><td>0</td><td>0</td><td>0</td><td>0</td><td>0</td><td>0</td><td>0</td><td>0</td><td>0</td><td>0</td><td>0</td><td>0</td><td>0</td><td>0</td><td>0</td><td>0</td><td>0</td><td>0</td><td>0</td><td>0</td><td>0</td><td>0</td><td>0</td><td>0</td><td>0</td><td>0</td><td>0</td><td>0</td><td>0</td><td>0</td><td>0</td><td>0</td><td>0</td><td>0</td><td>0</td><td>0</td><td>0</td><td>0</td><td>0</td><td>0</td><td>0</td><td>0</td><td>0</td><td>0</td><td>0</td><td>0</td><td>0</td><td>0</td><td>0</td><td>0</td><td>0</td><td>0</td><td>0</td><td>0</td><td>0</td><td>0</td><td>0</td><td>0</td><td>0</td><td>0</td><td>0</td><td>0</td><td>0</td><td>0</td><td>0</td><td>0</td><td>0</td><td>0</td><td>0</td><td>0</td><td>0</td><td>0</td><td>0</td><td>0</td><td>0</td><td>0</td><td>0</td><td>0</td><td>0</td><td>0</td><td>0</td><td>0</td><td>0</td><td>0</td><td>0</td><td>0</td><td>0</td><td>0</td><td>0</td><td>0</td><td>0</td><td>0</td><td>0</td><td>0</td><td>0</td><td>0</td><td>0</td><td>0</td><td>0</td><td>0</td><td>0</td><td>0</td><td>0</td><td>0</td><td>0</td><td>0</td><td>0</td><td>0</td><td>0</td><td>0</td><td>0</td><td>0</td><td>0</td><td>0</td></tr><tr><th>2</th><td>HOBBIES_1_002_CA_1_validation</td><td>HOBBIES_1_002</td><td>HOBBIES_1</td><td>HOBBIES</td><td>CA_1</td><td>CA</td><td>0</td><td>0</td><td>0</td><td>0</td><td>0</td><td>0</td><td>0</td><td>0</td><td>0</td><td>0</td><td>0</td><td>0</td><td>0</td><td>0</td><td>0</td><td>0</td><td>0</td><td>0</td><td>0</td><td>0</td><td>0</td><td>0</td><td>0</td><td>0</td><td>0</td><td>0</td><td>0</td><td>0</td><td>0</td><td>0</td><td>0</td><td>0</td><td>0</td><td>0</td><td>0</td><td>0</td><td>0</td><td>0</td><td>0</td><td>0</td><td>0</td><td>0</td><td>0</td><td>0</td><td>0</td><td>0</td><td>0</td><td>0</td><td>0</td><td>0</td><td>0</td><td>0</td><td>0</td><td>0</td><td>0</td><td>0</td><td>0</td><td>0</td><td>0</td><td>0</td><td>0</td><td>0</td><td>0</td><td>0</td><td>0</td><td>0</td><td>0</td><td>0</td><td>0</td><td>0</td><td>0</td><td>0</td><td>0</td><td>0</td><td>0</td><td>0</td><td>0</td><td>0</td><td>0</td><td>0</td><td>0</td><td>0</td><td>0</td><td>0</td><td>0</td><td>0</td><td>0</td><td>0</td><td>0</td><td>0</td><td>0</td><td>0</td><td>0</td><td>0</td><td>0</td><td>0</td><td>0</td><td>0</td><td>0</td><td>0</td><td>0</td><td>0</td><td>0</td><td>0</td><td>0</td><td>0</td><td>0</td><td>0</td><td>0</td><td>0</td><td>0</td><td>0</td><td>0</td><td>0</td><td>0</td><td>0</td><td>0</td><td>0</td><td>0</td><td>0</td><td>0</td><td>0</td><td>0</td><td>0</td><td>0</td><td>0</td><td>0</td><td>0</td><td>0</td><td>0</td><td>0</td></tr><tr><th>3</th><td>HOBBIES_1_003_CA_1_validation</td><td>HOBBIES_1_003</td><td>HOBBIES_1</td><td>HOBBIES</td><td>CA_1</td><td>CA</td><td>0</td><td>0</td><td>0</td><td>0</td><td>0</td><td>0</td><td>0</td><td>0</td><td>0</td><td>0</td><td>0</td><td>0</td><td>0</td><td>0</td><td>0</td><td>0</td><td>0</td><td>0</td><td>0</td><td>0</td><td>0</td><td>0</td><td>0</td><td>0</td><td>0</td><td>0</td><td>0</td><td>0</td><td>0</td><td>0</td><td>0</td><td>0</td><td>0</td><td>0</td><td>0</td><td>0</td><td>0</td><td>0</td><td>0</td><td>0</td><td>0</td><td>0</td><td>0</td><td>0</td><td>0</td><td>0</td><td>0</td><td>0</td><td>0</td><td>0</td><td>0</td><td>0</td><td>0</td><td>0</td><td>0</td><td>0</td><td>0</td><td>0</td><td>0</td><td>0</td><td>0</td><td>0</td><td>0</td><td>0</td><td>0</td><td>0</td><td>0</td><td>0</td><td>0</td><td>0</td><td>0</td><td>0</td><td>0</td><td>0</td><td>0</td><td>0</td><td>0</td><td>0</td><td>0</td><td>0</td><td>0</td><td>0</td><td>0</td><td>0</td><td>0</td><td>0</td><td>0</td><td>0</td><td>0</td><td>0</td><td>0</td><td>0</td><td>0</td><td>0</td><td>0</td><td>0</td><td>0</td><td>0</td><td>0</td><td>0</td><td>0</td><td>0</td><td>0</td><td>0</td><td>0</td><td>0</td><td>0</td><td>0</td><td>0</td><td>0</td><td>0</td><td>0</td><td>0</td><td>0</td><td>0</td><td>0</td><td>0</td><td>0</td><td>0</td><td>0</td><td>0</td><td>0</td><td>0</td><td>0</td><td>0</td><td>0</td><td>0</td><td>0</td><td>0</td><td>0</td><td>0</td></tr><tr><th>4</th><td>HOBBIES_1_004_CA_1_validation</td><td>HOBBIES_1_004</td><td>HOBBIES_1</td><td>HOBBIES</td><td>CA_1</td><td>CA</td><td>0</td><td>0</td><td>0</td><td>0</td><td>0</td><td>0</td><td>0</td><td>0</td><td>0</td><td>0</td><td>0</td><td>0</td><td>0</td><td>0</td><td>0</td><td>0</td><td>0</td><td>0</td><td>0</td><td>0</td><td>0</td><td>0</td><td>0</td><td>0</td><td>0</td><td>0</td><td>0</td><td>0</td><td>0</td><td>0</td><td>0</td><td>0</td><td>0</td><td>0</td><td>0</td><td>0</td><td>2</td><td>0</td><td>0</td><td>0</td><td>2</td><td>0</td><td>1</td><td>0</td><td>0</td><td>0</td><td>0</td><td>0</td><td>0</td><td>2</td><td>0</td><td>1</td><td>0</td><td>0</td><td>1</td><td>1</td><td>1</td><td>0</td><td>2</td><td>3</td><td>1</td><td>0</td><td>0</td><td>0</td><td>0</td><td>0</td><td>1</td><td>0</td><td>0</td><td>1</td><td>1</td><td>0</td><td>0</td><td>1</td><td>0</td><td>0</td><td>1</td><td>2</td><td>3</td><td>0</td><td>2</td><td>0</td><td>0</td><td>2</td><td>2</td><td>0</td><td>0</td><td>2</td><td>1</td><td>2</td><td>1</td><td>1</td><td>1</td><td>2</td><td>0</td><td>0</td><td>1</td><td>0</td><td>1</td><td>3</td><td>1</td><td>0</td><td>0</td><td>0</td><td>0</td><td>3</td><td>5</td><td>2</td><td>2</td><td>1</td><td>1</td><td>1</td><td>1</td><td>1</td><td>1</td><td>0</td><td>0</td><td>2</td><td>1</td><td>1</td><td>1</td><td>2</td><td>0</td><td>0</td><td>0</td><td>2</td><td>5</td><td>6</td><td>0</td><td>0</td><td>0</td></tr><tr><th>5</th><td>HOBBIES_1_005_CA_1_validation</td><td>HOBBIES_1_005</td><td>HOBBIES_1</td><td>HOBBIES</td><td>CA_1</td><td>CA</td><td>0</td><td>0</td><td>0</td><td>0</td><td>0</td><td>0</td><td>0</td><td>0</td><td>0</td><td>0</td><td>0</td><td>0</td><td>0</td><td>0</td><td>0</td><td>0</td><td>0</td><td>0</td><td>0</td><td>0</td><td>0</td><td>0</td><td>0</td><td>0</td><td>0</td><td>0</td><td>0</td><td>0</td><td>0</td><td>0</td><td>0</td><td>0</td><td>0</td><td>0</td><td>0</td><td>0</td><td>0</td><td>0</td><td>0</td><td>0</td><td>0</td><td>0</td><td>0</td><td>0</td><td>0</td><td>0</td><td>0</td><td>0</td><td>0</td><td>0</td><td>0</td><td>0</td><td>0</td><td>0</td><td>0</td><td>0</td><td>0</td><td>0</td><td>0</td><td>0</td><td>0</td><td>0</td><td>0</td><td>0</td><td>0</td><td>0</td><td>0</td><td>0</td><td>0</td><td>0</td><td>0</td><td>0</td><td>0</td><td>0</td><td>0</td><td>0</td><td>0</td><td>0</td><td>0</td><td>0</td><td>0</td><td>0</td><td>0</td><td>0</td><td>0</td><td>0</td><td>0</td><td>0</td><td>0</td><td>0</td><td>0</td><td>0</td><td>0</td><td>0</td><td>0</td><td>0</td><td>0</td><td>0</td><td>0</td><td>0</td><td>0</td><td>0</td><td>0</td><td>0</td><td>0</td><td>0</td><td>0</td><td>0</td><td>0</td><td>0</td><td>0</td><td>0</td><td>8</td><td>6</td><td>0</td><td>3</td><td>2</td><td>3</td><td>5</td><td>3</td><td>1</td><td>0</td><td>0</td><td>1</td><td>0</td><td>2</td><td>2</td><td>4</td><td>0</td><td>0</td><td>3</td></tr><tr><th>6</th><td>HOBBIES_1_006_CA_1_validation</td><td>HOBBIES_1_006</td><td>HOBBIES_1</td><td>HOBBIES</td><td>CA_1</td><td>CA</td><td>0</td><td>0</td><td>0</td><td>0</td><td>0</td><td>0</td><td>0</td><td>0</td><td>0</td><td>0</td><td>0</td><td>0</td><td>0</td><td>0</td><td>0</td><td>0</td><td>0</td><td>0</td><td>0</td><td>0</td><td>0</td><td>0</td><td>0</td><td>0</td><td>0</td><td>0</td><td>0</td><td>0</td><td>0</td><td>0</td><td>0</td><td>0</td><td>0</td><td>0</td><td>0</td><td>0</td><td>0</td><td>0</td><td>0</td><td>0</td><td>0</td><td>0</td><td>0</td><td>0</td><td>0</td><td>0</td><td>0</td><td>0</td><td>0</td><td>0</td><td>0</td><td>0</td><td>0</td><td>0</td><td>0</td><td>0</td><td>0</td><td>0</td><td>0</td><td>0</td><td>0</td><td>0</td><td>0</td><td>0</td><td>0</td><td>0</td><td>0</td><td>0</td><td>0</td><td>0</td><td>0</td><td>0</td><td>0</td><td>0</td><td>0</td><td>0</td><td>0</td><td>0</td><td>0</td><td>0</td><td>0</td><td>0</td><td>0</td><td>0</td><td>0</td><td>0</td><td>0</td><td>0</td><td>0</td><td>0</td><td>0</td><td>0</td><td>0</td><td>0</td><td>0</td><td>0</td><td>0</td><td>0</td><td>0</td><td>0</td><td>0</td><td>0</td><td>0</td><td>0</td><td>0</td><td>0</td><td>0</td><td>0</td><td>0</td><td>0</td><td>0</td><td>0</td><td>0</td><td>0</td><td>0</td><td>0</td><td>0</td><td>0</td><td>0</td><td>0</td><td>0</td><td>0</td><td>0</td><td>0</td><td>0</td><td>0</td><td>0</td><td>0</td><td>0</td><td>0</td><td>0</td></tr><tr><th>7</th><td>HOBBIES_1_007_CA_1_validation</td><td>HOBBIES_1_007</td><td>HOBBIES_1</td><td>HOBBIES</td><td>CA_1</td><td>CA</td><td>0</td><td>0</td><td>0</td><td>0</td><td>0</td><td>0</td><td>0</td><td>0</td><td>0</td><td>0</td><td>0</td><td>0</td><td>0</td><td>0</td><td>0</td><td>0</td><td>0</td><td>0</td><td>0</td><td>0</td><td>0</td><td>0</td><td>0</td><td>0</td><td>0</td><td>0</td><td>0</td><td>0</td><td>0</td><td>0</td><td>0</td><td>0</td><td>0</td><td>0</td><td>0</td><td>0</td><td>0</td><td>0</td><td>0</td><td>0</td><td>0</td><td>0</td><td>0</td><td>0</td><td>0</td><td>0</td><td>0</td><td>0</td><td>0</td><td>0</td><td>0</td><td>0</td><td>0</td><td>0</td><td>0</td><td>0</td><td>0</td><td>0</td><td>0</td><td>0</td><td>0</td><td>0</td><td>0</td><td>0</td><td>0</td><td>0</td><td>0</td><td>0</td><td>0</td><td>0</td><td>0</td><td>0</td><td>0</td><td>0</td><td>0</td><td>0</td><td>0</td><td>0</td><td>0</td><td>0</td><td>0</td><td>0</td><td>0</td><td>0</td><td>0</td><td>0</td><td>0</td><td>0</td><td>0</td><td>0</td><td>0</td><td>0</td><td>0</td><td>0</td><td>0</td><td>0</td><td>0</td><td>0</td><td>0</td><td>0</td><td>0</td><td>0</td><td>0</td><td>0</td><td>0</td><td>0</td><td>0</td><td>0</td><td>0</td><td>0</td><td>0</td><td>0</td><td>0</td><td>0</td><td>0</td><td>0</td><td>0</td><td>0</td><td>0</td><td>0</td><td>0</td><td>0</td><td>0</td><td>0</td><td>0</td><td>0</td><td>0</td><td>0</td><td>0</td><td>0</td><td>0</td></tr><tr><th>8</th><td>HOBBIES_1_008_CA_1_validation</td><td>HOBBIES_1_008</td><td>HOBBIES_1</td><td>HOBBIES</td><td>CA_1</td><td>CA</td><td>12</td><td>15</td><td>0</td><td>0</td><td>0</td><td>4</td><td>6</td><td>5</td><td>7</td><td>0</td><td>13</td><td>2</td><td>2</td><td>20</td><td>9</td><td>3</td><td>0</td><td>1</td><td>0</td><td>0</td><td>0</td><td>10</td><td>4</td><td>4</td><td>2</td><td>6</td><td>2</td><td>0</td><td>0</td><td>0</td><td>0</td><td>0</td><td>0</td><td>0</td><td>0</td><td>0</td><td>4</td><td>0</td><td>0</td><td>0</td><td>0</td><td>0</td><td>12</td><td>2</td><td>0</td><td>0</td><td>0</td><td>0</td><td>0</td><td>0</td><td>0</td><td>0</td><td>0</td><td>0</td><td>0</td><td>0</td><td>0</td><td>0</td><td>0</td><td>0</td><td>0</td><td>0</td><td>0</td><td>0</td><td>20</td><td>0</td><td>2</td><td>13</td><td>13</td><td>0</td><td>0</td><td>0</td><td>8</td><td>6</td><td>6</td><td>0</td><td>0</td><td>0</td><td>0</td><td>0</td><td>5</td><td>23</td><td>0</td><td>0</td><td>16</td><td>9</td><td>10</td><td>8</td><td>1</td><td>0</td><td>0</td><td>6</td><td>13</td><td>0</td><td>0</td><td>16</td><td>6</td><td>0</td><td>0</td><td>0</td><td>0</td><td>27</td><td>0</td><td>5</td><td>0</td><td>0</td><td>0</td><td>0</td><td>0</td><td>0</td><td>0</td><td>0</td><td>0</td><td>4</td><td>8</td><td>5</td><td>7</td><td>6</td><td>3</td><td>13</td><td>6</td><td>4</td><td>1</td><td>25</td><td>0</td><td>0</td><td>13</td><td>0</td><td>0</td><td>0</td><td>24</td></tr><tr><th>9</th><td>HOBBIES_1_009_CA_1_validation</td><td>HOBBIES_1_009</td><td>HOBBIES_1</td><td>HOBBIES</td><td>CA_1</td><td>CA</td><td>2</td><td>0</td><td>7</td><td>3</td><td>0</td><td>2</td><td>3</td><td>9</td><td>0</td><td>0</td><td>4</td><td>3</td><td>1</td><td>0</td><td>4</td><td>4</td><td>1</td><td>2</td><td>0</td><td>1</td><td>1</td><td>5</td><td>2</td><td>2</td><td>2</td><td>3</td><td>0</td><td>0</td><td>8</td><td>0</td><td>0</td><td>0</td><td>0</td><td>0</td><td>2</td><td>7</td><td>1</td><td>8</td><td>6</td><td>0</td><td>0</td><td>0</td><td>4</td><td>2</td><td>6</td><td>2</td><td>0</td><td>0</td><td>0</td><td>1</td><td>4</td><td>0</td><td>9</td><td>1</td><td>1</td><td>0</td><td>1</td><td>0</td><td>0</td><td>2</td><td>0</td><td>4</td><td>0</td><td>4</td><td>0</td><td>1</td><td>1</td><td>3</td><td>0</td><td>2</td><td>0</td><td>2</td><td>2</td><td>0</td><td>0</td><td>4</td><td>1</td><td>6</td><td>1</td><td>2</td><td>8</td><td>0</td><td>2</td><td>2</td><td>0</td><td>9</td><td>0</td><td>0</td><td>3</td><td>3</td><td>4</td><td>1</td><td>0</td><td>5</td><td>1</td><td>1</td><td>1</td><td>0</td><td>0</td><td>0</td><td>1</td><td>1</td><td>0</td><td>4</td><td>8</td><td>1</td><td>2</td><td>8</td><td>1</td><td>0</td><td>0</td><td>0</td><td>7</td><td>2</td><td>7</td><td>0</td><td>8</td><td>0</td><td>0</td><td>1</td><td>2</td><td>0</td><td>0</td><td>1</td><td>3</td><td>0</td><td>2</td><td>0</td><td>0</td><td>5</td><td>0</td></tr><tr><th>10</th><td>HOBBIES_1_010_CA_1_validation</td><td>HOBBIES_1_010</td><td>HOBBIES_1</td><td>HOBBIES</td><td>CA_1</td><td>CA</td><td>0</td><td>0</td><td>1</td><td>0</td><td>0</td><td>0</td><td>0</td><td>0</td><td>0</td><td>0</td><td>0</td><td>0</td><td>0</td><td>2</td><td>0</td><td>0</td><td>0</td><td>0</td><td>2</td><td>0</td><td>0</td><td>0</td><td>1</td><td>0</td><td>0</td><td>0</td><td>0</td><td>0</td><td>0</td><td>0</td><td>0</td><td>0</td><td>0</td><td>0</td><td>0</td><td>0</td><td>0</td><td>0</td><td>0</td><td>0</td><td>0</td><td>0</td><td>0</td><td>0</td><td>0</td><td>0</td><td>0</td><td>0</td><td>0</td><td>0</td><td>0</td><td>0</td><td>0</td><td>0</td><td>0</td><td>0</td><td>0</td><td>0</td><td>0</td><td>0</td><td>0</td><td>0</td><td>0</td><td>0</td><td>0</td><td>0</td><td>0</td><td>0</td><td>0</td><td>0</td><td>0</td><td>0</td><td>0</td><td>0</td><td>0</td><td>0</td><td>0</td><td>0</td><td>0</td><td>0</td><td>0</td><td>0</td><td>0</td><td>0</td><td>0</td><td>0</td><td>0</td><td>0</td><td>0</td><td>0</td><td>0</td><td>0</td><td>0</td><td>0</td><td>0</td><td>0</td><td>0</td><td>0</td><td>0</td><td>0</td><td>0</td><td>0</td><td>0</td><td>0</td><td>0</td><td>0</td><td>0</td><td>0</td><td>0</td><td>0</td><td>0</td><td>0</td><td>0</td><td>0</td><td>3</td><td>1</td><td>1</td><td>1</td><td>0</td><td>0</td><td>0</td><td>0</td><td>0</td><td>0</td><td>0</td><td>0</td><td>0</td><td>0</td><td>0</td><td>0</td><td>0</td></tr><tr><th>&vellip;</th><td>&vellip;</td><td>&vellip;</td><td>&vellip;</td><td>&vellip;</td><td>&vellip;</td><td>&vellip;</td><td>&vellip;</td><td>&vellip;</td><td>&vellip;</td><td>&vellip;</td><td>&vellip;</td><td>&vellip;</td><td>&vellip;</td><td>&vellip;</td><td>&vellip;</td><td>&vellip;</td><td>&vellip;</td><td>&vellip;</td><td>&vellip;</td><td>&vellip;</td><td>&vellip;</td><td>&vellip;</td><td>&vellip;</td><td>&vellip;</td><td>&vellip;</td><td>&vellip;</td><td>&vellip;</td><td>&vellip;</td><td>&vellip;</td><td>&vellip;</td><td>&vellip;</td><td>&vellip;</td><td>&vellip;</td><td>&vellip;</td><td>&vellip;</td><td>&vellip;</td><td>&vellip;</td><td>&vellip;</td><td>&vellip;</td><td>&vellip;</td><td>&vellip;</td><td>&vellip;</td><td>&vellip;</td><td>&vellip;</td><td>&vellip;</td><td>&vellip;</td><td>&vellip;</td><td>&vellip;</td><td>&vellip;</td><td>&vellip;</td><td>&vellip;</td><td>&vellip;</td><td>&vellip;</td><td>&vellip;</td><td>&vellip;</td><td>&vellip;</td><td>&vellip;</td><td>&vellip;</td><td>&vellip;</td><td>&vellip;</td><td>&vellip;</td><td>&vellip;</td><td>&vellip;</td><td>&vellip;</td><td>&vellip;</td><td>&vellip;</td><td>&vellip;</td><td>&vellip;</td><td>&vellip;</td><td>&vellip;</td><td>&vellip;</td><td>&vellip;</td><td>&vellip;</td><td>&vellip;</td><td>&vellip;</td><td>&vellip;</td><td>&vellip;</td><td>&vellip;</td><td>&vellip;</td><td>&vellip;</td><td>&vellip;</td><td>&vellip;</td><td>&vellip;</td><td>&vellip;</td><td>&vellip;</td><td>&vellip;</td><td>&vellip;</td><td>&vellip;</td><td>&vellip;</td><td>&vellip;</td><td>&vellip;</td><td>&vellip;</td><td>&vellip;</td><td>&vellip;</td><td>&vellip;</td><td>&vellip;</td><td>&vellip;</td><td>&vellip;</td><td>&vellip;</td><td>&vellip;</td><td>&vellip;</td><td>&vellip;</td><td>&vellip;</td><td>&vellip;</td><td>&vellip;</td><td>&vellip;</td><td>&vellip;</td><td>&vellip;</td><td>&vellip;</td><td>&vellip;</td><td>&vellip;</td><td>&vellip;</td><td>&vellip;</td><td>&vellip;</td><td>&vellip;</td><td>&vellip;</td><td>&vellip;</td><td>&vellip;</td><td>&vellip;</td><td>&vellip;</td><td>&vellip;</td><td>&vellip;</td><td>&vellip;</td><td>&vellip;</td><td>&vellip;</td><td>&vellip;</td><td>&vellip;</td><td>&vellip;</td><td>&vellip;</td><td>&vellip;</td><td>&vellip;</td><td>&vellip;</td><td>&vellip;</td><td>&vellip;</td><td>&vellip;</td><td>&vellip;</td><td>&vellip;</td></tr></tbody></table></div>"
      ],
      "text/latex": [
       "\\begin{tabular}{r|cccccccccccccccccccccccccccccccccccccccccccccccccccccccccccccccccccccccccccccccccccccccccccccccccccccccccccccccccccccccccccccccccccccccccc}\n",
       "\t& id & item\\_id & dept\\_id & cat\\_id & store\\_id & state\\_id & d\\_1 & d\\_2 & d\\_3 & d\\_4 & d\\_5 & d\\_6 & d\\_7 & d\\_8 & d\\_9 & d\\_10 & d\\_11 & d\\_12 & d\\_13 & d\\_14 & d\\_15 & d\\_16 & d\\_17 & d\\_18 & d\\_19 & d\\_20 & d\\_21 & d\\_22 & d\\_23 & d\\_24 & d\\_25 & d\\_26 & d\\_27 & d\\_28 & d\\_29 & d\\_30 & d\\_31 & d\\_32 & d\\_33 & d\\_34 & d\\_35 & d\\_36 & d\\_37 & d\\_38 & d\\_39 & d\\_40 & d\\_41 & d\\_42 & d\\_43 & d\\_44 & d\\_45 & d\\_46 & d\\_47 & d\\_48 & d\\_49 & d\\_50 & d\\_51 & d\\_52 & d\\_53 & d\\_54 & d\\_55 & d\\_56 & d\\_57 & d\\_58 & d\\_59 & d\\_60 & d\\_61 & d\\_62 & d\\_63 & d\\_64 & d\\_65 & d\\_66 & d\\_67 & d\\_68 & d\\_69 & d\\_70 & d\\_71 & d\\_72 & d\\_73 & d\\_74 & d\\_75 & d\\_76 & d\\_77 & d\\_78 & d\\_79 & d\\_80 & d\\_81 & d\\_82 & d\\_83 & d\\_84 & d\\_85 & d\\_86 & d\\_87 & d\\_88 & d\\_89 & d\\_90 & d\\_91 & d\\_92 & d\\_93 & d\\_94 & d\\_95 & d\\_96 & d\\_97 & d\\_98 & d\\_99 & d\\_100 & d\\_101 & d\\_102 & d\\_103 & d\\_104 & d\\_105 & d\\_106 & d\\_107 & d\\_108 & d\\_109 & d\\_110 & d\\_111 & d\\_112 & d\\_113 & d\\_114 & d\\_115 & d\\_116 & d\\_117 & d\\_118 & d\\_119 & d\\_120 & d\\_121 & d\\_122 & d\\_123 & d\\_124 & d\\_125 & d\\_126 & d\\_127 & d\\_128 & d\\_129 & d\\_130 & d\\_131 & \\\\\n",
       "\t\\hline\n",
       "\t& String & String & String & String & String & String & Int64 & Int64 & Int64 & Int64 & Int64 & Int64 & Int64 & Int64 & Int64 & Int64 & Int64 & Int64 & Int64 & Int64 & Int64 & Int64 & Int64 & Int64 & Int64 & Int64 & Int64 & Int64 & Int64 & Int64 & Int64 & Int64 & Int64 & Int64 & Int64 & Int64 & Int64 & Int64 & Int64 & Int64 & Int64 & Int64 & Int64 & Int64 & Int64 & Int64 & Int64 & Int64 & Int64 & Int64 & Int64 & Int64 & Int64 & Int64 & Int64 & Int64 & Int64 & Int64 & Int64 & Int64 & Int64 & Int64 & Int64 & Int64 & Int64 & Int64 & Int64 & Int64 & Int64 & Int64 & Int64 & Int64 & Int64 & Int64 & Int64 & Int64 & Int64 & Int64 & Int64 & Int64 & Int64 & Int64 & Int64 & Int64 & Int64 & Int64 & Int64 & Int64 & Int64 & Int64 & Int64 & Int64 & Int64 & Int64 & Int64 & Int64 & Int64 & Int64 & Int64 & Int64 & Int64 & Int64 & Int64 & Int64 & Int64 & Int64 & Int64 & Int64 & Int64 & Int64 & Int64 & Int64 & Int64 & Int64 & Int64 & Int64 & Int64 & Int64 & Int64 & Int64 & Int64 & Int64 & Int64 & Int64 & Int64 & Int64 & Int64 & Int64 & Int64 & Int64 & Int64 & Int64 & Int64 & Int64 & Int64 & Int64 & Int64 & \\\\\n",
       "\t\\hline\n",
       "\t1 & HOBBIES\\_1\\_001\\_CA\\_1\\_validation & HOBBIES\\_1\\_001 & HOBBIES\\_1 & HOBBIES & CA\\_1 & CA & 0 & 0 & 0 & 0 & 0 & 0 & 0 & 0 & 0 & 0 & 0 & 0 & 0 & 0 & 0 & 0 & 0 & 0 & 0 & 0 & 0 & 0 & 0 & 0 & 0 & 0 & 0 & 0 & 0 & 0 & 0 & 0 & 0 & 0 & 0 & 0 & 0 & 0 & 0 & 0 & 0 & 0 & 0 & 0 & 0 & 0 & 0 & 0 & 0 & 0 & 0 & 0 & 0 & 0 & 0 & 0 & 0 & 0 & 0 & 0 & 0 & 0 & 0 & 0 & 0 & 0 & 0 & 0 & 0 & 0 & 0 & 0 & 0 & 0 & 0 & 0 & 0 & 0 & 0 & 0 & 0 & 0 & 0 & 0 & 0 & 0 & 0 & 0 & 0 & 0 & 0 & 0 & 0 & 0 & 0 & 0 & 0 & 0 & 0 & 0 & 0 & 0 & 0 & 0 & 0 & 0 & 0 & 0 & 0 & 0 & 0 & 0 & 0 & 0 & 0 & 0 & 0 & 0 & 0 & 0 & 0 & 0 & 0 & 0 & 0 & 0 & 0 & 0 & 0 & 0 & 0 & $\\dots$ \\\\\n",
       "\t2 & HOBBIES\\_1\\_002\\_CA\\_1\\_validation & HOBBIES\\_1\\_002 & HOBBIES\\_1 & HOBBIES & CA\\_1 & CA & 0 & 0 & 0 & 0 & 0 & 0 & 0 & 0 & 0 & 0 & 0 & 0 & 0 & 0 & 0 & 0 & 0 & 0 & 0 & 0 & 0 & 0 & 0 & 0 & 0 & 0 & 0 & 0 & 0 & 0 & 0 & 0 & 0 & 0 & 0 & 0 & 0 & 0 & 0 & 0 & 0 & 0 & 0 & 0 & 0 & 0 & 0 & 0 & 0 & 0 & 0 & 0 & 0 & 0 & 0 & 0 & 0 & 0 & 0 & 0 & 0 & 0 & 0 & 0 & 0 & 0 & 0 & 0 & 0 & 0 & 0 & 0 & 0 & 0 & 0 & 0 & 0 & 0 & 0 & 0 & 0 & 0 & 0 & 0 & 0 & 0 & 0 & 0 & 0 & 0 & 0 & 0 & 0 & 0 & 0 & 0 & 0 & 0 & 0 & 0 & 0 & 0 & 0 & 0 & 0 & 0 & 0 & 0 & 0 & 0 & 0 & 0 & 0 & 0 & 0 & 0 & 0 & 0 & 0 & 0 & 0 & 0 & 0 & 0 & 0 & 0 & 0 & 0 & 0 & 0 & 0 & $\\dots$ \\\\\n",
       "\t3 & HOBBIES\\_1\\_003\\_CA\\_1\\_validation & HOBBIES\\_1\\_003 & HOBBIES\\_1 & HOBBIES & CA\\_1 & CA & 0 & 0 & 0 & 0 & 0 & 0 & 0 & 0 & 0 & 0 & 0 & 0 & 0 & 0 & 0 & 0 & 0 & 0 & 0 & 0 & 0 & 0 & 0 & 0 & 0 & 0 & 0 & 0 & 0 & 0 & 0 & 0 & 0 & 0 & 0 & 0 & 0 & 0 & 0 & 0 & 0 & 0 & 0 & 0 & 0 & 0 & 0 & 0 & 0 & 0 & 0 & 0 & 0 & 0 & 0 & 0 & 0 & 0 & 0 & 0 & 0 & 0 & 0 & 0 & 0 & 0 & 0 & 0 & 0 & 0 & 0 & 0 & 0 & 0 & 0 & 0 & 0 & 0 & 0 & 0 & 0 & 0 & 0 & 0 & 0 & 0 & 0 & 0 & 0 & 0 & 0 & 0 & 0 & 0 & 0 & 0 & 0 & 0 & 0 & 0 & 0 & 0 & 0 & 0 & 0 & 0 & 0 & 0 & 0 & 0 & 0 & 0 & 0 & 0 & 0 & 0 & 0 & 0 & 0 & 0 & 0 & 0 & 0 & 0 & 0 & 0 & 0 & 0 & 0 & 0 & 0 & $\\dots$ \\\\\n",
       "\t4 & HOBBIES\\_1\\_004\\_CA\\_1\\_validation & HOBBIES\\_1\\_004 & HOBBIES\\_1 & HOBBIES & CA\\_1 & CA & 0 & 0 & 0 & 0 & 0 & 0 & 0 & 0 & 0 & 0 & 0 & 0 & 0 & 0 & 0 & 0 & 0 & 0 & 0 & 0 & 0 & 0 & 0 & 0 & 0 & 0 & 0 & 0 & 0 & 0 & 0 & 0 & 0 & 0 & 0 & 0 & 2 & 0 & 0 & 0 & 2 & 0 & 1 & 0 & 0 & 0 & 0 & 0 & 0 & 2 & 0 & 1 & 0 & 0 & 1 & 1 & 1 & 0 & 2 & 3 & 1 & 0 & 0 & 0 & 0 & 0 & 1 & 0 & 0 & 1 & 1 & 0 & 0 & 1 & 0 & 0 & 1 & 2 & 3 & 0 & 2 & 0 & 0 & 2 & 2 & 0 & 0 & 2 & 1 & 2 & 1 & 1 & 1 & 2 & 0 & 0 & 1 & 0 & 1 & 3 & 1 & 0 & 0 & 0 & 0 & 3 & 5 & 2 & 2 & 1 & 1 & 1 & 1 & 1 & 1 & 0 & 0 & 2 & 1 & 1 & 1 & 2 & 0 & 0 & 0 & 2 & 5 & 6 & 0 & 0 & 0 & $\\dots$ \\\\\n",
       "\t5 & HOBBIES\\_1\\_005\\_CA\\_1\\_validation & HOBBIES\\_1\\_005 & HOBBIES\\_1 & HOBBIES & CA\\_1 & CA & 0 & 0 & 0 & 0 & 0 & 0 & 0 & 0 & 0 & 0 & 0 & 0 & 0 & 0 & 0 & 0 & 0 & 0 & 0 & 0 & 0 & 0 & 0 & 0 & 0 & 0 & 0 & 0 & 0 & 0 & 0 & 0 & 0 & 0 & 0 & 0 & 0 & 0 & 0 & 0 & 0 & 0 & 0 & 0 & 0 & 0 & 0 & 0 & 0 & 0 & 0 & 0 & 0 & 0 & 0 & 0 & 0 & 0 & 0 & 0 & 0 & 0 & 0 & 0 & 0 & 0 & 0 & 0 & 0 & 0 & 0 & 0 & 0 & 0 & 0 & 0 & 0 & 0 & 0 & 0 & 0 & 0 & 0 & 0 & 0 & 0 & 0 & 0 & 0 & 0 & 0 & 0 & 0 & 0 & 0 & 0 & 0 & 0 & 0 & 0 & 0 & 0 & 0 & 0 & 0 & 0 & 0 & 0 & 0 & 0 & 0 & 0 & 8 & 6 & 0 & 3 & 2 & 3 & 5 & 3 & 1 & 0 & 0 & 1 & 0 & 2 & 2 & 4 & 0 & 0 & 3 & $\\dots$ \\\\\n",
       "\t6 & HOBBIES\\_1\\_006\\_CA\\_1\\_validation & HOBBIES\\_1\\_006 & HOBBIES\\_1 & HOBBIES & CA\\_1 & CA & 0 & 0 & 0 & 0 & 0 & 0 & 0 & 0 & 0 & 0 & 0 & 0 & 0 & 0 & 0 & 0 & 0 & 0 & 0 & 0 & 0 & 0 & 0 & 0 & 0 & 0 & 0 & 0 & 0 & 0 & 0 & 0 & 0 & 0 & 0 & 0 & 0 & 0 & 0 & 0 & 0 & 0 & 0 & 0 & 0 & 0 & 0 & 0 & 0 & 0 & 0 & 0 & 0 & 0 & 0 & 0 & 0 & 0 & 0 & 0 & 0 & 0 & 0 & 0 & 0 & 0 & 0 & 0 & 0 & 0 & 0 & 0 & 0 & 0 & 0 & 0 & 0 & 0 & 0 & 0 & 0 & 0 & 0 & 0 & 0 & 0 & 0 & 0 & 0 & 0 & 0 & 0 & 0 & 0 & 0 & 0 & 0 & 0 & 0 & 0 & 0 & 0 & 0 & 0 & 0 & 0 & 0 & 0 & 0 & 0 & 0 & 0 & 0 & 0 & 0 & 0 & 0 & 0 & 0 & 0 & 0 & 0 & 0 & 0 & 0 & 0 & 0 & 0 & 0 & 0 & 0 & $\\dots$ \\\\\n",
       "\t7 & HOBBIES\\_1\\_007\\_CA\\_1\\_validation & HOBBIES\\_1\\_007 & HOBBIES\\_1 & HOBBIES & CA\\_1 & CA & 0 & 0 & 0 & 0 & 0 & 0 & 0 & 0 & 0 & 0 & 0 & 0 & 0 & 0 & 0 & 0 & 0 & 0 & 0 & 0 & 0 & 0 & 0 & 0 & 0 & 0 & 0 & 0 & 0 & 0 & 0 & 0 & 0 & 0 & 0 & 0 & 0 & 0 & 0 & 0 & 0 & 0 & 0 & 0 & 0 & 0 & 0 & 0 & 0 & 0 & 0 & 0 & 0 & 0 & 0 & 0 & 0 & 0 & 0 & 0 & 0 & 0 & 0 & 0 & 0 & 0 & 0 & 0 & 0 & 0 & 0 & 0 & 0 & 0 & 0 & 0 & 0 & 0 & 0 & 0 & 0 & 0 & 0 & 0 & 0 & 0 & 0 & 0 & 0 & 0 & 0 & 0 & 0 & 0 & 0 & 0 & 0 & 0 & 0 & 0 & 0 & 0 & 0 & 0 & 0 & 0 & 0 & 0 & 0 & 0 & 0 & 0 & 0 & 0 & 0 & 0 & 0 & 0 & 0 & 0 & 0 & 0 & 0 & 0 & 0 & 0 & 0 & 0 & 0 & 0 & 0 & $\\dots$ \\\\\n",
       "\t8 & HOBBIES\\_1\\_008\\_CA\\_1\\_validation & HOBBIES\\_1\\_008 & HOBBIES\\_1 & HOBBIES & CA\\_1 & CA & 12 & 15 & 0 & 0 & 0 & 4 & 6 & 5 & 7 & 0 & 13 & 2 & 2 & 20 & 9 & 3 & 0 & 1 & 0 & 0 & 0 & 10 & 4 & 4 & 2 & 6 & 2 & 0 & 0 & 0 & 0 & 0 & 0 & 0 & 0 & 0 & 4 & 0 & 0 & 0 & 0 & 0 & 12 & 2 & 0 & 0 & 0 & 0 & 0 & 0 & 0 & 0 & 0 & 0 & 0 & 0 & 0 & 0 & 0 & 0 & 0 & 0 & 0 & 0 & 20 & 0 & 2 & 13 & 13 & 0 & 0 & 0 & 8 & 6 & 6 & 0 & 0 & 0 & 0 & 0 & 5 & 23 & 0 & 0 & 16 & 9 & 10 & 8 & 1 & 0 & 0 & 6 & 13 & 0 & 0 & 16 & 6 & 0 & 0 & 0 & 0 & 27 & 0 & 5 & 0 & 0 & 0 & 0 & 0 & 0 & 0 & 0 & 0 & 4 & 8 & 5 & 7 & 6 & 3 & 13 & 6 & 4 & 1 & 25 & 0 & 0 & 13 & 0 & 0 & 0 & 24 & $\\dots$ \\\\\n",
       "\t9 & HOBBIES\\_1\\_009\\_CA\\_1\\_validation & HOBBIES\\_1\\_009 & HOBBIES\\_1 & HOBBIES & CA\\_1 & CA & 2 & 0 & 7 & 3 & 0 & 2 & 3 & 9 & 0 & 0 & 4 & 3 & 1 & 0 & 4 & 4 & 1 & 2 & 0 & 1 & 1 & 5 & 2 & 2 & 2 & 3 & 0 & 0 & 8 & 0 & 0 & 0 & 0 & 0 & 2 & 7 & 1 & 8 & 6 & 0 & 0 & 0 & 4 & 2 & 6 & 2 & 0 & 0 & 0 & 1 & 4 & 0 & 9 & 1 & 1 & 0 & 1 & 0 & 0 & 2 & 0 & 4 & 0 & 4 & 0 & 1 & 1 & 3 & 0 & 2 & 0 & 2 & 2 & 0 & 0 & 4 & 1 & 6 & 1 & 2 & 8 & 0 & 2 & 2 & 0 & 9 & 0 & 0 & 3 & 3 & 4 & 1 & 0 & 5 & 1 & 1 & 1 & 0 & 0 & 0 & 1 & 1 & 0 & 4 & 8 & 1 & 2 & 8 & 1 & 0 & 0 & 0 & 7 & 2 & 7 & 0 & 8 & 0 & 0 & 1 & 2 & 0 & 0 & 1 & 3 & 0 & 2 & 0 & 0 & 5 & 0 & $\\dots$ \\\\\n",
       "\t10 & HOBBIES\\_1\\_010\\_CA\\_1\\_validation & HOBBIES\\_1\\_010 & HOBBIES\\_1 & HOBBIES & CA\\_1 & CA & 0 & 0 & 1 & 0 & 0 & 0 & 0 & 0 & 0 & 0 & 0 & 0 & 0 & 2 & 0 & 0 & 0 & 0 & 2 & 0 & 0 & 0 & 1 & 0 & 0 & 0 & 0 & 0 & 0 & 0 & 0 & 0 & 0 & 0 & 0 & 0 & 0 & 0 & 0 & 0 & 0 & 0 & 0 & 0 & 0 & 0 & 0 & 0 & 0 & 0 & 0 & 0 & 0 & 0 & 0 & 0 & 0 & 0 & 0 & 0 & 0 & 0 & 0 & 0 & 0 & 0 & 0 & 0 & 0 & 0 & 0 & 0 & 0 & 0 & 0 & 0 & 0 & 0 & 0 & 0 & 0 & 0 & 0 & 0 & 0 & 0 & 0 & 0 & 0 & 0 & 0 & 0 & 0 & 0 & 0 & 0 & 0 & 0 & 0 & 0 & 0 & 0 & 0 & 0 & 0 & 0 & 0 & 0 & 0 & 0 & 0 & 0 & 0 & 0 & 3 & 1 & 1 & 1 & 0 & 0 & 0 & 0 & 0 & 0 & 0 & 0 & 0 & 0 & 0 & 0 & 0 & $\\dots$ \\\\\n",
       "\t$\\dots$ & $\\dots$ & $\\dots$ & $\\dots$ & $\\dots$ & $\\dots$ & $\\dots$ & $\\dots$ & $\\dots$ & $\\dots$ & $\\dots$ & $\\dots$ & $\\dots$ & $\\dots$ & $\\dots$ & $\\dots$ & $\\dots$ & $\\dots$ & $\\dots$ & $\\dots$ & $\\dots$ & $\\dots$ & $\\dots$ & $\\dots$ & $\\dots$ & $\\dots$ & $\\dots$ & $\\dots$ & $\\dots$ & $\\dots$ & $\\dots$ & $\\dots$ & $\\dots$ & $\\dots$ & $\\dots$ & $\\dots$ & $\\dots$ & $\\dots$ & $\\dots$ & $\\dots$ & $\\dots$ & $\\dots$ & $\\dots$ & $\\dots$ & $\\dots$ & $\\dots$ & $\\dots$ & $\\dots$ & $\\dots$ & $\\dots$ & $\\dots$ & $\\dots$ & $\\dots$ & $\\dots$ & $\\dots$ & $\\dots$ & $\\dots$ & $\\dots$ & $\\dots$ & $\\dots$ & $\\dots$ & $\\dots$ & $\\dots$ & $\\dots$ & $\\dots$ & $\\dots$ & $\\dots$ & $\\dots$ & $\\dots$ & $\\dots$ & $\\dots$ & $\\dots$ & $\\dots$ & $\\dots$ & $\\dots$ & $\\dots$ & $\\dots$ & $\\dots$ & $\\dots$ & $\\dots$ & $\\dots$ & $\\dots$ & $\\dots$ & $\\dots$ & $\\dots$ & $\\dots$ & $\\dots$ & $\\dots$ & $\\dots$ & $\\dots$ & $\\dots$ & $\\dots$ & $\\dots$ & $\\dots$ & $\\dots$ & $\\dots$ & $\\dots$ & $\\dots$ & $\\dots$ & $\\dots$ & $\\dots$ & $\\dots$ & $\\dots$ & $\\dots$ & $\\dots$ & $\\dots$ & $\\dots$ & $\\dots$ & $\\dots$ & $\\dots$ & $\\dots$ & $\\dots$ & $\\dots$ & $\\dots$ & $\\dots$ & $\\dots$ & $\\dots$ & $\\dots$ & $\\dots$ & $\\dots$ & $\\dots$ & $\\dots$ & $\\dots$ & $\\dots$ & $\\dots$ & $\\dots$ & $\\dots$ & $\\dots$ & $\\dots$ & $\\dots$ & $\\dots$ & $\\dots$ & $\\dots$ & $\\dots$ & $\\dots$ & $\\dots$ & $\\dots$ & $\\dots$ &  \\\\\n",
       "\\end{tabular}\n"
      ],
      "text/plain": [
       "\u001b[1m30490×1919 DataFrame\u001b[0m\n",
       "\u001b[1m   Row \u001b[0m│\u001b[1m id                            \u001b[0m\u001b[1m item_id       \u001b[0m\u001b[1m dept_id   \u001b[0m\u001b[1m cat_id  \u001b[0m\u001b[1m store_id \u001b[0m\u001b[1m state_id \u001b[0m\u001b[1m d_1   \u001b[0m\u001b[1m d_2   \u001b[0m\u001b[1m d_3   \u001b[0m\u001b[1m d_4   \u001b[0m\u001b[1m d_5   \u001b[0m\u001b[1m d_6   \u001b[0m\u001b[1m d_7   \u001b[0m\u001b[1m d_8   \u001b[0m\u001b[1m d_9   \u001b[0m\u001b[1m d_10  \u001b[0m\u001b[1m d_11  \u001b[0m\u001b[1m d_12  \u001b[0m\u001b[1m d_13  \u001b[0m\u001b[1m d_14  \u001b[0m\u001b[1m d_15  \u001b[0m\u001b[1m d_16  \u001b[0m\u001b[1m d_17  \u001b[0m\u001b[1m d_18  \u001b[0m\u001b[1m d_19  \u001b[0m\u001b[1m d_20  \u001b[0m\u001b[1m d_21  \u001b[0m\u001b[1m d_22  \u001b[0m\u001b[1m d_23  \u001b[0m\u001b[1m d_24  \u001b[0m\u001b[1m d_25  \u001b[0m\u001b[1m d_26  \u001b[0m\u001b[1m d_27  \u001b[0m\u001b[1m d_28  \u001b[0m\u001b[1m d_29  \u001b[0m\u001b[1m d_30  \u001b[0m\u001b[1m d_31  \u001b[0m\u001b[1m d_32  \u001b[0m\u001b[1m d_33  \u001b[0m\u001b[1m d_34  \u001b[0m\u001b[1m d_35  \u001b[0m\u001b[1m d_36  \u001b[0m\u001b[1m d_37  \u001b[0m\u001b[1m d_38  \u001b[0m\u001b[1m d_39  \u001b[0m\u001b[1m d_40  \u001b[0m\u001b[1m d_41  \u001b[0m\u001b[1m d_42  \u001b[0m\u001b[1m d_43  \u001b[0m\u001b[1m d_44  \u001b[0m\u001b[1m d_45  \u001b[0m\u001b[1m d_46  \u001b[0m\u001b[1m d_47  \u001b[0m\u001b[1m d_48  \u001b[0m\u001b[1m d_49  \u001b[0m\u001b[1m d_50  \u001b[0m\u001b[1m d_51  \u001b[0m\u001b[1m d_52  \u001b[0m\u001b[1m d_53  \u001b[0m\u001b[1m d_54  \u001b[0m\u001b[1m d_55  \u001b[0m\u001b[1m d_56  \u001b[0m\u001b[1m d_57  \u001b[0m\u001b[1m d_58  \u001b[0m\u001b[1m d_59  \u001b[0m\u001b[1m d_60  \u001b[0m\u001b[1m d_61  \u001b[0m\u001b[1m d_62  \u001b[0m\u001b[1m d_63  \u001b[0m\u001b[1m d_64  \u001b[0m\u001b[1m d_65  \u001b[0m\u001b[1m d_66  \u001b[0m\u001b[1m d_67  \u001b[0m\u001b[1m d_68  \u001b[0m\u001b[1m d_69  \u001b[0m\u001b[1m d_70  \u001b[0m\u001b[1m d_71  \u001b[0m\u001b[1m d_72  \u001b[0m\u001b[1m d_73  \u001b[0m\u001b[1m d_74  \u001b[0m\u001b[1m d_75  \u001b[0m\u001b[1m d_76  \u001b[0m\u001b[1m d_77  \u001b[0m\u001b[1m d_78  \u001b[0m\u001b[1m d_79  \u001b[0m\u001b[1m d_80  \u001b[0m\u001b[1m d_81  \u001b[0m\u001b[1m d_82  \u001b[0m\u001b[1m d_83  \u001b[0m\u001b[1m d_84  \u001b[0m\u001b[1m d_85  \u001b[0m\u001b[1m d_86  \u001b[0m\u001b[1m d_87  \u001b[0m\u001b[1m d_88  \u001b[0m\u001b[1m d_89  \u001b[0m\u001b[1m d_90  \u001b[0m\u001b[1m d_91  \u001b[0m\u001b[1m d_92  \u001b[0m\u001b[1m d_93  \u001b[0m\u001b[1m d_94  \u001b[0m\u001b[1m d_95  \u001b[0m\u001b[1m d_96  \u001b[0m\u001b[1m d_97  \u001b[0m\u001b[1m d_98  \u001b[0m\u001b[1m d_99  \u001b[0m\u001b[1m d_100 \u001b[0m\u001b[1m d_101 \u001b[0m\u001b[1m d_102 \u001b[0m\u001b[1m d_103 \u001b[0m\u001b[1m d_104 \u001b[0m\u001b[1m d_105 \u001b[0m\u001b[1m d_106 \u001b[0m\u001b[1m d_107 \u001b[0m\u001b[1m d_108 \u001b[0m\u001b[1m d_109 \u001b[0m\u001b[1m d_110 \u001b[0m\u001b[1m d_111 \u001b[0m\u001b[1m d_112 \u001b[0m\u001b[1m d_113 \u001b[0m\u001b[1m d_114 \u001b[0m\u001b[1m d_115 \u001b[0m\u001b[1m d_116 \u001b[0m\u001b[1m d_117 \u001b[0m\u001b[1m d_118 \u001b[0m\u001b[1m d_119 \u001b[0m\u001b[1m d_120 \u001b[0m\u001b[1m d_121 \u001b[0m\u001b[1m d_122 \u001b[0m\u001b[1m d_123 \u001b[0m\u001b[1m d_124 \u001b[0m\u001b[1m d_125 \u001b[0m\u001b[1m d_126 \u001b[0m\u001b[1m d_127 \u001b[0m\u001b[1m d_128 \u001b[0m\u001b[1m d_129 \u001b[0m\u001b[1m \u001b[0m ⋯\n",
       "\u001b[1m       \u001b[0m│\u001b[90m String                        \u001b[0m\u001b[90m String        \u001b[0m\u001b[90m String    \u001b[0m\u001b[90m String  \u001b[0m\u001b[90m String   \u001b[0m\u001b[90m String   \u001b[0m\u001b[90m Int64 \u001b[0m\u001b[90m Int64 \u001b[0m\u001b[90m Int64 \u001b[0m\u001b[90m Int64 \u001b[0m\u001b[90m Int64 \u001b[0m\u001b[90m Int64 \u001b[0m\u001b[90m Int64 \u001b[0m\u001b[90m Int64 \u001b[0m\u001b[90m Int64 \u001b[0m\u001b[90m Int64 \u001b[0m\u001b[90m Int64 \u001b[0m\u001b[90m Int64 \u001b[0m\u001b[90m Int64 \u001b[0m\u001b[90m Int64 \u001b[0m\u001b[90m Int64 \u001b[0m\u001b[90m Int64 \u001b[0m\u001b[90m Int64 \u001b[0m\u001b[90m Int64 \u001b[0m\u001b[90m Int64 \u001b[0m\u001b[90m Int64 \u001b[0m\u001b[90m Int64 \u001b[0m\u001b[90m Int64 \u001b[0m\u001b[90m Int64 \u001b[0m\u001b[90m Int64 \u001b[0m\u001b[90m Int64 \u001b[0m\u001b[90m Int64 \u001b[0m\u001b[90m Int64 \u001b[0m\u001b[90m Int64 \u001b[0m\u001b[90m Int64 \u001b[0m\u001b[90m Int64 \u001b[0m\u001b[90m Int64 \u001b[0m\u001b[90m Int64 \u001b[0m\u001b[90m Int64 \u001b[0m\u001b[90m Int64 \u001b[0m\u001b[90m Int64 \u001b[0m\u001b[90m Int64 \u001b[0m\u001b[90m Int64 \u001b[0m\u001b[90m Int64 \u001b[0m\u001b[90m Int64 \u001b[0m\u001b[90m Int64 \u001b[0m\u001b[90m Int64 \u001b[0m\u001b[90m Int64 \u001b[0m\u001b[90m Int64 \u001b[0m\u001b[90m Int64 \u001b[0m\u001b[90m Int64 \u001b[0m\u001b[90m Int64 \u001b[0m\u001b[90m Int64 \u001b[0m\u001b[90m Int64 \u001b[0m\u001b[90m Int64 \u001b[0m\u001b[90m Int64 \u001b[0m\u001b[90m Int64 \u001b[0m\u001b[90m Int64 \u001b[0m\u001b[90m Int64 \u001b[0m\u001b[90m Int64 \u001b[0m\u001b[90m Int64 \u001b[0m\u001b[90m Int64 \u001b[0m\u001b[90m Int64 \u001b[0m\u001b[90m Int64 \u001b[0m\u001b[90m Int64 \u001b[0m\u001b[90m Int64 \u001b[0m\u001b[90m Int64 \u001b[0m\u001b[90m Int64 \u001b[0m\u001b[90m Int64 \u001b[0m\u001b[90m Int64 \u001b[0m\u001b[90m Int64 \u001b[0m\u001b[90m Int64 \u001b[0m\u001b[90m Int64 \u001b[0m\u001b[90m Int64 \u001b[0m\u001b[90m Int64 \u001b[0m\u001b[90m Int64 \u001b[0m\u001b[90m Int64 \u001b[0m\u001b[90m Int64 \u001b[0m\u001b[90m Int64 \u001b[0m\u001b[90m Int64 \u001b[0m\u001b[90m Int64 \u001b[0m\u001b[90m Int64 \u001b[0m\u001b[90m Int64 \u001b[0m\u001b[90m Int64 \u001b[0m\u001b[90m Int64 \u001b[0m\u001b[90m Int64 \u001b[0m\u001b[90m Int64 \u001b[0m\u001b[90m Int64 \u001b[0m\u001b[90m Int64 \u001b[0m\u001b[90m Int64 \u001b[0m\u001b[90m Int64 \u001b[0m\u001b[90m Int64 \u001b[0m\u001b[90m Int64 \u001b[0m\u001b[90m Int64 \u001b[0m\u001b[90m Int64 \u001b[0m\u001b[90m Int64 \u001b[0m\u001b[90m Int64 \u001b[0m\u001b[90m Int64 \u001b[0m\u001b[90m Int64 \u001b[0m\u001b[90m Int64 \u001b[0m\u001b[90m Int64 \u001b[0m\u001b[90m Int64 \u001b[0m\u001b[90m Int64 \u001b[0m\u001b[90m Int64 \u001b[0m\u001b[90m Int64 \u001b[0m\u001b[90m Int64 \u001b[0m\u001b[90m Int64 \u001b[0m\u001b[90m Int64 \u001b[0m\u001b[90m Int64 \u001b[0m\u001b[90m Int64 \u001b[0m\u001b[90m Int64 \u001b[0m\u001b[90m Int64 \u001b[0m\u001b[90m Int64 \u001b[0m\u001b[90m Int64 \u001b[0m\u001b[90m Int64 \u001b[0m\u001b[90m Int64 \u001b[0m\u001b[90m Int64 \u001b[0m\u001b[90m Int64 \u001b[0m\u001b[90m Int64 \u001b[0m\u001b[90m Int64 \u001b[0m\u001b[90m Int64 \u001b[0m\u001b[90m Int64 \u001b[0m\u001b[90m Int64 \u001b[0m\u001b[90m Int64 \u001b[0m\u001b[90m Int64 \u001b[0m\u001b[90m Int64 \u001b[0m\u001b[90m Int64 \u001b[0m\u001b[90m Int64 \u001b[0m\u001b[90m Int64 \u001b[0m\u001b[90m Int64 \u001b[0m\u001b[90m Int64 \u001b[0m\u001b[90m Int64 \u001b[0m\u001b[90m Int64 \u001b[0m\u001b[90m Int64 \u001b[0m\u001b[90m Int64 \u001b[0m\u001b[90m \u001b[0m ⋯\n",
       "───────┼────────────────────────────────────────────────────────────────────────────────────────────────────────────────────────────────────────────────────────────────────────────────────────────────────────────────────────────────────────────────────────────────────────────────────────────────────────────────────────────────────────────────────────────────────────────────────────────────────────────────────────────────────────────────────────────────────────────────────────────────────────────────────────────────────────────────────────────────────────────────────────────────────────────────────────────────────────────────────────────────────────────────────────────────────────────────────────────────────────────────────────────────────────────────────────────────────────────────────────────────────────────────────────────────────────────────────────────────────────────────────────────────────────────────────────────────────────────────────────────────────────────────────────────────\n",
       "     1 │ HOBBIES_1_001_CA_1_validation  HOBBIES_1_001  HOBBIES_1  HOBBIES  CA_1      CA            0      0      0      0      0      0      0      0      0      0      0      0      0      0      0      0      0      0      0      0      0      0      0      0      0      0      0      0      0      0      0      0      0      0      0      0      0      0      0      0      0      0      0      0      0      0      0      0      0      0      0      0      0      0      0      0      0      0      0      0      0      0      0      0      0      0      0      0      0      0      0      0      0      0      0      0      0      0      0      0      0      0      0      0      0      0      0      0      0      0      0      0      0      0      0      0      0      0      0      0      0      0      0      0      0      0      0      0      0      0      0      0      0      0      0      0      0      0      0      0      0      0      0      0      0      0      0      0      0   ⋯\n",
       "   ⋮   │               ⋮                      ⋮            ⋮         ⋮        ⋮         ⋮        ⋮      ⋮      ⋮      ⋮      ⋮      ⋮      ⋮      ⋮      ⋮      ⋮      ⋮      ⋮      ⋮      ⋮      ⋮      ⋮      ⋮      ⋮      ⋮      ⋮      ⋮      ⋮      ⋮      ⋮      ⋮      ⋮      ⋮      ⋮      ⋮      ⋮      ⋮      ⋮      ⋮      ⋮      ⋮      ⋮      ⋮      ⋮      ⋮      ⋮      ⋮      ⋮      ⋮      ⋮      ⋮      ⋮      ⋮      ⋮      ⋮      ⋮      ⋮      ⋮      ⋮      ⋮      ⋮      ⋮      ⋮      ⋮      ⋮      ⋮      ⋮      ⋮      ⋮      ⋮      ⋮      ⋮      ⋮      ⋮      ⋮      ⋮      ⋮      ⋮      ⋮      ⋮      ⋮      ⋮      ⋮      ⋮      ⋮      ⋮      ⋮      ⋮      ⋮      ⋮      ⋮      ⋮      ⋮      ⋮      ⋮      ⋮      ⋮      ⋮      ⋮      ⋮      ⋮      ⋮      ⋮      ⋮      ⋮      ⋮      ⋮      ⋮      ⋮      ⋮      ⋮      ⋮      ⋮      ⋮      ⋮      ⋮      ⋮      ⋮      ⋮      ⋮      ⋮      ⋮      ⋮      ⋮      ⋮      ⋮      ⋮      ⋮      ⋮      ⋮      ⋮      ⋮      ⋮      ⋮      ⋮     ⋱\n",
       "\u001b[36m                                                                                                                                                                                                                                                                                                                                                                                                                                                                                                                                                                                                                                                                                                                                                                                                                                                                                                                                                                                                     1784 columns and 30489 rows omitted\u001b[0m"
      ]
     },
     "execution_count": 9,
     "metadata": {},
     "output_type": "execute_result"
    }
   ],
   "source": [
    "raw_sales = CSV.read(path_data / \"sales_train_validation.csv\", DataFrame)"
   ]
  },
  {
   "cell_type": "markdown",
   "id": "bb17d096",
   "metadata": {},
   "source": [
    "Get hierarchies"
   ]
  },
  {
   "cell_type": "code",
   "execution_count": 10,
   "id": "3b5610b0",
   "metadata": {
    "ExecuteTime": {
     "end_time": "2021-07-25T16:24:00.636000+02:00",
     "start_time": "2021-07-25T14:22:36.263Z"
    }
   },
   "outputs": [
    {
     "data": {
      "text/html": [
       "<div class=\"data-frame\"><p>3,049 rows × 3 columns</p><table class=\"data-frame\"><thead><tr><th></th><th>item_id</th><th>dept_id</th><th>cat_id</th></tr><tr><th></th><th title=\"String\">String</th><th title=\"String\">String</th><th title=\"String\">String</th></tr></thead><tbody><tr><th>1</th><td>HOBBIES_1_001</td><td>HOBBIES_1</td><td>HOBBIES</td></tr><tr><th>2</th><td>HOBBIES_1_002</td><td>HOBBIES_1</td><td>HOBBIES</td></tr><tr><th>3</th><td>HOBBIES_1_003</td><td>HOBBIES_1</td><td>HOBBIES</td></tr><tr><th>4</th><td>HOBBIES_1_004</td><td>HOBBIES_1</td><td>HOBBIES</td></tr><tr><th>5</th><td>HOBBIES_1_005</td><td>HOBBIES_1</td><td>HOBBIES</td></tr><tr><th>6</th><td>HOBBIES_1_006</td><td>HOBBIES_1</td><td>HOBBIES</td></tr><tr><th>7</th><td>HOBBIES_1_007</td><td>HOBBIES_1</td><td>HOBBIES</td></tr><tr><th>8</th><td>HOBBIES_1_008</td><td>HOBBIES_1</td><td>HOBBIES</td></tr><tr><th>9</th><td>HOBBIES_1_009</td><td>HOBBIES_1</td><td>HOBBIES</td></tr><tr><th>10</th><td>HOBBIES_1_010</td><td>HOBBIES_1</td><td>HOBBIES</td></tr><tr><th>&vellip;</th><td>&vellip;</td><td>&vellip;</td><td>&vellip;</td></tr></tbody></table></div>"
      ],
      "text/latex": [
       "\\begin{tabular}{r|ccc}\n",
       "\t& item\\_id & dept\\_id & cat\\_id\\\\\n",
       "\t\\hline\n",
       "\t& String & String & String\\\\\n",
       "\t\\hline\n",
       "\t1 & HOBBIES\\_1\\_001 & HOBBIES\\_1 & HOBBIES \\\\\n",
       "\t2 & HOBBIES\\_1\\_002 & HOBBIES\\_1 & HOBBIES \\\\\n",
       "\t3 & HOBBIES\\_1\\_003 & HOBBIES\\_1 & HOBBIES \\\\\n",
       "\t4 & HOBBIES\\_1\\_004 & HOBBIES\\_1 & HOBBIES \\\\\n",
       "\t5 & HOBBIES\\_1\\_005 & HOBBIES\\_1 & HOBBIES \\\\\n",
       "\t6 & HOBBIES\\_1\\_006 & HOBBIES\\_1 & HOBBIES \\\\\n",
       "\t7 & HOBBIES\\_1\\_007 & HOBBIES\\_1 & HOBBIES \\\\\n",
       "\t8 & HOBBIES\\_1\\_008 & HOBBIES\\_1 & HOBBIES \\\\\n",
       "\t9 & HOBBIES\\_1\\_009 & HOBBIES\\_1 & HOBBIES \\\\\n",
       "\t10 & HOBBIES\\_1\\_010 & HOBBIES\\_1 & HOBBIES \\\\\n",
       "\t$\\dots$ & $\\dots$ & $\\dots$ & $\\dots$ \\\\\n",
       "\\end{tabular}\n"
      ],
      "text/plain": [
       "\u001b[1m3049×3 DataFrame\u001b[0m\n",
       "\u001b[1m  Row \u001b[0m│\u001b[1m item_id       \u001b[0m\u001b[1m dept_id   \u001b[0m\u001b[1m cat_id  \u001b[0m\n",
       "\u001b[1m      \u001b[0m│\u001b[90m String        \u001b[0m\u001b[90m String    \u001b[0m\u001b[90m String  \u001b[0m\n",
       "──────┼───────────────────────────────────\n",
       "    1 │ HOBBIES_1_001  HOBBIES_1  HOBBIES\n",
       "  ⋮   │       ⋮            ⋮         ⋮\n",
       "\u001b[36m                         3048 rows omitted\u001b[0m"
      ]
     },
     "execution_count": 10,
     "metadata": {},
     "output_type": "execute_result"
    }
   ],
   "source": [
    "hier_product = select(raw_sales, [:item_id, :dept_id, :cat_id]) |> unique"
   ]
  },
  {
   "cell_type": "code",
   "execution_count": 11,
   "id": "728d93b3",
   "metadata": {
    "ExecuteTime": {
     "end_time": "2021-07-25T16:24:00.918000+02:00",
     "start_time": "2021-07-25T14:22:36.521Z"
    }
   },
   "outputs": [
    {
     "data": {
      "text/html": [
       "<div class=\"data-frame\"><p>10 rows × 2 columns</p><table class=\"data-frame\"><thead><tr><th></th><th>store_id</th><th>state_id</th></tr><tr><th></th><th title=\"String\">String</th><th title=\"String\">String</th></tr></thead><tbody><tr><th>1</th><td>CA_1</td><td>CA</td></tr><tr><th>2</th><td>CA_2</td><td>CA</td></tr><tr><th>3</th><td>CA_3</td><td>CA</td></tr><tr><th>4</th><td>CA_4</td><td>CA</td></tr><tr><th>5</th><td>TX_1</td><td>TX</td></tr><tr><th>6</th><td>TX_2</td><td>TX</td></tr><tr><th>7</th><td>TX_3</td><td>TX</td></tr><tr><th>8</th><td>WI_1</td><td>WI</td></tr><tr><th>9</th><td>WI_2</td><td>WI</td></tr><tr><th>10</th><td>WI_3</td><td>WI</td></tr></tbody></table></div>"
      ],
      "text/latex": [
       "\\begin{tabular}{r|cc}\n",
       "\t& store\\_id & state\\_id\\\\\n",
       "\t\\hline\n",
       "\t& String & String\\\\\n",
       "\t\\hline\n",
       "\t1 & CA\\_1 & CA \\\\\n",
       "\t2 & CA\\_2 & CA \\\\\n",
       "\t3 & CA\\_3 & CA \\\\\n",
       "\t4 & CA\\_4 & CA \\\\\n",
       "\t5 & TX\\_1 & TX \\\\\n",
       "\t6 & TX\\_2 & TX \\\\\n",
       "\t7 & TX\\_3 & TX \\\\\n",
       "\t8 & WI\\_1 & WI \\\\\n",
       "\t9 & WI\\_2 & WI \\\\\n",
       "\t10 & WI\\_3 & WI \\\\\n",
       "\\end{tabular}\n"
      ],
      "text/plain": [
       "\u001b[1m10×2 DataFrame\u001b[0m\n",
       "\u001b[1m Row \u001b[0m│\u001b[1m store_id \u001b[0m\u001b[1m state_id \u001b[0m\n",
       "\u001b[1m     \u001b[0m│\u001b[90m String   \u001b[0m\u001b[90m String   \u001b[0m\n",
       "─────┼────────────────────\n",
       "   1 │ CA_1      CA\n",
       "  ⋮  │    ⋮         ⋮\n",
       "\u001b[36m            9 rows omitted\u001b[0m"
      ]
     },
     "execution_count": 11,
     "metadata": {},
     "output_type": "execute_result"
    }
   ],
   "source": [
    "hier_location = select(raw_sales, [:store_id, :state_id]) |> unique"
   ]
  },
  {
   "cell_type": "markdown",
   "id": "9f70ad43",
   "metadata": {},
   "source": [
    "We need to reshape this from wide to long format, which is pretty easy:"
   ]
  },
  {
   "cell_type": "code",
   "execution_count": 12,
   "id": "390efb4d",
   "metadata": {
    "ExecuteTime": {
     "end_time": "2021-07-25T16:24:00.919000+02:00",
     "start_time": "2021-07-25T14:22:37.265Z"
    }
   },
   "outputs": [],
   "source": [
    "# unst_sales = stack(raw_sales, r\"d_\", [:item_id, :store_id], variable_name=:d, value_name=:sales)\n",
    "# sales = leftjoin(unst_sales, select(calendar, [:date, :d]), on=:d)\n",
    "# disallowmissing!(sales, :date)  # we know all dates must be available\n",
    "# select!(sales, Not(:d))"
   ]
  },
  {
   "cell_type": "markdown",
   "id": "d7db2ed9",
   "metadata": {},
   "source": [
    "Note that the following would do this in a single expression (we can omit the first arg, or use `_,` instead)"
   ]
  },
  {
   "cell_type": "code",
   "execution_count": 13,
   "id": "58d8c118",
   "metadata": {
    "ExecuteTime": {
     "end_time": "2021-07-25T16:24:34.230000+02:00",
     "start_time": "2021-07-25T14:22:37.771Z"
    }
   },
   "outputs": [
    {
     "data": {
      "text/html": [
       "<div class=\"data-frame\"><p>58,327,370 rows × 4 columns</p><table class=\"data-frame\"><thead><tr><th></th><th>item_id</th><th>store_id</th><th>sales</th><th>date</th></tr><tr><th></th><th title=\"String\">String</th><th title=\"String\">String</th><th title=\"Int64\">Int64</th><th title=\"Dates.Date\">Date…</th></tr></thead><tbody><tr><th>1</th><td>HOBBIES_1_001</td><td>CA_1</td><td>0</td><td>2011-01-29</td></tr><tr><th>2</th><td>HOBBIES_1_002</td><td>CA_1</td><td>0</td><td>2011-01-29</td></tr><tr><th>3</th><td>HOBBIES_1_003</td><td>CA_1</td><td>0</td><td>2011-01-29</td></tr><tr><th>4</th><td>HOBBIES_1_004</td><td>CA_1</td><td>0</td><td>2011-01-29</td></tr><tr><th>5</th><td>HOBBIES_1_005</td><td>CA_1</td><td>0</td><td>2011-01-29</td></tr><tr><th>6</th><td>HOBBIES_1_006</td><td>CA_1</td><td>0</td><td>2011-01-29</td></tr><tr><th>7</th><td>HOBBIES_1_007</td><td>CA_1</td><td>0</td><td>2011-01-29</td></tr><tr><th>8</th><td>HOBBIES_1_008</td><td>CA_1</td><td>12</td><td>2011-01-29</td></tr><tr><th>9</th><td>HOBBIES_1_009</td><td>CA_1</td><td>2</td><td>2011-01-29</td></tr><tr><th>10</th><td>HOBBIES_1_010</td><td>CA_1</td><td>0</td><td>2011-01-29</td></tr><tr><th>&vellip;</th><td>&vellip;</td><td>&vellip;</td><td>&vellip;</td><td>&vellip;</td></tr></tbody></table></div>"
      ],
      "text/latex": [
       "\\begin{tabular}{r|cccc}\n",
       "\t& item\\_id & store\\_id & sales & date\\\\\n",
       "\t\\hline\n",
       "\t& String & String & Int64 & Date…\\\\\n",
       "\t\\hline\n",
       "\t1 & HOBBIES\\_1\\_001 & CA\\_1 & 0 & 2011-01-29 \\\\\n",
       "\t2 & HOBBIES\\_1\\_002 & CA\\_1 & 0 & 2011-01-29 \\\\\n",
       "\t3 & HOBBIES\\_1\\_003 & CA\\_1 & 0 & 2011-01-29 \\\\\n",
       "\t4 & HOBBIES\\_1\\_004 & CA\\_1 & 0 & 2011-01-29 \\\\\n",
       "\t5 & HOBBIES\\_1\\_005 & CA\\_1 & 0 & 2011-01-29 \\\\\n",
       "\t6 & HOBBIES\\_1\\_006 & CA\\_1 & 0 & 2011-01-29 \\\\\n",
       "\t7 & HOBBIES\\_1\\_007 & CA\\_1 & 0 & 2011-01-29 \\\\\n",
       "\t8 & HOBBIES\\_1\\_008 & CA\\_1 & 12 & 2011-01-29 \\\\\n",
       "\t9 & HOBBIES\\_1\\_009 & CA\\_1 & 2 & 2011-01-29 \\\\\n",
       "\t10 & HOBBIES\\_1\\_010 & CA\\_1 & 0 & 2011-01-29 \\\\\n",
       "\t$\\dots$ & $\\dots$ & $\\dots$ & $\\dots$ & $\\dots$ \\\\\n",
       "\\end{tabular}\n"
      ],
      "text/plain": [
       "\u001b[1m58327370×4 DataFrame\u001b[0m\n",
       "\u001b[1m      Row \u001b[0m│\u001b[1m item_id       \u001b[0m\u001b[1m store_id \u001b[0m\u001b[1m sales \u001b[0m\u001b[1m date       \u001b[0m\n",
       "\u001b[1m          \u001b[0m│\u001b[90m String        \u001b[0m\u001b[90m String   \u001b[0m\u001b[90m Int64 \u001b[0m\u001b[90m Date…      \u001b[0m\n",
       "──────────┼────────────────────────────────────────────\n",
       "        1 │ HOBBIES_1_001  CA_1          0  2011-01-29\n",
       "    ⋮     │       ⋮           ⋮        ⋮        ⋮\n",
       "\u001b[36m                                  58327369 rows omitted\u001b[0m"
      ]
     },
     "execution_count": 13,
     "metadata": {},
     "output_type": "execute_result"
    }
   ],
   "source": [
    "sales = @chain raw_sales begin\n",
    "    stack(r\"d_\", [:item_id, :store_id], variable_name=:d, value_name=:sales)\n",
    "    leftjoin(select(cal_mapping, [:date, :d]), on=:d)\n",
    "    disallowmissing(:date)\n",
    "    select(Not(:d))\n",
    "end"
   ]
  },
  {
   "cell_type": "code",
   "execution_count": null,
   "id": "359f1c99",
   "metadata": {},
   "outputs": [],
   "source": []
  },
  {
   "cell_type": "markdown",
   "id": "a5a3418f",
   "metadata": {},
   "source": [
    "### Selling Prices"
   ]
  },
  {
   "cell_type": "code",
   "execution_count": 14,
   "id": "4d0a3796",
   "metadata": {
    "ExecuteTime": {
     "end_time": "2021-07-25T16:24:37.222000+02:00",
     "start_time": "2021-07-25T14:22:45.544Z"
    }
   },
   "outputs": [
    {
     "data": {
      "text/html": [
       "<div class=\"data-frame\"><p>6,841,121 rows × 4 columns</p><table class=\"data-frame\"><thead><tr><th></th><th>store_id</th><th>item_id</th><th>wm_yr_wk</th><th>sell_price</th></tr><tr><th></th><th title=\"String\">String</th><th title=\"String\">String</th><th title=\"Int64\">Int64</th><th title=\"Float64\">Float64</th></tr></thead><tbody><tr><th>1</th><td>CA_1</td><td>HOBBIES_1_001</td><td>11325</td><td>9.58</td></tr><tr><th>2</th><td>CA_1</td><td>HOBBIES_1_001</td><td>11326</td><td>9.58</td></tr><tr><th>3</th><td>CA_1</td><td>HOBBIES_1_001</td><td>11327</td><td>8.26</td></tr><tr><th>4</th><td>CA_1</td><td>HOBBIES_1_001</td><td>11328</td><td>8.26</td></tr><tr><th>5</th><td>CA_1</td><td>HOBBIES_1_001</td><td>11329</td><td>8.26</td></tr><tr><th>6</th><td>CA_1</td><td>HOBBIES_1_001</td><td>11330</td><td>8.26</td></tr><tr><th>7</th><td>CA_1</td><td>HOBBIES_1_001</td><td>11331</td><td>8.26</td></tr><tr><th>8</th><td>CA_1</td><td>HOBBIES_1_001</td><td>11332</td><td>8.26</td></tr><tr><th>9</th><td>CA_1</td><td>HOBBIES_1_001</td><td>11333</td><td>8.26</td></tr><tr><th>10</th><td>CA_1</td><td>HOBBIES_1_001</td><td>11334</td><td>8.26</td></tr><tr><th>&vellip;</th><td>&vellip;</td><td>&vellip;</td><td>&vellip;</td><td>&vellip;</td></tr></tbody></table></div>"
      ],
      "text/latex": [
       "\\begin{tabular}{r|cccc}\n",
       "\t& store\\_id & item\\_id & wm\\_yr\\_wk & sell\\_price\\\\\n",
       "\t\\hline\n",
       "\t& String & String & Int64 & Float64\\\\\n",
       "\t\\hline\n",
       "\t1 & CA\\_1 & HOBBIES\\_1\\_001 & 11325 & 9.58 \\\\\n",
       "\t2 & CA\\_1 & HOBBIES\\_1\\_001 & 11326 & 9.58 \\\\\n",
       "\t3 & CA\\_1 & HOBBIES\\_1\\_001 & 11327 & 8.26 \\\\\n",
       "\t4 & CA\\_1 & HOBBIES\\_1\\_001 & 11328 & 8.26 \\\\\n",
       "\t5 & CA\\_1 & HOBBIES\\_1\\_001 & 11329 & 8.26 \\\\\n",
       "\t6 & CA\\_1 & HOBBIES\\_1\\_001 & 11330 & 8.26 \\\\\n",
       "\t7 & CA\\_1 & HOBBIES\\_1\\_001 & 11331 & 8.26 \\\\\n",
       "\t8 & CA\\_1 & HOBBIES\\_1\\_001 & 11332 & 8.26 \\\\\n",
       "\t9 & CA\\_1 & HOBBIES\\_1\\_001 & 11333 & 8.26 \\\\\n",
       "\t10 & CA\\_1 & HOBBIES\\_1\\_001 & 11334 & 8.26 \\\\\n",
       "\t$\\dots$ & $\\dots$ & $\\dots$ & $\\dots$ & $\\dots$ \\\\\n",
       "\\end{tabular}\n"
      ],
      "text/plain": [
       "\u001b[1m6841121×4 DataFrame\u001b[0m\n",
       "\u001b[1m     Row \u001b[0m│\u001b[1m store_id \u001b[0m\u001b[1m item_id       \u001b[0m\u001b[1m wm_yr_wk \u001b[0m\u001b[1m sell_price \u001b[0m\n",
       "\u001b[1m         \u001b[0m│\u001b[90m String   \u001b[0m\u001b[90m String        \u001b[0m\u001b[90m Int64    \u001b[0m\u001b[90m Float64    \u001b[0m\n",
       "─────────┼───────────────────────────────────────────────\n",
       "       1 │ CA_1      HOBBIES_1_001     11325        9.58\n",
       "    ⋮    │    ⋮            ⋮           ⋮          ⋮\n",
       "\u001b[36m                                     6841120 rows omitted\u001b[0m"
      ]
     },
     "execution_count": 14,
     "metadata": {},
     "output_type": "execute_result"
    }
   ],
   "source": [
    "raw_sell_prices = CSV.read(path_data / \"sell_prices.csv\", DataFrame)"
   ]
  },
  {
   "cell_type": "code",
   "execution_count": 16,
   "id": "94caebfc",
   "metadata": {
    "ExecuteTime": {
     "end_time": "2021-07-25T16:25:14.486000+02:00",
     "start_time": "2021-07-25T14:25:05.562Z"
    }
   },
   "outputs": [
    {
     "data": {
      "text/html": [
       "<div class=\"data-frame\"><p>47,735,397 rows × 4 columns</p><table class=\"data-frame\"><thead><tr><th></th><th>store_id</th><th>item_id</th><th>sell_price</th><th>date</th></tr><tr><th></th><th title=\"String\">String</th><th title=\"String\">String</th><th title=\"Float64\">Float64</th><th title=\"Dates.Date\">Date…</th></tr></thead><tbody><tr><th>1</th><td>CA_1</td><td>HOBBIES_1_001</td><td>9.58</td><td>2013-07-13</td></tr><tr><th>2</th><td>CA_1</td><td>HOBBIES_1_001</td><td>9.58</td><td>2013-07-14</td></tr><tr><th>3</th><td>CA_1</td><td>HOBBIES_1_001</td><td>9.58</td><td>2013-07-15</td></tr><tr><th>4</th><td>CA_1</td><td>HOBBIES_1_001</td><td>9.58</td><td>2013-07-16</td></tr><tr><th>5</th><td>CA_1</td><td>HOBBIES_1_001</td><td>9.58</td><td>2013-07-17</td></tr><tr><th>6</th><td>CA_1</td><td>HOBBIES_1_001</td><td>9.58</td><td>2013-07-18</td></tr><tr><th>7</th><td>CA_1</td><td>HOBBIES_1_001</td><td>9.58</td><td>2013-07-19</td></tr><tr><th>8</th><td>CA_1</td><td>HOBBIES_1_001</td><td>9.58</td><td>2013-07-20</td></tr><tr><th>9</th><td>CA_1</td><td>HOBBIES_1_001</td><td>9.58</td><td>2013-07-21</td></tr><tr><th>10</th><td>CA_1</td><td>HOBBIES_1_001</td><td>9.58</td><td>2013-07-22</td></tr><tr><th>&vellip;</th><td>&vellip;</td><td>&vellip;</td><td>&vellip;</td><td>&vellip;</td></tr></tbody></table></div>"
      ],
      "text/latex": [
       "\\begin{tabular}{r|cccc}\n",
       "\t& store\\_id & item\\_id & sell\\_price & date\\\\\n",
       "\t\\hline\n",
       "\t& String & String & Float64 & Date…\\\\\n",
       "\t\\hline\n",
       "\t1 & CA\\_1 & HOBBIES\\_1\\_001 & 9.58 & 2013-07-13 \\\\\n",
       "\t2 & CA\\_1 & HOBBIES\\_1\\_001 & 9.58 & 2013-07-14 \\\\\n",
       "\t3 & CA\\_1 & HOBBIES\\_1\\_001 & 9.58 & 2013-07-15 \\\\\n",
       "\t4 & CA\\_1 & HOBBIES\\_1\\_001 & 9.58 & 2013-07-16 \\\\\n",
       "\t5 & CA\\_1 & HOBBIES\\_1\\_001 & 9.58 & 2013-07-17 \\\\\n",
       "\t6 & CA\\_1 & HOBBIES\\_1\\_001 & 9.58 & 2013-07-18 \\\\\n",
       "\t7 & CA\\_1 & HOBBIES\\_1\\_001 & 9.58 & 2013-07-19 \\\\\n",
       "\t8 & CA\\_1 & HOBBIES\\_1\\_001 & 9.58 & 2013-07-20 \\\\\n",
       "\t9 & CA\\_1 & HOBBIES\\_1\\_001 & 9.58 & 2013-07-21 \\\\\n",
       "\t10 & CA\\_1 & HOBBIES\\_1\\_001 & 9.58 & 2013-07-22 \\\\\n",
       "\t$\\dots$ & $\\dots$ & $\\dots$ & $\\dots$ & $\\dots$ \\\\\n",
       "\\end{tabular}\n"
      ],
      "text/plain": [
       "\u001b[1m47735397×4 DataFrame\u001b[0m\n",
       "\u001b[1m      Row \u001b[0m│\u001b[1m store_id \u001b[0m\u001b[1m item_id       \u001b[0m\u001b[1m sell_price \u001b[0m\u001b[1m date       \u001b[0m\n",
       "\u001b[1m          \u001b[0m│\u001b[90m String   \u001b[0m\u001b[90m String        \u001b[0m\u001b[90m Float64    \u001b[0m\u001b[90m Date…      \u001b[0m\n",
       "──────────┼─────────────────────────────────────────────────\n",
       "        1 │ CA_1      HOBBIES_1_001        9.58  2013-07-13\n",
       "    ⋮     │    ⋮            ⋮            ⋮           ⋮\n",
       "\u001b[36m                                       47735396 rows omitted\u001b[0m"
      ]
     },
     "execution_count": 16,
     "metadata": {},
     "output_type": "execute_result"
    }
   ],
   "source": [
    "sell_prices = @chain raw_sell_prices begin\n",
    "    leftjoin(select(cal_mapping, [:date, :wm_yr_wk]), on=:wm_yr_wk)  # 7x larger\n",
    "    disallowmissing(:date)\n",
    "    select(Not(:wm_yr_wk))\n",
    "end"
   ]
  },
  {
   "cell_type": "markdown",
   "id": "04c73006",
   "metadata": {},
   "source": [
    "## Bringing it together"
   ]
  },
  {
   "cell_type": "code",
   "execution_count": 15,
   "id": "466534cf",
   "metadata": {
    "ExecuteTime": {
     "end_time": "2021-07-24T22:44:26.757000+02:00",
     "start_time": "2021-07-24T20:43:15.589Z"
    }
   },
   "outputs": [],
   "source": [
    "# snap, cal_events, cal_info, cal_mapping, hier_product, hier_location, sales, sell_prices"
   ]
  },
  {
   "cell_type": "markdown",
   "id": "284c6dbc",
   "metadata": {},
   "source": [
    "**FIXME**: Change to Parquet or Arrow files."
   ]
  },
  {
   "cell_type": "code",
   "execution_count": 52,
   "id": "9284295c",
   "metadata": {
    "ExecuteTime": {
     "end_time": "2021-07-25T18:23:28.243000+02:00",
     "start_time": "2021-07-25T16:23:28.240Z"
    }
   },
   "outputs": [
    {
     "data": {
      "text/plain": [
       "\"done\""
      ]
     },
     "execution_count": 52,
     "metadata": {},
     "output_type": "execute_result"
    }
   ],
   "source": [
    "CSV.write(@xpath(snap), snap)\n",
    "CSV.write(@xpath(cal_events), cal_events)\n",
    "CSV.write(@xpath(cal_info), cal_info)\n",
    "CSV.write(@xpath(cal_mapping), cal_mapping)\n",
    "CSV.write(@xpath(hier_product), hier_product)\n",
    "CSV.write(@xpath(hier_location), hier_location)\n",
    "CSV.write(@xpath(sales), sales)\n",
    "CSV.write(@xpath(sell_prices), sell_prices)\n",
    "\"done\""
   ]
  },
  {
   "cell_type": "code",
   "execution_count": null,
   "id": "1ea21e8b",
   "metadata": {},
   "outputs": [],
   "source": []
  }
 ],
 "metadata": {
  "kernelspec": {
   "display_name": "julia4threads 1.6.2",
   "language": "julia",
   "name": "julia4threads-1.6"
  },
  "language_info": {
   "file_extension": ".jl",
   "mimetype": "application/julia",
   "name": "julia",
   "version": "1.6.2"
  },
  "latex_envs": {
   "LaTeX_envs_menu_present": true,
   "autoclose": false,
   "autocomplete": true,
   "bibliofile": "biblio.bib",
   "cite_by": "apalike",
   "current_citInitial": 1,
   "eqLabelWithNumbers": true,
   "eqNumInitial": 1,
   "hotkeys": {
    "equation": "Ctrl-E",
    "itemize": "Ctrl-I"
   },
   "labels_anchors": false,
   "latex_user_defs": false,
   "report_style_numbering": false,
   "user_envs_cfg": false
  },
  "toc": {
   "base_numbering": 1,
   "nav_menu": {},
   "number_sections": true,
   "sideBar": true,
   "skip_h1_title": false,
   "title_cell": "Table of Contents",
   "title_sidebar": "Contents",
   "toc_cell": false,
   "toc_position": {},
   "toc_section_display": true,
   "toc_window_display": true
  }
 },
 "nbformat": 4,
 "nbformat_minor": 5
}
