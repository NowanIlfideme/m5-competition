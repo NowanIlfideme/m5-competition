{
 "cells": [
  {
   "cell_type": "markdown",
   "metadata": {},
   "source": [
    "# Trying to change formats"
   ]
  },
  {
   "cell_type": "code",
   "execution_count": 1,
   "metadata": {
    "ExecuteTime": {
     "end_time": "2021-07-26T02:25:22.287000+03:00",
     "start_time": "2021-07-25T23:25:17.802Z"
    }
   },
   "outputs": [],
   "source": [
    "using DataFrames\n",
    "import CSV\n",
    "import Feather\n",
    "import Arrow\n",
    "import Parquet\n",
    "import Tables\n",
    "using Chain\n",
    "using CategoricalArrays\n",
    "using FilePaths\n",
    "using FilePathsBase: /\n",
    "using Random\n",
    "using StatsBase"
   ]
  },
  {
   "cell_type": "code",
   "execution_count": 2,
   "metadata": {
    "ExecuteTime": {
     "end_time": "2021-07-26T02:25:23.220000+03:00",
     "start_time": "2021-07-25T23:25:17.803Z"
    }
   },
   "outputs": [
    {
     "data": {
      "text/plain": [
       "MersenneTwister(42)"
      ]
     },
     "execution_count": 2,
     "metadata": {},
     "output_type": "execute_result"
    }
   ],
   "source": [
    "ENV[\"LINES\"] = 10\n",
    "ENV[\"COLUMNS\"] = 1000;\n",
    "Random.seed!(42)"
   ]
  },
  {
   "cell_type": "code",
   "execution_count": 3,
   "metadata": {
    "ExecuteTime": {
     "end_time": "2021-07-26T02:25:23.866000+03:00",
     "start_time": "2021-07-25T23:25:17.804Z"
    }
   },
   "outputs": [],
   "source": [
    "path_data = parent(parent(cwd())) / \"data\"\n",
    "path_clean = path_data / \"clean\";"
   ]
  },
  {
   "cell_type": "markdown",
   "metadata": {},
   "source": [
    "NOTE: Feather arrays are memory mapped, so the thing isn't all loaded."
   ]
  },
  {
   "cell_type": "code",
   "execution_count": 4,
   "metadata": {
    "ExecuteTime": {
     "end_time": "2021-07-26T02:25:29.698000+03:00",
     "start_time": "2021-07-25T23:25:17.806Z"
    },
    "scrolled": true
   },
   "outputs": [
    {
     "data": {
      "text/html": [
       "<div class=\"data-frame\"><p>46,027,957 rows × 16 columns</p><table class=\"data-frame\"><thead><tr><th></th><th>item_id</th><th>store_id</th><th>sales</th><th>date</th><th>sell_price</th><th>dept_id</th><th>cat_id</th><th>state_id</th><th>snap</th><th>event_name_1</th><th>event_type_1</th><th>event_name_2</th><th>event_type_2</th><th>year</th><th>month</th><th>weekday</th></tr><tr><th></th><th title=\"String\">String</th><th title=\"String\">String</th><th title=\"Int64\">Int64</th><th title=\"Feather.Arrow.Datestamp\">Datesta…</th><th title=\"Float64\">Float64</th><th title=\"String\">String</th><th title=\"String\">String</th><th title=\"String\">String</th><th title=\"Int64\">Int64</th><th title=\"String\">String</th><th title=\"String\">String</th><th title=\"String\">String</th><th title=\"String\">String</th><th title=\"Int64\">Int64</th><th title=\"Int64\">Int64</th><th title=\"String\">String</th></tr></thead><tbody><tr><th>1</th><td>HOBBIES_1_008</td><td>CA_1</td><td>12</td><td>Date(&quot;2011-01-29&quot;)</td><td>0.46</td><td>HOBBIES_1</td><td>HOBBIES</td><td>CA</td><td>0</td><td>(No Event)</td><td>(No Event)</td><td>(No Event)</td><td>(No Event)</td><td>2011</td><td>1</td><td>Saturday</td></tr><tr><th>2</th><td>HOBBIES_1_009</td><td>CA_1</td><td>2</td><td>Date(&quot;2011-01-29&quot;)</td><td>1.56</td><td>HOBBIES_1</td><td>HOBBIES</td><td>CA</td><td>0</td><td>(No Event)</td><td>(No Event)</td><td>(No Event)</td><td>(No Event)</td><td>2011</td><td>1</td><td>Saturday</td></tr><tr><th>3</th><td>HOBBIES_1_010</td><td>CA_1</td><td>0</td><td>Date(&quot;2011-01-29&quot;)</td><td>3.17</td><td>HOBBIES_1</td><td>HOBBIES</td><td>CA</td><td>0</td><td>(No Event)</td><td>(No Event)</td><td>(No Event)</td><td>(No Event)</td><td>2011</td><td>1</td><td>Saturday</td></tr><tr><th>4</th><td>HOBBIES_1_012</td><td>CA_1</td><td>0</td><td>Date(&quot;2011-01-29&quot;)</td><td>5.98</td><td>HOBBIES_1</td><td>HOBBIES</td><td>CA</td><td>0</td><td>(No Event)</td><td>(No Event)</td><td>(No Event)</td><td>(No Event)</td><td>2011</td><td>1</td><td>Saturday</td></tr><tr><th>5</th><td>HOBBIES_1_015</td><td>CA_1</td><td>4</td><td>Date(&quot;2011-01-29&quot;)</td><td>0.7</td><td>HOBBIES_1</td><td>HOBBIES</td><td>CA</td><td>0</td><td>(No Event)</td><td>(No Event)</td><td>(No Event)</td><td>(No Event)</td><td>2011</td><td>1</td><td>Saturday</td></tr><tr><th>6</th><td>HOBBIES_1_016</td><td>CA_1</td><td>5</td><td>Date(&quot;2011-01-29&quot;)</td><td>0.7</td><td>HOBBIES_1</td><td>HOBBIES</td><td>CA</td><td>0</td><td>(No Event)</td><td>(No Event)</td><td>(No Event)</td><td>(No Event)</td><td>2011</td><td>1</td><td>Saturday</td></tr><tr><th>7</th><td>HOBBIES_1_022</td><td>CA_1</td><td>2</td><td>Date(&quot;2011-01-29&quot;)</td><td>6.86</td><td>HOBBIES_1</td><td>HOBBIES</td><td>CA</td><td>0</td><td>(No Event)</td><td>(No Event)</td><td>(No Event)</td><td>(No Event)</td><td>2011</td><td>1</td><td>Saturday</td></tr><tr><th>8</th><td>HOBBIES_1_023</td><td>CA_1</td><td>2</td><td>Date(&quot;2011-01-29&quot;)</td><td>3.44</td><td>HOBBIES_1</td><td>HOBBIES</td><td>CA</td><td>0</td><td>(No Event)</td><td>(No Event)</td><td>(No Event)</td><td>(No Event)</td><td>2011</td><td>1</td><td>Saturday</td></tr><tr><th>9</th><td>HOBBIES_1_028</td><td>CA_1</td><td>0</td><td>Date(&quot;2011-01-29&quot;)</td><td>6.67</td><td>HOBBIES_1</td><td>HOBBIES</td><td>CA</td><td>0</td><td>(No Event)</td><td>(No Event)</td><td>(No Event)</td><td>(No Event)</td><td>2011</td><td>1</td><td>Saturday</td></tr><tr><th>10</th><td>HOBBIES_1_029</td><td>CA_1</td><td>2</td><td>Date(&quot;2011-01-29&quot;)</td><td>7.44</td><td>HOBBIES_1</td><td>HOBBIES</td><td>CA</td><td>0</td><td>(No Event)</td><td>(No Event)</td><td>(No Event)</td><td>(No Event)</td><td>2011</td><td>1</td><td>Saturday</td></tr><tr><th>&vellip;</th><td>&vellip;</td><td>&vellip;</td><td>&vellip;</td><td>&vellip;</td><td>&vellip;</td><td>&vellip;</td><td>&vellip;</td><td>&vellip;</td><td>&vellip;</td><td>&vellip;</td><td>&vellip;</td><td>&vellip;</td><td>&vellip;</td><td>&vellip;</td><td>&vellip;</td><td>&vellip;</td></tr></tbody></table></div>"
      ],
      "text/latex": [
       "\\begin{tabular}{r|cccccccccccccccc}\n",
       "\t& item\\_id & store\\_id & sales & date & sell\\_price & dept\\_id & cat\\_id & state\\_id & snap & event\\_name\\_1 & event\\_type\\_1 & event\\_name\\_2 & event\\_type\\_2 & year & month & weekday\\\\\n",
       "\t\\hline\n",
       "\t& String & String & Int64 & Datesta… & Float64 & String & String & String & Int64 & String & String & String & String & Int64 & Int64 & String\\\\\n",
       "\t\\hline\n",
       "\t1 & HOBBIES\\_1\\_008 & CA\\_1 & 12 & Date(\"2011-01-29\") & 0.46 & HOBBIES\\_1 & HOBBIES & CA & 0 & (No Event) & (No Event) & (No Event) & (No Event) & 2011 & 1 & Saturday \\\\\n",
       "\t2 & HOBBIES\\_1\\_009 & CA\\_1 & 2 & Date(\"2011-01-29\") & 1.56 & HOBBIES\\_1 & HOBBIES & CA & 0 & (No Event) & (No Event) & (No Event) & (No Event) & 2011 & 1 & Saturday \\\\\n",
       "\t3 & HOBBIES\\_1\\_010 & CA\\_1 & 0 & Date(\"2011-01-29\") & 3.17 & HOBBIES\\_1 & HOBBIES & CA & 0 & (No Event) & (No Event) & (No Event) & (No Event) & 2011 & 1 & Saturday \\\\\n",
       "\t4 & HOBBIES\\_1\\_012 & CA\\_1 & 0 & Date(\"2011-01-29\") & 5.98 & HOBBIES\\_1 & HOBBIES & CA & 0 & (No Event) & (No Event) & (No Event) & (No Event) & 2011 & 1 & Saturday \\\\\n",
       "\t5 & HOBBIES\\_1\\_015 & CA\\_1 & 4 & Date(\"2011-01-29\") & 0.7 & HOBBIES\\_1 & HOBBIES & CA & 0 & (No Event) & (No Event) & (No Event) & (No Event) & 2011 & 1 & Saturday \\\\\n",
       "\t6 & HOBBIES\\_1\\_016 & CA\\_1 & 5 & Date(\"2011-01-29\") & 0.7 & HOBBIES\\_1 & HOBBIES & CA & 0 & (No Event) & (No Event) & (No Event) & (No Event) & 2011 & 1 & Saturday \\\\\n",
       "\t7 & HOBBIES\\_1\\_022 & CA\\_1 & 2 & Date(\"2011-01-29\") & 6.86 & HOBBIES\\_1 & HOBBIES & CA & 0 & (No Event) & (No Event) & (No Event) & (No Event) & 2011 & 1 & Saturday \\\\\n",
       "\t8 & HOBBIES\\_1\\_023 & CA\\_1 & 2 & Date(\"2011-01-29\") & 3.44 & HOBBIES\\_1 & HOBBIES & CA & 0 & (No Event) & (No Event) & (No Event) & (No Event) & 2011 & 1 & Saturday \\\\\n",
       "\t9 & HOBBIES\\_1\\_028 & CA\\_1 & 0 & Date(\"2011-01-29\") & 6.67 & HOBBIES\\_1 & HOBBIES & CA & 0 & (No Event) & (No Event) & (No Event) & (No Event) & 2011 & 1 & Saturday \\\\\n",
       "\t10 & HOBBIES\\_1\\_029 & CA\\_1 & 2 & Date(\"2011-01-29\") & 7.44 & HOBBIES\\_1 & HOBBIES & CA & 0 & (No Event) & (No Event) & (No Event) & (No Event) & 2011 & 1 & Saturday \\\\\n",
       "\t$\\dots$ & $\\dots$ & $\\dots$ & $\\dots$ & $\\dots$ & $\\dots$ & $\\dots$ & $\\dots$ & $\\dots$ & $\\dots$ & $\\dots$ & $\\dots$ & $\\dots$ & $\\dots$ & $\\dots$ & $\\dots$ & $\\dots$ \\\\\n",
       "\\end{tabular}\n"
      ],
      "text/plain": [
       "\u001b[1m46027957×16 DataFrame\u001b[0m\n",
       "\u001b[1m      Row \u001b[0m│\u001b[1m item_id       \u001b[0m\u001b[1m store_id \u001b[0m\u001b[1m sales \u001b[0m\u001b[1m date               \u001b[0m\u001b[1m sell_price \u001b[0m\u001b[1m dept_id   \u001b[0m\u001b[1m cat_id  \u001b[0m\u001b[1m state_id \u001b[0m\u001b[1m snap  \u001b[0m\u001b[1m event_name_1 \u001b[0m\u001b[1m event_type_1 \u001b[0m\u001b[1m event_name_2 \u001b[0m\u001b[1m event_type_2 \u001b[0m\u001b[1m year  \u001b[0m\u001b[1m month \u001b[0m\u001b[1m weekday  \u001b[0m\n",
       "\u001b[1m          \u001b[0m│\u001b[90m String        \u001b[0m\u001b[90m String   \u001b[0m\u001b[90m Int64 \u001b[0m\u001b[90m Datestam…          \u001b[0m\u001b[90m Float64    \u001b[0m\u001b[90m String    \u001b[0m\u001b[90m String  \u001b[0m\u001b[90m String   \u001b[0m\u001b[90m Int64 \u001b[0m\u001b[90m String       \u001b[0m\u001b[90m String       \u001b[0m\u001b[90m String       \u001b[0m\u001b[90m String       \u001b[0m\u001b[90m Int64 \u001b[0m\u001b[90m Int64 \u001b[0m\u001b[90m String   \u001b[0m\n",
       "──────────┼─────────────────────────────────────────────────────────────────────────────────────────────────────────────────────────────────────────────────────────────────────────────────────\n",
       "        1 │ HOBBIES_1_008  CA_1         12  Date(\"2011-01-29\")        0.46  HOBBIES_1  HOBBIES  CA            0  (No Event)    (No Event)    (No Event)    (No Event)     2011      1  Saturday\n",
       "    ⋮     │       ⋮           ⋮        ⋮            ⋮               ⋮           ⋮         ⋮        ⋮        ⋮         ⋮             ⋮             ⋮             ⋮          ⋮      ⋮       ⋮\n",
       "\u001b[36m                                                                                                                                                                           46027956 rows omitted\u001b[0m"
      ]
     },
     "execution_count": 4,
     "metadata": {},
     "output_type": "execute_result"
    }
   ],
   "source": [
    "ds_memmap = Feather.read(string(path_clean / \"dataset.feather\"))"
   ]
  },
  {
   "cell_type": "code",
   "execution_count": 5,
   "metadata": {
    "ExecuteTime": {
     "end_time": "2021-07-26T02:25:29.915000+03:00",
     "start_time": "2021-07-25T23:25:17.807Z"
    }
   },
   "outputs": [
    {
     "data": {
      "text/plain": [
       "\"/home/anatoly/repos/m5-competition/data/clean/dataset.arrow\""
      ]
     },
     "execution_count": 5,
     "metadata": {},
     "output_type": "execute_result"
    }
   ],
   "source": [
    "path_out = string(path_clean / \"dataset.arrow\")"
   ]
  },
  {
   "cell_type": "markdown",
   "metadata": {},
   "source": [
    "Trying Parquet.jl"
   ]
  },
  {
   "cell_type": "code",
   "execution_count": 6,
   "metadata": {
    "ExecuteTime": {
     "end_time": "2021-07-26T02:25:30.652000+03:00",
     "start_time": "2021-07-25T23:25:17.808Z"
    }
   },
   "outputs": [
    {
     "ename": "LoadError",
     "evalue": "UndefVarError: write_parquet not defined",
     "output_type": "error",
     "traceback": [
      "UndefVarError: write_parquet not defined",
      "",
      "Stacktrace:",
      " [1] getproperty(x::Module, f::Symbol)",
      "   @ Base ./Base.jl:26",
      " [2] top-level scope",
      "   @ In[6]:1",
      " [3] eval",
      "   @ ./boot.jl:360 [inlined]",
      " [4] include_string(mapexpr::typeof(REPL.softscope), mod::Module, code::String, filename::String)",
      "   @ Base ./loading.jl:1116"
     ]
    }
   ],
   "source": [
    "Parquet.write_parquet"
   ]
  },
  {
   "cell_type": "markdown",
   "metadata": {},
   "source": [
    "Tring Arrow.jl"
   ]
  },
  {
   "cell_type": "code",
   "execution_count": 7,
   "metadata": {
    "ExecuteTime": {
     "end_time": "2021-07-26T02:25:31.194000+03:00",
     "start_time": "2021-07-25T23:25:17.809Z"
    }
   },
   "outputs": [
    {
     "data": {
      "text/plain": [
       "write (generic function with 101 methods)"
      ]
     },
     "execution_count": 7,
     "metadata": {},
     "output_type": "execute_result"
    }
   ],
   "source": [
    "Arrow.write"
   ]
  },
  {
   "cell_type": "code",
   "execution_count": 8,
   "metadata": {
    "ExecuteTime": {
     "end_time": "2021-07-26T02:25:31.810000+03:00",
     "start_time": "2021-07-25T23:25:17.810Z"
    }
   },
   "outputs": [
    {
     "ename": "LoadError",
     "evalue": "MethodError: no method matching write(::IOStream, ::DataFrame)\n\u001b[0mClosest candidates are:\n\u001b[0m  write(::IO, ::Any) at io.jl:635\n\u001b[0m  write(::IO, ::Any, \u001b[91m::Any...\u001b[39m) at io.jl:636\n\u001b[0m  write(\u001b[91m::AbstractPath\u001b[39m, ::Any) at /home/anatoly/.julia/packages/FilePathsBase/YFK4h/src/path.jl:758\n\u001b[0m  ...",
     "output_type": "error",
     "traceback": [
      "MethodError: no method matching write(::IOStream, ::DataFrame)\n\u001b[0mClosest candidates are:\n\u001b[0m  write(::IO, ::Any) at io.jl:635\n\u001b[0m  write(::IO, ::Any, \u001b[91m::Any...\u001b[39m) at io.jl:636\n\u001b[0m  write(\u001b[91m::AbstractPath\u001b[39m, ::Any) at /home/anatoly/.julia/packages/FilePathsBase/YFK4h/src/path.jl:758\n\u001b[0m  ...",
      "",
      "Stacktrace:",
      " [1] write(io::IOStream, x::DataFrame)",
      "   @ Base ./io.jl:635",
      " [2] (::Base.var\"#322#323\"{DataFrame, Tuple{}})(io::IOStream)",
      "   @ Base ./io.jl:420",
      " [3] open(::Base.var\"#322#323\"{DataFrame, Tuple{}}, ::String, ::Vararg{String, N} where N; kwargs::Base.Iterators.Pairs{Union{}, Union{}, Tuple{}, NamedTuple{(), Tuple{}}})",
      "   @ Base ./io.jl:330",
      " [4] open(::Function, ::String, ::String)",
      "   @ Base ./io.jl:328",
      " [5] write(::String, ::DataFrame)",
      "   @ Base ./io.jl:420",
      " [6] top-level scope",
      "   @ In[8]:1",
      " [7] eval",
      "   @ ./boot.jl:360 [inlined]",
      " [8] include_string(mapexpr::typeof(REPL.softscope), mod::Module, code::String, filename::String)",
      "   @ Base ./loading.jl:1116"
     ]
    }
   ],
   "source": [
    "Arrow.write(path_out, ds_memmap)"
   ]
  },
  {
   "cell_type": "code",
   "execution_count": null,
   "metadata": {},
   "outputs": [],
   "source": []
  },
  {
   "cell_type": "markdown",
   "metadata": {},
   "source": [
    "## Other analysis"
   ]
  },
  {
   "cell_type": "code",
   "execution_count": 9,
   "metadata": {
    "ExecuteTime": {
     "end_time": "2021-07-26T02:25:31.970000+03:00",
     "start_time": "2021-07-25T23:25:17.811Z"
    }
   },
   "outputs": [
    {
     "data": {
      "text/plain": [
       "46027957"
      ]
     },
     "execution_count": 9,
     "metadata": {},
     "output_type": "execute_result"
    }
   ],
   "source": [
    "len = size(ds_memmap, 1)"
   ]
  },
  {
   "cell_type": "code",
   "execution_count": 10,
   "metadata": {
    "ExecuteTime": {
     "end_time": "2021-07-26T02:25:31.971000+03:00",
     "start_time": "2021-07-25T23:25:17.812Z"
    }
   },
   "outputs": [
    {
     "data": {
      "text/plain": [
       "100000"
      ]
     },
     "execution_count": 10,
     "metadata": {},
     "output_type": "execute_result"
    }
   ],
   "source": [
    "N = 100_000"
   ]
  },
  {
   "cell_type": "code",
   "execution_count": 11,
   "metadata": {
    "ExecuteTime": {
     "end_time": "2021-07-26T02:25:33.203000+03:00",
     "start_time": "2021-07-25T23:25:17.814Z"
    }
   },
   "outputs": [
    {
     "data": {
      "text/html": [
       "<div class=\"data-frame\"><p>100,000 rows × 16 columns</p><table class=\"data-frame\"><thead><tr><th></th><th>item_id</th><th>store_id</th><th>sales</th><th>date</th><th>sell_price</th><th>dept_id</th><th>cat_id</th><th>state_id</th><th>snap</th><th>event_name_1</th><th>event_type_1</th><th>event_name_2</th><th>event_type_2</th><th>year</th><th>month</th><th>weekday</th></tr><tr><th></th><th title=\"String\">String</th><th title=\"String\">String</th><th title=\"Int64\">Int64</th><th title=\"Feather.Arrow.Datestamp\">Datesta…</th><th title=\"Float64\">Float64</th><th title=\"String\">String</th><th title=\"String\">String</th><th title=\"String\">String</th><th title=\"Int64\">Int64</th><th title=\"String\">String</th><th title=\"String\">String</th><th title=\"String\">String</th><th title=\"String\">String</th><th title=\"Int64\">Int64</th><th title=\"Int64\">Int64</th><th title=\"String\">String</th></tr></thead><tbody><tr><th>1</th><td>FOODS_1_009</td><td>WI_1</td><td>0</td><td>Date(&quot;2015-03-22&quot;)</td><td>2.24</td><td>FOODS_1</td><td>FOODS</td><td>WI</td><td>0</td><td>(No Event)</td><td>(No Event)</td><td>(No Event)</td><td>(No Event)</td><td>2015</td><td>3</td><td>Sunday</td></tr><tr><th>2</th><td>HOUSEHOLD_1_166</td><td>CA_4</td><td>0</td><td>Date(&quot;2012-12-06&quot;)</td><td>4.97</td><td>HOUSEHOLD_1</td><td>HOUSEHOLD</td><td>CA</td><td>1</td><td>(No Event)</td><td>(No Event)</td><td>(No Event)</td><td>(No Event)</td><td>2012</td><td>12</td><td>Thursday</td></tr><tr><th>3</th><td>HOUSEHOLD_2_039</td><td>TX_2</td><td>0</td><td>Date(&quot;2014-09-18&quot;)</td><td>9.27</td><td>HOUSEHOLD_2</td><td>HOUSEHOLD</td><td>TX</td><td>0</td><td>(No Event)</td><td>(No Event)</td><td>(No Event)</td><td>(No Event)</td><td>2014</td><td>9</td><td>Thursday</td></tr><tr><th>4</th><td>HOUSEHOLD_1_233</td><td>WI_2</td><td>0</td><td>Date(&quot;2012-08-07&quot;)</td><td>11.97</td><td>HOUSEHOLD_1</td><td>HOUSEHOLD</td><td>WI</td><td>0</td><td>(No Event)</td><td>(No Event)</td><td>(No Event)</td><td>(No Event)</td><td>2012</td><td>8</td><td>Tuesday</td></tr><tr><th>5</th><td>HOUSEHOLD_1_112</td><td>WI_3</td><td>0</td><td>Date(&quot;2013-03-15&quot;)</td><td>2.97</td><td>HOUSEHOLD_1</td><td>HOUSEHOLD</td><td>WI</td><td>1</td><td>(No Event)</td><td>(No Event)</td><td>(No Event)</td><td>(No Event)</td><td>2013</td><td>3</td><td>Friday</td></tr><tr><th>6</th><td>FOODS_3_004</td><td>TX_1</td><td>1</td><td>Date(&quot;2015-10-11&quot;)</td><td>5.98</td><td>FOODS_3</td><td>FOODS</td><td>TX</td><td>1</td><td>(No Event)</td><td>(No Event)</td><td>(No Event)</td><td>(No Event)</td><td>2015</td><td>10</td><td>Sunday</td></tr><tr><th>7</th><td>FOODS_1_083</td><td>CA_4</td><td>2</td><td>Date(&quot;2011-02-19&quot;)</td><td>1.97</td><td>FOODS_1</td><td>FOODS</td><td>CA</td><td>0</td><td>(No Event)</td><td>(No Event)</td><td>(No Event)</td><td>(No Event)</td><td>2011</td><td>2</td><td>Saturday</td></tr><tr><th>8</th><td>FOODS_3_397</td><td>CA_2</td><td>0</td><td>Date(&quot;2015-07-14&quot;)</td><td>1.98</td><td>FOODS_3</td><td>FOODS</td><td>CA</td><td>0</td><td>(No Event)</td><td>(No Event)</td><td>(No Event)</td><td>(No Event)</td><td>2015</td><td>7</td><td>Tuesday</td></tr><tr><th>9</th><td>FOODS_2_070</td><td>CA_3</td><td>0</td><td>Date(&quot;2016-03-09&quot;)</td><td>4.98</td><td>FOODS_2</td><td>FOODS</td><td>CA</td><td>1</td><td>(No Event)</td><td>(No Event)</td><td>(No Event)</td><td>(No Event)</td><td>2016</td><td>3</td><td>Wednesday</td></tr><tr><th>10</th><td>HOBBIES_1_127</td><td>WI_1</td><td>0</td><td>Date(&quot;2012-10-13&quot;)</td><td>1.0</td><td>HOBBIES_1</td><td>HOBBIES</td><td>WI</td><td>0</td><td>(No Event)</td><td>(No Event)</td><td>(No Event)</td><td>(No Event)</td><td>2012</td><td>10</td><td>Saturday</td></tr><tr><th>&vellip;</th><td>&vellip;</td><td>&vellip;</td><td>&vellip;</td><td>&vellip;</td><td>&vellip;</td><td>&vellip;</td><td>&vellip;</td><td>&vellip;</td><td>&vellip;</td><td>&vellip;</td><td>&vellip;</td><td>&vellip;</td><td>&vellip;</td><td>&vellip;</td><td>&vellip;</td><td>&vellip;</td></tr></tbody></table></div>"
      ],
      "text/latex": [
       "\\begin{tabular}{r|cccccccccccccccc}\n",
       "\t& item\\_id & store\\_id & sales & date & sell\\_price & dept\\_id & cat\\_id & state\\_id & snap & event\\_name\\_1 & event\\_type\\_1 & event\\_name\\_2 & event\\_type\\_2 & year & month & weekday\\\\\n",
       "\t\\hline\n",
       "\t& String & String & Int64 & Datesta… & Float64 & String & String & String & Int64 & String & String & String & String & Int64 & Int64 & String\\\\\n",
       "\t\\hline\n",
       "\t1 & FOODS\\_1\\_009 & WI\\_1 & 0 & Date(\"2015-03-22\") & 2.24 & FOODS\\_1 & FOODS & WI & 0 & (No Event) & (No Event) & (No Event) & (No Event) & 2015 & 3 & Sunday \\\\\n",
       "\t2 & HOUSEHOLD\\_1\\_166 & CA\\_4 & 0 & Date(\"2012-12-06\") & 4.97 & HOUSEHOLD\\_1 & HOUSEHOLD & CA & 1 & (No Event) & (No Event) & (No Event) & (No Event) & 2012 & 12 & Thursday \\\\\n",
       "\t3 & HOUSEHOLD\\_2\\_039 & TX\\_2 & 0 & Date(\"2014-09-18\") & 9.27 & HOUSEHOLD\\_2 & HOUSEHOLD & TX & 0 & (No Event) & (No Event) & (No Event) & (No Event) & 2014 & 9 & Thursday \\\\\n",
       "\t4 & HOUSEHOLD\\_1\\_233 & WI\\_2 & 0 & Date(\"2012-08-07\") & 11.97 & HOUSEHOLD\\_1 & HOUSEHOLD & WI & 0 & (No Event) & (No Event) & (No Event) & (No Event) & 2012 & 8 & Tuesday \\\\\n",
       "\t5 & HOUSEHOLD\\_1\\_112 & WI\\_3 & 0 & Date(\"2013-03-15\") & 2.97 & HOUSEHOLD\\_1 & HOUSEHOLD & WI & 1 & (No Event) & (No Event) & (No Event) & (No Event) & 2013 & 3 & Friday \\\\\n",
       "\t6 & FOODS\\_3\\_004 & TX\\_1 & 1 & Date(\"2015-10-11\") & 5.98 & FOODS\\_3 & FOODS & TX & 1 & (No Event) & (No Event) & (No Event) & (No Event) & 2015 & 10 & Sunday \\\\\n",
       "\t7 & FOODS\\_1\\_083 & CA\\_4 & 2 & Date(\"2011-02-19\") & 1.97 & FOODS\\_1 & FOODS & CA & 0 & (No Event) & (No Event) & (No Event) & (No Event) & 2011 & 2 & Saturday \\\\\n",
       "\t8 & FOODS\\_3\\_397 & CA\\_2 & 0 & Date(\"2015-07-14\") & 1.98 & FOODS\\_3 & FOODS & CA & 0 & (No Event) & (No Event) & (No Event) & (No Event) & 2015 & 7 & Tuesday \\\\\n",
       "\t9 & FOODS\\_2\\_070 & CA\\_3 & 0 & Date(\"2016-03-09\") & 4.98 & FOODS\\_2 & FOODS & CA & 1 & (No Event) & (No Event) & (No Event) & (No Event) & 2016 & 3 & Wednesday \\\\\n",
       "\t10 & HOBBIES\\_1\\_127 & WI\\_1 & 0 & Date(\"2012-10-13\") & 1.0 & HOBBIES\\_1 & HOBBIES & WI & 0 & (No Event) & (No Event) & (No Event) & (No Event) & 2012 & 10 & Saturday \\\\\n",
       "\t$\\dots$ & $\\dots$ & $\\dots$ & $\\dots$ & $\\dots$ & $\\dots$ & $\\dots$ & $\\dots$ & $\\dots$ & $\\dots$ & $\\dots$ & $\\dots$ & $\\dots$ & $\\dots$ & $\\dots$ & $\\dots$ & $\\dots$ \\\\\n",
       "\\end{tabular}\n"
      ],
      "text/plain": [
       "\u001b[1m100000×16 SubDataFrame\u001b[0m\n",
       "\u001b[1m    Row \u001b[0m│\u001b[1m item_id         \u001b[0m\u001b[1m store_id \u001b[0m\u001b[1m sales \u001b[0m\u001b[1m date               \u001b[0m\u001b[1m sell_price \u001b[0m\u001b[1m dept_id     \u001b[0m\u001b[1m cat_id    \u001b[0m\u001b[1m state_id \u001b[0m\u001b[1m snap  \u001b[0m\u001b[1m event_name_1 \u001b[0m\u001b[1m event_type_1 \u001b[0m\u001b[1m event_name_2 \u001b[0m\u001b[1m event_type_2 \u001b[0m\u001b[1m year  \u001b[0m\u001b[1m month \u001b[0m\u001b[1m weekday   \u001b[0m\n",
       "\u001b[1m        \u001b[0m│\u001b[90m String          \u001b[0m\u001b[90m String   \u001b[0m\u001b[90m Int64 \u001b[0m\u001b[90m Datestam…          \u001b[0m\u001b[90m Float64    \u001b[0m\u001b[90m String      \u001b[0m\u001b[90m String    \u001b[0m\u001b[90m String   \u001b[0m\u001b[90m Int64 \u001b[0m\u001b[90m String       \u001b[0m\u001b[90m String       \u001b[0m\u001b[90m String       \u001b[0m\u001b[90m String       \u001b[0m\u001b[90m Int64 \u001b[0m\u001b[90m Int64 \u001b[0m\u001b[90m String    \u001b[0m\n",
       "────────┼────────────────────────────────────────────────────────────────────────────────────────────────────────────────────────────────────────────────────────────────────────────────────────────\n",
       "      1 │ FOODS_1_009      WI_1          0  Date(\"2015-03-22\")        2.24  FOODS_1      FOODS      WI            0  (No Event)    (No Event)    (No Event)    (No Event)     2015      3  Sunday\n",
       "   ⋮    │        ⋮            ⋮        ⋮            ⋮               ⋮            ⋮           ⋮         ⋮        ⋮         ⋮             ⋮             ⋮             ⋮          ⋮      ⋮        ⋮\n",
       "\u001b[36m                                                                                                                                                                                   99999 rows omitted\u001b[0m"
      ]
     },
     "execution_count": 11,
     "metadata": {},
     "output_type": "execute_result"
    }
   ],
   "source": [
    "ds = view(ds_memmap, sample(1:len, N; replace = false), :)"
   ]
  },
  {
   "cell_type": "code",
   "execution_count": null,
   "metadata": {},
   "outputs": [],
   "source": []
  },
  {
   "cell_type": "code",
   "execution_count": null,
   "metadata": {},
   "outputs": [],
   "source": []
  }
 ],
 "metadata": {
  "kernelspec": {
   "display_name": "anatoly-julia-4t 1.6.2",
   "language": "julia",
   "name": "anatoly-julia-4t-1.6"
  },
  "language_info": {
   "file_extension": ".jl",
   "mimetype": "application/julia",
   "name": "julia",
   "version": "1.6.2"
  },
  "toc": {
   "base_numbering": 1,
   "nav_menu": {},
   "number_sections": true,
   "sideBar": true,
   "skip_h1_title": false,
   "title_cell": "Table of Contents",
   "title_sidebar": "Contents",
   "toc_cell": false,
   "toc_position": {},
   "toc_section_display": true,
   "toc_window_display": false
  }
 },
 "nbformat": 4,
 "nbformat_minor": 2
}
