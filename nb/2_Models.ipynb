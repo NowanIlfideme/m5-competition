{
 "cells": [
  {
   "cell_type": "markdown",
   "metadata": {},
   "source": [
    "# ML Experiments"
   ]
  },
  {
   "cell_type": "code",
   "execution_count": 1,
   "metadata": {
    "ExecuteTime": {
     "end_time": "2021-07-05T23:31:06.728555Z",
     "start_time": "2021-07-05T23:31:05.439550Z"
    }
   },
   "outputs": [],
   "source": [
    "from __future__ import annotations\n",
    "from pathlib import Path\n",
    "\n",
    "import numpy as np\n",
    "import pandas as pd\n",
    "import xarray as xr\n",
    "import matplotlib.pyplot as plt\n",
    "import seaborn as sns\n",
    "\n",
    "import pymc3 as pm\n",
    "import arviz as az"
   ]
  },
  {
   "cell_type": "code",
   "execution_count": 2,
   "metadata": {
    "ExecuteTime": {
     "end_time": "2021-07-05T23:31:06.788991Z",
     "start_time": "2021-07-05T23:31:06.729980Z"
    }
   },
   "outputs": [],
   "source": [
    "# NOTE: This library isn't yet available publicly!\n",
    "from nd_learn.api import *\n",
    "from nd_learn.api.sklearn import SKLEst, SKLOp\n",
    "\n",
    "import lightgbm as lgb"
   ]
  },
  {
   "cell_type": "code",
   "execution_count": 3,
   "metadata": {
    "ExecuteTime": {
     "end_time": "2021-07-05T23:31:06.793064Z",
     "start_time": "2021-07-05T23:31:06.790483Z"
    }
   },
   "outputs": [],
   "source": [
    "from m5 import __data__\n",
    "from m5.data.ready import load_ds, path_ds\n",
    "# from m5.data.prep import *\n",
    "# from m5.data.raw import calendar, sell_prices, sales_train_eval, sales_train_valid, sample_submission"
   ]
  },
  {
   "cell_type": "code",
   "execution_count": 4,
   "metadata": {
    "ExecuteTime": {
     "end_time": "2021-07-05T23:31:06.796683Z",
     "start_time": "2021-07-05T23:31:06.794097Z"
    }
   },
   "outputs": [],
   "source": [
    "from m5.metrics import get_weights, get_rmsse, get_wrmsse, wrmsse_per_level, wrmsse_total"
   ]
  },
  {
   "cell_type": "markdown",
   "metadata": {},
   "source": [
    "## Prepare Data"
   ]
  },
  {
   "cell_type": "markdown",
   "metadata": {},
   "source": [
    "### Load"
   ]
  },
  {
   "cell_type": "code",
   "execution_count": 70,
   "metadata": {
    "ExecuteTime": {
     "end_time": "2021-07-06T00:26:28.546711Z",
     "start_time": "2021-07-06T00:26:15.878460Z"
    }
   },
   "outputs": [],
   "source": [
    "ds_all = load_ds()"
   ]
  },
  {
   "cell_type": "code",
   "execution_count": 71,
   "metadata": {
    "ExecuteTime": {
     "end_time": "2021-07-06T00:26:29.719674Z",
     "start_time": "2021-07-06T00:26:28.549255Z"
    }
   },
   "outputs": [
    {
     "data": {
      "text/html": [
       "<div><svg style=\"position: absolute; width: 0; height: 0; overflow: hidden\">\n",
       "<defs>\n",
       "<symbol id=\"icon-database\" viewBox=\"0 0 32 32\">\n",
       "<path d=\"M16 0c-8.837 0-16 2.239-16 5v4c0 2.761 7.163 5 16 5s16-2.239 16-5v-4c0-2.761-7.163-5-16-5z\"></path>\n",
       "<path d=\"M16 17c-8.837 0-16-2.239-16-5v6c0 2.761 7.163 5 16 5s16-2.239 16-5v-6c0 2.761-7.163 5-16 5z\"></path>\n",
       "<path d=\"M16 26c-8.837 0-16-2.239-16-5v6c0 2.761 7.163 5 16 5s16-2.239 16-5v-6c0 2.761-7.163 5-16 5z\"></path>\n",
       "</symbol>\n",
       "<symbol id=\"icon-file-text2\" viewBox=\"0 0 32 32\">\n",
       "<path d=\"M28.681 7.159c-0.694-0.947-1.662-2.053-2.724-3.116s-2.169-2.030-3.116-2.724c-1.612-1.182-2.393-1.319-2.841-1.319h-15.5c-1.378 0-2.5 1.121-2.5 2.5v27c0 1.378 1.122 2.5 2.5 2.5h23c1.378 0 2.5-1.122 2.5-2.5v-19.5c0-0.448-0.137-1.23-1.319-2.841zM24.543 5.457c0.959 0.959 1.712 1.825 2.268 2.543h-4.811v-4.811c0.718 0.556 1.584 1.309 2.543 2.268zM28 29.5c0 0.271-0.229 0.5-0.5 0.5h-23c-0.271 0-0.5-0.229-0.5-0.5v-27c0-0.271 0.229-0.5 0.5-0.5 0 0 15.499-0 15.5 0v7c0 0.552 0.448 1 1 1h7v19.5z\"></path>\n",
       "<path d=\"M23 26h-14c-0.552 0-1-0.448-1-1s0.448-1 1-1h14c0.552 0 1 0.448 1 1s-0.448 1-1 1z\"></path>\n",
       "<path d=\"M23 22h-14c-0.552 0-1-0.448-1-1s0.448-1 1-1h14c0.552 0 1 0.448 1 1s-0.448 1-1 1z\"></path>\n",
       "<path d=\"M23 18h-14c-0.552 0-1-0.448-1-1s0.448-1 1-1h14c0.552 0 1 0.448 1 1s-0.448 1-1 1z\"></path>\n",
       "</symbol>\n",
       "</defs>\n",
       "</svg>\n",
       "<style>/* CSS stylesheet for displaying xarray objects in jupyterlab.\n",
       " *\n",
       " */\n",
       "\n",
       ":root {\n",
       "  --xr-font-color0: var(--jp-content-font-color0, rgba(0, 0, 0, 1));\n",
       "  --xr-font-color2: var(--jp-content-font-color2, rgba(0, 0, 0, 0.54));\n",
       "  --xr-font-color3: var(--jp-content-font-color3, rgba(0, 0, 0, 0.38));\n",
       "  --xr-border-color: var(--jp-border-color2, #e0e0e0);\n",
       "  --xr-disabled-color: var(--jp-layout-color3, #bdbdbd);\n",
       "  --xr-background-color: var(--jp-layout-color0, white);\n",
       "  --xr-background-color-row-even: var(--jp-layout-color1, white);\n",
       "  --xr-background-color-row-odd: var(--jp-layout-color2, #eeeeee);\n",
       "}\n",
       "\n",
       "html[theme=dark],\n",
       "body.vscode-dark {\n",
       "  --xr-font-color0: rgba(255, 255, 255, 1);\n",
       "  --xr-font-color2: rgba(255, 255, 255, 0.54);\n",
       "  --xr-font-color3: rgba(255, 255, 255, 0.38);\n",
       "  --xr-border-color: #1F1F1F;\n",
       "  --xr-disabled-color: #515151;\n",
       "  --xr-background-color: #111111;\n",
       "  --xr-background-color-row-even: #111111;\n",
       "  --xr-background-color-row-odd: #313131;\n",
       "}\n",
       "\n",
       ".xr-wrap {\n",
       "  display: block;\n",
       "  min-width: 300px;\n",
       "  max-width: 700px;\n",
       "}\n",
       "\n",
       ".xr-text-repr-fallback {\n",
       "  /* fallback to plain text repr when CSS is not injected (untrusted notebook) */\n",
       "  display: none;\n",
       "}\n",
       "\n",
       ".xr-header {\n",
       "  padding-top: 6px;\n",
       "  padding-bottom: 6px;\n",
       "  margin-bottom: 4px;\n",
       "  border-bottom: solid 1px var(--xr-border-color);\n",
       "}\n",
       "\n",
       ".xr-header > div,\n",
       ".xr-header > ul {\n",
       "  display: inline;\n",
       "  margin-top: 0;\n",
       "  margin-bottom: 0;\n",
       "}\n",
       "\n",
       ".xr-obj-type,\n",
       ".xr-array-name {\n",
       "  margin-left: 2px;\n",
       "  margin-right: 10px;\n",
       "}\n",
       "\n",
       ".xr-obj-type {\n",
       "  color: var(--xr-font-color2);\n",
       "}\n",
       "\n",
       ".xr-sections {\n",
       "  padding-left: 0 !important;\n",
       "  display: grid;\n",
       "  grid-template-columns: 150px auto auto 1fr 20px 20px;\n",
       "}\n",
       "\n",
       ".xr-section-item {\n",
       "  display: contents;\n",
       "}\n",
       "\n",
       ".xr-section-item input {\n",
       "  display: none;\n",
       "}\n",
       "\n",
       ".xr-section-item input + label {\n",
       "  color: var(--xr-disabled-color);\n",
       "}\n",
       "\n",
       ".xr-section-item input:enabled + label {\n",
       "  cursor: pointer;\n",
       "  color: var(--xr-font-color2);\n",
       "}\n",
       "\n",
       ".xr-section-item input:enabled + label:hover {\n",
       "  color: var(--xr-font-color0);\n",
       "}\n",
       "\n",
       ".xr-section-summary {\n",
       "  grid-column: 1;\n",
       "  color: var(--xr-font-color2);\n",
       "  font-weight: 500;\n",
       "}\n",
       "\n",
       ".xr-section-summary > span {\n",
       "  display: inline-block;\n",
       "  padding-left: 0.5em;\n",
       "}\n",
       "\n",
       ".xr-section-summary-in:disabled + label {\n",
       "  color: var(--xr-font-color2);\n",
       "}\n",
       "\n",
       ".xr-section-summary-in + label:before {\n",
       "  display: inline-block;\n",
       "  content: '►';\n",
       "  font-size: 11px;\n",
       "  width: 15px;\n",
       "  text-align: center;\n",
       "}\n",
       "\n",
       ".xr-section-summary-in:disabled + label:before {\n",
       "  color: var(--xr-disabled-color);\n",
       "}\n",
       "\n",
       ".xr-section-summary-in:checked + label:before {\n",
       "  content: '▼';\n",
       "}\n",
       "\n",
       ".xr-section-summary-in:checked + label > span {\n",
       "  display: none;\n",
       "}\n",
       "\n",
       ".xr-section-summary,\n",
       ".xr-section-inline-details {\n",
       "  padding-top: 4px;\n",
       "  padding-bottom: 4px;\n",
       "}\n",
       "\n",
       ".xr-section-inline-details {\n",
       "  grid-column: 2 / -1;\n",
       "}\n",
       "\n",
       ".xr-section-details {\n",
       "  display: none;\n",
       "  grid-column: 1 / -1;\n",
       "  margin-bottom: 5px;\n",
       "}\n",
       "\n",
       ".xr-section-summary-in:checked ~ .xr-section-details {\n",
       "  display: contents;\n",
       "}\n",
       "\n",
       ".xr-array-wrap {\n",
       "  grid-column: 1 / -1;\n",
       "  display: grid;\n",
       "  grid-template-columns: 20px auto;\n",
       "}\n",
       "\n",
       ".xr-array-wrap > label {\n",
       "  grid-column: 1;\n",
       "  vertical-align: top;\n",
       "}\n",
       "\n",
       ".xr-preview {\n",
       "  color: var(--xr-font-color3);\n",
       "}\n",
       "\n",
       ".xr-array-preview,\n",
       ".xr-array-data {\n",
       "  padding: 0 5px !important;\n",
       "  grid-column: 2;\n",
       "}\n",
       "\n",
       ".xr-array-data,\n",
       ".xr-array-in:checked ~ .xr-array-preview {\n",
       "  display: none;\n",
       "}\n",
       "\n",
       ".xr-array-in:checked ~ .xr-array-data,\n",
       ".xr-array-preview {\n",
       "  display: inline-block;\n",
       "}\n",
       "\n",
       ".xr-dim-list {\n",
       "  display: inline-block !important;\n",
       "  list-style: none;\n",
       "  padding: 0 !important;\n",
       "  margin: 0;\n",
       "}\n",
       "\n",
       ".xr-dim-list li {\n",
       "  display: inline-block;\n",
       "  padding: 0;\n",
       "  margin: 0;\n",
       "}\n",
       "\n",
       ".xr-dim-list:before {\n",
       "  content: '(';\n",
       "}\n",
       "\n",
       ".xr-dim-list:after {\n",
       "  content: ')';\n",
       "}\n",
       "\n",
       ".xr-dim-list li:not(:last-child):after {\n",
       "  content: ',';\n",
       "  padding-right: 5px;\n",
       "}\n",
       "\n",
       ".xr-has-index {\n",
       "  font-weight: bold;\n",
       "}\n",
       "\n",
       ".xr-var-list,\n",
       ".xr-var-item {\n",
       "  display: contents;\n",
       "}\n",
       "\n",
       ".xr-var-item > div,\n",
       ".xr-var-item label,\n",
       ".xr-var-item > .xr-var-name span {\n",
       "  background-color: var(--xr-background-color-row-even);\n",
       "  margin-bottom: 0;\n",
       "}\n",
       "\n",
       ".xr-var-item > .xr-var-name:hover span {\n",
       "  padding-right: 5px;\n",
       "}\n",
       "\n",
       ".xr-var-list > li:nth-child(odd) > div,\n",
       ".xr-var-list > li:nth-child(odd) > label,\n",
       ".xr-var-list > li:nth-child(odd) > .xr-var-name span {\n",
       "  background-color: var(--xr-background-color-row-odd);\n",
       "}\n",
       "\n",
       ".xr-var-name {\n",
       "  grid-column: 1;\n",
       "}\n",
       "\n",
       ".xr-var-dims {\n",
       "  grid-column: 2;\n",
       "}\n",
       "\n",
       ".xr-var-dtype {\n",
       "  grid-column: 3;\n",
       "  text-align: right;\n",
       "  color: var(--xr-font-color2);\n",
       "}\n",
       "\n",
       ".xr-var-preview {\n",
       "  grid-column: 4;\n",
       "}\n",
       "\n",
       ".xr-var-name,\n",
       ".xr-var-dims,\n",
       ".xr-var-dtype,\n",
       ".xr-preview,\n",
       ".xr-attrs dt {\n",
       "  white-space: nowrap;\n",
       "  overflow: hidden;\n",
       "  text-overflow: ellipsis;\n",
       "  padding-right: 10px;\n",
       "}\n",
       "\n",
       ".xr-var-name:hover,\n",
       ".xr-var-dims:hover,\n",
       ".xr-var-dtype:hover,\n",
       ".xr-attrs dt:hover {\n",
       "  overflow: visible;\n",
       "  width: auto;\n",
       "  z-index: 1;\n",
       "}\n",
       "\n",
       ".xr-var-attrs,\n",
       ".xr-var-data {\n",
       "  display: none;\n",
       "  background-color: var(--xr-background-color) !important;\n",
       "  padding-bottom: 5px !important;\n",
       "}\n",
       "\n",
       ".xr-var-attrs-in:checked ~ .xr-var-attrs,\n",
       ".xr-var-data-in:checked ~ .xr-var-data {\n",
       "  display: block;\n",
       "}\n",
       "\n",
       ".xr-var-data > table {\n",
       "  float: right;\n",
       "}\n",
       "\n",
       ".xr-var-name span,\n",
       ".xr-var-data,\n",
       ".xr-attrs {\n",
       "  padding-left: 25px !important;\n",
       "}\n",
       "\n",
       ".xr-attrs,\n",
       ".xr-var-attrs,\n",
       ".xr-var-data {\n",
       "  grid-column: 1 / -1;\n",
       "}\n",
       "\n",
       "dl.xr-attrs {\n",
       "  padding: 0;\n",
       "  margin: 0;\n",
       "  display: grid;\n",
       "  grid-template-columns: 125px auto;\n",
       "}\n",
       "\n",
       ".xr-attrs dt,\n",
       ".xr-attrs dd {\n",
       "  padding: 0;\n",
       "  margin: 0;\n",
       "  float: left;\n",
       "  padding-right: 10px;\n",
       "  width: auto;\n",
       "}\n",
       "\n",
       ".xr-attrs dt {\n",
       "  font-weight: normal;\n",
       "  grid-column: 1;\n",
       "}\n",
       "\n",
       ".xr-attrs dt:hover span {\n",
       "  display: inline-block;\n",
       "  background: var(--xr-background-color);\n",
       "  padding-right: 10px;\n",
       "}\n",
       "\n",
       ".xr-attrs dd {\n",
       "  grid-column: 2;\n",
       "  white-space: pre-wrap;\n",
       "  word-break: break-all;\n",
       "}\n",
       "\n",
       ".xr-icon-database,\n",
       ".xr-icon-file-text2 {\n",
       "  display: inline-block;\n",
       "  vertical-align: middle;\n",
       "  width: 1em;\n",
       "  height: 1.5em !important;\n",
       "  stroke-width: 0;\n",
       "  stroke: currentColor;\n",
       "  fill: currentColor;\n",
       "}\n",
       "</style><pre class='xr-text-repr-fallback'>&lt;xarray.Dataset&gt;\n",
       "Dimensions:     (date: 1941, event_name: 30, item_id: 3049, store_id: 10)\n",
       "Coordinates:\n",
       "  * item_id     (item_id) object &#x27;FOODS_1_001&#x27; ... &#x27;HOUSEHOLD_2_516&#x27;\n",
       "    cat_id      (item_id) object &#x27;FOODS&#x27; &#x27;FOODS&#x27; ... &#x27;HOUSEHOLD&#x27; &#x27;HOUSEHOLD&#x27;\n",
       "    dept_id     (item_id) object &#x27;FOODS_1&#x27; &#x27;FOODS_1&#x27; ... &#x27;HOUSEHOLD_2&#x27;\n",
       "  * store_id    (store_id) object &#x27;CA_1&#x27; &#x27;CA_2&#x27; &#x27;CA_3&#x27; ... &#x27;WI_1&#x27; &#x27;WI_2&#x27; &#x27;WI_3&#x27;\n",
       "    state_id    (store_id) object &#x27;CA&#x27; &#x27;CA&#x27; &#x27;CA&#x27; &#x27;CA&#x27; ... &#x27;TX&#x27; &#x27;WI&#x27; &#x27;WI&#x27; &#x27;WI&#x27;\n",
       "  * date        (date) datetime64[ns] 2011-01-29 2011-01-30 ... 2016-05-22\n",
       "  * event_name  (event_name) object &#x27;SuperBowl&#x27; &#x27;ValentinesDay&#x27; ... &#x27;Easter&#x27;\n",
       "    event_type  (event_name) object &#x27;Sporting&#x27; &#x27;Cultural&#x27; ... &#x27;Cultural&#x27;\n",
       "Data variables:\n",
       "    sales       (item_id, store_id, date) int64 3 0 0 1 4 2 0 ... 0 0 0 0 0 0 0\n",
       "    price       (item_id, store_id, date) float64 2.0 2.0 2.0 ... 5.94 5.94 5.94\n",
       "    wday        (date) int64 1 2 3 4 5 6 7 1 2 3 4 5 ... 5 6 7 1 2 3 4 5 6 7 1 2\n",
       "    month       (date) int64 1 1 1 2 2 2 2 2 2 2 2 2 ... 5 5 5 5 5 5 5 5 5 5 5 5\n",
       "    year        (date) int64 2011 2011 2011 2011 2011 ... 2016 2016 2016 2016\n",
       "    event       (date, event_name) int64 0 0 0 0 0 0 0 0 0 ... 0 0 0 0 0 0 0 0 0\n",
       "    snap        (date, store_id) int64 0 0 0 0 0 0 0 0 0 0 ... 0 0 0 0 0 0 0 0 0</pre><div class='xr-wrap' hidden><div class='xr-header'><div class='xr-obj-type'>xarray.Dataset</div></div><ul class='xr-sections'><li class='xr-section-item'><input id='section-84426595-f120-447a-9b00-c0af7b5ba823' class='xr-section-summary-in' type='checkbox' disabled ><label for='section-84426595-f120-447a-9b00-c0af7b5ba823' class='xr-section-summary'  title='Expand/collapse section'>Dimensions:</label><div class='xr-section-inline-details'><ul class='xr-dim-list'><li><span class='xr-has-index'>date</span>: 1941</li><li><span class='xr-has-index'>event_name</span>: 30</li><li><span class='xr-has-index'>item_id</span>: 3049</li><li><span class='xr-has-index'>store_id</span>: 10</li></ul></div><div class='xr-section-details'></div></li><li class='xr-section-item'><input id='section-a6499f16-170f-4439-bb92-c771e4947fb6' class='xr-section-summary-in' type='checkbox'  checked><label for='section-a6499f16-170f-4439-bb92-c771e4947fb6' class='xr-section-summary' >Coordinates: <span>(8)</span></label><div class='xr-section-inline-details'></div><div class='xr-section-details'><ul class='xr-var-list'><li class='xr-var-item'><div class='xr-var-name'><span class='xr-has-index'>item_id</span></div><div class='xr-var-dims'>(item_id)</div><div class='xr-var-dtype'>object</div><div class='xr-var-preview xr-preview'>&#x27;FOODS_1_001&#x27; ... &#x27;HOUSEHOLD_2_516&#x27;</div><input id='attrs-11f3a827-18cb-4544-9f1e-aa8af31dc25a' class='xr-var-attrs-in' type='checkbox' disabled><label for='attrs-11f3a827-18cb-4544-9f1e-aa8af31dc25a' title='Show/Hide attributes'><svg class='icon xr-icon-file-text2'><use xlink:href='#icon-file-text2'></use></svg></label><input id='data-27a08a97-9143-4689-8c07-90f94d17d44c' class='xr-var-data-in' type='checkbox'><label for='data-27a08a97-9143-4689-8c07-90f94d17d44c' title='Show/Hide data repr'><svg class='icon xr-icon-database'><use xlink:href='#icon-database'></use></svg></label><div class='xr-var-attrs'><dl class='xr-attrs'></dl></div><div class='xr-var-data'><pre>array([&#x27;FOODS_1_001&#x27;, &#x27;FOODS_1_002&#x27;, &#x27;FOODS_1_003&#x27;, ..., &#x27;HOUSEHOLD_2_514&#x27;,\n",
       "       &#x27;HOUSEHOLD_2_515&#x27;, &#x27;HOUSEHOLD_2_516&#x27;], dtype=object)</pre></div></li><li class='xr-var-item'><div class='xr-var-name'><span>cat_id</span></div><div class='xr-var-dims'>(item_id)</div><div class='xr-var-dtype'>object</div><div class='xr-var-preview xr-preview'>&#x27;FOODS&#x27; &#x27;FOODS&#x27; ... &#x27;HOUSEHOLD&#x27;</div><input id='attrs-c169ace2-9679-4bf4-ad8e-1f6d47d651e4' class='xr-var-attrs-in' type='checkbox' disabled><label for='attrs-c169ace2-9679-4bf4-ad8e-1f6d47d651e4' title='Show/Hide attributes'><svg class='icon xr-icon-file-text2'><use xlink:href='#icon-file-text2'></use></svg></label><input id='data-72808e3e-e55b-4491-87d7-e6f94289ceae' class='xr-var-data-in' type='checkbox'><label for='data-72808e3e-e55b-4491-87d7-e6f94289ceae' title='Show/Hide data repr'><svg class='icon xr-icon-database'><use xlink:href='#icon-database'></use></svg></label><div class='xr-var-attrs'><dl class='xr-attrs'></dl></div><div class='xr-var-data'><pre>array([&#x27;FOODS&#x27;, &#x27;FOODS&#x27;, &#x27;FOODS&#x27;, ..., &#x27;HOUSEHOLD&#x27;, &#x27;HOUSEHOLD&#x27;,\n",
       "       &#x27;HOUSEHOLD&#x27;], dtype=object)</pre></div></li><li class='xr-var-item'><div class='xr-var-name'><span>dept_id</span></div><div class='xr-var-dims'>(item_id)</div><div class='xr-var-dtype'>object</div><div class='xr-var-preview xr-preview'>&#x27;FOODS_1&#x27; ... &#x27;HOUSEHOLD_2&#x27;</div><input id='attrs-690bb421-81b2-4026-8d55-2de76e439707' class='xr-var-attrs-in' type='checkbox' disabled><label for='attrs-690bb421-81b2-4026-8d55-2de76e439707' title='Show/Hide attributes'><svg class='icon xr-icon-file-text2'><use xlink:href='#icon-file-text2'></use></svg></label><input id='data-d937e3b7-79e9-4e15-8d6c-78ad952c3300' class='xr-var-data-in' type='checkbox'><label for='data-d937e3b7-79e9-4e15-8d6c-78ad952c3300' title='Show/Hide data repr'><svg class='icon xr-icon-database'><use xlink:href='#icon-database'></use></svg></label><div class='xr-var-attrs'><dl class='xr-attrs'></dl></div><div class='xr-var-data'><pre>array([&#x27;FOODS_1&#x27;, &#x27;FOODS_1&#x27;, &#x27;FOODS_1&#x27;, ..., &#x27;HOUSEHOLD_2&#x27;, &#x27;HOUSEHOLD_2&#x27;,\n",
       "       &#x27;HOUSEHOLD_2&#x27;], dtype=object)</pre></div></li><li class='xr-var-item'><div class='xr-var-name'><span class='xr-has-index'>store_id</span></div><div class='xr-var-dims'>(store_id)</div><div class='xr-var-dtype'>object</div><div class='xr-var-preview xr-preview'>&#x27;CA_1&#x27; &#x27;CA_2&#x27; ... &#x27;WI_2&#x27; &#x27;WI_3&#x27;</div><input id='attrs-edc8fb27-f975-4316-a4fe-b1e0b69a86d3' class='xr-var-attrs-in' type='checkbox' disabled><label for='attrs-edc8fb27-f975-4316-a4fe-b1e0b69a86d3' title='Show/Hide attributes'><svg class='icon xr-icon-file-text2'><use xlink:href='#icon-file-text2'></use></svg></label><input id='data-8b9f03d5-8e9f-4188-8758-8426e8c245e4' class='xr-var-data-in' type='checkbox'><label for='data-8b9f03d5-8e9f-4188-8758-8426e8c245e4' title='Show/Hide data repr'><svg class='icon xr-icon-database'><use xlink:href='#icon-database'></use></svg></label><div class='xr-var-attrs'><dl class='xr-attrs'></dl></div><div class='xr-var-data'><pre>array([&#x27;CA_1&#x27;, &#x27;CA_2&#x27;, &#x27;CA_3&#x27;, &#x27;CA_4&#x27;, &#x27;TX_1&#x27;, &#x27;TX_2&#x27;, &#x27;TX_3&#x27;, &#x27;WI_1&#x27;, &#x27;WI_2&#x27;,\n",
       "       &#x27;WI_3&#x27;], dtype=object)</pre></div></li><li class='xr-var-item'><div class='xr-var-name'><span>state_id</span></div><div class='xr-var-dims'>(store_id)</div><div class='xr-var-dtype'>object</div><div class='xr-var-preview xr-preview'>&#x27;CA&#x27; &#x27;CA&#x27; &#x27;CA&#x27; ... &#x27;WI&#x27; &#x27;WI&#x27; &#x27;WI&#x27;</div><input id='attrs-78769752-754c-421b-bd77-549d52570330' class='xr-var-attrs-in' type='checkbox' disabled><label for='attrs-78769752-754c-421b-bd77-549d52570330' title='Show/Hide attributes'><svg class='icon xr-icon-file-text2'><use xlink:href='#icon-file-text2'></use></svg></label><input id='data-4e2547f4-0480-48d7-b0a6-949d05b16dbb' class='xr-var-data-in' type='checkbox'><label for='data-4e2547f4-0480-48d7-b0a6-949d05b16dbb' title='Show/Hide data repr'><svg class='icon xr-icon-database'><use xlink:href='#icon-database'></use></svg></label><div class='xr-var-attrs'><dl class='xr-attrs'></dl></div><div class='xr-var-data'><pre>array([&#x27;CA&#x27;, &#x27;CA&#x27;, &#x27;CA&#x27;, &#x27;CA&#x27;, &#x27;TX&#x27;, &#x27;TX&#x27;, &#x27;TX&#x27;, &#x27;WI&#x27;, &#x27;WI&#x27;, &#x27;WI&#x27;],\n",
       "      dtype=object)</pre></div></li><li class='xr-var-item'><div class='xr-var-name'><span class='xr-has-index'>date</span></div><div class='xr-var-dims'>(date)</div><div class='xr-var-dtype'>datetime64[ns]</div><div class='xr-var-preview xr-preview'>2011-01-29 ... 2016-05-22</div><input id='attrs-a070e94d-40ef-49fd-9093-d5af9c86b8bf' class='xr-var-attrs-in' type='checkbox' disabled><label for='attrs-a070e94d-40ef-49fd-9093-d5af9c86b8bf' title='Show/Hide attributes'><svg class='icon xr-icon-file-text2'><use xlink:href='#icon-file-text2'></use></svg></label><input id='data-1cd51d60-1bea-4a94-aa8c-ddb35a7377ba' class='xr-var-data-in' type='checkbox'><label for='data-1cd51d60-1bea-4a94-aa8c-ddb35a7377ba' title='Show/Hide data repr'><svg class='icon xr-icon-database'><use xlink:href='#icon-database'></use></svg></label><div class='xr-var-attrs'><dl class='xr-attrs'></dl></div><div class='xr-var-data'><pre>array([&#x27;2011-01-29T00:00:00.000000000&#x27;, &#x27;2011-01-30T00:00:00.000000000&#x27;,\n",
       "       &#x27;2011-01-31T00:00:00.000000000&#x27;, ..., &#x27;2016-05-20T00:00:00.000000000&#x27;,\n",
       "       &#x27;2016-05-21T00:00:00.000000000&#x27;, &#x27;2016-05-22T00:00:00.000000000&#x27;],\n",
       "      dtype=&#x27;datetime64[ns]&#x27;)</pre></div></li><li class='xr-var-item'><div class='xr-var-name'><span class='xr-has-index'>event_name</span></div><div class='xr-var-dims'>(event_name)</div><div class='xr-var-dtype'>object</div><div class='xr-var-preview xr-preview'>&#x27;SuperBowl&#x27; ... &#x27;Easter&#x27;</div><input id='attrs-0930a47a-2acd-44f0-a019-11247f70f4f8' class='xr-var-attrs-in' type='checkbox' disabled><label for='attrs-0930a47a-2acd-44f0-a019-11247f70f4f8' title='Show/Hide attributes'><svg class='icon xr-icon-file-text2'><use xlink:href='#icon-file-text2'></use></svg></label><input id='data-5dd3c6b2-6cf7-4296-87c6-7f836b279065' class='xr-var-data-in' type='checkbox'><label for='data-5dd3c6b2-6cf7-4296-87c6-7f836b279065' title='Show/Hide data repr'><svg class='icon xr-icon-database'><use xlink:href='#icon-database'></use></svg></label><div class='xr-var-attrs'><dl class='xr-attrs'></dl></div><div class='xr-var-data'><pre>array([&#x27;SuperBowl&#x27;, &#x27;ValentinesDay&#x27;, &#x27;PresidentsDay&#x27;, &#x27;LentStart&#x27;, &#x27;LentWeek2&#x27;,\n",
       "       &#x27;StPatricksDay&#x27;, &#x27;Purim End&#x27;, &#x27;OrthodoxEaster&#x27;, &#x27;Pesach End&#x27;,\n",
       "       &#x27;Cinco De Mayo&#x27;, &quot;Mother&#x27;s day&quot;, &#x27;MemorialDay&#x27;, &#x27;NBAFinalsStart&#x27;,\n",
       "       &#x27;NBAFinalsEnd&#x27;, &quot;Father&#x27;s day&quot;, &#x27;IndependenceDay&#x27;, &#x27;Ramadan starts&#x27;,\n",
       "       &#x27;Eid al-Fitr&#x27;, &#x27;LaborDay&#x27;, &#x27;ColumbusDay&#x27;, &#x27;Halloween&#x27;, &#x27;EidAlAdha&#x27;,\n",
       "       &#x27;VeteransDay&#x27;, &#x27;Thanksgiving&#x27;, &#x27;Christmas&#x27;, &#x27;Chanukah End&#x27;, &#x27;NewYear&#x27;,\n",
       "       &#x27;OrthodoxChristmas&#x27;, &#x27;MartinLutherKingDay&#x27;, &#x27;Easter&#x27;], dtype=object)</pre></div></li><li class='xr-var-item'><div class='xr-var-name'><span>event_type</span></div><div class='xr-var-dims'>(event_name)</div><div class='xr-var-dtype'>object</div><div class='xr-var-preview xr-preview'>&#x27;Sporting&#x27; ... &#x27;Cultural&#x27;</div><input id='attrs-123987b7-c51b-4157-b8df-0a97af9f33ef' class='xr-var-attrs-in' type='checkbox' disabled><label for='attrs-123987b7-c51b-4157-b8df-0a97af9f33ef' title='Show/Hide attributes'><svg class='icon xr-icon-file-text2'><use xlink:href='#icon-file-text2'></use></svg></label><input id='data-f6e1df7a-ed0f-439f-8a9c-2a40c8c16776' class='xr-var-data-in' type='checkbox'><label for='data-f6e1df7a-ed0f-439f-8a9c-2a40c8c16776' title='Show/Hide data repr'><svg class='icon xr-icon-database'><use xlink:href='#icon-database'></use></svg></label><div class='xr-var-attrs'><dl class='xr-attrs'></dl></div><div class='xr-var-data'><pre>array([&#x27;Sporting&#x27;, &#x27;Cultural&#x27;, &#x27;National&#x27;, &#x27;Religious&#x27;, &#x27;Religious&#x27;,\n",
       "       &#x27;Cultural&#x27;, &#x27;Religious&#x27;, &#x27;Religious&#x27;, &#x27;Religious&#x27;, &#x27;Cultural&#x27;,\n",
       "       &#x27;Cultural&#x27;, &#x27;National&#x27;, &#x27;Sporting&#x27;, &#x27;Sporting&#x27;, &#x27;Cultural&#x27;,\n",
       "       &#x27;National&#x27;, &#x27;Religious&#x27;, &#x27;Religious&#x27;, &#x27;National&#x27;, &#x27;National&#x27;,\n",
       "       &#x27;Cultural&#x27;, &#x27;Religious&#x27;, &#x27;National&#x27;, &#x27;National&#x27;, &#x27;National&#x27;,\n",
       "       &#x27;Religious&#x27;, &#x27;National&#x27;, &#x27;Religious&#x27;, &#x27;National&#x27;, &#x27;Cultural&#x27;],\n",
       "      dtype=object)</pre></div></li></ul></div></li><li class='xr-section-item'><input id='section-bb017d39-7dd5-4176-bcd6-702a39a25963' class='xr-section-summary-in' type='checkbox'  checked><label for='section-bb017d39-7dd5-4176-bcd6-702a39a25963' class='xr-section-summary' >Data variables: <span>(7)</span></label><div class='xr-section-inline-details'></div><div class='xr-section-details'><ul class='xr-var-list'><li class='xr-var-item'><div class='xr-var-name'><span>sales</span></div><div class='xr-var-dims'>(item_id, store_id, date)</div><div class='xr-var-dtype'>int64</div><div class='xr-var-preview xr-preview'>3 0 0 1 4 2 0 2 ... 0 0 0 0 0 0 0 0</div><input id='attrs-a81cc976-e9fb-4557-9fa0-0121ff47ec1c' class='xr-var-attrs-in' type='checkbox' disabled><label for='attrs-a81cc976-e9fb-4557-9fa0-0121ff47ec1c' title='Show/Hide attributes'><svg class='icon xr-icon-file-text2'><use xlink:href='#icon-file-text2'></use></svg></label><input id='data-3258facf-4aec-4d2b-887d-0eeaea281a2e' class='xr-var-data-in' type='checkbox'><label for='data-3258facf-4aec-4d2b-887d-0eeaea281a2e' title='Show/Hide data repr'><svg class='icon xr-icon-database'><use xlink:href='#icon-database'></use></svg></label><div class='xr-var-attrs'><dl class='xr-attrs'></dl></div><div class='xr-var-data'><pre>array([[[3, 0, 0, ..., 0, 0, 0],\n",
       "        [2, 0, 0, ..., 1, 2, 0],\n",
       "        [1, 2, 1, ..., 3, 2, 2],\n",
       "        ...,\n",
       "        [0, 2, 0, ..., 0, 1, 1],\n",
       "        [0, 0, 0, ..., 0, 0, 3],\n",
       "        [0, 0, 0, ..., 0, 0, 0]],\n",
       "\n",
       "       [[0, 1, 0, ..., 1, 1, 2],\n",
       "        [2, 1, 1, ..., 1, 1, 2],\n",
       "        [1, 0, 1, ..., 1, 2, 0],\n",
       "        ...,\n",
       "        [0, 1, 0, ..., 0, 0, 0],\n",
       "        [1, 0, 0, ..., 0, 1, 0],\n",
       "        [0, 1, 1, ..., 2, 1, 0]],\n",
       "\n",
       "       [[0, 0, 0, ..., 2, 0, 1],\n",
       "        [8, 2, 2, ..., 0, 4, 0],\n",
       "        [1, 1, 1, ..., 0, 0, 3],\n",
       "        ...,\n",
       "...\n",
       "        ...,\n",
       "        [1, 0, 0, ..., 2, 0, 0],\n",
       "        [0, 0, 0, ..., 0, 0, 0],\n",
       "        [0, 1, 1, ..., 1, 0, 0]],\n",
       "\n",
       "       [[0, 0, 0, ..., 0, 1, 0],\n",
       "        [0, 0, 0, ..., 0, 1, 0],\n",
       "        [0, 0, 0, ..., 0, 0, 0],\n",
       "        ...,\n",
       "        [0, 0, 0, ..., 0, 0, 1],\n",
       "        [0, 0, 0, ..., 0, 0, 0],\n",
       "        [0, 0, 0, ..., 0, 0, 0]],\n",
       "\n",
       "       [[0, 1, 0, ..., 1, 0, 0],\n",
       "        [0, 0, 0, ..., 0, 3, 0],\n",
       "        [0, 1, 0, ..., 0, 0, 0],\n",
       "        ...,\n",
       "        [0, 0, 0, ..., 1, 0, 0],\n",
       "        [0, 0, 0, ..., 0, 0, 0],\n",
       "        [0, 1, 0, ..., 0, 0, 0]]])</pre></div></li><li class='xr-var-item'><div class='xr-var-name'><span>price</span></div><div class='xr-var-dims'>(item_id, store_id, date)</div><div class='xr-var-dtype'>float64</div><div class='xr-var-preview xr-preview'>2.0 2.0 2.0 2.0 ... 5.94 5.94 5.94</div><input id='attrs-a42fc461-6abe-4057-bb92-7ad2680d0ab2' class='xr-var-attrs-in' type='checkbox' disabled><label for='attrs-a42fc461-6abe-4057-bb92-7ad2680d0ab2' title='Show/Hide attributes'><svg class='icon xr-icon-file-text2'><use xlink:href='#icon-file-text2'></use></svg></label><input id='data-292b4f00-dcd0-4829-a3ee-6c927638a8b0' class='xr-var-data-in' type='checkbox'><label for='data-292b4f00-dcd0-4829-a3ee-6c927638a8b0' title='Show/Hide data repr'><svg class='icon xr-icon-database'><use xlink:href='#icon-database'></use></svg></label><div class='xr-var-attrs'><dl class='xr-attrs'></dl></div><div class='xr-var-data'><pre>array([[[ 2.  ,  2.  ,  2.  , ...,  2.24,  2.24,  2.24],\n",
       "        [ 2.  ,  2.  ,  2.  , ...,  2.24,  2.24,  2.24],\n",
       "        [ 2.  ,  2.  ,  2.  , ...,  2.24,  2.24,  2.24],\n",
       "        ...,\n",
       "        [ 2.  ,  2.  ,  2.  , ...,  2.24,  2.24,  2.24],\n",
       "        [ 2.  ,  2.  ,  2.  , ...,  2.24,  2.24,  2.24],\n",
       "        [ 2.  ,  2.  ,  2.  , ...,  2.24,  2.24,  2.24]],\n",
       "\n",
       "       [[ 7.88,  7.88,  7.88, ...,  9.48,  9.48,  9.48],\n",
       "        [ 7.88,  7.88,  7.88, ...,  9.48,  9.48,  9.48],\n",
       "        [ 7.88,  7.88,  7.88, ...,  9.48,  9.48,  9.48],\n",
       "        ...,\n",
       "        [ 7.88,  7.88,  7.88, ...,  9.48,  9.48,  9.48],\n",
       "        [ 8.28,  8.28,  8.28, ...,  9.48,  9.48,  9.48],\n",
       "        [ 7.88,  7.88,  7.88, ...,  9.48,  9.48,  9.48]],\n",
       "\n",
       "       [[ 2.88,  2.88,  2.88, ...,  3.23,  3.23,  3.23],\n",
       "        [ 2.88,  2.88,  2.88, ...,  3.23,  3.23,  3.23],\n",
       "        [ 2.88,  2.88,  2.88, ...,  3.23,  3.23,  3.23],\n",
       "        ...,\n",
       "...\n",
       "        ...,\n",
       "        [18.97, 18.97, 18.97, ..., 19.54, 19.54, 19.54],\n",
       "        [  nan,   nan,   nan, ..., 19.54, 19.54, 19.54],\n",
       "        [18.47, 18.47, 18.47, ..., 19.54, 19.54, 19.54]],\n",
       "\n",
       "       [[  nan,   nan,   nan, ...,  1.97,  1.97,  1.97],\n",
       "        [  nan,   nan,   nan, ...,  1.97,  1.97,  1.97],\n",
       "        [  nan,   nan,   nan, ...,  1.97,  1.97,  1.97],\n",
       "        ...,\n",
       "        [  nan,   nan,   nan, ...,  1.97,  1.97,  1.97],\n",
       "        [  nan,   nan,   nan, ...,  1.97,  1.97,  1.97],\n",
       "        [  nan,   nan,   nan, ...,  1.97,  1.97,  1.97]],\n",
       "\n",
       "       [[ 5.94,  5.94,  5.94, ...,  5.94,  5.94,  5.94],\n",
       "        [  nan,   nan,   nan, ...,  5.94,  5.94,  5.94],\n",
       "        [ 5.94,  5.94,  5.94, ...,  5.94,  5.94,  5.94],\n",
       "        ...,\n",
       "        [ 5.94,  5.94,  5.94, ...,  5.94,  5.94,  5.94],\n",
       "        [  nan,   nan,   nan, ...,  5.94,  5.94,  5.94],\n",
       "        [ 5.94,  5.94,  5.94, ...,  5.94,  5.94,  5.94]]])</pre></div></li><li class='xr-var-item'><div class='xr-var-name'><span>wday</span></div><div class='xr-var-dims'>(date)</div><div class='xr-var-dtype'>int64</div><div class='xr-var-preview xr-preview'>1 2 3 4 5 6 7 1 ... 2 3 4 5 6 7 1 2</div><input id='attrs-52395f80-4c11-4d34-a17b-76c1ae2b4d48' class='xr-var-attrs-in' type='checkbox' disabled><label for='attrs-52395f80-4c11-4d34-a17b-76c1ae2b4d48' title='Show/Hide attributes'><svg class='icon xr-icon-file-text2'><use xlink:href='#icon-file-text2'></use></svg></label><input id='data-ccccac52-f361-4c38-bd97-3d90e08fb7a1' class='xr-var-data-in' type='checkbox'><label for='data-ccccac52-f361-4c38-bd97-3d90e08fb7a1' title='Show/Hide data repr'><svg class='icon xr-icon-database'><use xlink:href='#icon-database'></use></svg></label><div class='xr-var-attrs'><dl class='xr-attrs'></dl></div><div class='xr-var-data'><pre>array([1, 2, 3, ..., 7, 1, 2])</pre></div></li><li class='xr-var-item'><div class='xr-var-name'><span>month</span></div><div class='xr-var-dims'>(date)</div><div class='xr-var-dtype'>int64</div><div class='xr-var-preview xr-preview'>1 1 1 2 2 2 2 2 ... 5 5 5 5 5 5 5 5</div><input id='attrs-20c98cc3-9145-4cf7-8c47-296051d95bb8' class='xr-var-attrs-in' type='checkbox' disabled><label for='attrs-20c98cc3-9145-4cf7-8c47-296051d95bb8' title='Show/Hide attributes'><svg class='icon xr-icon-file-text2'><use xlink:href='#icon-file-text2'></use></svg></label><input id='data-64793fd4-ebf0-46f4-9202-95b7c1c104ee' class='xr-var-data-in' type='checkbox'><label for='data-64793fd4-ebf0-46f4-9202-95b7c1c104ee' title='Show/Hide data repr'><svg class='icon xr-icon-database'><use xlink:href='#icon-database'></use></svg></label><div class='xr-var-attrs'><dl class='xr-attrs'></dl></div><div class='xr-var-data'><pre>array([1, 1, 1, ..., 5, 5, 5])</pre></div></li><li class='xr-var-item'><div class='xr-var-name'><span>year</span></div><div class='xr-var-dims'>(date)</div><div class='xr-var-dtype'>int64</div><div class='xr-var-preview xr-preview'>2011 2011 2011 ... 2016 2016 2016</div><input id='attrs-e54e7eeb-1e55-4265-94d8-f4c4bce58b1f' class='xr-var-attrs-in' type='checkbox' disabled><label for='attrs-e54e7eeb-1e55-4265-94d8-f4c4bce58b1f' title='Show/Hide attributes'><svg class='icon xr-icon-file-text2'><use xlink:href='#icon-file-text2'></use></svg></label><input id='data-9725be6a-f476-49d1-820a-dcaa9f2c6fce' class='xr-var-data-in' type='checkbox'><label for='data-9725be6a-f476-49d1-820a-dcaa9f2c6fce' title='Show/Hide data repr'><svg class='icon xr-icon-database'><use xlink:href='#icon-database'></use></svg></label><div class='xr-var-attrs'><dl class='xr-attrs'></dl></div><div class='xr-var-data'><pre>array([2011, 2011, 2011, ..., 2016, 2016, 2016])</pre></div></li><li class='xr-var-item'><div class='xr-var-name'><span>event</span></div><div class='xr-var-dims'>(date, event_name)</div><div class='xr-var-dtype'>int64</div><div class='xr-var-preview xr-preview'>0 0 0 0 0 0 0 0 ... 0 0 0 0 0 0 0 0</div><input id='attrs-2d6f16ef-b3e7-4581-97a7-858869f0ca60' class='xr-var-attrs-in' type='checkbox' disabled><label for='attrs-2d6f16ef-b3e7-4581-97a7-858869f0ca60' title='Show/Hide attributes'><svg class='icon xr-icon-file-text2'><use xlink:href='#icon-file-text2'></use></svg></label><input id='data-1d1202cb-3146-4ac3-86f0-fb65008cc0db' class='xr-var-data-in' type='checkbox'><label for='data-1d1202cb-3146-4ac3-86f0-fb65008cc0db' title='Show/Hide data repr'><svg class='icon xr-icon-database'><use xlink:href='#icon-database'></use></svg></label><div class='xr-var-attrs'><dl class='xr-attrs'></dl></div><div class='xr-var-data'><pre>array([[0, 0, 0, ..., 0, 0, 0],\n",
       "       [0, 0, 0, ..., 0, 0, 0],\n",
       "       [0, 0, 0, ..., 0, 0, 0],\n",
       "       ...,\n",
       "       [0, 0, 0, ..., 0, 0, 0],\n",
       "       [0, 0, 0, ..., 0, 0, 0],\n",
       "       [0, 0, 0, ..., 0, 0, 0]])</pre></div></li><li class='xr-var-item'><div class='xr-var-name'><span>snap</span></div><div class='xr-var-dims'>(date, store_id)</div><div class='xr-var-dtype'>int64</div><div class='xr-var-preview xr-preview'>0 0 0 0 0 0 0 0 ... 0 0 0 0 0 0 0 0</div><input id='attrs-31b7eeef-0ef0-44f6-818d-f8273c139407' class='xr-var-attrs-in' type='checkbox' disabled><label for='attrs-31b7eeef-0ef0-44f6-818d-f8273c139407' title='Show/Hide attributes'><svg class='icon xr-icon-file-text2'><use xlink:href='#icon-file-text2'></use></svg></label><input id='data-d2669f8c-d6e6-4ccf-9f55-219a30635875' class='xr-var-data-in' type='checkbox'><label for='data-d2669f8c-d6e6-4ccf-9f55-219a30635875' title='Show/Hide data repr'><svg class='icon xr-icon-database'><use xlink:href='#icon-database'></use></svg></label><div class='xr-var-attrs'><dl class='xr-attrs'></dl></div><div class='xr-var-data'><pre>array([[0, 0, 0, ..., 0, 0, 0],\n",
       "       [0, 0, 0, ..., 0, 0, 0],\n",
       "       [0, 0, 0, ..., 0, 0, 0],\n",
       "       ...,\n",
       "       [0, 0, 0, ..., 0, 0, 0],\n",
       "       [0, 0, 0, ..., 0, 0, 0],\n",
       "       [0, 0, 0, ..., 0, 0, 0]])</pre></div></li></ul></div></li><li class='xr-section-item'><input id='section-8a1a265b-625c-4b73-b598-87ab26c68119' class='xr-section-summary-in' type='checkbox' disabled ><label for='section-8a1a265b-625c-4b73-b598-87ab26c68119' class='xr-section-summary'  title='Expand/collapse section'>Attributes: <span>(0)</span></label><div class='xr-section-inline-details'></div><div class='xr-section-details'><dl class='xr-attrs'></dl></div></li></ul></div></div>"
      ],
      "text/plain": [
       "<xarray.Dataset>\n",
       "Dimensions:     (date: 1941, event_name: 30, item_id: 3049, store_id: 10)\n",
       "Coordinates:\n",
       "  * item_id     (item_id) object 'FOODS_1_001' ... 'HOUSEHOLD_2_516'\n",
       "    cat_id      (item_id) object 'FOODS' 'FOODS' ... 'HOUSEHOLD' 'HOUSEHOLD'\n",
       "    dept_id     (item_id) object 'FOODS_1' 'FOODS_1' ... 'HOUSEHOLD_2'\n",
       "  * store_id    (store_id) object 'CA_1' 'CA_2' 'CA_3' ... 'WI_1' 'WI_2' 'WI_3'\n",
       "    state_id    (store_id) object 'CA' 'CA' 'CA' 'CA' ... 'TX' 'WI' 'WI' 'WI'\n",
       "  * date        (date) datetime64[ns] 2011-01-29 2011-01-30 ... 2016-05-22\n",
       "  * event_name  (event_name) object 'SuperBowl' 'ValentinesDay' ... 'Easter'\n",
       "    event_type  (event_name) object 'Sporting' 'Cultural' ... 'Cultural'\n",
       "Data variables:\n",
       "    sales       (item_id, store_id, date) int64 3 0 0 1 4 2 0 ... 0 0 0 0 0 0 0\n",
       "    price       (item_id, store_id, date) float64 2.0 2.0 2.0 ... 5.94 5.94 5.94\n",
       "    wday        (date) int64 1 2 3 4 5 6 7 1 2 3 4 5 ... 5 6 7 1 2 3 4 5 6 7 1 2\n",
       "    month       (date) int64 1 1 1 2 2 2 2 2 2 2 2 2 ... 5 5 5 5 5 5 5 5 5 5 5 5\n",
       "    year        (date) int64 2011 2011 2011 2011 2011 ... 2016 2016 2016 2016\n",
       "    event       (date, event_name) int64 0 0 0 0 0 0 0 0 0 ... 0 0 0 0 0 0 0 0 0\n",
       "    snap        (date, store_id) int64 0 0 0 0 0 0 0 0 0 0 ... 0 0 0 0 0 0 0 0 0"
      ]
     },
     "execution_count": 71,
     "metadata": {},
     "output_type": "execute_result"
    }
   ],
   "source": [
    "ds = ds_all.where(ds_all['historic'], drop=True).drop([\"historic\", \"future\"])\n",
    "# Fix dtype changes due to \"where\" mask\n",
    "vars_int = ['sales', 'wday', 'month', 'year', 'event', 'snap']\n",
    "for v in vars_int:\n",
    "    ds[v] = ds[v].astype(int)\n",
    "ds"
   ]
  },
  {
   "cell_type": "markdown",
   "metadata": {},
   "source": [
    "### Fixes and checks"
   ]
  },
  {
   "cell_type": "markdown",
   "metadata": {},
   "source": [
    "Fill the price for when we don't know it:"
   ]
  },
  {
   "cell_type": "code",
   "execution_count": 72,
   "metadata": {
    "ExecuteTime": {
     "end_time": "2021-07-06T00:26:30.055132Z",
     "start_time": "2021-07-06T00:26:29.721033Z"
    }
   },
   "outputs": [],
   "source": [
    "ds['price'] = ds['price'].ffill(dim=\"date\").bfill(dim=\"date\")"
   ]
  },
  {
   "cell_type": "markdown",
   "metadata": {},
   "source": [
    "Check that all values are nonnegative:"
   ]
  },
  {
   "cell_type": "code",
   "execution_count": 73,
   "metadata": {
    "ExecuteTime": {
     "end_time": "2021-07-06T00:26:30.252034Z",
     "start_time": "2021-07-06T00:26:30.056411Z"
    }
   },
   "outputs": [
    {
     "data": {
      "text/html": [
       "<div><svg style=\"position: absolute; width: 0; height: 0; overflow: hidden\">\n",
       "<defs>\n",
       "<symbol id=\"icon-database\" viewBox=\"0 0 32 32\">\n",
       "<path d=\"M16 0c-8.837 0-16 2.239-16 5v4c0 2.761 7.163 5 16 5s16-2.239 16-5v-4c0-2.761-7.163-5-16-5z\"></path>\n",
       "<path d=\"M16 17c-8.837 0-16-2.239-16-5v6c0 2.761 7.163 5 16 5s16-2.239 16-5v-6c0 2.761-7.163 5-16 5z\"></path>\n",
       "<path d=\"M16 26c-8.837 0-16-2.239-16-5v6c0 2.761 7.163 5 16 5s16-2.239 16-5v-6c0 2.761-7.163 5-16 5z\"></path>\n",
       "</symbol>\n",
       "<symbol id=\"icon-file-text2\" viewBox=\"0 0 32 32\">\n",
       "<path d=\"M28.681 7.159c-0.694-0.947-1.662-2.053-2.724-3.116s-2.169-2.030-3.116-2.724c-1.612-1.182-2.393-1.319-2.841-1.319h-15.5c-1.378 0-2.5 1.121-2.5 2.5v27c0 1.378 1.122 2.5 2.5 2.5h23c1.378 0 2.5-1.122 2.5-2.5v-19.5c0-0.448-0.137-1.23-1.319-2.841zM24.543 5.457c0.959 0.959 1.712 1.825 2.268 2.543h-4.811v-4.811c0.718 0.556 1.584 1.309 2.543 2.268zM28 29.5c0 0.271-0.229 0.5-0.5 0.5h-23c-0.271 0-0.5-0.229-0.5-0.5v-27c0-0.271 0.229-0.5 0.5-0.5 0 0 15.499-0 15.5 0v7c0 0.552 0.448 1 1 1h7v19.5z\"></path>\n",
       "<path d=\"M23 26h-14c-0.552 0-1-0.448-1-1s0.448-1 1-1h14c0.552 0 1 0.448 1 1s-0.448 1-1 1z\"></path>\n",
       "<path d=\"M23 22h-14c-0.552 0-1-0.448-1-1s0.448-1 1-1h14c0.552 0 1 0.448 1 1s-0.448 1-1 1z\"></path>\n",
       "<path d=\"M23 18h-14c-0.552 0-1-0.448-1-1s0.448-1 1-1h14c0.552 0 1 0.448 1 1s-0.448 1-1 1z\"></path>\n",
       "</symbol>\n",
       "</defs>\n",
       "</svg>\n",
       "<style>/* CSS stylesheet for displaying xarray objects in jupyterlab.\n",
       " *\n",
       " */\n",
       "\n",
       ":root {\n",
       "  --xr-font-color0: var(--jp-content-font-color0, rgba(0, 0, 0, 1));\n",
       "  --xr-font-color2: var(--jp-content-font-color2, rgba(0, 0, 0, 0.54));\n",
       "  --xr-font-color3: var(--jp-content-font-color3, rgba(0, 0, 0, 0.38));\n",
       "  --xr-border-color: var(--jp-border-color2, #e0e0e0);\n",
       "  --xr-disabled-color: var(--jp-layout-color3, #bdbdbd);\n",
       "  --xr-background-color: var(--jp-layout-color0, white);\n",
       "  --xr-background-color-row-even: var(--jp-layout-color1, white);\n",
       "  --xr-background-color-row-odd: var(--jp-layout-color2, #eeeeee);\n",
       "}\n",
       "\n",
       "html[theme=dark],\n",
       "body.vscode-dark {\n",
       "  --xr-font-color0: rgba(255, 255, 255, 1);\n",
       "  --xr-font-color2: rgba(255, 255, 255, 0.54);\n",
       "  --xr-font-color3: rgba(255, 255, 255, 0.38);\n",
       "  --xr-border-color: #1F1F1F;\n",
       "  --xr-disabled-color: #515151;\n",
       "  --xr-background-color: #111111;\n",
       "  --xr-background-color-row-even: #111111;\n",
       "  --xr-background-color-row-odd: #313131;\n",
       "}\n",
       "\n",
       ".xr-wrap {\n",
       "  display: block;\n",
       "  min-width: 300px;\n",
       "  max-width: 700px;\n",
       "}\n",
       "\n",
       ".xr-text-repr-fallback {\n",
       "  /* fallback to plain text repr when CSS is not injected (untrusted notebook) */\n",
       "  display: none;\n",
       "}\n",
       "\n",
       ".xr-header {\n",
       "  padding-top: 6px;\n",
       "  padding-bottom: 6px;\n",
       "  margin-bottom: 4px;\n",
       "  border-bottom: solid 1px var(--xr-border-color);\n",
       "}\n",
       "\n",
       ".xr-header > div,\n",
       ".xr-header > ul {\n",
       "  display: inline;\n",
       "  margin-top: 0;\n",
       "  margin-bottom: 0;\n",
       "}\n",
       "\n",
       ".xr-obj-type,\n",
       ".xr-array-name {\n",
       "  margin-left: 2px;\n",
       "  margin-right: 10px;\n",
       "}\n",
       "\n",
       ".xr-obj-type {\n",
       "  color: var(--xr-font-color2);\n",
       "}\n",
       "\n",
       ".xr-sections {\n",
       "  padding-left: 0 !important;\n",
       "  display: grid;\n",
       "  grid-template-columns: 150px auto auto 1fr 20px 20px;\n",
       "}\n",
       "\n",
       ".xr-section-item {\n",
       "  display: contents;\n",
       "}\n",
       "\n",
       ".xr-section-item input {\n",
       "  display: none;\n",
       "}\n",
       "\n",
       ".xr-section-item input + label {\n",
       "  color: var(--xr-disabled-color);\n",
       "}\n",
       "\n",
       ".xr-section-item input:enabled + label {\n",
       "  cursor: pointer;\n",
       "  color: var(--xr-font-color2);\n",
       "}\n",
       "\n",
       ".xr-section-item input:enabled + label:hover {\n",
       "  color: var(--xr-font-color0);\n",
       "}\n",
       "\n",
       ".xr-section-summary {\n",
       "  grid-column: 1;\n",
       "  color: var(--xr-font-color2);\n",
       "  font-weight: 500;\n",
       "}\n",
       "\n",
       ".xr-section-summary > span {\n",
       "  display: inline-block;\n",
       "  padding-left: 0.5em;\n",
       "}\n",
       "\n",
       ".xr-section-summary-in:disabled + label {\n",
       "  color: var(--xr-font-color2);\n",
       "}\n",
       "\n",
       ".xr-section-summary-in + label:before {\n",
       "  display: inline-block;\n",
       "  content: '►';\n",
       "  font-size: 11px;\n",
       "  width: 15px;\n",
       "  text-align: center;\n",
       "}\n",
       "\n",
       ".xr-section-summary-in:disabled + label:before {\n",
       "  color: var(--xr-disabled-color);\n",
       "}\n",
       "\n",
       ".xr-section-summary-in:checked + label:before {\n",
       "  content: '▼';\n",
       "}\n",
       "\n",
       ".xr-section-summary-in:checked + label > span {\n",
       "  display: none;\n",
       "}\n",
       "\n",
       ".xr-section-summary,\n",
       ".xr-section-inline-details {\n",
       "  padding-top: 4px;\n",
       "  padding-bottom: 4px;\n",
       "}\n",
       "\n",
       ".xr-section-inline-details {\n",
       "  grid-column: 2 / -1;\n",
       "}\n",
       "\n",
       ".xr-section-details {\n",
       "  display: none;\n",
       "  grid-column: 1 / -1;\n",
       "  margin-bottom: 5px;\n",
       "}\n",
       "\n",
       ".xr-section-summary-in:checked ~ .xr-section-details {\n",
       "  display: contents;\n",
       "}\n",
       "\n",
       ".xr-array-wrap {\n",
       "  grid-column: 1 / -1;\n",
       "  display: grid;\n",
       "  grid-template-columns: 20px auto;\n",
       "}\n",
       "\n",
       ".xr-array-wrap > label {\n",
       "  grid-column: 1;\n",
       "  vertical-align: top;\n",
       "}\n",
       "\n",
       ".xr-preview {\n",
       "  color: var(--xr-font-color3);\n",
       "}\n",
       "\n",
       ".xr-array-preview,\n",
       ".xr-array-data {\n",
       "  padding: 0 5px !important;\n",
       "  grid-column: 2;\n",
       "}\n",
       "\n",
       ".xr-array-data,\n",
       ".xr-array-in:checked ~ .xr-array-preview {\n",
       "  display: none;\n",
       "}\n",
       "\n",
       ".xr-array-in:checked ~ .xr-array-data,\n",
       ".xr-array-preview {\n",
       "  display: inline-block;\n",
       "}\n",
       "\n",
       ".xr-dim-list {\n",
       "  display: inline-block !important;\n",
       "  list-style: none;\n",
       "  padding: 0 !important;\n",
       "  margin: 0;\n",
       "}\n",
       "\n",
       ".xr-dim-list li {\n",
       "  display: inline-block;\n",
       "  padding: 0;\n",
       "  margin: 0;\n",
       "}\n",
       "\n",
       ".xr-dim-list:before {\n",
       "  content: '(';\n",
       "}\n",
       "\n",
       ".xr-dim-list:after {\n",
       "  content: ')';\n",
       "}\n",
       "\n",
       ".xr-dim-list li:not(:last-child):after {\n",
       "  content: ',';\n",
       "  padding-right: 5px;\n",
       "}\n",
       "\n",
       ".xr-has-index {\n",
       "  font-weight: bold;\n",
       "}\n",
       "\n",
       ".xr-var-list,\n",
       ".xr-var-item {\n",
       "  display: contents;\n",
       "}\n",
       "\n",
       ".xr-var-item > div,\n",
       ".xr-var-item label,\n",
       ".xr-var-item > .xr-var-name span {\n",
       "  background-color: var(--xr-background-color-row-even);\n",
       "  margin-bottom: 0;\n",
       "}\n",
       "\n",
       ".xr-var-item > .xr-var-name:hover span {\n",
       "  padding-right: 5px;\n",
       "}\n",
       "\n",
       ".xr-var-list > li:nth-child(odd) > div,\n",
       ".xr-var-list > li:nth-child(odd) > label,\n",
       ".xr-var-list > li:nth-child(odd) > .xr-var-name span {\n",
       "  background-color: var(--xr-background-color-row-odd);\n",
       "}\n",
       "\n",
       ".xr-var-name {\n",
       "  grid-column: 1;\n",
       "}\n",
       "\n",
       ".xr-var-dims {\n",
       "  grid-column: 2;\n",
       "}\n",
       "\n",
       ".xr-var-dtype {\n",
       "  grid-column: 3;\n",
       "  text-align: right;\n",
       "  color: var(--xr-font-color2);\n",
       "}\n",
       "\n",
       ".xr-var-preview {\n",
       "  grid-column: 4;\n",
       "}\n",
       "\n",
       ".xr-var-name,\n",
       ".xr-var-dims,\n",
       ".xr-var-dtype,\n",
       ".xr-preview,\n",
       ".xr-attrs dt {\n",
       "  white-space: nowrap;\n",
       "  overflow: hidden;\n",
       "  text-overflow: ellipsis;\n",
       "  padding-right: 10px;\n",
       "}\n",
       "\n",
       ".xr-var-name:hover,\n",
       ".xr-var-dims:hover,\n",
       ".xr-var-dtype:hover,\n",
       ".xr-attrs dt:hover {\n",
       "  overflow: visible;\n",
       "  width: auto;\n",
       "  z-index: 1;\n",
       "}\n",
       "\n",
       ".xr-var-attrs,\n",
       ".xr-var-data {\n",
       "  display: none;\n",
       "  background-color: var(--xr-background-color) !important;\n",
       "  padding-bottom: 5px !important;\n",
       "}\n",
       "\n",
       ".xr-var-attrs-in:checked ~ .xr-var-attrs,\n",
       ".xr-var-data-in:checked ~ .xr-var-data {\n",
       "  display: block;\n",
       "}\n",
       "\n",
       ".xr-var-data > table {\n",
       "  float: right;\n",
       "}\n",
       "\n",
       ".xr-var-name span,\n",
       ".xr-var-data,\n",
       ".xr-attrs {\n",
       "  padding-left: 25px !important;\n",
       "}\n",
       "\n",
       ".xr-attrs,\n",
       ".xr-var-attrs,\n",
       ".xr-var-data {\n",
       "  grid-column: 1 / -1;\n",
       "}\n",
       "\n",
       "dl.xr-attrs {\n",
       "  padding: 0;\n",
       "  margin: 0;\n",
       "  display: grid;\n",
       "  grid-template-columns: 125px auto;\n",
       "}\n",
       "\n",
       ".xr-attrs dt,\n",
       ".xr-attrs dd {\n",
       "  padding: 0;\n",
       "  margin: 0;\n",
       "  float: left;\n",
       "  padding-right: 10px;\n",
       "  width: auto;\n",
       "}\n",
       "\n",
       ".xr-attrs dt {\n",
       "  font-weight: normal;\n",
       "  grid-column: 1;\n",
       "}\n",
       "\n",
       ".xr-attrs dt:hover span {\n",
       "  display: inline-block;\n",
       "  background: var(--xr-background-color);\n",
       "  padding-right: 10px;\n",
       "}\n",
       "\n",
       ".xr-attrs dd {\n",
       "  grid-column: 2;\n",
       "  white-space: pre-wrap;\n",
       "  word-break: break-all;\n",
       "}\n",
       "\n",
       ".xr-icon-database,\n",
       ".xr-icon-file-text2 {\n",
       "  display: inline-block;\n",
       "  vertical-align: middle;\n",
       "  width: 1em;\n",
       "  height: 1.5em !important;\n",
       "  stroke-width: 0;\n",
       "  stroke: currentColor;\n",
       "  fill: currentColor;\n",
       "}\n",
       "</style><pre class='xr-text-repr-fallback'>&lt;xarray.Dataset&gt;\n",
       "Dimensions:  ()\n",
       "Data variables:\n",
       "    sales    int64 0\n",
       "    price    int64 0\n",
       "    wday     int64 0\n",
       "    month    int64 0\n",
       "    year     int64 0\n",
       "    event    int64 0\n",
       "    snap     int64 0</pre><div class='xr-wrap' hidden><div class='xr-header'><div class='xr-obj-type'>xarray.Dataset</div></div><ul class='xr-sections'><li class='xr-section-item'><input id='section-1606230f-694e-4f5c-93c0-9ff80cf6ba34' class='xr-section-summary-in' type='checkbox' disabled ><label for='section-1606230f-694e-4f5c-93c0-9ff80cf6ba34' class='xr-section-summary'  title='Expand/collapse section'>Dimensions:</label><div class='xr-section-inline-details'></div><div class='xr-section-details'></div></li><li class='xr-section-item'><input id='section-99082aa1-20c1-4ddd-8b1a-da30c9ee8d1a' class='xr-section-summary-in' type='checkbox' disabled ><label for='section-99082aa1-20c1-4ddd-8b1a-da30c9ee8d1a' class='xr-section-summary'  title='Expand/collapse section'>Coordinates: <span>(0)</span></label><div class='xr-section-inline-details'></div><div class='xr-section-details'><ul class='xr-var-list'></ul></div></li><li class='xr-section-item'><input id='section-39f9ded6-899a-49b5-ae45-02feb4ec8b61' class='xr-section-summary-in' type='checkbox'  checked><label for='section-39f9ded6-899a-49b5-ae45-02feb4ec8b61' class='xr-section-summary' >Data variables: <span>(7)</span></label><div class='xr-section-inline-details'></div><div class='xr-section-details'><ul class='xr-var-list'><li class='xr-var-item'><div class='xr-var-name'><span>sales</span></div><div class='xr-var-dims'>()</div><div class='xr-var-dtype'>int64</div><div class='xr-var-preview xr-preview'>0</div><input id='attrs-48284f0a-a18f-4597-b68e-2c7c9f14b136' class='xr-var-attrs-in' type='checkbox' disabled><label for='attrs-48284f0a-a18f-4597-b68e-2c7c9f14b136' title='Show/Hide attributes'><svg class='icon xr-icon-file-text2'><use xlink:href='#icon-file-text2'></use></svg></label><input id='data-3f8e1f76-8348-4439-8a5b-13ac1bd2f2ad' class='xr-var-data-in' type='checkbox'><label for='data-3f8e1f76-8348-4439-8a5b-13ac1bd2f2ad' title='Show/Hide data repr'><svg class='icon xr-icon-database'><use xlink:href='#icon-database'></use></svg></label><div class='xr-var-attrs'><dl class='xr-attrs'></dl></div><div class='xr-var-data'><pre>array(0)</pre></div></li><li class='xr-var-item'><div class='xr-var-name'><span>price</span></div><div class='xr-var-dims'>()</div><div class='xr-var-dtype'>int64</div><div class='xr-var-preview xr-preview'>0</div><input id='attrs-7fdfbcc7-5f9d-4b50-b1c7-49194e0b47d3' class='xr-var-attrs-in' type='checkbox' disabled><label for='attrs-7fdfbcc7-5f9d-4b50-b1c7-49194e0b47d3' title='Show/Hide attributes'><svg class='icon xr-icon-file-text2'><use xlink:href='#icon-file-text2'></use></svg></label><input id='data-52a30286-af1c-44ee-af3f-349f6d1396bc' class='xr-var-data-in' type='checkbox'><label for='data-52a30286-af1c-44ee-af3f-349f6d1396bc' title='Show/Hide data repr'><svg class='icon xr-icon-database'><use xlink:href='#icon-database'></use></svg></label><div class='xr-var-attrs'><dl class='xr-attrs'></dl></div><div class='xr-var-data'><pre>array(0)</pre></div></li><li class='xr-var-item'><div class='xr-var-name'><span>wday</span></div><div class='xr-var-dims'>()</div><div class='xr-var-dtype'>int64</div><div class='xr-var-preview xr-preview'>0</div><input id='attrs-62c54eeb-5655-45f6-8475-9ffec9ca152b' class='xr-var-attrs-in' type='checkbox' disabled><label for='attrs-62c54eeb-5655-45f6-8475-9ffec9ca152b' title='Show/Hide attributes'><svg class='icon xr-icon-file-text2'><use xlink:href='#icon-file-text2'></use></svg></label><input id='data-0e843ea6-cd7e-442f-8229-98fe194f7752' class='xr-var-data-in' type='checkbox'><label for='data-0e843ea6-cd7e-442f-8229-98fe194f7752' title='Show/Hide data repr'><svg class='icon xr-icon-database'><use xlink:href='#icon-database'></use></svg></label><div class='xr-var-attrs'><dl class='xr-attrs'></dl></div><div class='xr-var-data'><pre>array(0)</pre></div></li><li class='xr-var-item'><div class='xr-var-name'><span>month</span></div><div class='xr-var-dims'>()</div><div class='xr-var-dtype'>int64</div><div class='xr-var-preview xr-preview'>0</div><input id='attrs-a1b146b2-96b7-4081-84fc-41dc79916906' class='xr-var-attrs-in' type='checkbox' disabled><label for='attrs-a1b146b2-96b7-4081-84fc-41dc79916906' title='Show/Hide attributes'><svg class='icon xr-icon-file-text2'><use xlink:href='#icon-file-text2'></use></svg></label><input id='data-e9b9d0d7-10da-46eb-9351-f9723dead817' class='xr-var-data-in' type='checkbox'><label for='data-e9b9d0d7-10da-46eb-9351-f9723dead817' title='Show/Hide data repr'><svg class='icon xr-icon-database'><use xlink:href='#icon-database'></use></svg></label><div class='xr-var-attrs'><dl class='xr-attrs'></dl></div><div class='xr-var-data'><pre>array(0)</pre></div></li><li class='xr-var-item'><div class='xr-var-name'><span>year</span></div><div class='xr-var-dims'>()</div><div class='xr-var-dtype'>int64</div><div class='xr-var-preview xr-preview'>0</div><input id='attrs-1d6be4fa-a6b1-4b42-85f5-96b2eb05c87c' class='xr-var-attrs-in' type='checkbox' disabled><label for='attrs-1d6be4fa-a6b1-4b42-85f5-96b2eb05c87c' title='Show/Hide attributes'><svg class='icon xr-icon-file-text2'><use xlink:href='#icon-file-text2'></use></svg></label><input id='data-e3b5259b-49fd-40ff-9e4f-b224cde598a0' class='xr-var-data-in' type='checkbox'><label for='data-e3b5259b-49fd-40ff-9e4f-b224cde598a0' title='Show/Hide data repr'><svg class='icon xr-icon-database'><use xlink:href='#icon-database'></use></svg></label><div class='xr-var-attrs'><dl class='xr-attrs'></dl></div><div class='xr-var-data'><pre>array(0)</pre></div></li><li class='xr-var-item'><div class='xr-var-name'><span>event</span></div><div class='xr-var-dims'>()</div><div class='xr-var-dtype'>int64</div><div class='xr-var-preview xr-preview'>0</div><input id='attrs-2a498ab9-7b75-4b67-821f-d915535f189e' class='xr-var-attrs-in' type='checkbox' disabled><label for='attrs-2a498ab9-7b75-4b67-821f-d915535f189e' title='Show/Hide attributes'><svg class='icon xr-icon-file-text2'><use xlink:href='#icon-file-text2'></use></svg></label><input id='data-d9e40129-47c8-473a-8fcb-af168829cd8f' class='xr-var-data-in' type='checkbox'><label for='data-d9e40129-47c8-473a-8fcb-af168829cd8f' title='Show/Hide data repr'><svg class='icon xr-icon-database'><use xlink:href='#icon-database'></use></svg></label><div class='xr-var-attrs'><dl class='xr-attrs'></dl></div><div class='xr-var-data'><pre>array(0)</pre></div></li><li class='xr-var-item'><div class='xr-var-name'><span>snap</span></div><div class='xr-var-dims'>()</div><div class='xr-var-dtype'>int64</div><div class='xr-var-preview xr-preview'>0</div><input id='attrs-e5e8c680-9187-4d65-926c-debd1c3ee1df' class='xr-var-attrs-in' type='checkbox' disabled><label for='attrs-e5e8c680-9187-4d65-926c-debd1c3ee1df' title='Show/Hide attributes'><svg class='icon xr-icon-file-text2'><use xlink:href='#icon-file-text2'></use></svg></label><input id='data-cdfbbfa6-61da-42c2-acee-520a3813b11c' class='xr-var-data-in' type='checkbox'><label for='data-cdfbbfa6-61da-42c2-acee-520a3813b11c' title='Show/Hide data repr'><svg class='icon xr-icon-database'><use xlink:href='#icon-database'></use></svg></label><div class='xr-var-attrs'><dl class='xr-attrs'></dl></div><div class='xr-var-data'><pre>array(0)</pre></div></li></ul></div></li><li class='xr-section-item'><input id='section-83a54ade-ca1f-49f0-b400-696c228410f3' class='xr-section-summary-in' type='checkbox' disabled ><label for='section-83a54ade-ca1f-49f0-b400-696c228410f3' class='xr-section-summary'  title='Expand/collapse section'>Attributes: <span>(0)</span></label><div class='xr-section-inline-details'></div><div class='xr-section-details'><dl class='xr-attrs'></dl></div></li></ul></div></div>"
      ],
      "text/plain": [
       "<xarray.Dataset>\n",
       "Dimensions:  ()\n",
       "Data variables:\n",
       "    sales    int64 0\n",
       "    price    int64 0\n",
       "    wday     int64 0\n",
       "    month    int64 0\n",
       "    year     int64 0\n",
       "    event    int64 0\n",
       "    snap     int64 0"
      ]
     },
     "execution_count": 73,
     "metadata": {},
     "output_type": "execute_result"
    }
   ],
   "source": [
    "(ds<0).sum()"
   ]
  },
  {
   "cell_type": "markdown",
   "metadata": {},
   "source": [
    "Check that we don't have any nulls in our data:"
   ]
  },
  {
   "cell_type": "code",
   "execution_count": 74,
   "metadata": {
    "ExecuteTime": {
     "end_time": "2021-07-06T00:26:30.399240Z",
     "start_time": "2021-07-06T00:26:30.252943Z"
    }
   },
   "outputs": [
    {
     "data": {
      "text/html": [
       "<div><svg style=\"position: absolute; width: 0; height: 0; overflow: hidden\">\n",
       "<defs>\n",
       "<symbol id=\"icon-database\" viewBox=\"0 0 32 32\">\n",
       "<path d=\"M16 0c-8.837 0-16 2.239-16 5v4c0 2.761 7.163 5 16 5s16-2.239 16-5v-4c0-2.761-7.163-5-16-5z\"></path>\n",
       "<path d=\"M16 17c-8.837 0-16-2.239-16-5v6c0 2.761 7.163 5 16 5s16-2.239 16-5v-6c0 2.761-7.163 5-16 5z\"></path>\n",
       "<path d=\"M16 26c-8.837 0-16-2.239-16-5v6c0 2.761 7.163 5 16 5s16-2.239 16-5v-6c0 2.761-7.163 5-16 5z\"></path>\n",
       "</symbol>\n",
       "<symbol id=\"icon-file-text2\" viewBox=\"0 0 32 32\">\n",
       "<path d=\"M28.681 7.159c-0.694-0.947-1.662-2.053-2.724-3.116s-2.169-2.030-3.116-2.724c-1.612-1.182-2.393-1.319-2.841-1.319h-15.5c-1.378 0-2.5 1.121-2.5 2.5v27c0 1.378 1.122 2.5 2.5 2.5h23c1.378 0 2.5-1.122 2.5-2.5v-19.5c0-0.448-0.137-1.23-1.319-2.841zM24.543 5.457c0.959 0.959 1.712 1.825 2.268 2.543h-4.811v-4.811c0.718 0.556 1.584 1.309 2.543 2.268zM28 29.5c0 0.271-0.229 0.5-0.5 0.5h-23c-0.271 0-0.5-0.229-0.5-0.5v-27c0-0.271 0.229-0.5 0.5-0.5 0 0 15.499-0 15.5 0v7c0 0.552 0.448 1 1 1h7v19.5z\"></path>\n",
       "<path d=\"M23 26h-14c-0.552 0-1-0.448-1-1s0.448-1 1-1h14c0.552 0 1 0.448 1 1s-0.448 1-1 1z\"></path>\n",
       "<path d=\"M23 22h-14c-0.552 0-1-0.448-1-1s0.448-1 1-1h14c0.552 0 1 0.448 1 1s-0.448 1-1 1z\"></path>\n",
       "<path d=\"M23 18h-14c-0.552 0-1-0.448-1-1s0.448-1 1-1h14c0.552 0 1 0.448 1 1s-0.448 1-1 1z\"></path>\n",
       "</symbol>\n",
       "</defs>\n",
       "</svg>\n",
       "<style>/* CSS stylesheet for displaying xarray objects in jupyterlab.\n",
       " *\n",
       " */\n",
       "\n",
       ":root {\n",
       "  --xr-font-color0: var(--jp-content-font-color0, rgba(0, 0, 0, 1));\n",
       "  --xr-font-color2: var(--jp-content-font-color2, rgba(0, 0, 0, 0.54));\n",
       "  --xr-font-color3: var(--jp-content-font-color3, rgba(0, 0, 0, 0.38));\n",
       "  --xr-border-color: var(--jp-border-color2, #e0e0e0);\n",
       "  --xr-disabled-color: var(--jp-layout-color3, #bdbdbd);\n",
       "  --xr-background-color: var(--jp-layout-color0, white);\n",
       "  --xr-background-color-row-even: var(--jp-layout-color1, white);\n",
       "  --xr-background-color-row-odd: var(--jp-layout-color2, #eeeeee);\n",
       "}\n",
       "\n",
       "html[theme=dark],\n",
       "body.vscode-dark {\n",
       "  --xr-font-color0: rgba(255, 255, 255, 1);\n",
       "  --xr-font-color2: rgba(255, 255, 255, 0.54);\n",
       "  --xr-font-color3: rgba(255, 255, 255, 0.38);\n",
       "  --xr-border-color: #1F1F1F;\n",
       "  --xr-disabled-color: #515151;\n",
       "  --xr-background-color: #111111;\n",
       "  --xr-background-color-row-even: #111111;\n",
       "  --xr-background-color-row-odd: #313131;\n",
       "}\n",
       "\n",
       ".xr-wrap {\n",
       "  display: block;\n",
       "  min-width: 300px;\n",
       "  max-width: 700px;\n",
       "}\n",
       "\n",
       ".xr-text-repr-fallback {\n",
       "  /* fallback to plain text repr when CSS is not injected (untrusted notebook) */\n",
       "  display: none;\n",
       "}\n",
       "\n",
       ".xr-header {\n",
       "  padding-top: 6px;\n",
       "  padding-bottom: 6px;\n",
       "  margin-bottom: 4px;\n",
       "  border-bottom: solid 1px var(--xr-border-color);\n",
       "}\n",
       "\n",
       ".xr-header > div,\n",
       ".xr-header > ul {\n",
       "  display: inline;\n",
       "  margin-top: 0;\n",
       "  margin-bottom: 0;\n",
       "}\n",
       "\n",
       ".xr-obj-type,\n",
       ".xr-array-name {\n",
       "  margin-left: 2px;\n",
       "  margin-right: 10px;\n",
       "}\n",
       "\n",
       ".xr-obj-type {\n",
       "  color: var(--xr-font-color2);\n",
       "}\n",
       "\n",
       ".xr-sections {\n",
       "  padding-left: 0 !important;\n",
       "  display: grid;\n",
       "  grid-template-columns: 150px auto auto 1fr 20px 20px;\n",
       "}\n",
       "\n",
       ".xr-section-item {\n",
       "  display: contents;\n",
       "}\n",
       "\n",
       ".xr-section-item input {\n",
       "  display: none;\n",
       "}\n",
       "\n",
       ".xr-section-item input + label {\n",
       "  color: var(--xr-disabled-color);\n",
       "}\n",
       "\n",
       ".xr-section-item input:enabled + label {\n",
       "  cursor: pointer;\n",
       "  color: var(--xr-font-color2);\n",
       "}\n",
       "\n",
       ".xr-section-item input:enabled + label:hover {\n",
       "  color: var(--xr-font-color0);\n",
       "}\n",
       "\n",
       ".xr-section-summary {\n",
       "  grid-column: 1;\n",
       "  color: var(--xr-font-color2);\n",
       "  font-weight: 500;\n",
       "}\n",
       "\n",
       ".xr-section-summary > span {\n",
       "  display: inline-block;\n",
       "  padding-left: 0.5em;\n",
       "}\n",
       "\n",
       ".xr-section-summary-in:disabled + label {\n",
       "  color: var(--xr-font-color2);\n",
       "}\n",
       "\n",
       ".xr-section-summary-in + label:before {\n",
       "  display: inline-block;\n",
       "  content: '►';\n",
       "  font-size: 11px;\n",
       "  width: 15px;\n",
       "  text-align: center;\n",
       "}\n",
       "\n",
       ".xr-section-summary-in:disabled + label:before {\n",
       "  color: var(--xr-disabled-color);\n",
       "}\n",
       "\n",
       ".xr-section-summary-in:checked + label:before {\n",
       "  content: '▼';\n",
       "}\n",
       "\n",
       ".xr-section-summary-in:checked + label > span {\n",
       "  display: none;\n",
       "}\n",
       "\n",
       ".xr-section-summary,\n",
       ".xr-section-inline-details {\n",
       "  padding-top: 4px;\n",
       "  padding-bottom: 4px;\n",
       "}\n",
       "\n",
       ".xr-section-inline-details {\n",
       "  grid-column: 2 / -1;\n",
       "}\n",
       "\n",
       ".xr-section-details {\n",
       "  display: none;\n",
       "  grid-column: 1 / -1;\n",
       "  margin-bottom: 5px;\n",
       "}\n",
       "\n",
       ".xr-section-summary-in:checked ~ .xr-section-details {\n",
       "  display: contents;\n",
       "}\n",
       "\n",
       ".xr-array-wrap {\n",
       "  grid-column: 1 / -1;\n",
       "  display: grid;\n",
       "  grid-template-columns: 20px auto;\n",
       "}\n",
       "\n",
       ".xr-array-wrap > label {\n",
       "  grid-column: 1;\n",
       "  vertical-align: top;\n",
       "}\n",
       "\n",
       ".xr-preview {\n",
       "  color: var(--xr-font-color3);\n",
       "}\n",
       "\n",
       ".xr-array-preview,\n",
       ".xr-array-data {\n",
       "  padding: 0 5px !important;\n",
       "  grid-column: 2;\n",
       "}\n",
       "\n",
       ".xr-array-data,\n",
       ".xr-array-in:checked ~ .xr-array-preview {\n",
       "  display: none;\n",
       "}\n",
       "\n",
       ".xr-array-in:checked ~ .xr-array-data,\n",
       ".xr-array-preview {\n",
       "  display: inline-block;\n",
       "}\n",
       "\n",
       ".xr-dim-list {\n",
       "  display: inline-block !important;\n",
       "  list-style: none;\n",
       "  padding: 0 !important;\n",
       "  margin: 0;\n",
       "}\n",
       "\n",
       ".xr-dim-list li {\n",
       "  display: inline-block;\n",
       "  padding: 0;\n",
       "  margin: 0;\n",
       "}\n",
       "\n",
       ".xr-dim-list:before {\n",
       "  content: '(';\n",
       "}\n",
       "\n",
       ".xr-dim-list:after {\n",
       "  content: ')';\n",
       "}\n",
       "\n",
       ".xr-dim-list li:not(:last-child):after {\n",
       "  content: ',';\n",
       "  padding-right: 5px;\n",
       "}\n",
       "\n",
       ".xr-has-index {\n",
       "  font-weight: bold;\n",
       "}\n",
       "\n",
       ".xr-var-list,\n",
       ".xr-var-item {\n",
       "  display: contents;\n",
       "}\n",
       "\n",
       ".xr-var-item > div,\n",
       ".xr-var-item label,\n",
       ".xr-var-item > .xr-var-name span {\n",
       "  background-color: var(--xr-background-color-row-even);\n",
       "  margin-bottom: 0;\n",
       "}\n",
       "\n",
       ".xr-var-item > .xr-var-name:hover span {\n",
       "  padding-right: 5px;\n",
       "}\n",
       "\n",
       ".xr-var-list > li:nth-child(odd) > div,\n",
       ".xr-var-list > li:nth-child(odd) > label,\n",
       ".xr-var-list > li:nth-child(odd) > .xr-var-name span {\n",
       "  background-color: var(--xr-background-color-row-odd);\n",
       "}\n",
       "\n",
       ".xr-var-name {\n",
       "  grid-column: 1;\n",
       "}\n",
       "\n",
       ".xr-var-dims {\n",
       "  grid-column: 2;\n",
       "}\n",
       "\n",
       ".xr-var-dtype {\n",
       "  grid-column: 3;\n",
       "  text-align: right;\n",
       "  color: var(--xr-font-color2);\n",
       "}\n",
       "\n",
       ".xr-var-preview {\n",
       "  grid-column: 4;\n",
       "}\n",
       "\n",
       ".xr-var-name,\n",
       ".xr-var-dims,\n",
       ".xr-var-dtype,\n",
       ".xr-preview,\n",
       ".xr-attrs dt {\n",
       "  white-space: nowrap;\n",
       "  overflow: hidden;\n",
       "  text-overflow: ellipsis;\n",
       "  padding-right: 10px;\n",
       "}\n",
       "\n",
       ".xr-var-name:hover,\n",
       ".xr-var-dims:hover,\n",
       ".xr-var-dtype:hover,\n",
       ".xr-attrs dt:hover {\n",
       "  overflow: visible;\n",
       "  width: auto;\n",
       "  z-index: 1;\n",
       "}\n",
       "\n",
       ".xr-var-attrs,\n",
       ".xr-var-data {\n",
       "  display: none;\n",
       "  background-color: var(--xr-background-color) !important;\n",
       "  padding-bottom: 5px !important;\n",
       "}\n",
       "\n",
       ".xr-var-attrs-in:checked ~ .xr-var-attrs,\n",
       ".xr-var-data-in:checked ~ .xr-var-data {\n",
       "  display: block;\n",
       "}\n",
       "\n",
       ".xr-var-data > table {\n",
       "  float: right;\n",
       "}\n",
       "\n",
       ".xr-var-name span,\n",
       ".xr-var-data,\n",
       ".xr-attrs {\n",
       "  padding-left: 25px !important;\n",
       "}\n",
       "\n",
       ".xr-attrs,\n",
       ".xr-var-attrs,\n",
       ".xr-var-data {\n",
       "  grid-column: 1 / -1;\n",
       "}\n",
       "\n",
       "dl.xr-attrs {\n",
       "  padding: 0;\n",
       "  margin: 0;\n",
       "  display: grid;\n",
       "  grid-template-columns: 125px auto;\n",
       "}\n",
       "\n",
       ".xr-attrs dt,\n",
       ".xr-attrs dd {\n",
       "  padding: 0;\n",
       "  margin: 0;\n",
       "  float: left;\n",
       "  padding-right: 10px;\n",
       "  width: auto;\n",
       "}\n",
       "\n",
       ".xr-attrs dt {\n",
       "  font-weight: normal;\n",
       "  grid-column: 1;\n",
       "}\n",
       "\n",
       ".xr-attrs dt:hover span {\n",
       "  display: inline-block;\n",
       "  background: var(--xr-background-color);\n",
       "  padding-right: 10px;\n",
       "}\n",
       "\n",
       ".xr-attrs dd {\n",
       "  grid-column: 2;\n",
       "  white-space: pre-wrap;\n",
       "  word-break: break-all;\n",
       "}\n",
       "\n",
       ".xr-icon-database,\n",
       ".xr-icon-file-text2 {\n",
       "  display: inline-block;\n",
       "  vertical-align: middle;\n",
       "  width: 1em;\n",
       "  height: 1.5em !important;\n",
       "  stroke-width: 0;\n",
       "  stroke: currentColor;\n",
       "  fill: currentColor;\n",
       "}\n",
       "</style><pre class='xr-text-repr-fallback'>&lt;xarray.Dataset&gt;\n",
       "Dimensions:  ()\n",
       "Data variables:\n",
       "    sales    int64 0\n",
       "    price    int64 0\n",
       "    wday     int64 0\n",
       "    month    int64 0\n",
       "    year     int64 0\n",
       "    event    int64 0\n",
       "    snap     int64 0</pre><div class='xr-wrap' hidden><div class='xr-header'><div class='xr-obj-type'>xarray.Dataset</div></div><ul class='xr-sections'><li class='xr-section-item'><input id='section-0ca021d4-7f55-495e-9fef-3f4f26d120d7' class='xr-section-summary-in' type='checkbox' disabled ><label for='section-0ca021d4-7f55-495e-9fef-3f4f26d120d7' class='xr-section-summary'  title='Expand/collapse section'>Dimensions:</label><div class='xr-section-inline-details'></div><div class='xr-section-details'></div></li><li class='xr-section-item'><input id='section-3c693977-a42c-41ac-89e5-fb8e36ce8250' class='xr-section-summary-in' type='checkbox' disabled ><label for='section-3c693977-a42c-41ac-89e5-fb8e36ce8250' class='xr-section-summary'  title='Expand/collapse section'>Coordinates: <span>(0)</span></label><div class='xr-section-inline-details'></div><div class='xr-section-details'><ul class='xr-var-list'></ul></div></li><li class='xr-section-item'><input id='section-08d5c75a-7098-4ec9-8033-0b655eca9a57' class='xr-section-summary-in' type='checkbox'  checked><label for='section-08d5c75a-7098-4ec9-8033-0b655eca9a57' class='xr-section-summary' >Data variables: <span>(7)</span></label><div class='xr-section-inline-details'></div><div class='xr-section-details'><ul class='xr-var-list'><li class='xr-var-item'><div class='xr-var-name'><span>sales</span></div><div class='xr-var-dims'>()</div><div class='xr-var-dtype'>int64</div><div class='xr-var-preview xr-preview'>0</div><input id='attrs-f453e501-def8-42f2-902f-dad6b2253bab' class='xr-var-attrs-in' type='checkbox' disabled><label for='attrs-f453e501-def8-42f2-902f-dad6b2253bab' title='Show/Hide attributes'><svg class='icon xr-icon-file-text2'><use xlink:href='#icon-file-text2'></use></svg></label><input id='data-90ed7e0f-b829-4538-9225-68d2ff54fe37' class='xr-var-data-in' type='checkbox'><label for='data-90ed7e0f-b829-4538-9225-68d2ff54fe37' title='Show/Hide data repr'><svg class='icon xr-icon-database'><use xlink:href='#icon-database'></use></svg></label><div class='xr-var-attrs'><dl class='xr-attrs'></dl></div><div class='xr-var-data'><pre>array(0)</pre></div></li><li class='xr-var-item'><div class='xr-var-name'><span>price</span></div><div class='xr-var-dims'>()</div><div class='xr-var-dtype'>int64</div><div class='xr-var-preview xr-preview'>0</div><input id='attrs-ad2e062a-3454-492c-8a43-b5c91f1c8604' class='xr-var-attrs-in' type='checkbox' disabled><label for='attrs-ad2e062a-3454-492c-8a43-b5c91f1c8604' title='Show/Hide attributes'><svg class='icon xr-icon-file-text2'><use xlink:href='#icon-file-text2'></use></svg></label><input id='data-83654280-8516-4a81-8ed3-66a3bde47dc5' class='xr-var-data-in' type='checkbox'><label for='data-83654280-8516-4a81-8ed3-66a3bde47dc5' title='Show/Hide data repr'><svg class='icon xr-icon-database'><use xlink:href='#icon-database'></use></svg></label><div class='xr-var-attrs'><dl class='xr-attrs'></dl></div><div class='xr-var-data'><pre>array(0)</pre></div></li><li class='xr-var-item'><div class='xr-var-name'><span>wday</span></div><div class='xr-var-dims'>()</div><div class='xr-var-dtype'>int64</div><div class='xr-var-preview xr-preview'>0</div><input id='attrs-ec76459c-0156-42f0-870e-495f653bbfbb' class='xr-var-attrs-in' type='checkbox' disabled><label for='attrs-ec76459c-0156-42f0-870e-495f653bbfbb' title='Show/Hide attributes'><svg class='icon xr-icon-file-text2'><use xlink:href='#icon-file-text2'></use></svg></label><input id='data-5ac0e12e-fd39-462c-b3e6-639a05f02d66' class='xr-var-data-in' type='checkbox'><label for='data-5ac0e12e-fd39-462c-b3e6-639a05f02d66' title='Show/Hide data repr'><svg class='icon xr-icon-database'><use xlink:href='#icon-database'></use></svg></label><div class='xr-var-attrs'><dl class='xr-attrs'></dl></div><div class='xr-var-data'><pre>array(0)</pre></div></li><li class='xr-var-item'><div class='xr-var-name'><span>month</span></div><div class='xr-var-dims'>()</div><div class='xr-var-dtype'>int64</div><div class='xr-var-preview xr-preview'>0</div><input id='attrs-9d4b96ae-593d-4bb2-b06f-4973651de821' class='xr-var-attrs-in' type='checkbox' disabled><label for='attrs-9d4b96ae-593d-4bb2-b06f-4973651de821' title='Show/Hide attributes'><svg class='icon xr-icon-file-text2'><use xlink:href='#icon-file-text2'></use></svg></label><input id='data-6a13d375-98ce-4117-8f77-933251bd537f' class='xr-var-data-in' type='checkbox'><label for='data-6a13d375-98ce-4117-8f77-933251bd537f' title='Show/Hide data repr'><svg class='icon xr-icon-database'><use xlink:href='#icon-database'></use></svg></label><div class='xr-var-attrs'><dl class='xr-attrs'></dl></div><div class='xr-var-data'><pre>array(0)</pre></div></li><li class='xr-var-item'><div class='xr-var-name'><span>year</span></div><div class='xr-var-dims'>()</div><div class='xr-var-dtype'>int64</div><div class='xr-var-preview xr-preview'>0</div><input id='attrs-bf3781df-10d2-4f76-a563-01347d31e544' class='xr-var-attrs-in' type='checkbox' disabled><label for='attrs-bf3781df-10d2-4f76-a563-01347d31e544' title='Show/Hide attributes'><svg class='icon xr-icon-file-text2'><use xlink:href='#icon-file-text2'></use></svg></label><input id='data-548d2f7a-5b05-413e-aa57-42d66f87e554' class='xr-var-data-in' type='checkbox'><label for='data-548d2f7a-5b05-413e-aa57-42d66f87e554' title='Show/Hide data repr'><svg class='icon xr-icon-database'><use xlink:href='#icon-database'></use></svg></label><div class='xr-var-attrs'><dl class='xr-attrs'></dl></div><div class='xr-var-data'><pre>array(0)</pre></div></li><li class='xr-var-item'><div class='xr-var-name'><span>event</span></div><div class='xr-var-dims'>()</div><div class='xr-var-dtype'>int64</div><div class='xr-var-preview xr-preview'>0</div><input id='attrs-a976d469-50b4-4cef-8ee7-07016c46d370' class='xr-var-attrs-in' type='checkbox' disabled><label for='attrs-a976d469-50b4-4cef-8ee7-07016c46d370' title='Show/Hide attributes'><svg class='icon xr-icon-file-text2'><use xlink:href='#icon-file-text2'></use></svg></label><input id='data-29e4beb8-0165-45c5-8b14-e79afed982b7' class='xr-var-data-in' type='checkbox'><label for='data-29e4beb8-0165-45c5-8b14-e79afed982b7' title='Show/Hide data repr'><svg class='icon xr-icon-database'><use xlink:href='#icon-database'></use></svg></label><div class='xr-var-attrs'><dl class='xr-attrs'></dl></div><div class='xr-var-data'><pre>array(0)</pre></div></li><li class='xr-var-item'><div class='xr-var-name'><span>snap</span></div><div class='xr-var-dims'>()</div><div class='xr-var-dtype'>int64</div><div class='xr-var-preview xr-preview'>0</div><input id='attrs-ea542ced-539d-475b-94ab-507e32d8701c' class='xr-var-attrs-in' type='checkbox' disabled><label for='attrs-ea542ced-539d-475b-94ab-507e32d8701c' title='Show/Hide attributes'><svg class='icon xr-icon-file-text2'><use xlink:href='#icon-file-text2'></use></svg></label><input id='data-2b9e1cb8-0c5d-4238-9a10-bec9c7b68821' class='xr-var-data-in' type='checkbox'><label for='data-2b9e1cb8-0c5d-4238-9a10-bec9c7b68821' title='Show/Hide data repr'><svg class='icon xr-icon-database'><use xlink:href='#icon-database'></use></svg></label><div class='xr-var-attrs'><dl class='xr-attrs'></dl></div><div class='xr-var-data'><pre>array(0)</pre></div></li></ul></div></li><li class='xr-section-item'><input id='section-671303c0-79d9-4b89-a580-fec4a955791a' class='xr-section-summary-in' type='checkbox' disabled ><label for='section-671303c0-79d9-4b89-a580-fec4a955791a' class='xr-section-summary'  title='Expand/collapse section'>Attributes: <span>(0)</span></label><div class='xr-section-inline-details'></div><div class='xr-section-details'><dl class='xr-attrs'></dl></div></li></ul></div></div>"
      ],
      "text/plain": [
       "<xarray.Dataset>\n",
       "Dimensions:  ()\n",
       "Data variables:\n",
       "    sales    int64 0\n",
       "    price    int64 0\n",
       "    wday     int64 0\n",
       "    month    int64 0\n",
       "    year     int64 0\n",
       "    event    int64 0\n",
       "    snap     int64 0"
      ]
     },
     "execution_count": 74,
     "metadata": {},
     "output_type": "execute_result"
    }
   ],
   "source": [
    "ds.isnull().sum()"
   ]
  },
  {
   "cell_type": "markdown",
   "metadata": {},
   "source": [
    "### Create Features"
   ]
  },
  {
   "cell_type": "markdown",
   "metadata": {},
   "source": [
    "We will calculate features now, to avoid having to create a pipeline.\n",
    "(It's not available in nd_learn yet, and I don't have enough time to code it)"
   ]
  },
  {
   "cell_type": "code",
   "execution_count": 75,
   "metadata": {
    "ExecuteTime": {
     "end_time": "2021-07-06T00:26:30.401648Z",
     "start_time": "2021-07-06T00:26:30.400174Z"
    }
   },
   "outputs": [],
   "source": [
    "# raw_ds = ds.copy()"
   ]
  },
  {
   "cell_type": "markdown",
   "metadata": {},
   "source": [
    "We can't use target lags directly, because we must do a prediction many steps ahead!"
   ]
  },
  {
   "cell_type": "markdown",
   "metadata": {},
   "source": [
    "Categorical features (as integers, because LightGBM can encode them natively)"
   ]
  },
  {
   "cell_type": "code",
   "execution_count": 76,
   "metadata": {
    "ExecuteTime": {
     "end_time": "2021-07-06T00:26:30.411794Z",
     "start_time": "2021-07-06T00:26:30.402541Z"
    }
   },
   "outputs": [],
   "source": [
    "ds.coords['category'] = np.unique(ds['cat_id'])\n",
    "ds.coords['department'] = np.unique(ds['dept_id'])\n",
    "ds.coords['state'] = np.unique(ds['state_id'])\n",
    "ds.coords['store'] = np.unique(ds['store_id'])\n",
    "ds.coords['item'] = np.unique(ds['item_id'])"
   ]
  },
  {
   "cell_type": "code",
   "execution_count": 77,
   "metadata": {
    "ExecuteTime": {
     "end_time": "2021-07-06T00:26:30.415274Z",
     "start_time": "2021-07-06T00:26:30.413007Z"
    }
   },
   "outputs": [],
   "source": [
    "def get_feat(ds, a: str, b: str) -> xr.DataArray:\n",
    "    q = (ds[a] == ds[b])\n",
    "    q.coords[b] = np.arange(len(q[b]))\n",
    "    return q.idxmax(dim=b)"
   ]
  },
  {
   "cell_type": "code",
   "execution_count": 78,
   "metadata": {
    "ExecuteTime": {
     "end_time": "2021-07-06T00:26:30.554094Z",
     "start_time": "2021-07-06T00:26:30.416486Z"
    }
   },
   "outputs": [],
   "source": [
    "ds[\"feat_category\"] = get_feat(ds, 'cat_id', 'category')\n",
    "ds[\"feat_department\"] = get_feat(ds, 'dept_id', 'department')\n",
    "ds[\"feat_item\"] = get_feat(ds, 'item_id', 'item')\n",
    "ds[\"feat_state\"] = get_feat(ds, 'state_id', 'state')\n",
    "ds[\"feat_store\"] = get_feat(ds, 'store_id', 'store')"
   ]
  },
  {
   "cell_type": "markdown",
   "metadata": {},
   "source": [
    "Event features (there can be more than 1 event, but we'll take the first one & save number of them)"
   ]
  },
  {
   "cell_type": "code",
   "execution_count": 79,
   "metadata": {
    "ExecuteTime": {
     "end_time": "2021-07-06T00:26:30.560147Z",
     "start_time": "2021-07-06T00:26:30.555244Z"
    }
   },
   "outputs": [],
   "source": [
    "new_ev = xr.Dataset(\n",
    "    coords={\n",
    "        \"event_name\": (\"event_name\", [\"(No Event)\"]),\n",
    "        \"event_type\": (\"event_name\", [\"(No Event)\"]),\n",
    "    },\n",
    ")\n",
    "ds = xr.merge([new_ev, ds])"
   ]
  },
  {
   "cell_type": "code",
   "execution_count": 80,
   "metadata": {
    "ExecuteTime": {
     "end_time": "2021-07-06T00:26:30.566986Z",
     "start_time": "2021-07-06T00:26:30.560993Z"
    }
   },
   "outputs": [],
   "source": [
    "ds['n_events'] = ds['event'].sum(dim='event_name')\n",
    "ds['event_ohe'] = ds['event'].fillna(ds['n_events']==0).astype(int)\n",
    "del ds['event']"
   ]
  },
  {
   "cell_type": "code",
   "execution_count": 81,
   "metadata": {
    "ExecuteTime": {
     "end_time": "2021-07-06T00:26:30.579345Z",
     "start_time": "2021-07-06T00:26:30.567762Z"
    }
   },
   "outputs": [],
   "source": [
    "ds['feat_event'] = (ds['event_ohe'] * ds['event_name']).any(dim='event_name')\n",
    "ds['feat_event'] = ds['feat_event'].where(ds['n_events'], other=np.nan)\n",
    "q = get_feat(ds, 'feat_event', 'event_name')\n",
    "q = q.where(~ds['feat_event'].isnull(), 0)\n",
    "ds['feat_event'] = q"
   ]
  },
  {
   "cell_type": "code",
   "execution_count": 82,
   "metadata": {
    "ExecuteTime": {
     "end_time": "2021-07-06T00:26:30.583287Z",
     "start_time": "2021-07-06T00:26:30.580114Z"
    }
   },
   "outputs": [],
   "source": [
    "ds.coords['etype'] = np.unique(ds['event_type'])"
   ]
  },
  {
   "cell_type": "code",
   "execution_count": 83,
   "metadata": {
    "ExecuteTime": {
     "end_time": "2021-07-06T00:26:30.595786Z",
     "start_time": "2021-07-06T00:26:30.584044Z"
    }
   },
   "outputs": [],
   "source": [
    "ds['feat_etype'] = (ds['event_ohe'] * ds['event_type']).any(dim='event_name')\n",
    "ds['feat_etype'] = ds['feat_etype'].where(ds['n_events'], other=np.nan)\n",
    "q = get_feat(ds, 'feat_etype', 'etype')\n",
    "q = q.where(~ds['feat_etype'].isnull(), 0)\n",
    "ds['feat_etype'] = q"
   ]
  },
  {
   "cell_type": "markdown",
   "metadata": {},
   "source": [
    "Remove `\"event\"/\"event_ohe\"` due to memory concerns :)"
   ]
  },
  {
   "cell_type": "code",
   "execution_count": 84,
   "metadata": {
    "ExecuteTime": {
     "end_time": "2021-07-06T00:26:30.598040Z",
     "start_time": "2021-07-06T00:26:30.596603Z"
    }
   },
   "outputs": [],
   "source": [
    "del ds['event_ohe']  # This is problematic in terms of memory usage"
   ]
  },
  {
   "cell_type": "markdown",
   "metadata": {},
   "source": [
    "Lead/Lag for nearby events (e.g. people buy up for events):"
   ]
  },
  {
   "cell_type": "code",
   "execution_count": 85,
   "metadata": {
    "ExecuteTime": {
     "end_time": "2021-07-06T00:26:30.606527Z",
     "start_time": "2021-07-06T00:26:30.598826Z"
    }
   },
   "outputs": [],
   "source": [
    "leads = [1, 2]\n",
    "_ds_leads = []\n",
    "for i in leads:\n",
    "    _ds_leads.append(ds[\"n_events\"].shift(date=-i, fill_value=0).astype(int).expand_dims({\"lead\": i}))\n",
    "ds[\"n_events_future\"] = xr.concat(_ds_leads, dim=\"lead\")\n",
    "    \n",
    "lags = [1]\n",
    "_ds_lags = []\n",
    "for i in lags:\n",
    "    _ds_lags.append(ds[\"n_events\"].shift(date=i, fill_value=0).astype(int).expand_dims({\"lag\": i}))\n",
    "ds[\"n_events_past\"] = xr.concat(_ds_lags, dim=\"lag\")"
   ]
  },
  {
   "cell_type": "markdown",
   "metadata": {},
   "source": [
    "Get sales for 1 year ago"
   ]
  },
  {
   "cell_type": "code",
   "execution_count": 86,
   "metadata": {
    "ExecuteTime": {
     "end_time": "2021-07-06T00:26:30.871592Z",
     "start_time": "2021-07-06T00:26:30.607324Z"
    }
   },
   "outputs": [],
   "source": [
    "_r1 = ds['sales'].shift({\"date\": 365}, fill_value=0).rolling({'date': 7}, min_periods=1, center=False)"
   ]
  },
  {
   "cell_type": "code",
   "execution_count": 87,
   "metadata": {
    "ExecuteTime": {
     "end_time": "2021-07-06T00:26:31.448562Z",
     "start_time": "2021-07-06T00:26:30.872556Z"
    }
   },
   "outputs": [],
   "source": [
    "ds['sales_year_ago_mean'] = _r1.mean()\n",
    "ds['sales_year_ago_max'] = _r1.max()\n",
    "ds['sales_year_ago_min'] = _r1.min()"
   ]
  },
  {
   "cell_type": "markdown",
   "metadata": {},
   "source": [
    "Get price for 1 year ago"
   ]
  },
  {
   "cell_type": "code",
   "execution_count": 88,
   "metadata": {
    "ExecuteTime": {
     "end_time": "2021-07-06T00:26:31.771998Z",
     "start_time": "2021-07-06T00:26:31.450179Z"
    }
   },
   "outputs": [],
   "source": [
    "_r2 = ds['price'].shift({\"date\": 365}).bfill(dim=\"date\").rolling({'date': 7}, min_periods=1, center=False)"
   ]
  },
  {
   "cell_type": "code",
   "execution_count": 89,
   "metadata": {
    "ExecuteTime": {
     "end_time": "2021-07-06T00:26:32.289273Z",
     "start_time": "2021-07-06T00:26:31.773334Z"
    }
   },
   "outputs": [],
   "source": [
    "ds['price_year_ago_mean'] = _r2.mean()\n",
    "ds['price_year_ago_max'] = _r2.max()\n",
    "ds['price_year_ago_min'] = _r2.min()"
   ]
  },
  {
   "cell_type": "markdown",
   "metadata": {},
   "source": [
    "Remove \"year\" to prevent some overfitting"
   ]
  },
  {
   "cell_type": "code",
   "execution_count": 90,
   "metadata": {
    "ExecuteTime": {
     "end_time": "2021-07-06T00:26:32.292282Z",
     "start_time": "2021-07-06T00:26:32.290455Z"
    }
   },
   "outputs": [],
   "source": [
    "del ds[\"year\"]"
   ]
  },
  {
   "cell_type": "markdown",
   "metadata": {},
   "source": [
    "Preview our dataset"
   ]
  },
  {
   "cell_type": "code",
   "execution_count": 91,
   "metadata": {
    "ExecuteTime": {
     "end_time": "2021-07-06T00:26:32.355323Z",
     "start_time": "2021-07-06T00:26:32.293118Z"
    }
   },
   "outputs": [
    {
     "data": {
      "text/html": [
       "<div><svg style=\"position: absolute; width: 0; height: 0; overflow: hidden\">\n",
       "<defs>\n",
       "<symbol id=\"icon-database\" viewBox=\"0 0 32 32\">\n",
       "<path d=\"M16 0c-8.837 0-16 2.239-16 5v4c0 2.761 7.163 5 16 5s16-2.239 16-5v-4c0-2.761-7.163-5-16-5z\"></path>\n",
       "<path d=\"M16 17c-8.837 0-16-2.239-16-5v6c0 2.761 7.163 5 16 5s16-2.239 16-5v-6c0 2.761-7.163 5-16 5z\"></path>\n",
       "<path d=\"M16 26c-8.837 0-16-2.239-16-5v6c0 2.761 7.163 5 16 5s16-2.239 16-5v-6c0 2.761-7.163 5-16 5z\"></path>\n",
       "</symbol>\n",
       "<symbol id=\"icon-file-text2\" viewBox=\"0 0 32 32\">\n",
       "<path d=\"M28.681 7.159c-0.694-0.947-1.662-2.053-2.724-3.116s-2.169-2.030-3.116-2.724c-1.612-1.182-2.393-1.319-2.841-1.319h-15.5c-1.378 0-2.5 1.121-2.5 2.5v27c0 1.378 1.122 2.5 2.5 2.5h23c1.378 0 2.5-1.122 2.5-2.5v-19.5c0-0.448-0.137-1.23-1.319-2.841zM24.543 5.457c0.959 0.959 1.712 1.825 2.268 2.543h-4.811v-4.811c0.718 0.556 1.584 1.309 2.543 2.268zM28 29.5c0 0.271-0.229 0.5-0.5 0.5h-23c-0.271 0-0.5-0.229-0.5-0.5v-27c0-0.271 0.229-0.5 0.5-0.5 0 0 15.499-0 15.5 0v7c0 0.552 0.448 1 1 1h7v19.5z\"></path>\n",
       "<path d=\"M23 26h-14c-0.552 0-1-0.448-1-1s0.448-1 1-1h14c0.552 0 1 0.448 1 1s-0.448 1-1 1z\"></path>\n",
       "<path d=\"M23 22h-14c-0.552 0-1-0.448-1-1s0.448-1 1-1h14c0.552 0 1 0.448 1 1s-0.448 1-1 1z\"></path>\n",
       "<path d=\"M23 18h-14c-0.552 0-1-0.448-1-1s0.448-1 1-1h14c0.552 0 1 0.448 1 1s-0.448 1-1 1z\"></path>\n",
       "</symbol>\n",
       "</defs>\n",
       "</svg>\n",
       "<style>/* CSS stylesheet for displaying xarray objects in jupyterlab.\n",
       " *\n",
       " */\n",
       "\n",
       ":root {\n",
       "  --xr-font-color0: var(--jp-content-font-color0, rgba(0, 0, 0, 1));\n",
       "  --xr-font-color2: var(--jp-content-font-color2, rgba(0, 0, 0, 0.54));\n",
       "  --xr-font-color3: var(--jp-content-font-color3, rgba(0, 0, 0, 0.38));\n",
       "  --xr-border-color: var(--jp-border-color2, #e0e0e0);\n",
       "  --xr-disabled-color: var(--jp-layout-color3, #bdbdbd);\n",
       "  --xr-background-color: var(--jp-layout-color0, white);\n",
       "  --xr-background-color-row-even: var(--jp-layout-color1, white);\n",
       "  --xr-background-color-row-odd: var(--jp-layout-color2, #eeeeee);\n",
       "}\n",
       "\n",
       "html[theme=dark],\n",
       "body.vscode-dark {\n",
       "  --xr-font-color0: rgba(255, 255, 255, 1);\n",
       "  --xr-font-color2: rgba(255, 255, 255, 0.54);\n",
       "  --xr-font-color3: rgba(255, 255, 255, 0.38);\n",
       "  --xr-border-color: #1F1F1F;\n",
       "  --xr-disabled-color: #515151;\n",
       "  --xr-background-color: #111111;\n",
       "  --xr-background-color-row-even: #111111;\n",
       "  --xr-background-color-row-odd: #313131;\n",
       "}\n",
       "\n",
       ".xr-wrap {\n",
       "  display: block;\n",
       "  min-width: 300px;\n",
       "  max-width: 700px;\n",
       "}\n",
       "\n",
       ".xr-text-repr-fallback {\n",
       "  /* fallback to plain text repr when CSS is not injected (untrusted notebook) */\n",
       "  display: none;\n",
       "}\n",
       "\n",
       ".xr-header {\n",
       "  padding-top: 6px;\n",
       "  padding-bottom: 6px;\n",
       "  margin-bottom: 4px;\n",
       "  border-bottom: solid 1px var(--xr-border-color);\n",
       "}\n",
       "\n",
       ".xr-header > div,\n",
       ".xr-header > ul {\n",
       "  display: inline;\n",
       "  margin-top: 0;\n",
       "  margin-bottom: 0;\n",
       "}\n",
       "\n",
       ".xr-obj-type,\n",
       ".xr-array-name {\n",
       "  margin-left: 2px;\n",
       "  margin-right: 10px;\n",
       "}\n",
       "\n",
       ".xr-obj-type {\n",
       "  color: var(--xr-font-color2);\n",
       "}\n",
       "\n",
       ".xr-sections {\n",
       "  padding-left: 0 !important;\n",
       "  display: grid;\n",
       "  grid-template-columns: 150px auto auto 1fr 20px 20px;\n",
       "}\n",
       "\n",
       ".xr-section-item {\n",
       "  display: contents;\n",
       "}\n",
       "\n",
       ".xr-section-item input {\n",
       "  display: none;\n",
       "}\n",
       "\n",
       ".xr-section-item input + label {\n",
       "  color: var(--xr-disabled-color);\n",
       "}\n",
       "\n",
       ".xr-section-item input:enabled + label {\n",
       "  cursor: pointer;\n",
       "  color: var(--xr-font-color2);\n",
       "}\n",
       "\n",
       ".xr-section-item input:enabled + label:hover {\n",
       "  color: var(--xr-font-color0);\n",
       "}\n",
       "\n",
       ".xr-section-summary {\n",
       "  grid-column: 1;\n",
       "  color: var(--xr-font-color2);\n",
       "  font-weight: 500;\n",
       "}\n",
       "\n",
       ".xr-section-summary > span {\n",
       "  display: inline-block;\n",
       "  padding-left: 0.5em;\n",
       "}\n",
       "\n",
       ".xr-section-summary-in:disabled + label {\n",
       "  color: var(--xr-font-color2);\n",
       "}\n",
       "\n",
       ".xr-section-summary-in + label:before {\n",
       "  display: inline-block;\n",
       "  content: '►';\n",
       "  font-size: 11px;\n",
       "  width: 15px;\n",
       "  text-align: center;\n",
       "}\n",
       "\n",
       ".xr-section-summary-in:disabled + label:before {\n",
       "  color: var(--xr-disabled-color);\n",
       "}\n",
       "\n",
       ".xr-section-summary-in:checked + label:before {\n",
       "  content: '▼';\n",
       "}\n",
       "\n",
       ".xr-section-summary-in:checked + label > span {\n",
       "  display: none;\n",
       "}\n",
       "\n",
       ".xr-section-summary,\n",
       ".xr-section-inline-details {\n",
       "  padding-top: 4px;\n",
       "  padding-bottom: 4px;\n",
       "}\n",
       "\n",
       ".xr-section-inline-details {\n",
       "  grid-column: 2 / -1;\n",
       "}\n",
       "\n",
       ".xr-section-details {\n",
       "  display: none;\n",
       "  grid-column: 1 / -1;\n",
       "  margin-bottom: 5px;\n",
       "}\n",
       "\n",
       ".xr-section-summary-in:checked ~ .xr-section-details {\n",
       "  display: contents;\n",
       "}\n",
       "\n",
       ".xr-array-wrap {\n",
       "  grid-column: 1 / -1;\n",
       "  display: grid;\n",
       "  grid-template-columns: 20px auto;\n",
       "}\n",
       "\n",
       ".xr-array-wrap > label {\n",
       "  grid-column: 1;\n",
       "  vertical-align: top;\n",
       "}\n",
       "\n",
       ".xr-preview {\n",
       "  color: var(--xr-font-color3);\n",
       "}\n",
       "\n",
       ".xr-array-preview,\n",
       ".xr-array-data {\n",
       "  padding: 0 5px !important;\n",
       "  grid-column: 2;\n",
       "}\n",
       "\n",
       ".xr-array-data,\n",
       ".xr-array-in:checked ~ .xr-array-preview {\n",
       "  display: none;\n",
       "}\n",
       "\n",
       ".xr-array-in:checked ~ .xr-array-data,\n",
       ".xr-array-preview {\n",
       "  display: inline-block;\n",
       "}\n",
       "\n",
       ".xr-dim-list {\n",
       "  display: inline-block !important;\n",
       "  list-style: none;\n",
       "  padding: 0 !important;\n",
       "  margin: 0;\n",
       "}\n",
       "\n",
       ".xr-dim-list li {\n",
       "  display: inline-block;\n",
       "  padding: 0;\n",
       "  margin: 0;\n",
       "}\n",
       "\n",
       ".xr-dim-list:before {\n",
       "  content: '(';\n",
       "}\n",
       "\n",
       ".xr-dim-list:after {\n",
       "  content: ')';\n",
       "}\n",
       "\n",
       ".xr-dim-list li:not(:last-child):after {\n",
       "  content: ',';\n",
       "  padding-right: 5px;\n",
       "}\n",
       "\n",
       ".xr-has-index {\n",
       "  font-weight: bold;\n",
       "}\n",
       "\n",
       ".xr-var-list,\n",
       ".xr-var-item {\n",
       "  display: contents;\n",
       "}\n",
       "\n",
       ".xr-var-item > div,\n",
       ".xr-var-item label,\n",
       ".xr-var-item > .xr-var-name span {\n",
       "  background-color: var(--xr-background-color-row-even);\n",
       "  margin-bottom: 0;\n",
       "}\n",
       "\n",
       ".xr-var-item > .xr-var-name:hover span {\n",
       "  padding-right: 5px;\n",
       "}\n",
       "\n",
       ".xr-var-list > li:nth-child(odd) > div,\n",
       ".xr-var-list > li:nth-child(odd) > label,\n",
       ".xr-var-list > li:nth-child(odd) > .xr-var-name span {\n",
       "  background-color: var(--xr-background-color-row-odd);\n",
       "}\n",
       "\n",
       ".xr-var-name {\n",
       "  grid-column: 1;\n",
       "}\n",
       "\n",
       ".xr-var-dims {\n",
       "  grid-column: 2;\n",
       "}\n",
       "\n",
       ".xr-var-dtype {\n",
       "  grid-column: 3;\n",
       "  text-align: right;\n",
       "  color: var(--xr-font-color2);\n",
       "}\n",
       "\n",
       ".xr-var-preview {\n",
       "  grid-column: 4;\n",
       "}\n",
       "\n",
       ".xr-var-name,\n",
       ".xr-var-dims,\n",
       ".xr-var-dtype,\n",
       ".xr-preview,\n",
       ".xr-attrs dt {\n",
       "  white-space: nowrap;\n",
       "  overflow: hidden;\n",
       "  text-overflow: ellipsis;\n",
       "  padding-right: 10px;\n",
       "}\n",
       "\n",
       ".xr-var-name:hover,\n",
       ".xr-var-dims:hover,\n",
       ".xr-var-dtype:hover,\n",
       ".xr-attrs dt:hover {\n",
       "  overflow: visible;\n",
       "  width: auto;\n",
       "  z-index: 1;\n",
       "}\n",
       "\n",
       ".xr-var-attrs,\n",
       ".xr-var-data {\n",
       "  display: none;\n",
       "  background-color: var(--xr-background-color) !important;\n",
       "  padding-bottom: 5px !important;\n",
       "}\n",
       "\n",
       ".xr-var-attrs-in:checked ~ .xr-var-attrs,\n",
       ".xr-var-data-in:checked ~ .xr-var-data {\n",
       "  display: block;\n",
       "}\n",
       "\n",
       ".xr-var-data > table {\n",
       "  float: right;\n",
       "}\n",
       "\n",
       ".xr-var-name span,\n",
       ".xr-var-data,\n",
       ".xr-attrs {\n",
       "  padding-left: 25px !important;\n",
       "}\n",
       "\n",
       ".xr-attrs,\n",
       ".xr-var-attrs,\n",
       ".xr-var-data {\n",
       "  grid-column: 1 / -1;\n",
       "}\n",
       "\n",
       "dl.xr-attrs {\n",
       "  padding: 0;\n",
       "  margin: 0;\n",
       "  display: grid;\n",
       "  grid-template-columns: 125px auto;\n",
       "}\n",
       "\n",
       ".xr-attrs dt,\n",
       ".xr-attrs dd {\n",
       "  padding: 0;\n",
       "  margin: 0;\n",
       "  float: left;\n",
       "  padding-right: 10px;\n",
       "  width: auto;\n",
       "}\n",
       "\n",
       ".xr-attrs dt {\n",
       "  font-weight: normal;\n",
       "  grid-column: 1;\n",
       "}\n",
       "\n",
       ".xr-attrs dt:hover span {\n",
       "  display: inline-block;\n",
       "  background: var(--xr-background-color);\n",
       "  padding-right: 10px;\n",
       "}\n",
       "\n",
       ".xr-attrs dd {\n",
       "  grid-column: 2;\n",
       "  white-space: pre-wrap;\n",
       "  word-break: break-all;\n",
       "}\n",
       "\n",
       ".xr-icon-database,\n",
       ".xr-icon-file-text2 {\n",
       "  display: inline-block;\n",
       "  vertical-align: middle;\n",
       "  width: 1em;\n",
       "  height: 1.5em !important;\n",
       "  stroke-width: 0;\n",
       "  stroke: currentColor;\n",
       "  fill: currentColor;\n",
       "}\n",
       "</style><pre class='xr-text-repr-fallback'>&lt;xarray.Dataset&gt;\n",
       "Dimensions:              (category: 3, date: 1941, department: 7, etype: 5, event_name: 31, item: 3049, item_id: 3049, lag: 1, lead: 3, state: 3, store: 10, store_id: 10)\n",
       "Coordinates:\n",
       "  * event_name           (event_name) object &#x27;(No Event)&#x27; ... &#x27;VeteransDay&#x27;\n",
       "    event_type           (event_name) object &#x27;(No Event)&#x27; ... &#x27;National&#x27;\n",
       "  * item_id              (item_id) object &#x27;FOODS_1_001&#x27; ... &#x27;HOUSEHOLD_2_516&#x27;\n",
       "    cat_id               (item_id) object &#x27;FOODS&#x27; &#x27;FOODS&#x27; ... &#x27;HOUSEHOLD&#x27;\n",
       "    dept_id              (item_id) object &#x27;FOODS_1&#x27; &#x27;FOODS_1&#x27; ... &#x27;HOUSEHOLD_2&#x27;\n",
       "  * store_id             (store_id) object &#x27;CA_1&#x27; &#x27;CA_2&#x27; ... &#x27;WI_2&#x27; &#x27;WI_3&#x27;\n",
       "    state_id             (store_id) object &#x27;CA&#x27; &#x27;CA&#x27; &#x27;CA&#x27; ... &#x27;WI&#x27; &#x27;WI&#x27; &#x27;WI&#x27;\n",
       "  * date                 (date) datetime64[ns] 2011-01-29 ... 2016-05-22\n",
       "  * category             (category) object &#x27;FOODS&#x27; &#x27;HOBBIES&#x27; &#x27;HOUSEHOLD&#x27;\n",
       "  * department           (department) object &#x27;FOODS_1&#x27; ... &#x27;HOUSEHOLD_2&#x27;\n",
       "  * state                (state) object &#x27;CA&#x27; &#x27;TX&#x27; &#x27;WI&#x27;\n",
       "  * store                (store) object &#x27;CA_1&#x27; &#x27;CA_2&#x27; &#x27;CA_3&#x27; ... &#x27;WI_2&#x27; &#x27;WI_3&#x27;\n",
       "  * item                 (item) object &#x27;FOODS_1_001&#x27; ... &#x27;HOUSEHOLD_2_516&#x27;\n",
       "  * etype                (etype) object &#x27;(No Event)&#x27; &#x27;Cultural&#x27; ... &#x27;Sporting&#x27;\n",
       "Dimensions without coordinates: lag, lead\n",
       "Data variables:\n",
       "    sales                (item_id, store_id, date) int64 3 0 0 1 4 ... 0 0 0 0 0\n",
       "    price                (item_id, store_id, date) float64 2.0 2.0 ... 5.94 5.94\n",
       "    wday                 (date) int64 1 2 3 4 5 6 7 1 2 3 ... 1 2 3 4 5 6 7 1 2\n",
       "    month                (date) int64 1 1 1 2 2 2 2 2 2 2 ... 5 5 5 5 5 5 5 5 5\n",
       "    snap                 (date, store_id) int64 0 0 0 0 0 0 0 ... 0 0 0 0 0 0 0\n",
       "    feat_category        (item_id) int64 0 0 0 0 0 0 0 0 0 ... 2 2 2 2 2 2 2 2 2\n",
       "    feat_department      (item_id) int64 0 0 0 0 0 0 0 0 0 ... 6 6 6 6 6 6 6 6 6\n",
       "    feat_item            (item_id) int64 0 1 2 3 4 ... 3044 3045 3046 3047 3048\n",
       "    feat_state           (store_id) int64 0 0 0 0 1 1 1 2 2 2\n",
       "    feat_store           (store_id) int64 0 1 2 3 4 5 6 7 8 9\n",
       "    n_events             (date) float64 0.0 0.0 0.0 0.0 0.0 ... 0.0 0.0 0.0 0.0\n",
       "    feat_event           (date) int64 0 0 0 0 0 0 0 0 27 0 ... 0 0 0 0 0 0 0 0 0\n",
       "    feat_etype           (date) int64 0 0 0 0 0 0 0 0 4 0 ... 0 0 0 0 0 0 0 0 0\n",
       "    n_events_future      (lead, date) int64 0 0 0 0 0 0 0 1 ... 0 0 0 0 0 0 0 0\n",
       "    n_events_past        (lag, date) int64 0 0 0 0 0 0 0 0 0 ... 0 0 0 0 0 0 0 0\n",
       "    sales_year_ago_mean  (item_id, store_id, date) float64 0.0 0.0 ... 0.2857\n",
       "    sales_year_ago_max   (item_id, store_id, date) float64 0.0 0.0 ... 1.0 1.0\n",
       "    sales_year_ago_min   (item_id, store_id, date) float64 0.0 0.0 ... 0.0 0.0\n",
       "    price_year_ago_mean  (item_id, store_id, date) float64 2.0 2.0 ... 5.94 5.94\n",
       "    price_year_ago_max   (item_id, store_id, date) float64 2.0 2.0 ... 5.94 5.94\n",
       "    price_year_ago_min   (item_id, store_id, date) float64 2.0 2.0 ... 5.94 5.94</pre><div class='xr-wrap' hidden><div class='xr-header'><div class='xr-obj-type'>xarray.Dataset</div></div><ul class='xr-sections'><li class='xr-section-item'><input id='section-f4da590c-7278-42aa-94f6-12176ff2daa7' class='xr-section-summary-in' type='checkbox' disabled ><label for='section-f4da590c-7278-42aa-94f6-12176ff2daa7' class='xr-section-summary'  title='Expand/collapse section'>Dimensions:</label><div class='xr-section-inline-details'><ul class='xr-dim-list'><li><span class='xr-has-index'>category</span>: 3</li><li><span class='xr-has-index'>date</span>: 1941</li><li><span class='xr-has-index'>department</span>: 7</li><li><span class='xr-has-index'>etype</span>: 5</li><li><span class='xr-has-index'>event_name</span>: 31</li><li><span class='xr-has-index'>item</span>: 3049</li><li><span class='xr-has-index'>item_id</span>: 3049</li><li><span>lag</span>: 1</li><li><span>lead</span>: 3</li><li><span class='xr-has-index'>state</span>: 3</li><li><span class='xr-has-index'>store</span>: 10</li><li><span class='xr-has-index'>store_id</span>: 10</li></ul></div><div class='xr-section-details'></div></li><li class='xr-section-item'><input id='section-34511698-fdd0-49d0-9f1d-5b94ff0c90b3' class='xr-section-summary-in' type='checkbox'  checked><label for='section-34511698-fdd0-49d0-9f1d-5b94ff0c90b3' class='xr-section-summary' >Coordinates: <span>(14)</span></label><div class='xr-section-inline-details'></div><div class='xr-section-details'><ul class='xr-var-list'><li class='xr-var-item'><div class='xr-var-name'><span class='xr-has-index'>event_name</span></div><div class='xr-var-dims'>(event_name)</div><div class='xr-var-dtype'>object</div><div class='xr-var-preview xr-preview'>&#x27;(No Event)&#x27; ... &#x27;VeteransDay&#x27;</div><input id='attrs-f1b60cb9-9d58-4394-b650-21ff63614781' class='xr-var-attrs-in' type='checkbox' disabled><label for='attrs-f1b60cb9-9d58-4394-b650-21ff63614781' title='Show/Hide attributes'><svg class='icon xr-icon-file-text2'><use xlink:href='#icon-file-text2'></use></svg></label><input id='data-66f1e31f-8886-4316-9c76-5e832f233864' class='xr-var-data-in' type='checkbox'><label for='data-66f1e31f-8886-4316-9c76-5e832f233864' title='Show/Hide data repr'><svg class='icon xr-icon-database'><use xlink:href='#icon-database'></use></svg></label><div class='xr-var-attrs'><dl class='xr-attrs'></dl></div><div class='xr-var-data'><pre>array([&#x27;(No Event)&#x27;, &#x27;Chanukah End&#x27;, &#x27;Christmas&#x27;, &#x27;Cinco De Mayo&#x27;,\n",
       "       &#x27;ColumbusDay&#x27;, &#x27;Easter&#x27;, &#x27;Eid al-Fitr&#x27;, &#x27;EidAlAdha&#x27;, &quot;Father&#x27;s day&quot;,\n",
       "       &#x27;Halloween&#x27;, &#x27;IndependenceDay&#x27;, &#x27;LaborDay&#x27;, &#x27;LentStart&#x27;, &#x27;LentWeek2&#x27;,\n",
       "       &#x27;MartinLutherKingDay&#x27;, &#x27;MemorialDay&#x27;, &quot;Mother&#x27;s day&quot;, &#x27;NBAFinalsEnd&#x27;,\n",
       "       &#x27;NBAFinalsStart&#x27;, &#x27;NewYear&#x27;, &#x27;OrthodoxChristmas&#x27;, &#x27;OrthodoxEaster&#x27;,\n",
       "       &#x27;Pesach End&#x27;, &#x27;PresidentsDay&#x27;, &#x27;Purim End&#x27;, &#x27;Ramadan starts&#x27;,\n",
       "       &#x27;StPatricksDay&#x27;, &#x27;SuperBowl&#x27;, &#x27;Thanksgiving&#x27;, &#x27;ValentinesDay&#x27;,\n",
       "       &#x27;VeteransDay&#x27;], dtype=object)</pre></div></li><li class='xr-var-item'><div class='xr-var-name'><span>event_type</span></div><div class='xr-var-dims'>(event_name)</div><div class='xr-var-dtype'>object</div><div class='xr-var-preview xr-preview'>&#x27;(No Event)&#x27; ... &#x27;National&#x27;</div><input id='attrs-bcdc248f-d0c5-44f7-8c0c-ab391470e4b0' class='xr-var-attrs-in' type='checkbox' disabled><label for='attrs-bcdc248f-d0c5-44f7-8c0c-ab391470e4b0' title='Show/Hide attributes'><svg class='icon xr-icon-file-text2'><use xlink:href='#icon-file-text2'></use></svg></label><input id='data-9fdd3f85-7908-4e27-8727-1ae0b739292d' class='xr-var-data-in' type='checkbox'><label for='data-9fdd3f85-7908-4e27-8727-1ae0b739292d' title='Show/Hide data repr'><svg class='icon xr-icon-database'><use xlink:href='#icon-database'></use></svg></label><div class='xr-var-attrs'><dl class='xr-attrs'></dl></div><div class='xr-var-data'><pre>array([&#x27;(No Event)&#x27;, &#x27;Religious&#x27;, &#x27;National&#x27;, &#x27;Cultural&#x27;, &#x27;National&#x27;,\n",
       "       &#x27;Cultural&#x27;, &#x27;Religious&#x27;, &#x27;Religious&#x27;, &#x27;Cultural&#x27;, &#x27;Cultural&#x27;,\n",
       "       &#x27;National&#x27;, &#x27;National&#x27;, &#x27;Religious&#x27;, &#x27;Religious&#x27;, &#x27;National&#x27;,\n",
       "       &#x27;National&#x27;, &#x27;Cultural&#x27;, &#x27;Sporting&#x27;, &#x27;Sporting&#x27;, &#x27;National&#x27;,\n",
       "       &#x27;Religious&#x27;, &#x27;Religious&#x27;, &#x27;Religious&#x27;, &#x27;National&#x27;, &#x27;Religious&#x27;,\n",
       "       &#x27;Religious&#x27;, &#x27;Cultural&#x27;, &#x27;Sporting&#x27;, &#x27;National&#x27;, &#x27;Cultural&#x27;,\n",
       "       &#x27;National&#x27;], dtype=object)</pre></div></li><li class='xr-var-item'><div class='xr-var-name'><span class='xr-has-index'>item_id</span></div><div class='xr-var-dims'>(item_id)</div><div class='xr-var-dtype'>object</div><div class='xr-var-preview xr-preview'>&#x27;FOODS_1_001&#x27; ... &#x27;HOUSEHOLD_2_516&#x27;</div><input id='attrs-8b920cf2-6c9c-446a-9af8-d65ef2b00c61' class='xr-var-attrs-in' type='checkbox' disabled><label for='attrs-8b920cf2-6c9c-446a-9af8-d65ef2b00c61' title='Show/Hide attributes'><svg class='icon xr-icon-file-text2'><use xlink:href='#icon-file-text2'></use></svg></label><input id='data-1b6f3b48-cbfe-45ac-930f-47b062f95be1' class='xr-var-data-in' type='checkbox'><label for='data-1b6f3b48-cbfe-45ac-930f-47b062f95be1' title='Show/Hide data repr'><svg class='icon xr-icon-database'><use xlink:href='#icon-database'></use></svg></label><div class='xr-var-attrs'><dl class='xr-attrs'></dl></div><div class='xr-var-data'><pre>array([&#x27;FOODS_1_001&#x27;, &#x27;FOODS_1_002&#x27;, &#x27;FOODS_1_003&#x27;, ..., &#x27;HOUSEHOLD_2_514&#x27;,\n",
       "       &#x27;HOUSEHOLD_2_515&#x27;, &#x27;HOUSEHOLD_2_516&#x27;], dtype=object)</pre></div></li><li class='xr-var-item'><div class='xr-var-name'><span>cat_id</span></div><div class='xr-var-dims'>(item_id)</div><div class='xr-var-dtype'>object</div><div class='xr-var-preview xr-preview'>&#x27;FOODS&#x27; &#x27;FOODS&#x27; ... &#x27;HOUSEHOLD&#x27;</div><input id='attrs-1d1b93a9-a202-4565-ba0a-5549740e1448' class='xr-var-attrs-in' type='checkbox' disabled><label for='attrs-1d1b93a9-a202-4565-ba0a-5549740e1448' title='Show/Hide attributes'><svg class='icon xr-icon-file-text2'><use xlink:href='#icon-file-text2'></use></svg></label><input id='data-8e00b017-5758-431a-8f43-ee26317d4d50' class='xr-var-data-in' type='checkbox'><label for='data-8e00b017-5758-431a-8f43-ee26317d4d50' title='Show/Hide data repr'><svg class='icon xr-icon-database'><use xlink:href='#icon-database'></use></svg></label><div class='xr-var-attrs'><dl class='xr-attrs'></dl></div><div class='xr-var-data'><pre>array([&#x27;FOODS&#x27;, &#x27;FOODS&#x27;, &#x27;FOODS&#x27;, ..., &#x27;HOUSEHOLD&#x27;, &#x27;HOUSEHOLD&#x27;,\n",
       "       &#x27;HOUSEHOLD&#x27;], dtype=object)</pre></div></li><li class='xr-var-item'><div class='xr-var-name'><span>dept_id</span></div><div class='xr-var-dims'>(item_id)</div><div class='xr-var-dtype'>object</div><div class='xr-var-preview xr-preview'>&#x27;FOODS_1&#x27; ... &#x27;HOUSEHOLD_2&#x27;</div><input id='attrs-7307729f-7253-4f0c-89ce-6c96146c38b4' class='xr-var-attrs-in' type='checkbox' disabled><label for='attrs-7307729f-7253-4f0c-89ce-6c96146c38b4' title='Show/Hide attributes'><svg class='icon xr-icon-file-text2'><use xlink:href='#icon-file-text2'></use></svg></label><input id='data-aec0b857-c41a-4025-a267-62fa7a6c142a' class='xr-var-data-in' type='checkbox'><label for='data-aec0b857-c41a-4025-a267-62fa7a6c142a' title='Show/Hide data repr'><svg class='icon xr-icon-database'><use xlink:href='#icon-database'></use></svg></label><div class='xr-var-attrs'><dl class='xr-attrs'></dl></div><div class='xr-var-data'><pre>array([&#x27;FOODS_1&#x27;, &#x27;FOODS_1&#x27;, &#x27;FOODS_1&#x27;, ..., &#x27;HOUSEHOLD_2&#x27;, &#x27;HOUSEHOLD_2&#x27;,\n",
       "       &#x27;HOUSEHOLD_2&#x27;], dtype=object)</pre></div></li><li class='xr-var-item'><div class='xr-var-name'><span class='xr-has-index'>store_id</span></div><div class='xr-var-dims'>(store_id)</div><div class='xr-var-dtype'>object</div><div class='xr-var-preview xr-preview'>&#x27;CA_1&#x27; &#x27;CA_2&#x27; ... &#x27;WI_2&#x27; &#x27;WI_3&#x27;</div><input id='attrs-5f91b2df-ac97-4da2-ae25-cee393f0dd76' class='xr-var-attrs-in' type='checkbox' disabled><label for='attrs-5f91b2df-ac97-4da2-ae25-cee393f0dd76' title='Show/Hide attributes'><svg class='icon xr-icon-file-text2'><use xlink:href='#icon-file-text2'></use></svg></label><input id='data-ca6b50bb-2b76-4a32-af3c-57498c36cd68' class='xr-var-data-in' type='checkbox'><label for='data-ca6b50bb-2b76-4a32-af3c-57498c36cd68' title='Show/Hide data repr'><svg class='icon xr-icon-database'><use xlink:href='#icon-database'></use></svg></label><div class='xr-var-attrs'><dl class='xr-attrs'></dl></div><div class='xr-var-data'><pre>array([&#x27;CA_1&#x27;, &#x27;CA_2&#x27;, &#x27;CA_3&#x27;, &#x27;CA_4&#x27;, &#x27;TX_1&#x27;, &#x27;TX_2&#x27;, &#x27;TX_3&#x27;, &#x27;WI_1&#x27;, &#x27;WI_2&#x27;,\n",
       "       &#x27;WI_3&#x27;], dtype=object)</pre></div></li><li class='xr-var-item'><div class='xr-var-name'><span>state_id</span></div><div class='xr-var-dims'>(store_id)</div><div class='xr-var-dtype'>object</div><div class='xr-var-preview xr-preview'>&#x27;CA&#x27; &#x27;CA&#x27; &#x27;CA&#x27; ... &#x27;WI&#x27; &#x27;WI&#x27; &#x27;WI&#x27;</div><input id='attrs-434b4e90-5aac-4e93-8d4d-54ea17f38fe1' class='xr-var-attrs-in' type='checkbox' disabled><label for='attrs-434b4e90-5aac-4e93-8d4d-54ea17f38fe1' title='Show/Hide attributes'><svg class='icon xr-icon-file-text2'><use xlink:href='#icon-file-text2'></use></svg></label><input id='data-695f4cb9-8d31-4641-9643-ca854c58ba4c' class='xr-var-data-in' type='checkbox'><label for='data-695f4cb9-8d31-4641-9643-ca854c58ba4c' title='Show/Hide data repr'><svg class='icon xr-icon-database'><use xlink:href='#icon-database'></use></svg></label><div class='xr-var-attrs'><dl class='xr-attrs'></dl></div><div class='xr-var-data'><pre>array([&#x27;CA&#x27;, &#x27;CA&#x27;, &#x27;CA&#x27;, &#x27;CA&#x27;, &#x27;TX&#x27;, &#x27;TX&#x27;, &#x27;TX&#x27;, &#x27;WI&#x27;, &#x27;WI&#x27;, &#x27;WI&#x27;],\n",
       "      dtype=object)</pre></div></li><li class='xr-var-item'><div class='xr-var-name'><span class='xr-has-index'>date</span></div><div class='xr-var-dims'>(date)</div><div class='xr-var-dtype'>datetime64[ns]</div><div class='xr-var-preview xr-preview'>2011-01-29 ... 2016-05-22</div><input id='attrs-7befc8fa-b6c8-453f-9581-1ac5183eb96d' class='xr-var-attrs-in' type='checkbox' disabled><label for='attrs-7befc8fa-b6c8-453f-9581-1ac5183eb96d' title='Show/Hide attributes'><svg class='icon xr-icon-file-text2'><use xlink:href='#icon-file-text2'></use></svg></label><input id='data-295041a1-9cc8-4427-9d7f-b8866ee100ee' class='xr-var-data-in' type='checkbox'><label for='data-295041a1-9cc8-4427-9d7f-b8866ee100ee' title='Show/Hide data repr'><svg class='icon xr-icon-database'><use xlink:href='#icon-database'></use></svg></label><div class='xr-var-attrs'><dl class='xr-attrs'></dl></div><div class='xr-var-data'><pre>array([&#x27;2011-01-29T00:00:00.000000000&#x27;, &#x27;2011-01-30T00:00:00.000000000&#x27;,\n",
       "       &#x27;2011-01-31T00:00:00.000000000&#x27;, ..., &#x27;2016-05-20T00:00:00.000000000&#x27;,\n",
       "       &#x27;2016-05-21T00:00:00.000000000&#x27;, &#x27;2016-05-22T00:00:00.000000000&#x27;],\n",
       "      dtype=&#x27;datetime64[ns]&#x27;)</pre></div></li><li class='xr-var-item'><div class='xr-var-name'><span class='xr-has-index'>category</span></div><div class='xr-var-dims'>(category)</div><div class='xr-var-dtype'>object</div><div class='xr-var-preview xr-preview'>&#x27;FOODS&#x27; &#x27;HOBBIES&#x27; &#x27;HOUSEHOLD&#x27;</div><input id='attrs-887a47a2-e6a1-415a-bd11-fffcdbc67d85' class='xr-var-attrs-in' type='checkbox' disabled><label for='attrs-887a47a2-e6a1-415a-bd11-fffcdbc67d85' title='Show/Hide attributes'><svg class='icon xr-icon-file-text2'><use xlink:href='#icon-file-text2'></use></svg></label><input id='data-7041d9c6-4e3b-4723-8746-d116cc75e13d' class='xr-var-data-in' type='checkbox'><label for='data-7041d9c6-4e3b-4723-8746-d116cc75e13d' title='Show/Hide data repr'><svg class='icon xr-icon-database'><use xlink:href='#icon-database'></use></svg></label><div class='xr-var-attrs'><dl class='xr-attrs'></dl></div><div class='xr-var-data'><pre>array([&#x27;FOODS&#x27;, &#x27;HOBBIES&#x27;, &#x27;HOUSEHOLD&#x27;], dtype=object)</pre></div></li><li class='xr-var-item'><div class='xr-var-name'><span class='xr-has-index'>department</span></div><div class='xr-var-dims'>(department)</div><div class='xr-var-dtype'>object</div><div class='xr-var-preview xr-preview'>&#x27;FOODS_1&#x27; ... &#x27;HOUSEHOLD_2&#x27;</div><input id='attrs-8a58da2d-c897-4011-ab06-4c956487032d' class='xr-var-attrs-in' type='checkbox' disabled><label for='attrs-8a58da2d-c897-4011-ab06-4c956487032d' title='Show/Hide attributes'><svg class='icon xr-icon-file-text2'><use xlink:href='#icon-file-text2'></use></svg></label><input id='data-8eb34d95-bc26-46dd-a7f3-7cf4f06368f9' class='xr-var-data-in' type='checkbox'><label for='data-8eb34d95-bc26-46dd-a7f3-7cf4f06368f9' title='Show/Hide data repr'><svg class='icon xr-icon-database'><use xlink:href='#icon-database'></use></svg></label><div class='xr-var-attrs'><dl class='xr-attrs'></dl></div><div class='xr-var-data'><pre>array([&#x27;FOODS_1&#x27;, &#x27;FOODS_2&#x27;, &#x27;FOODS_3&#x27;, &#x27;HOBBIES_1&#x27;, &#x27;HOBBIES_2&#x27;,\n",
       "       &#x27;HOUSEHOLD_1&#x27;, &#x27;HOUSEHOLD_2&#x27;], dtype=object)</pre></div></li><li class='xr-var-item'><div class='xr-var-name'><span class='xr-has-index'>state</span></div><div class='xr-var-dims'>(state)</div><div class='xr-var-dtype'>object</div><div class='xr-var-preview xr-preview'>&#x27;CA&#x27; &#x27;TX&#x27; &#x27;WI&#x27;</div><input id='attrs-151e178b-15c6-4133-8dea-11a4a39c05a8' class='xr-var-attrs-in' type='checkbox' disabled><label for='attrs-151e178b-15c6-4133-8dea-11a4a39c05a8' title='Show/Hide attributes'><svg class='icon xr-icon-file-text2'><use xlink:href='#icon-file-text2'></use></svg></label><input id='data-361d82c2-2d89-46db-b6eb-9599782a97cf' class='xr-var-data-in' type='checkbox'><label for='data-361d82c2-2d89-46db-b6eb-9599782a97cf' title='Show/Hide data repr'><svg class='icon xr-icon-database'><use xlink:href='#icon-database'></use></svg></label><div class='xr-var-attrs'><dl class='xr-attrs'></dl></div><div class='xr-var-data'><pre>array([&#x27;CA&#x27;, &#x27;TX&#x27;, &#x27;WI&#x27;], dtype=object)</pre></div></li><li class='xr-var-item'><div class='xr-var-name'><span class='xr-has-index'>store</span></div><div class='xr-var-dims'>(store)</div><div class='xr-var-dtype'>object</div><div class='xr-var-preview xr-preview'>&#x27;CA_1&#x27; &#x27;CA_2&#x27; ... &#x27;WI_2&#x27; &#x27;WI_3&#x27;</div><input id='attrs-e0cdbb06-89fa-447a-921e-a1cd2f412815' class='xr-var-attrs-in' type='checkbox' disabled><label for='attrs-e0cdbb06-89fa-447a-921e-a1cd2f412815' title='Show/Hide attributes'><svg class='icon xr-icon-file-text2'><use xlink:href='#icon-file-text2'></use></svg></label><input id='data-00d0f90d-638c-4054-8b17-4c3fe562a72f' class='xr-var-data-in' type='checkbox'><label for='data-00d0f90d-638c-4054-8b17-4c3fe562a72f' title='Show/Hide data repr'><svg class='icon xr-icon-database'><use xlink:href='#icon-database'></use></svg></label><div class='xr-var-attrs'><dl class='xr-attrs'></dl></div><div class='xr-var-data'><pre>array([&#x27;CA_1&#x27;, &#x27;CA_2&#x27;, &#x27;CA_3&#x27;, &#x27;CA_4&#x27;, &#x27;TX_1&#x27;, &#x27;TX_2&#x27;, &#x27;TX_3&#x27;, &#x27;WI_1&#x27;, &#x27;WI_2&#x27;,\n",
       "       &#x27;WI_3&#x27;], dtype=object)</pre></div></li><li class='xr-var-item'><div class='xr-var-name'><span class='xr-has-index'>item</span></div><div class='xr-var-dims'>(item)</div><div class='xr-var-dtype'>object</div><div class='xr-var-preview xr-preview'>&#x27;FOODS_1_001&#x27; ... &#x27;HOUSEHOLD_2_516&#x27;</div><input id='attrs-095e75c3-b958-4327-a6c2-d7cb5bee81db' class='xr-var-attrs-in' type='checkbox' disabled><label for='attrs-095e75c3-b958-4327-a6c2-d7cb5bee81db' title='Show/Hide attributes'><svg class='icon xr-icon-file-text2'><use xlink:href='#icon-file-text2'></use></svg></label><input id='data-4938a22a-044a-4440-ad03-5e51deb20dd2' class='xr-var-data-in' type='checkbox'><label for='data-4938a22a-044a-4440-ad03-5e51deb20dd2' title='Show/Hide data repr'><svg class='icon xr-icon-database'><use xlink:href='#icon-database'></use></svg></label><div class='xr-var-attrs'><dl class='xr-attrs'></dl></div><div class='xr-var-data'><pre>array([&#x27;FOODS_1_001&#x27;, &#x27;FOODS_1_002&#x27;, &#x27;FOODS_1_003&#x27;, ..., &#x27;HOUSEHOLD_2_514&#x27;,\n",
       "       &#x27;HOUSEHOLD_2_515&#x27;, &#x27;HOUSEHOLD_2_516&#x27;], dtype=object)</pre></div></li><li class='xr-var-item'><div class='xr-var-name'><span class='xr-has-index'>etype</span></div><div class='xr-var-dims'>(etype)</div><div class='xr-var-dtype'>object</div><div class='xr-var-preview xr-preview'>&#x27;(No Event)&#x27; ... &#x27;Sporting&#x27;</div><input id='attrs-a4ed6fcc-7ee0-4967-b4a6-325c1e2645a2' class='xr-var-attrs-in' type='checkbox' disabled><label for='attrs-a4ed6fcc-7ee0-4967-b4a6-325c1e2645a2' title='Show/Hide attributes'><svg class='icon xr-icon-file-text2'><use xlink:href='#icon-file-text2'></use></svg></label><input id='data-44c2dc03-b99a-4aa8-94d6-658522165cc3' class='xr-var-data-in' type='checkbox'><label for='data-44c2dc03-b99a-4aa8-94d6-658522165cc3' title='Show/Hide data repr'><svg class='icon xr-icon-database'><use xlink:href='#icon-database'></use></svg></label><div class='xr-var-attrs'><dl class='xr-attrs'></dl></div><div class='xr-var-data'><pre>array([&#x27;(No Event)&#x27;, &#x27;Cultural&#x27;, &#x27;National&#x27;, &#x27;Religious&#x27;, &#x27;Sporting&#x27;],\n",
       "      dtype=object)</pre></div></li></ul></div></li><li class='xr-section-item'><input id='section-c0490210-8763-4bfe-80f5-db35bfa12c5a' class='xr-section-summary-in' type='checkbox'  ><label for='section-c0490210-8763-4bfe-80f5-db35bfa12c5a' class='xr-section-summary' >Data variables: <span>(21)</span></label><div class='xr-section-inline-details'></div><div class='xr-section-details'><ul class='xr-var-list'><li class='xr-var-item'><div class='xr-var-name'><span>sales</span></div><div class='xr-var-dims'>(item_id, store_id, date)</div><div class='xr-var-dtype'>int64</div><div class='xr-var-preview xr-preview'>3 0 0 1 4 2 0 2 ... 0 0 0 0 0 0 0 0</div><input id='attrs-3f6d33e2-826b-490d-b488-7d8870e5fef0' class='xr-var-attrs-in' type='checkbox' disabled><label for='attrs-3f6d33e2-826b-490d-b488-7d8870e5fef0' title='Show/Hide attributes'><svg class='icon xr-icon-file-text2'><use xlink:href='#icon-file-text2'></use></svg></label><input id='data-c7d80d94-f3a4-4765-9562-d5184b091e1d' class='xr-var-data-in' type='checkbox'><label for='data-c7d80d94-f3a4-4765-9562-d5184b091e1d' title='Show/Hide data repr'><svg class='icon xr-icon-database'><use xlink:href='#icon-database'></use></svg></label><div class='xr-var-attrs'><dl class='xr-attrs'></dl></div><div class='xr-var-data'><pre>array([[[3, 0, 0, ..., 0, 0, 0],\n",
       "        [2, 0, 0, ..., 1, 2, 0],\n",
       "        [1, 2, 1, ..., 3, 2, 2],\n",
       "        ...,\n",
       "        [0, 2, 0, ..., 0, 1, 1],\n",
       "        [0, 0, 0, ..., 0, 0, 3],\n",
       "        [0, 0, 0, ..., 0, 0, 0]],\n",
       "\n",
       "       [[0, 1, 0, ..., 1, 1, 2],\n",
       "        [2, 1, 1, ..., 1, 1, 2],\n",
       "        [1, 0, 1, ..., 1, 2, 0],\n",
       "        ...,\n",
       "        [0, 1, 0, ..., 0, 0, 0],\n",
       "        [1, 0, 0, ..., 0, 1, 0],\n",
       "        [0, 1, 1, ..., 2, 1, 0]],\n",
       "\n",
       "       [[0, 0, 0, ..., 2, 0, 1],\n",
       "        [8, 2, 2, ..., 0, 4, 0],\n",
       "        [1, 1, 1, ..., 0, 0, 3],\n",
       "        ...,\n",
       "...\n",
       "        ...,\n",
       "        [1, 0, 0, ..., 2, 0, 0],\n",
       "        [0, 0, 0, ..., 0, 0, 0],\n",
       "        [0, 1, 1, ..., 1, 0, 0]],\n",
       "\n",
       "       [[0, 0, 0, ..., 0, 1, 0],\n",
       "        [0, 0, 0, ..., 0, 1, 0],\n",
       "        [0, 0, 0, ..., 0, 0, 0],\n",
       "        ...,\n",
       "        [0, 0, 0, ..., 0, 0, 1],\n",
       "        [0, 0, 0, ..., 0, 0, 0],\n",
       "        [0, 0, 0, ..., 0, 0, 0]],\n",
       "\n",
       "       [[0, 1, 0, ..., 1, 0, 0],\n",
       "        [0, 0, 0, ..., 0, 3, 0],\n",
       "        [0, 1, 0, ..., 0, 0, 0],\n",
       "        ...,\n",
       "        [0, 0, 0, ..., 1, 0, 0],\n",
       "        [0, 0, 0, ..., 0, 0, 0],\n",
       "        [0, 1, 0, ..., 0, 0, 0]]])</pre></div></li><li class='xr-var-item'><div class='xr-var-name'><span>price</span></div><div class='xr-var-dims'>(item_id, store_id, date)</div><div class='xr-var-dtype'>float64</div><div class='xr-var-preview xr-preview'>2.0 2.0 2.0 2.0 ... 5.94 5.94 5.94</div><input id='attrs-2668d19a-ad5f-4e42-8fa7-e77007616bc0' class='xr-var-attrs-in' type='checkbox' disabled><label for='attrs-2668d19a-ad5f-4e42-8fa7-e77007616bc0' title='Show/Hide attributes'><svg class='icon xr-icon-file-text2'><use xlink:href='#icon-file-text2'></use></svg></label><input id='data-0994c19d-36a4-4ba6-ae74-72eb26b51b80' class='xr-var-data-in' type='checkbox'><label for='data-0994c19d-36a4-4ba6-ae74-72eb26b51b80' title='Show/Hide data repr'><svg class='icon xr-icon-database'><use xlink:href='#icon-database'></use></svg></label><div class='xr-var-attrs'><dl class='xr-attrs'></dl></div><div class='xr-var-data'><pre>array([[[ 2.  ,  2.  ,  2.  , ...,  2.24,  2.24,  2.24],\n",
       "        [ 2.  ,  2.  ,  2.  , ...,  2.24,  2.24,  2.24],\n",
       "        [ 2.  ,  2.  ,  2.  , ...,  2.24,  2.24,  2.24],\n",
       "        ...,\n",
       "        [ 2.  ,  2.  ,  2.  , ...,  2.24,  2.24,  2.24],\n",
       "        [ 2.  ,  2.  ,  2.  , ...,  2.24,  2.24,  2.24],\n",
       "        [ 2.  ,  2.  ,  2.  , ...,  2.24,  2.24,  2.24]],\n",
       "\n",
       "       [[ 7.88,  7.88,  7.88, ...,  9.48,  9.48,  9.48],\n",
       "        [ 7.88,  7.88,  7.88, ...,  9.48,  9.48,  9.48],\n",
       "        [ 7.88,  7.88,  7.88, ...,  9.48,  9.48,  9.48],\n",
       "        ...,\n",
       "        [ 7.88,  7.88,  7.88, ...,  9.48,  9.48,  9.48],\n",
       "        [ 8.28,  8.28,  8.28, ...,  9.48,  9.48,  9.48],\n",
       "        [ 7.88,  7.88,  7.88, ...,  9.48,  9.48,  9.48]],\n",
       "\n",
       "       [[ 2.88,  2.88,  2.88, ...,  3.23,  3.23,  3.23],\n",
       "        [ 2.88,  2.88,  2.88, ...,  3.23,  3.23,  3.23],\n",
       "        [ 2.88,  2.88,  2.88, ...,  3.23,  3.23,  3.23],\n",
       "        ...,\n",
       "...\n",
       "        ...,\n",
       "        [18.97, 18.97, 18.97, ..., 19.54, 19.54, 19.54],\n",
       "        [20.97, 20.97, 20.97, ..., 19.54, 19.54, 19.54],\n",
       "        [18.47, 18.47, 18.47, ..., 19.54, 19.54, 19.54]],\n",
       "\n",
       "       [[ 1.97,  1.97,  1.97, ...,  1.97,  1.97,  1.97],\n",
       "        [ 1.97,  1.97,  1.97, ...,  1.97,  1.97,  1.97],\n",
       "        [ 1.97,  1.97,  1.97, ...,  1.97,  1.97,  1.97],\n",
       "        ...,\n",
       "        [ 1.97,  1.97,  1.97, ...,  1.97,  1.97,  1.97],\n",
       "        [ 1.97,  1.97,  1.97, ...,  1.97,  1.97,  1.97],\n",
       "        [ 1.97,  1.97,  1.97, ...,  1.97,  1.97,  1.97]],\n",
       "\n",
       "       [[ 5.94,  5.94,  5.94, ...,  5.94,  5.94,  5.94],\n",
       "        [ 5.94,  5.94,  5.94, ...,  5.94,  5.94,  5.94],\n",
       "        [ 5.94,  5.94,  5.94, ...,  5.94,  5.94,  5.94],\n",
       "        ...,\n",
       "        [ 5.94,  5.94,  5.94, ...,  5.94,  5.94,  5.94],\n",
       "        [ 5.94,  5.94,  5.94, ...,  5.94,  5.94,  5.94],\n",
       "        [ 5.94,  5.94,  5.94, ...,  5.94,  5.94,  5.94]]])</pre></div></li><li class='xr-var-item'><div class='xr-var-name'><span>wday</span></div><div class='xr-var-dims'>(date)</div><div class='xr-var-dtype'>int64</div><div class='xr-var-preview xr-preview'>1 2 3 4 5 6 7 1 ... 2 3 4 5 6 7 1 2</div><input id='attrs-05843c3a-7020-4b4a-bc81-6310a8eefde4' class='xr-var-attrs-in' type='checkbox' disabled><label for='attrs-05843c3a-7020-4b4a-bc81-6310a8eefde4' title='Show/Hide attributes'><svg class='icon xr-icon-file-text2'><use xlink:href='#icon-file-text2'></use></svg></label><input id='data-aad61b60-232f-4709-85cf-03d492695308' class='xr-var-data-in' type='checkbox'><label for='data-aad61b60-232f-4709-85cf-03d492695308' title='Show/Hide data repr'><svg class='icon xr-icon-database'><use xlink:href='#icon-database'></use></svg></label><div class='xr-var-attrs'><dl class='xr-attrs'></dl></div><div class='xr-var-data'><pre>array([1, 2, 3, ..., 7, 1, 2])</pre></div></li><li class='xr-var-item'><div class='xr-var-name'><span>month</span></div><div class='xr-var-dims'>(date)</div><div class='xr-var-dtype'>int64</div><div class='xr-var-preview xr-preview'>1 1 1 2 2 2 2 2 ... 5 5 5 5 5 5 5 5</div><input id='attrs-5e53d155-d659-41a8-96ed-4bac9a1f1963' class='xr-var-attrs-in' type='checkbox' disabled><label for='attrs-5e53d155-d659-41a8-96ed-4bac9a1f1963' title='Show/Hide attributes'><svg class='icon xr-icon-file-text2'><use xlink:href='#icon-file-text2'></use></svg></label><input id='data-6b061c46-21f6-4531-88dd-a1c75e55e3b3' class='xr-var-data-in' type='checkbox'><label for='data-6b061c46-21f6-4531-88dd-a1c75e55e3b3' title='Show/Hide data repr'><svg class='icon xr-icon-database'><use xlink:href='#icon-database'></use></svg></label><div class='xr-var-attrs'><dl class='xr-attrs'></dl></div><div class='xr-var-data'><pre>array([1, 1, 1, ..., 5, 5, 5])</pre></div></li><li class='xr-var-item'><div class='xr-var-name'><span>snap</span></div><div class='xr-var-dims'>(date, store_id)</div><div class='xr-var-dtype'>int64</div><div class='xr-var-preview xr-preview'>0 0 0 0 0 0 0 0 ... 0 0 0 0 0 0 0 0</div><input id='attrs-c5b47a95-e9e1-4fa2-a085-7ca09aa9a068' class='xr-var-attrs-in' type='checkbox' disabled><label for='attrs-c5b47a95-e9e1-4fa2-a085-7ca09aa9a068' title='Show/Hide attributes'><svg class='icon xr-icon-file-text2'><use xlink:href='#icon-file-text2'></use></svg></label><input id='data-e1a9bc28-f7c9-4f82-a9e9-e0f7623fc13f' class='xr-var-data-in' type='checkbox'><label for='data-e1a9bc28-f7c9-4f82-a9e9-e0f7623fc13f' title='Show/Hide data repr'><svg class='icon xr-icon-database'><use xlink:href='#icon-database'></use></svg></label><div class='xr-var-attrs'><dl class='xr-attrs'></dl></div><div class='xr-var-data'><pre>array([[0, 0, 0, ..., 0, 0, 0],\n",
       "       [0, 0, 0, ..., 0, 0, 0],\n",
       "       [0, 0, 0, ..., 0, 0, 0],\n",
       "       ...,\n",
       "       [0, 0, 0, ..., 0, 0, 0],\n",
       "       [0, 0, 0, ..., 0, 0, 0],\n",
       "       [0, 0, 0, ..., 0, 0, 0]])</pre></div></li><li class='xr-var-item'><div class='xr-var-name'><span>feat_category</span></div><div class='xr-var-dims'>(item_id)</div><div class='xr-var-dtype'>int64</div><div class='xr-var-preview xr-preview'>0 0 0 0 0 0 0 0 ... 2 2 2 2 2 2 2 2</div><input id='attrs-6ad970e1-624d-4a87-a9ff-37b01f348cf9' class='xr-var-attrs-in' type='checkbox' disabled><label for='attrs-6ad970e1-624d-4a87-a9ff-37b01f348cf9' title='Show/Hide attributes'><svg class='icon xr-icon-file-text2'><use xlink:href='#icon-file-text2'></use></svg></label><input id='data-800bebe6-807b-4616-b193-5f10268a1337' class='xr-var-data-in' type='checkbox'><label for='data-800bebe6-807b-4616-b193-5f10268a1337' title='Show/Hide data repr'><svg class='icon xr-icon-database'><use xlink:href='#icon-database'></use></svg></label><div class='xr-var-attrs'><dl class='xr-attrs'></dl></div><div class='xr-var-data'><pre>array([0, 0, 0, ..., 2, 2, 2])</pre></div></li><li class='xr-var-item'><div class='xr-var-name'><span>feat_department</span></div><div class='xr-var-dims'>(item_id)</div><div class='xr-var-dtype'>int64</div><div class='xr-var-preview xr-preview'>0 0 0 0 0 0 0 0 ... 6 6 6 6 6 6 6 6</div><input id='attrs-2249e997-c2db-47d2-8a5f-dc9357d29ea1' class='xr-var-attrs-in' type='checkbox' disabled><label for='attrs-2249e997-c2db-47d2-8a5f-dc9357d29ea1' title='Show/Hide attributes'><svg class='icon xr-icon-file-text2'><use xlink:href='#icon-file-text2'></use></svg></label><input id='data-f2c8c686-244f-4905-bce2-6fb3d571c71e' class='xr-var-data-in' type='checkbox'><label for='data-f2c8c686-244f-4905-bce2-6fb3d571c71e' title='Show/Hide data repr'><svg class='icon xr-icon-database'><use xlink:href='#icon-database'></use></svg></label><div class='xr-var-attrs'><dl class='xr-attrs'></dl></div><div class='xr-var-data'><pre>array([0, 0, 0, ..., 6, 6, 6])</pre></div></li><li class='xr-var-item'><div class='xr-var-name'><span>feat_item</span></div><div class='xr-var-dims'>(item_id)</div><div class='xr-var-dtype'>int64</div><div class='xr-var-preview xr-preview'>0 1 2 3 4 ... 3045 3046 3047 3048</div><input id='attrs-a666ac90-443f-416d-b1a9-0e7b6e798b08' class='xr-var-attrs-in' type='checkbox' disabled><label for='attrs-a666ac90-443f-416d-b1a9-0e7b6e798b08' title='Show/Hide attributes'><svg class='icon xr-icon-file-text2'><use xlink:href='#icon-file-text2'></use></svg></label><input id='data-49c5be04-0773-485d-9c02-0b77a889ff5a' class='xr-var-data-in' type='checkbox'><label for='data-49c5be04-0773-485d-9c02-0b77a889ff5a' title='Show/Hide data repr'><svg class='icon xr-icon-database'><use xlink:href='#icon-database'></use></svg></label><div class='xr-var-attrs'><dl class='xr-attrs'></dl></div><div class='xr-var-data'><pre>array([   0,    1,    2, ..., 3046, 3047, 3048])</pre></div></li><li class='xr-var-item'><div class='xr-var-name'><span>feat_state</span></div><div class='xr-var-dims'>(store_id)</div><div class='xr-var-dtype'>int64</div><div class='xr-var-preview xr-preview'>0 0 0 0 1 1 1 2 2 2</div><input id='attrs-7b7e888e-2496-4b13-9b45-0c8c79b40561' class='xr-var-attrs-in' type='checkbox' disabled><label for='attrs-7b7e888e-2496-4b13-9b45-0c8c79b40561' title='Show/Hide attributes'><svg class='icon xr-icon-file-text2'><use xlink:href='#icon-file-text2'></use></svg></label><input id='data-9ce22df5-a3b1-4df5-9a60-6df4b9ae76db' class='xr-var-data-in' type='checkbox'><label for='data-9ce22df5-a3b1-4df5-9a60-6df4b9ae76db' title='Show/Hide data repr'><svg class='icon xr-icon-database'><use xlink:href='#icon-database'></use></svg></label><div class='xr-var-attrs'><dl class='xr-attrs'></dl></div><div class='xr-var-data'><pre>array([0, 0, 0, 0, 1, 1, 1, 2, 2, 2])</pre></div></li><li class='xr-var-item'><div class='xr-var-name'><span>feat_store</span></div><div class='xr-var-dims'>(store_id)</div><div class='xr-var-dtype'>int64</div><div class='xr-var-preview xr-preview'>0 1 2 3 4 5 6 7 8 9</div><input id='attrs-3d831f76-9587-4261-84cc-4dd807acdef3' class='xr-var-attrs-in' type='checkbox' disabled><label for='attrs-3d831f76-9587-4261-84cc-4dd807acdef3' title='Show/Hide attributes'><svg class='icon xr-icon-file-text2'><use xlink:href='#icon-file-text2'></use></svg></label><input id='data-207906ae-fd4f-462d-93e3-bbdaf6df7318' class='xr-var-data-in' type='checkbox'><label for='data-207906ae-fd4f-462d-93e3-bbdaf6df7318' title='Show/Hide data repr'><svg class='icon xr-icon-database'><use xlink:href='#icon-database'></use></svg></label><div class='xr-var-attrs'><dl class='xr-attrs'></dl></div><div class='xr-var-data'><pre>array([0, 1, 2, 3, 4, 5, 6, 7, 8, 9])</pre></div></li><li class='xr-var-item'><div class='xr-var-name'><span>n_events</span></div><div class='xr-var-dims'>(date)</div><div class='xr-var-dtype'>float64</div><div class='xr-var-preview xr-preview'>0.0 0.0 0.0 0.0 ... 0.0 0.0 0.0 0.0</div><input id='attrs-e92f8e6a-21d6-4b8e-8354-3965cfd620f8' class='xr-var-attrs-in' type='checkbox' disabled><label for='attrs-e92f8e6a-21d6-4b8e-8354-3965cfd620f8' title='Show/Hide attributes'><svg class='icon xr-icon-file-text2'><use xlink:href='#icon-file-text2'></use></svg></label><input id='data-83f49085-6d3a-48eb-b580-c011276c6aaa' class='xr-var-data-in' type='checkbox'><label for='data-83f49085-6d3a-48eb-b580-c011276c6aaa' title='Show/Hide data repr'><svg class='icon xr-icon-database'><use xlink:href='#icon-database'></use></svg></label><div class='xr-var-attrs'><dl class='xr-attrs'></dl></div><div class='xr-var-data'><pre>array([0., 0., 0., ..., 0., 0., 0.])</pre></div></li><li class='xr-var-item'><div class='xr-var-name'><span>feat_event</span></div><div class='xr-var-dims'>(date)</div><div class='xr-var-dtype'>int64</div><div class='xr-var-preview xr-preview'>0 0 0 0 0 0 0 0 ... 0 0 0 0 0 0 0 0</div><input id='attrs-7c4a4f4d-b9c3-44ae-96c8-732e7ca1ffec' class='xr-var-attrs-in' type='checkbox' disabled><label for='attrs-7c4a4f4d-b9c3-44ae-96c8-732e7ca1ffec' title='Show/Hide attributes'><svg class='icon xr-icon-file-text2'><use xlink:href='#icon-file-text2'></use></svg></label><input id='data-7119fa27-2afb-421e-8f3f-2d48dd9cb3a8' class='xr-var-data-in' type='checkbox'><label for='data-7119fa27-2afb-421e-8f3f-2d48dd9cb3a8' title='Show/Hide data repr'><svg class='icon xr-icon-database'><use xlink:href='#icon-database'></use></svg></label><div class='xr-var-attrs'><dl class='xr-attrs'></dl></div><div class='xr-var-data'><pre>array([0, 0, 0, ..., 0, 0, 0])</pre></div></li><li class='xr-var-item'><div class='xr-var-name'><span>feat_etype</span></div><div class='xr-var-dims'>(date)</div><div class='xr-var-dtype'>int64</div><div class='xr-var-preview xr-preview'>0 0 0 0 0 0 0 0 ... 0 0 0 0 0 0 0 0</div><input id='attrs-e5bf7b1d-2acf-45d0-83c4-bf3b2680f5c7' class='xr-var-attrs-in' type='checkbox' disabled><label for='attrs-e5bf7b1d-2acf-45d0-83c4-bf3b2680f5c7' title='Show/Hide attributes'><svg class='icon xr-icon-file-text2'><use xlink:href='#icon-file-text2'></use></svg></label><input id='data-ba66b47c-8cd1-4fe4-a6cb-410a1b0de67e' class='xr-var-data-in' type='checkbox'><label for='data-ba66b47c-8cd1-4fe4-a6cb-410a1b0de67e' title='Show/Hide data repr'><svg class='icon xr-icon-database'><use xlink:href='#icon-database'></use></svg></label><div class='xr-var-attrs'><dl class='xr-attrs'></dl></div><div class='xr-var-data'><pre>array([0, 0, 0, ..., 0, 0, 0])</pre></div></li><li class='xr-var-item'><div class='xr-var-name'><span>n_events_future</span></div><div class='xr-var-dims'>(lead, date)</div><div class='xr-var-dtype'>int64</div><div class='xr-var-preview xr-preview'>0 0 0 0 0 0 0 1 ... 0 0 0 0 0 0 0 0</div><input id='attrs-5b258f53-1fc3-4c98-82e1-3c7684cdf093' class='xr-var-attrs-in' type='checkbox' disabled><label for='attrs-5b258f53-1fc3-4c98-82e1-3c7684cdf093' title='Show/Hide attributes'><svg class='icon xr-icon-file-text2'><use xlink:href='#icon-file-text2'></use></svg></label><input id='data-a66a92ad-c1d9-41b0-8504-bd8c1f372154' class='xr-var-data-in' type='checkbox'><label for='data-a66a92ad-c1d9-41b0-8504-bd8c1f372154' title='Show/Hide data repr'><svg class='icon xr-icon-database'><use xlink:href='#icon-database'></use></svg></label><div class='xr-var-attrs'><dl class='xr-attrs'></dl></div><div class='xr-var-data'><pre>array([[0, 0, 0, ..., 0, 0, 0],\n",
       "       [0, 0, 0, ..., 0, 0, 0],\n",
       "       [0, 0, 0, ..., 0, 0, 0]])</pre></div></li><li class='xr-var-item'><div class='xr-var-name'><span>n_events_past</span></div><div class='xr-var-dims'>(lag, date)</div><div class='xr-var-dtype'>int64</div><div class='xr-var-preview xr-preview'>0 0 0 0 0 0 0 0 ... 0 0 0 0 0 0 0 0</div><input id='attrs-182c5120-3a22-463e-bfda-9c55449e84e9' class='xr-var-attrs-in' type='checkbox' disabled><label for='attrs-182c5120-3a22-463e-bfda-9c55449e84e9' title='Show/Hide attributes'><svg class='icon xr-icon-file-text2'><use xlink:href='#icon-file-text2'></use></svg></label><input id='data-b87e1308-15f2-485d-9d36-5e8d17835544' class='xr-var-data-in' type='checkbox'><label for='data-b87e1308-15f2-485d-9d36-5e8d17835544' title='Show/Hide data repr'><svg class='icon xr-icon-database'><use xlink:href='#icon-database'></use></svg></label><div class='xr-var-attrs'><dl class='xr-attrs'></dl></div><div class='xr-var-data'><pre>array([[0, 0, 0, ..., 0, 0, 0]])</pre></div></li><li class='xr-var-item'><div class='xr-var-name'><span>sales_year_ago_mean</span></div><div class='xr-var-dims'>(item_id, store_id, date)</div><div class='xr-var-dtype'>float64</div><div class='xr-var-preview xr-preview'>0.0 0.0 0.0 ... 0.2857 0.2857</div><input id='attrs-43ac14c2-7a0e-4042-a471-cbfff8dfe388' class='xr-var-attrs-in' type='checkbox' disabled><label for='attrs-43ac14c2-7a0e-4042-a471-cbfff8dfe388' title='Show/Hide attributes'><svg class='icon xr-icon-file-text2'><use xlink:href='#icon-file-text2'></use></svg></label><input id='data-3edaf887-a868-4e7d-9901-bae2dafa3cf0' class='xr-var-data-in' type='checkbox'><label for='data-3edaf887-a868-4e7d-9901-bae2dafa3cf0' title='Show/Hide data repr'><svg class='icon xr-icon-database'><use xlink:href='#icon-database'></use></svg></label><div class='xr-var-attrs'><dl class='xr-attrs'></dl></div><div class='xr-var-data'><pre>array([[[0.        , 0.        , 0.        , ..., 0.42857143,\n",
       "         0.71428571, 0.71428571],\n",
       "        [0.        , 0.        , 0.        , ..., 0.57142857,\n",
       "         0.57142857, 1.42857143],\n",
       "        [0.        , 0.        , 0.        , ..., 0.57142857,\n",
       "         0.42857143, 0.42857143],\n",
       "        ...,\n",
       "        [0.        , 0.        , 0.        , ..., 0.42857143,\n",
       "         0.28571429, 0.28571429],\n",
       "        [0.        , 0.        , 0.        , ..., 0.57142857,\n",
       "         0.42857143, 0.57142857],\n",
       "        [0.        , 0.        , 0.        , ..., 0.        ,\n",
       "         0.14285714, 0.28571429]],\n",
       "\n",
       "       [[0.        , 0.        , 0.        , ..., 0.71428571,\n",
       "         0.57142857, 0.57142857],\n",
       "        [0.        , 0.        , 0.        , ..., 0.14285714,\n",
       "         0.42857143, 0.42857143],\n",
       "        [0.        , 0.        , 0.        , ..., 0.71428571,\n",
       "         0.85714286, 0.71428571],\n",
       "...\n",
       "        [0.        , 0.        , 0.        , ..., 0.        ,\n",
       "         0.        , 0.        ],\n",
       "        [0.        , 0.        , 0.        , ..., 0.        ,\n",
       "         0.        , 0.        ],\n",
       "        [0.        , 0.        , 0.        , ..., 0.28571429,\n",
       "         0.28571429, 0.28571429]],\n",
       "\n",
       "       [[0.        , 0.        , 0.        , ..., 0.42857143,\n",
       "         0.42857143, 0.28571429],\n",
       "        [0.        , 0.        , 0.        , ..., 0.14285714,\n",
       "         0.42857143, 0.57142857],\n",
       "        [0.        , 0.        , 0.        , ..., 0.28571429,\n",
       "         0.28571429, 0.28571429],\n",
       "        ...,\n",
       "        [0.        , 0.        , 0.        , ..., 0.        ,\n",
       "         0.14285714, 0.14285714],\n",
       "        [0.        , 0.        , 0.        , ..., 0.14285714,\n",
       "         0.14285714, 0.14285714],\n",
       "        [0.        , 0.        , 0.        , ..., 0.14285714,\n",
       "         0.28571429, 0.28571429]]])</pre></div></li><li class='xr-var-item'><div class='xr-var-name'><span>sales_year_ago_max</span></div><div class='xr-var-dims'>(item_id, store_id, date)</div><div class='xr-var-dtype'>float64</div><div class='xr-var-preview xr-preview'>0.0 0.0 0.0 0.0 ... 1.0 1.0 1.0 1.0</div><input id='attrs-39af68a3-9846-4949-a9fe-3c4d5ad6cb16' class='xr-var-attrs-in' type='checkbox' disabled><label for='attrs-39af68a3-9846-4949-a9fe-3c4d5ad6cb16' title='Show/Hide attributes'><svg class='icon xr-icon-file-text2'><use xlink:href='#icon-file-text2'></use></svg></label><input id='data-c0c729f3-b3d4-4fbf-9d81-816d7d07da1f' class='xr-var-data-in' type='checkbox'><label for='data-c0c729f3-b3d4-4fbf-9d81-816d7d07da1f' title='Show/Hide data repr'><svg class='icon xr-icon-database'><use xlink:href='#icon-database'></use></svg></label><div class='xr-var-attrs'><dl class='xr-attrs'></dl></div><div class='xr-var-data'><pre>array([[[0., 0., 0., ..., 2., 2., 2.],\n",
       "        [0., 0., 0., ..., 2., 2., 6.],\n",
       "        [0., 0., 0., ..., 2., 2., 2.],\n",
       "        ...,\n",
       "        [0., 0., 0., ..., 1., 1., 1.],\n",
       "        [0., 0., 0., ..., 1., 1., 1.],\n",
       "        [0., 0., 0., ..., 0., 1., 1.]],\n",
       "\n",
       "       [[0., 0., 0., ..., 2., 2., 2.],\n",
       "        [0., 0., 0., ..., 1., 2., 2.],\n",
       "        [0., 0., 0., ..., 1., 1., 1.],\n",
       "        ...,\n",
       "        [0., 0., 0., ..., 2., 1., 2.],\n",
       "        [0., 0., 0., ..., 1., 1., 1.],\n",
       "        [0., 0., 0., ..., 0., 0., 0.]],\n",
       "\n",
       "       [[0., 0., 0., ..., 2., 2., 2.],\n",
       "        [0., 0., 0., ..., 1., 1., 0.],\n",
       "        [0., 0., 0., ..., 3., 3., 3.],\n",
       "        ...,\n",
       "...\n",
       "        ...,\n",
       "        [0., 0., 0., ..., 0., 0., 0.],\n",
       "        [0., 0., 0., ..., 1., 2., 2.],\n",
       "        [0., 0., 0., ..., 0., 0., 0.]],\n",
       "\n",
       "       [[0., 0., 0., ..., 1., 1., 1.],\n",
       "        [0., 0., 0., ..., 1., 2., 2.],\n",
       "        [0., 0., 0., ..., 1., 1., 1.],\n",
       "        ...,\n",
       "        [0., 0., 0., ..., 0., 0., 0.],\n",
       "        [0., 0., 0., ..., 0., 0., 0.],\n",
       "        [0., 0., 0., ..., 1., 1., 1.]],\n",
       "\n",
       "       [[0., 0., 0., ..., 1., 1., 1.],\n",
       "        [0., 0., 0., ..., 1., 2., 2.],\n",
       "        [0., 0., 0., ..., 1., 1., 1.],\n",
       "        ...,\n",
       "        [0., 0., 0., ..., 0., 1., 1.],\n",
       "        [0., 0., 0., ..., 1., 1., 1.],\n",
       "        [0., 0., 0., ..., 1., 1., 1.]]])</pre></div></li><li class='xr-var-item'><div class='xr-var-name'><span>sales_year_ago_min</span></div><div class='xr-var-dims'>(item_id, store_id, date)</div><div class='xr-var-dtype'>float64</div><div class='xr-var-preview xr-preview'>0.0 0.0 0.0 0.0 ... 0.0 0.0 0.0 0.0</div><input id='attrs-8bc07878-6ce3-4b7d-8fb4-cf4029d521c0' class='xr-var-attrs-in' type='checkbox' disabled><label for='attrs-8bc07878-6ce3-4b7d-8fb4-cf4029d521c0' title='Show/Hide attributes'><svg class='icon xr-icon-file-text2'><use xlink:href='#icon-file-text2'></use></svg></label><input id='data-8b8a403d-f3f9-47fb-a4d3-fbef76a41c01' class='xr-var-data-in' type='checkbox'><label for='data-8b8a403d-f3f9-47fb-a4d3-fbef76a41c01' title='Show/Hide data repr'><svg class='icon xr-icon-database'><use xlink:href='#icon-database'></use></svg></label><div class='xr-var-attrs'><dl class='xr-attrs'></dl></div><div class='xr-var-data'><pre>array([[[0., 0., 0., ..., 0., 0., 0.],\n",
       "        [0., 0., 0., ..., 0., 0., 0.],\n",
       "        [0., 0., 0., ..., 0., 0., 0.],\n",
       "        ...,\n",
       "        [0., 0., 0., ..., 0., 0., 0.],\n",
       "        [0., 0., 0., ..., 0., 0., 0.],\n",
       "        [0., 0., 0., ..., 0., 0., 0.]],\n",
       "\n",
       "       [[0., 0., 0., ..., 0., 0., 0.],\n",
       "        [0., 0., 0., ..., 0., 0., 0.],\n",
       "        [0., 0., 0., ..., 0., 0., 0.],\n",
       "        ...,\n",
       "        [0., 0., 0., ..., 0., 0., 0.],\n",
       "        [0., 0., 0., ..., 0., 0., 0.],\n",
       "        [0., 0., 0., ..., 0., 0., 0.]],\n",
       "\n",
       "       [[0., 0., 0., ..., 0., 0., 0.],\n",
       "        [0., 0., 0., ..., 0., 0., 0.],\n",
       "        [0., 0., 0., ..., 0., 0., 0.],\n",
       "        ...,\n",
       "...\n",
       "        ...,\n",
       "        [0., 0., 0., ..., 0., 0., 0.],\n",
       "        [0., 0., 0., ..., 0., 0., 0.],\n",
       "        [0., 0., 0., ..., 0., 0., 0.]],\n",
       "\n",
       "       [[0., 0., 0., ..., 0., 0., 0.],\n",
       "        [0., 0., 0., ..., 0., 0., 0.],\n",
       "        [0., 0., 0., ..., 0., 0., 0.],\n",
       "        ...,\n",
       "        [0., 0., 0., ..., 0., 0., 0.],\n",
       "        [0., 0., 0., ..., 0., 0., 0.],\n",
       "        [0., 0., 0., ..., 0., 0., 0.]],\n",
       "\n",
       "       [[0., 0., 0., ..., 0., 0., 0.],\n",
       "        [0., 0., 0., ..., 0., 0., 0.],\n",
       "        [0., 0., 0., ..., 0., 0., 0.],\n",
       "        ...,\n",
       "        [0., 0., 0., ..., 0., 0., 0.],\n",
       "        [0., 0., 0., ..., 0., 0., 0.],\n",
       "        [0., 0., 0., ..., 0., 0., 0.]]])</pre></div></li><li class='xr-var-item'><div class='xr-var-name'><span>price_year_ago_mean</span></div><div class='xr-var-dims'>(item_id, store_id, date)</div><div class='xr-var-dtype'>float64</div><div class='xr-var-preview xr-preview'>2.0 2.0 2.0 2.0 ... 5.94 5.94 5.94</div><input id='attrs-88ac676b-285c-41bc-8f2f-5f73431df973' class='xr-var-attrs-in' type='checkbox' disabled><label for='attrs-88ac676b-285c-41bc-8f2f-5f73431df973' title='Show/Hide attributes'><svg class='icon xr-icon-file-text2'><use xlink:href='#icon-file-text2'></use></svg></label><input id='data-1c7fea2b-ed37-4927-92c9-adcaee12b151' class='xr-var-data-in' type='checkbox'><label for='data-1c7fea2b-ed37-4927-92c9-adcaee12b151' title='Show/Hide data repr'><svg class='icon xr-icon-database'><use xlink:href='#icon-database'></use></svg></label><div class='xr-var-attrs'><dl class='xr-attrs'></dl></div><div class='xr-var-data'><pre>array([[[ 2.  ,  2.  ,  2.  , ...,  2.24,  2.24,  2.24],\n",
       "        [ 2.  ,  2.  ,  2.  , ...,  2.24,  2.24,  2.24],\n",
       "        [ 2.  ,  2.  ,  2.  , ...,  2.24,  2.24,  2.24],\n",
       "        ...,\n",
       "        [ 2.  ,  2.  ,  2.  , ...,  2.24,  2.24,  2.24],\n",
       "        [ 2.  ,  2.  ,  2.  , ...,  2.24,  2.24,  2.24],\n",
       "        [ 2.  ,  2.  ,  2.  , ...,  2.24,  2.24,  2.24]],\n",
       "\n",
       "       [[ 7.88,  7.88,  7.88, ...,  9.48,  9.48,  9.48],\n",
       "        [ 7.88,  7.88,  7.88, ...,  9.48,  9.48,  9.48],\n",
       "        [ 7.88,  7.88,  7.88, ...,  9.48,  9.48,  9.48],\n",
       "        ...,\n",
       "        [ 7.88,  7.88,  7.88, ...,  9.48,  9.48,  9.48],\n",
       "        [ 8.28,  8.28,  8.28, ...,  9.48,  9.48,  9.48],\n",
       "        [ 7.88,  7.88,  7.88, ...,  9.48,  9.48,  9.48]],\n",
       "\n",
       "       [[ 2.88,  2.88,  2.88, ...,  3.23,  3.23,  3.23],\n",
       "        [ 2.88,  2.88,  2.88, ...,  3.23,  3.23,  3.23],\n",
       "        [ 2.88,  2.88,  2.88, ...,  3.23,  3.23,  3.23],\n",
       "        ...,\n",
       "...\n",
       "        ...,\n",
       "        [18.97, 18.97, 18.97, ..., 19.54, 19.54, 19.54],\n",
       "        [20.97, 20.97, 20.97, ..., 19.54, 19.54, 19.54],\n",
       "        [18.47, 18.47, 18.47, ..., 19.54, 19.54, 19.54]],\n",
       "\n",
       "       [[ 1.97,  1.97,  1.97, ...,  1.97,  1.97,  1.97],\n",
       "        [ 1.97,  1.97,  1.97, ...,  1.97,  1.97,  1.97],\n",
       "        [ 1.97,  1.97,  1.97, ...,  1.97,  1.97,  1.97],\n",
       "        ...,\n",
       "        [ 1.97,  1.97,  1.97, ...,  1.97,  1.97,  1.97],\n",
       "        [ 1.97,  1.97,  1.97, ...,  1.97,  1.97,  1.97],\n",
       "        [ 1.97,  1.97,  1.97, ...,  1.97,  1.97,  1.97]],\n",
       "\n",
       "       [[ 5.94,  5.94,  5.94, ...,  5.94,  5.94,  5.94],\n",
       "        [ 5.94,  5.94,  5.94, ...,  5.94,  5.94,  5.94],\n",
       "        [ 5.94,  5.94,  5.94, ...,  5.94,  5.94,  5.94],\n",
       "        ...,\n",
       "        [ 5.94,  5.94,  5.94, ...,  5.94,  5.94,  5.94],\n",
       "        [ 5.94,  5.94,  5.94, ...,  5.94,  5.94,  5.94],\n",
       "        [ 5.94,  5.94,  5.94, ...,  5.94,  5.94,  5.94]]])</pre></div></li><li class='xr-var-item'><div class='xr-var-name'><span>price_year_ago_max</span></div><div class='xr-var-dims'>(item_id, store_id, date)</div><div class='xr-var-dtype'>float64</div><div class='xr-var-preview xr-preview'>2.0 2.0 2.0 2.0 ... 5.94 5.94 5.94</div><input id='attrs-bfbb72e6-30ca-4d6a-9165-f978c8494900' class='xr-var-attrs-in' type='checkbox' disabled><label for='attrs-bfbb72e6-30ca-4d6a-9165-f978c8494900' title='Show/Hide attributes'><svg class='icon xr-icon-file-text2'><use xlink:href='#icon-file-text2'></use></svg></label><input id='data-92ca69f7-08d2-4d42-8bbc-ab0a3def4225' class='xr-var-data-in' type='checkbox'><label for='data-92ca69f7-08d2-4d42-8bbc-ab0a3def4225' title='Show/Hide data repr'><svg class='icon xr-icon-database'><use xlink:href='#icon-database'></use></svg></label><div class='xr-var-attrs'><dl class='xr-attrs'></dl></div><div class='xr-var-data'><pre>array([[[ 2.  ,  2.  ,  2.  , ...,  2.24,  2.24,  2.24],\n",
       "        [ 2.  ,  2.  ,  2.  , ...,  2.24,  2.24,  2.24],\n",
       "        [ 2.  ,  2.  ,  2.  , ...,  2.24,  2.24,  2.24],\n",
       "        ...,\n",
       "        [ 2.  ,  2.  ,  2.  , ...,  2.24,  2.24,  2.24],\n",
       "        [ 2.  ,  2.  ,  2.  , ...,  2.24,  2.24,  2.24],\n",
       "        [ 2.  ,  2.  ,  2.  , ...,  2.24,  2.24,  2.24]],\n",
       "\n",
       "       [[ 7.88,  7.88,  7.88, ...,  9.48,  9.48,  9.48],\n",
       "        [ 7.88,  7.88,  7.88, ...,  9.48,  9.48,  9.48],\n",
       "        [ 7.88,  7.88,  7.88, ...,  9.48,  9.48,  9.48],\n",
       "        ...,\n",
       "        [ 7.88,  7.88,  7.88, ...,  9.48,  9.48,  9.48],\n",
       "        [ 8.28,  8.28,  8.28, ...,  9.48,  9.48,  9.48],\n",
       "        [ 7.88,  7.88,  7.88, ...,  9.48,  9.48,  9.48]],\n",
       "\n",
       "       [[ 2.88,  2.88,  2.88, ...,  3.23,  3.23,  3.23],\n",
       "        [ 2.88,  2.88,  2.88, ...,  3.23,  3.23,  3.23],\n",
       "        [ 2.88,  2.88,  2.88, ...,  3.23,  3.23,  3.23],\n",
       "        ...,\n",
       "...\n",
       "        ...,\n",
       "        [18.97, 18.97, 18.97, ..., 19.54, 19.54, 19.54],\n",
       "        [20.97, 20.97, 20.97, ..., 19.54, 19.54, 19.54],\n",
       "        [18.47, 18.47, 18.47, ..., 19.54, 19.54, 19.54]],\n",
       "\n",
       "       [[ 1.97,  1.97,  1.97, ...,  1.97,  1.97,  1.97],\n",
       "        [ 1.97,  1.97,  1.97, ...,  1.97,  1.97,  1.97],\n",
       "        [ 1.97,  1.97,  1.97, ...,  1.97,  1.97,  1.97],\n",
       "        ...,\n",
       "        [ 1.97,  1.97,  1.97, ...,  1.97,  1.97,  1.97],\n",
       "        [ 1.97,  1.97,  1.97, ...,  1.97,  1.97,  1.97],\n",
       "        [ 1.97,  1.97,  1.97, ...,  1.97,  1.97,  1.97]],\n",
       "\n",
       "       [[ 5.94,  5.94,  5.94, ...,  5.94,  5.94,  5.94],\n",
       "        [ 5.94,  5.94,  5.94, ...,  5.94,  5.94,  5.94],\n",
       "        [ 5.94,  5.94,  5.94, ...,  5.94,  5.94,  5.94],\n",
       "        ...,\n",
       "        [ 5.94,  5.94,  5.94, ...,  5.94,  5.94,  5.94],\n",
       "        [ 5.94,  5.94,  5.94, ...,  5.94,  5.94,  5.94],\n",
       "        [ 5.94,  5.94,  5.94, ...,  5.94,  5.94,  5.94]]])</pre></div></li><li class='xr-var-item'><div class='xr-var-name'><span>price_year_ago_min</span></div><div class='xr-var-dims'>(item_id, store_id, date)</div><div class='xr-var-dtype'>float64</div><div class='xr-var-preview xr-preview'>2.0 2.0 2.0 2.0 ... 5.94 5.94 5.94</div><input id='attrs-cc2033f4-a413-4589-8ce9-4fa66bfc4ead' class='xr-var-attrs-in' type='checkbox' disabled><label for='attrs-cc2033f4-a413-4589-8ce9-4fa66bfc4ead' title='Show/Hide attributes'><svg class='icon xr-icon-file-text2'><use xlink:href='#icon-file-text2'></use></svg></label><input id='data-f8625b7e-a8ed-4dc6-94fe-946457cafc5c' class='xr-var-data-in' type='checkbox'><label for='data-f8625b7e-a8ed-4dc6-94fe-946457cafc5c' title='Show/Hide data repr'><svg class='icon xr-icon-database'><use xlink:href='#icon-database'></use></svg></label><div class='xr-var-attrs'><dl class='xr-attrs'></dl></div><div class='xr-var-data'><pre>array([[[ 2.  ,  2.  ,  2.  , ...,  2.24,  2.24,  2.24],\n",
       "        [ 2.  ,  2.  ,  2.  , ...,  2.24,  2.24,  2.24],\n",
       "        [ 2.  ,  2.  ,  2.  , ...,  2.24,  2.24,  2.24],\n",
       "        ...,\n",
       "        [ 2.  ,  2.  ,  2.  , ...,  2.24,  2.24,  2.24],\n",
       "        [ 2.  ,  2.  ,  2.  , ...,  2.24,  2.24,  2.24],\n",
       "        [ 2.  ,  2.  ,  2.  , ...,  2.24,  2.24,  2.24]],\n",
       "\n",
       "       [[ 7.88,  7.88,  7.88, ...,  9.48,  9.48,  9.48],\n",
       "        [ 7.88,  7.88,  7.88, ...,  9.48,  9.48,  9.48],\n",
       "        [ 7.88,  7.88,  7.88, ...,  9.48,  9.48,  9.48],\n",
       "        ...,\n",
       "        [ 7.88,  7.88,  7.88, ...,  9.48,  9.48,  9.48],\n",
       "        [ 8.28,  8.28,  8.28, ...,  9.48,  9.48,  9.48],\n",
       "        [ 7.88,  7.88,  7.88, ...,  9.48,  9.48,  9.48]],\n",
       "\n",
       "       [[ 2.88,  2.88,  2.88, ...,  3.23,  3.23,  3.23],\n",
       "        [ 2.88,  2.88,  2.88, ...,  3.23,  3.23,  3.23],\n",
       "        [ 2.88,  2.88,  2.88, ...,  3.23,  3.23,  3.23],\n",
       "        ...,\n",
       "...\n",
       "        ...,\n",
       "        [18.97, 18.97, 18.97, ..., 19.54, 19.54, 19.54],\n",
       "        [20.97, 20.97, 20.97, ..., 19.54, 19.54, 19.54],\n",
       "        [18.47, 18.47, 18.47, ..., 19.54, 19.54, 19.54]],\n",
       "\n",
       "       [[ 1.97,  1.97,  1.97, ...,  1.97,  1.97,  1.97],\n",
       "        [ 1.97,  1.97,  1.97, ...,  1.97,  1.97,  1.97],\n",
       "        [ 1.97,  1.97,  1.97, ...,  1.97,  1.97,  1.97],\n",
       "        ...,\n",
       "        [ 1.97,  1.97,  1.97, ...,  1.97,  1.97,  1.97],\n",
       "        [ 1.97,  1.97,  1.97, ...,  1.97,  1.97,  1.97],\n",
       "        [ 1.97,  1.97,  1.97, ...,  1.97,  1.97,  1.97]],\n",
       "\n",
       "       [[ 5.94,  5.94,  5.94, ...,  5.94,  5.94,  5.94],\n",
       "        [ 5.94,  5.94,  5.94, ...,  5.94,  5.94,  5.94],\n",
       "        [ 5.94,  5.94,  5.94, ...,  5.94,  5.94,  5.94],\n",
       "        ...,\n",
       "        [ 5.94,  5.94,  5.94, ...,  5.94,  5.94,  5.94],\n",
       "        [ 5.94,  5.94,  5.94, ...,  5.94,  5.94,  5.94],\n",
       "        [ 5.94,  5.94,  5.94, ...,  5.94,  5.94,  5.94]]])</pre></div></li></ul></div></li><li class='xr-section-item'><input id='section-4c033bd4-be23-4f44-9cbc-a7f1bdbd1ddd' class='xr-section-summary-in' type='checkbox' disabled ><label for='section-4c033bd4-be23-4f44-9cbc-a7f1bdbd1ddd' class='xr-section-summary'  title='Expand/collapse section'>Attributes: <span>(0)</span></label><div class='xr-section-inline-details'></div><div class='xr-section-details'><dl class='xr-attrs'></dl></div></li></ul></div></div>"
      ],
      "text/plain": [
       "<xarray.Dataset>\n",
       "Dimensions:              (category: 3, date: 1941, department: 7, etype: 5, event_name: 31, item: 3049, item_id: 3049, lag: 1, lead: 3, state: 3, store: 10, store_id: 10)\n",
       "Coordinates:\n",
       "  * event_name           (event_name) object '(No Event)' ... 'VeteransDay'\n",
       "    event_type           (event_name) object '(No Event)' ... 'National'\n",
       "  * item_id              (item_id) object 'FOODS_1_001' ... 'HOUSEHOLD_2_516'\n",
       "    cat_id               (item_id) object 'FOODS' 'FOODS' ... 'HOUSEHOLD'\n",
       "    dept_id              (item_id) object 'FOODS_1' 'FOODS_1' ... 'HOUSEHOLD_2'\n",
       "  * store_id             (store_id) object 'CA_1' 'CA_2' ... 'WI_2' 'WI_3'\n",
       "    state_id             (store_id) object 'CA' 'CA' 'CA' ... 'WI' 'WI' 'WI'\n",
       "  * date                 (date) datetime64[ns] 2011-01-29 ... 2016-05-22\n",
       "  * category             (category) object 'FOODS' 'HOBBIES' 'HOUSEHOLD'\n",
       "  * department           (department) object 'FOODS_1' ... 'HOUSEHOLD_2'\n",
       "  * state                (state) object 'CA' 'TX' 'WI'\n",
       "  * store                (store) object 'CA_1' 'CA_2' 'CA_3' ... 'WI_2' 'WI_3'\n",
       "  * item                 (item) object 'FOODS_1_001' ... 'HOUSEHOLD_2_516'\n",
       "  * etype                (etype) object '(No Event)' 'Cultural' ... 'Sporting'\n",
       "Dimensions without coordinates: lag, lead\n",
       "Data variables:\n",
       "    sales                (item_id, store_id, date) int64 3 0 0 1 4 ... 0 0 0 0 0\n",
       "    price                (item_id, store_id, date) float64 2.0 2.0 ... 5.94 5.94\n",
       "    wday                 (date) int64 1 2 3 4 5 6 7 1 2 3 ... 1 2 3 4 5 6 7 1 2\n",
       "    month                (date) int64 1 1 1 2 2 2 2 2 2 2 ... 5 5 5 5 5 5 5 5 5\n",
       "    snap                 (date, store_id) int64 0 0 0 0 0 0 0 ... 0 0 0 0 0 0 0\n",
       "    feat_category        (item_id) int64 0 0 0 0 0 0 0 0 0 ... 2 2 2 2 2 2 2 2 2\n",
       "    feat_department      (item_id) int64 0 0 0 0 0 0 0 0 0 ... 6 6 6 6 6 6 6 6 6\n",
       "    feat_item            (item_id) int64 0 1 2 3 4 ... 3044 3045 3046 3047 3048\n",
       "    feat_state           (store_id) int64 0 0 0 0 1 1 1 2 2 2\n",
       "    feat_store           (store_id) int64 0 1 2 3 4 5 6 7 8 9\n",
       "    n_events             (date) float64 0.0 0.0 0.0 0.0 0.0 ... 0.0 0.0 0.0 0.0\n",
       "    feat_event           (date) int64 0 0 0 0 0 0 0 0 27 0 ... 0 0 0 0 0 0 0 0 0\n",
       "    feat_etype           (date) int64 0 0 0 0 0 0 0 0 4 0 ... 0 0 0 0 0 0 0 0 0\n",
       "    n_events_future      (lead, date) int64 0 0 0 0 0 0 0 1 ... 0 0 0 0 0 0 0 0\n",
       "    n_events_past        (lag, date) int64 0 0 0 0 0 0 0 0 0 ... 0 0 0 0 0 0 0 0\n",
       "    sales_year_ago_mean  (item_id, store_id, date) float64 0.0 0.0 ... 0.2857\n",
       "    sales_year_ago_max   (item_id, store_id, date) float64 0.0 0.0 ... 1.0 1.0\n",
       "    sales_year_ago_min   (item_id, store_id, date) float64 0.0 0.0 ... 0.0 0.0\n",
       "    price_year_ago_mean  (item_id, store_id, date) float64 2.0 2.0 ... 5.94 5.94\n",
       "    price_year_ago_max   (item_id, store_id, date) float64 2.0 2.0 ... 5.94 5.94\n",
       "    price_year_ago_min   (item_id, store_id, date) float64 2.0 2.0 ... 5.94 5.94"
      ]
     },
     "execution_count": 91,
     "metadata": {},
     "output_type": "execute_result"
    }
   ],
   "source": [
    "ds"
   ]
  },
  {
   "cell_type": "code",
   "execution_count": null,
   "metadata": {},
   "outputs": [],
   "source": []
  },
  {
   "cell_type": "markdown",
   "metadata": {},
   "source": [
    "### Split into training and validation\n",
    "\n",
    "Let's train until 2016, and validate on the last few months."
   ]
  },
  {
   "cell_type": "code",
   "execution_count": 92,
   "metadata": {
    "ExecuteTime": {
     "end_time": "2021-07-06T00:26:32.367055Z",
     "start_time": "2021-07-06T00:26:32.359477Z"
    }
   },
   "outputs": [],
   "source": [
    "dates_train = slice(None, '2015-12-31')\n",
    "dates_valid = slice('2016-01-01', None)\n",
    "\n",
    "ds_train = ds.sel({\"date\": slice(None, '2015-12-31')})"
   ]
  },
  {
   "cell_type": "code",
   "execution_count": null,
   "metadata": {},
   "outputs": [],
   "source": []
  },
  {
   "cell_type": "markdown",
   "metadata": {},
   "source": [
    "## ML Model"
   ]
  },
  {
   "cell_type": "markdown",
   "metadata": {},
   "source": [
    "### Fit"
   ]
  },
  {
   "cell_type": "markdown",
   "metadata": {},
   "source": [
    "Select categorical feature names"
   ]
  },
  {
   "cell_type": "code",
   "execution_count": 37,
   "metadata": {
    "ExecuteTime": {
     "end_time": "2021-07-05T23:32:36.211104Z",
     "start_time": "2021-07-05T23:32:36.207482Z"
    }
   },
   "outputs": [],
   "source": [
    "my_cats = [\n",
    "    \"wday\",\n",
    "    \"month\",\n",
    "    \"feat_category\",\n",
    "    \"feat_department\",\n",
    "    \"feat_item\",\n",
    "    \"feat_state\",\n",
    "    \"feat_store\",\n",
    "    \"feat_event\",\n",
    "    \"feat_etype\",\n",
    "]"
   ]
  },
  {
   "cell_type": "markdown",
   "metadata": {},
   "source": [
    "#### Optimize"
   ]
  },
  {
   "cell_type": "code",
   "execution_count": 46,
   "metadata": {
    "ExecuteTime": {
     "end_time": "2021-07-05T23:37:17.329338Z",
     "start_time": "2021-07-05T23:37:17.122828Z"
    }
   },
   "outputs": [],
   "source": [
    "import optuna"
   ]
  },
  {
   "cell_type": "code",
   "execution_count": 61,
   "metadata": {
    "ExecuteTime": {
     "end_time": "2021-07-05T23:57:25.268292Z",
     "start_time": "2021-07-05T23:57:25.242767Z"
    }
   },
   "outputs": [
    {
     "name": "stderr",
     "output_type": "stream",
     "text": [
      "\u001b[32m[I 2021-07-06 02:57:25,261]\u001b[0m Using an existing study with name 'optimize_lgb' instead of creating a new one.\u001b[0m\n"
     ]
    }
   ],
   "source": [
    "study = optuna.create_study(storage=\"sqlite:///optimize_lgb.db\", study_name=\"optimize_lgb\", load_if_exists=True)"
   ]
  },
  {
   "cell_type": "markdown",
   "metadata": {},
   "source": [
    "Train-validation using 2013 thru 2015 data"
   ]
  },
  {
   "cell_type": "code",
   "execution_count": 99,
   "metadata": {
    "ExecuteTime": {
     "end_time": "2021-07-06T00:28:04.422497Z",
     "start_time": "2021-07-06T00:28:04.414161Z"
    }
   },
   "outputs": [],
   "source": [
    "xy_01 = ds_train.sel(date=slice(\"2013-01-01\", \"2014-12-31\"))\n",
    "xy_02 = ds_train.sel(date=slice(\"2015-01-01\", \"2015-12-31\"))"
   ]
  },
  {
   "cell_type": "code",
   "execution_count": 102,
   "metadata": {
    "ExecuteTime": {
     "end_time": "2021-07-06T00:37:24.886930Z",
     "start_time": "2021-07-06T00:37:24.878807Z"
    }
   },
   "outputs": [],
   "source": [
    "def objective(trial: optuna.Trial) -> float:\n",
    "    \"\"\"Optimization objective.\"\"\"\n",
    "\n",
    "    l_est = lgb.LGBMRegressor(\n",
    "        objective=\"poisson\",\n",
    "        n_estimators=trial.suggest_int(\"n_estimators\", 500, 3000, step=500),\n",
    "        # max_depth=trial.suggest_categorical(\"max_depth\", [4, 5, -1]),\n",
    "        colsample_bytree=trial.suggest_uniform(\"colsample_bytree\", 0.8, 1.0),\n",
    "        lambda_l1=trial.suggest_loguniform(\"lambda_l1\", 0.01, 1.0),\n",
    "        lambda_l2=trial.suggest_loguniform(\"lambda_l2\", 0.01, 1.0),\n",
    "        num_leaves=trial.suggest_int(\"num_leaves\", 30, 128),\n",
    "        # min_child_samples=trial.suggest_int(\"min_child_samples\", 5, 100, step=5),\n",
    "        # categorical_feature='name:'+','.join(my_cats),\n",
    "    )\n",
    "    est = SKLEst(\n",
    "        l_est, targets=\"sales\", extra_fit_kwargs={\"categorical_feature\": my_cats}\n",
    "    )\n",
    "    mdl = est.fit(xy_01)\n",
    "    xy_02_hat = mdl.transform(xy_02)\n",
    "    res = wrmsse_total(xy_01, xy_02_hat)\n",
    "    return res"
   ]
  },
  {
   "cell_type": "code",
   "execution_count": 103,
   "metadata": {
    "ExecuteTime": {
     "end_time": "2021-07-06T00:49:38.147288Z",
     "start_time": "2021-07-06T00:37:25.557439Z"
    }
   },
   "outputs": [
    {
     "ename": "KeyboardInterrupt",
     "evalue": "",
     "output_type": "error",
     "traceback": [
      "\u001b[0;31m---------------------------------------------------------------------------\u001b[0m",
      "\u001b[0;31mKeyboardInterrupt\u001b[0m                         Traceback (most recent call last)",
      "\u001b[0;32m~/.conda/envs/m5-comp/lib/python3.8/site-packages/optuna/_optimize.py\u001b[0m in \u001b[0;36m_optimize_sequential\u001b[0;34m(study, func, n_trials, timeout, catch, callbacks, gc_after_trial, reseed_sampler_rng, time_start, progress_bar)\u001b[0m\n\u001b[1;32m    161\u001b[0m         \u001b[0;32mtry\u001b[0m\u001b[0;34m:\u001b[0m\u001b[0;34m\u001b[0m\u001b[0;34m\u001b[0m\u001b[0m\n\u001b[0;32m--> 162\u001b[0;31m             \u001b[0mtrial\u001b[0m \u001b[0;34m=\u001b[0m \u001b[0m_run_trial\u001b[0m\u001b[0;34m(\u001b[0m\u001b[0mstudy\u001b[0m\u001b[0;34m,\u001b[0m \u001b[0mfunc\u001b[0m\u001b[0;34m,\u001b[0m \u001b[0mcatch\u001b[0m\u001b[0;34m)\u001b[0m\u001b[0;34m\u001b[0m\u001b[0;34m\u001b[0m\u001b[0m\n\u001b[0m\u001b[1;32m    163\u001b[0m         \u001b[0;32mexcept\u001b[0m \u001b[0mException\u001b[0m\u001b[0;34m:\u001b[0m\u001b[0;34m\u001b[0m\u001b[0;34m\u001b[0m\u001b[0m\n",
      "\u001b[0;32m~/.conda/envs/m5-comp/lib/python3.8/site-packages/optuna/_optimize.py\u001b[0m in \u001b[0;36m_run_trial\u001b[0;34m(study, func, catch)\u001b[0m\n\u001b[1;32m    215\u001b[0m     \u001b[0;32mtry\u001b[0m\u001b[0;34m:\u001b[0m\u001b[0;34m\u001b[0m\u001b[0;34m\u001b[0m\u001b[0m\n\u001b[0;32m--> 216\u001b[0;31m         \u001b[0mvalue_or_values\u001b[0m \u001b[0;34m=\u001b[0m \u001b[0mfunc\u001b[0m\u001b[0;34m(\u001b[0m\u001b[0mtrial\u001b[0m\u001b[0;34m)\u001b[0m\u001b[0;34m\u001b[0m\u001b[0;34m\u001b[0m\u001b[0m\n\u001b[0m\u001b[1;32m    217\u001b[0m     \u001b[0;32mexcept\u001b[0m \u001b[0mexceptions\u001b[0m\u001b[0;34m.\u001b[0m\u001b[0mTrialPruned\u001b[0m \u001b[0;32mas\u001b[0m \u001b[0me\u001b[0m\u001b[0;34m:\u001b[0m\u001b[0;34m\u001b[0m\u001b[0;34m\u001b[0m\u001b[0m\n",
      "\u001b[0;32m<ipython-input-102-83340bc8122a>\u001b[0m in \u001b[0;36mobjective\u001b[0;34m(trial)\u001b[0m\n\u001b[1;32m     18\u001b[0m     \u001b[0mmdl\u001b[0m \u001b[0;34m=\u001b[0m \u001b[0mest\u001b[0m\u001b[0;34m.\u001b[0m\u001b[0mfit\u001b[0m\u001b[0;34m(\u001b[0m\u001b[0mxy_01\u001b[0m\u001b[0;34m)\u001b[0m\u001b[0;34m\u001b[0m\u001b[0;34m\u001b[0m\u001b[0m\n\u001b[0;32m---> 19\u001b[0;31m     \u001b[0mxy_02_hat\u001b[0m \u001b[0;34m=\u001b[0m \u001b[0mmdl\u001b[0m\u001b[0;34m.\u001b[0m\u001b[0mtransform\u001b[0m\u001b[0;34m(\u001b[0m\u001b[0mxy_02\u001b[0m\u001b[0;34m)\u001b[0m\u001b[0;34m\u001b[0m\u001b[0;34m\u001b[0m\u001b[0m\n\u001b[0m\u001b[1;32m     20\u001b[0m     \u001b[0mres\u001b[0m \u001b[0;34m=\u001b[0m \u001b[0mwrmsse_total\u001b[0m\u001b[0;34m(\u001b[0m\u001b[0mxy_01\u001b[0m\u001b[0;34m,\u001b[0m \u001b[0mxy_02_hat\u001b[0m\u001b[0;34m)\u001b[0m\u001b[0;34m\u001b[0m\u001b[0;34m\u001b[0m\u001b[0m\n",
      "\u001b[0;32m~/repos/nd_learn/nd_learn/core/stages.py\u001b[0m in \u001b[0;36mtransform\u001b[0;34m(self, ds)\u001b[0m\n\u001b[1;32m     32\u001b[0m         \u001b[0mself\u001b[0m\u001b[0;34m.\u001b[0m\u001b[0mcheck_input\u001b[0m\u001b[0;34m(\u001b[0m\u001b[0mds\u001b[0m\u001b[0;34m)\u001b[0m\u001b[0;34m\u001b[0m\u001b[0;34m\u001b[0m\u001b[0m\n\u001b[0;32m---> 33\u001b[0;31m         \u001b[0mres\u001b[0m \u001b[0;34m=\u001b[0m \u001b[0mself\u001b[0m\u001b[0;34m.\u001b[0m\u001b[0m_transform\u001b[0m\u001b[0;34m(\u001b[0m\u001b[0mds\u001b[0m\u001b[0;34m)\u001b[0m\u001b[0;34m\u001b[0m\u001b[0;34m\u001b[0m\u001b[0m\n\u001b[0m\u001b[1;32m     34\u001b[0m         \u001b[0mself\u001b[0m\u001b[0;34m.\u001b[0m\u001b[0mcheck_output\u001b[0m\u001b[0;34m(\u001b[0m\u001b[0mres\u001b[0m\u001b[0;34m)\u001b[0m\u001b[0;34m\u001b[0m\u001b[0;34m\u001b[0m\u001b[0m\n",
      "\u001b[0;32m~/repos/nd_learn/nd_learn/compat/sklearn/wrap.py\u001b[0m in \u001b[0;36m_transform\u001b[0;34m(self, ds)\u001b[0m\n\u001b[1;32m    430\u001b[0m         \u001b[0;31m# Select X\u001b[0m\u001b[0;34m\u001b[0m\u001b[0;34m\u001b[0m\u001b[0;34m\u001b[0m\u001b[0m\n\u001b[0;32m--> 431\u001b[0;31m         X: pd.DataFrame = _selection_helper_df(\n\u001b[0m\u001b[1;32m    432\u001b[0m             \u001b[0mds\u001b[0m\u001b[0;34m=\u001b[0m\u001b[0mds\u001b[0m\u001b[0;34m,\u001b[0m\u001b[0;34m\u001b[0m\u001b[0;34m\u001b[0m\u001b[0m\n",
      "\u001b[0;32m~/repos/nd_learn/nd_learn/compat/sklearn/wrap.py\u001b[0m in \u001b[0;36m_selection_helper_df\u001b[0;34m(ds, dims_obs, selected_vars, obs_coords)\u001b[0m\n\u001b[1;32m    128\u001b[0m     )\n\u001b[0;32m--> 129\u001b[0;31m     \u001b[0;32mif\u001b[0m \u001b[0misinstance\u001b[0m\u001b[0;34m(\u001b[0m\u001b[0mobs_coords\u001b[0m\u001b[0;34m.\u001b[0m\u001b[0mvalues\u001b[0m\u001b[0;34m[\u001b[0m\u001b[0;36m0\u001b[0m\u001b[0;34m]\u001b[0m\u001b[0;34m,\u001b[0m \u001b[0mtuple\u001b[0m\u001b[0;34m)\u001b[0m\u001b[0;34m:\u001b[0m  \u001b[0;31m# ALT: len(dims_obs) > 1\u001b[0m\u001b[0;34m\u001b[0m\u001b[0;34m\u001b[0m\u001b[0m\n\u001b[0m\u001b[1;32m    130\u001b[0m         index = pd.MultiIndex.from_tuples(\n",
      "\u001b[0;32m~/.conda/envs/m5-comp/lib/python3.8/site-packages/xarray/core/dataarray.py\u001b[0m in \u001b[0;36mvalues\u001b[0;34m(self)\u001b[0m\n\u001b[1;32m    627\u001b[0m         \u001b[0;34m\"\"\"The array's data as a numpy.ndarray\"\"\"\u001b[0m\u001b[0;34m\u001b[0m\u001b[0;34m\u001b[0m\u001b[0m\n\u001b[0;32m--> 628\u001b[0;31m         \u001b[0;32mreturn\u001b[0m \u001b[0mself\u001b[0m\u001b[0;34m.\u001b[0m\u001b[0mvariable\u001b[0m\u001b[0;34m.\u001b[0m\u001b[0mvalues\u001b[0m\u001b[0;34m\u001b[0m\u001b[0;34m\u001b[0m\u001b[0m\n\u001b[0m\u001b[1;32m    629\u001b[0m \u001b[0;34m\u001b[0m\u001b[0m\n",
      "\u001b[0;32m~/.conda/envs/m5-comp/lib/python3.8/site-packages/xarray/core/variable.py\u001b[0m in \u001b[0;36mvalues\u001b[0;34m(self)\u001b[0m\n\u001b[1;32m    511\u001b[0m         \u001b[0;34m\"\"\"The variable's data as a numpy.ndarray\"\"\"\u001b[0m\u001b[0;34m\u001b[0m\u001b[0;34m\u001b[0m\u001b[0m\n\u001b[0;32m--> 512\u001b[0;31m         \u001b[0;32mreturn\u001b[0m \u001b[0m_as_array_or_item\u001b[0m\u001b[0;34m(\u001b[0m\u001b[0mself\u001b[0m\u001b[0;34m.\u001b[0m\u001b[0m_data\u001b[0m\u001b[0;34m)\u001b[0m\u001b[0;34m\u001b[0m\u001b[0;34m\u001b[0m\u001b[0m\n\u001b[0m\u001b[1;32m    513\u001b[0m \u001b[0;34m\u001b[0m\u001b[0m\n",
      "\u001b[0;32m~/.conda/envs/m5-comp/lib/python3.8/site-packages/xarray/core/variable.py\u001b[0m in \u001b[0;36m_as_array_or_item\u001b[0;34m(data)\u001b[0m\n\u001b[1;32m    273\u001b[0m     \u001b[0;32melse\u001b[0m\u001b[0;34m:\u001b[0m\u001b[0;34m\u001b[0m\u001b[0;34m\u001b[0m\u001b[0m\n\u001b[0;32m--> 274\u001b[0;31m         \u001b[0mdata\u001b[0m \u001b[0;34m=\u001b[0m \u001b[0mnp\u001b[0m\u001b[0;34m.\u001b[0m\u001b[0masarray\u001b[0m\u001b[0;34m(\u001b[0m\u001b[0mdata\u001b[0m\u001b[0;34m)\u001b[0m\u001b[0;34m\u001b[0m\u001b[0;34m\u001b[0m\u001b[0m\n\u001b[0m\u001b[1;32m    275\u001b[0m     \u001b[0;32mif\u001b[0m \u001b[0mdata\u001b[0m\u001b[0;34m.\u001b[0m\u001b[0mndim\u001b[0m \u001b[0;34m==\u001b[0m \u001b[0;36m0\u001b[0m\u001b[0;34m:\u001b[0m\u001b[0;34m\u001b[0m\u001b[0;34m\u001b[0m\u001b[0m\n",
      "\u001b[0;32m~/.conda/envs/m5-comp/lib/python3.8/site-packages/numpy/core/_asarray.py\u001b[0m in \u001b[0;36masarray\u001b[0;34m(a, dtype, order)\u001b[0m\n\u001b[1;32m     82\u001b[0m     \"\"\"\n\u001b[0;32m---> 83\u001b[0;31m     \u001b[0;32mreturn\u001b[0m \u001b[0marray\u001b[0m\u001b[0;34m(\u001b[0m\u001b[0ma\u001b[0m\u001b[0;34m,\u001b[0m \u001b[0mdtype\u001b[0m\u001b[0;34m,\u001b[0m \u001b[0mcopy\u001b[0m\u001b[0;34m=\u001b[0m\u001b[0;32mFalse\u001b[0m\u001b[0;34m,\u001b[0m \u001b[0morder\u001b[0m\u001b[0;34m=\u001b[0m\u001b[0morder\u001b[0m\u001b[0;34m)\u001b[0m\u001b[0;34m\u001b[0m\u001b[0;34m\u001b[0m\u001b[0m\n\u001b[0m\u001b[1;32m     84\u001b[0m \u001b[0;34m\u001b[0m\u001b[0m\n",
      "\u001b[0;32m~/.conda/envs/m5-comp/lib/python3.8/site-packages/xarray/core/indexing.py\u001b[0m in \u001b[0;36m__array__\u001b[0;34m(self, dtype)\u001b[0m\n\u001b[1;32m   1423\u001b[0m                 \u001b[0marray\u001b[0m \u001b[0;34m=\u001b[0m \u001b[0marray\u001b[0m\u001b[0;34m.\u001b[0m\u001b[0mastype\u001b[0m\u001b[0;34m(\u001b[0m\u001b[0;34m\"object\"\u001b[0m\u001b[0;34m)\u001b[0m\u001b[0;34m\u001b[0m\u001b[0;34m\u001b[0m\u001b[0m\n\u001b[0;32m-> 1424\u001b[0;31m         \u001b[0;32mreturn\u001b[0m \u001b[0mnp\u001b[0m\u001b[0;34m.\u001b[0m\u001b[0masarray\u001b[0m\u001b[0;34m(\u001b[0m\u001b[0marray\u001b[0m\u001b[0;34m.\u001b[0m\u001b[0mvalues\u001b[0m\u001b[0;34m,\u001b[0m \u001b[0mdtype\u001b[0m\u001b[0;34m=\u001b[0m\u001b[0mdtype\u001b[0m\u001b[0;34m)\u001b[0m\u001b[0;34m\u001b[0m\u001b[0;34m\u001b[0m\u001b[0m\n\u001b[0m\u001b[1;32m   1425\u001b[0m \u001b[0;34m\u001b[0m\u001b[0m\n",
      "\u001b[0;32m~/.conda/envs/m5-comp/lib/python3.8/site-packages/pandas/core/indexes/multi.py\u001b[0m in \u001b[0;36mvalues\u001b[0;34m(self)\u001b[0m\n\u001b[1;32m    686\u001b[0m     \u001b[0;32mdef\u001b[0m \u001b[0mvalues\u001b[0m\u001b[0;34m(\u001b[0m\u001b[0mself\u001b[0m\u001b[0;34m)\u001b[0m\u001b[0;34m:\u001b[0m\u001b[0;34m\u001b[0m\u001b[0;34m\u001b[0m\u001b[0m\n\u001b[0;32m--> 687\u001b[0;31m         \u001b[0;32mreturn\u001b[0m \u001b[0mself\u001b[0m\u001b[0;34m.\u001b[0m\u001b[0m_values\u001b[0m\u001b[0;34m\u001b[0m\u001b[0;34m\u001b[0m\u001b[0m\n\u001b[0m\u001b[1;32m    688\u001b[0m \u001b[0;34m\u001b[0m\u001b[0m\n",
      "\u001b[0;32mpandas/_libs/properties.pyx\u001b[0m in \u001b[0;36mpandas._libs.properties.CachedProperty.__get__\u001b[0;34m()\u001b[0m\n",
      "\u001b[0;32m~/.conda/envs/m5-comp/lib/python3.8/site-packages/pandas/core/indexes/multi.py\u001b[0m in \u001b[0;36m_values\u001b[0;34m(self)\u001b[0m\n\u001b[1;32m    677\u001b[0m             ):\n\u001b[0;32m--> 678\u001b[0;31m                 \u001b[0mvals\u001b[0m \u001b[0;34m=\u001b[0m \u001b[0mvals\u001b[0m\u001b[0;34m.\u001b[0m\u001b[0mastype\u001b[0m\u001b[0;34m(\u001b[0m\u001b[0mobject\u001b[0m\u001b[0;34m)\u001b[0m\u001b[0;34m\u001b[0m\u001b[0;34m\u001b[0m\u001b[0m\n\u001b[0m\u001b[1;32m    679\u001b[0m             \u001b[0mvals\u001b[0m \u001b[0;34m=\u001b[0m \u001b[0mnp\u001b[0m\u001b[0;34m.\u001b[0m\u001b[0marray\u001b[0m\u001b[0;34m(\u001b[0m\u001b[0mvals\u001b[0m\u001b[0;34m,\u001b[0m \u001b[0mcopy\u001b[0m\u001b[0;34m=\u001b[0m\u001b[0;32mFalse\u001b[0m\u001b[0;34m)\u001b[0m\u001b[0;34m\u001b[0m\u001b[0;34m\u001b[0m\u001b[0m\n",
      "\u001b[0;32m~/.conda/envs/m5-comp/lib/python3.8/site-packages/pandas/core/indexes/extension.py\u001b[0m in \u001b[0;36mastype\u001b[0;34m(self, dtype, copy)\u001b[0m\n\u001b[1;32m    315\u001b[0m \u001b[0;34m\u001b[0m\u001b[0m\n\u001b[0;32m--> 316\u001b[0;31m         \u001b[0mnew_values\u001b[0m \u001b[0;34m=\u001b[0m \u001b[0mself\u001b[0m\u001b[0;34m.\u001b[0m\u001b[0m_data\u001b[0m\u001b[0;34m.\u001b[0m\u001b[0mastype\u001b[0m\u001b[0;34m(\u001b[0m\u001b[0mdtype\u001b[0m\u001b[0;34m,\u001b[0m \u001b[0mcopy\u001b[0m\u001b[0;34m=\u001b[0m\u001b[0mcopy\u001b[0m\u001b[0;34m)\u001b[0m\u001b[0;34m\u001b[0m\u001b[0;34m\u001b[0m\u001b[0m\n\u001b[0m\u001b[1;32m    317\u001b[0m \u001b[0;34m\u001b[0m\u001b[0m\n",
      "\u001b[0;32m~/.conda/envs/m5-comp/lib/python3.8/site-packages/pandas/core/arrays/datetimes.py\u001b[0m in \u001b[0;36mastype\u001b[0;34m(self, dtype, copy)\u001b[0m\n\u001b[1;32m    609\u001b[0m             \u001b[0;32mreturn\u001b[0m \u001b[0mself\u001b[0m\u001b[0;34m.\u001b[0m\u001b[0mto_period\u001b[0m\u001b[0;34m(\u001b[0m\u001b[0mfreq\u001b[0m\u001b[0;34m=\u001b[0m\u001b[0mdtype\u001b[0m\u001b[0;34m.\u001b[0m\u001b[0mfreq\u001b[0m\u001b[0;34m)\u001b[0m\u001b[0;34m\u001b[0m\u001b[0;34m\u001b[0m\u001b[0m\n\u001b[0;32m--> 610\u001b[0;31m         \u001b[0;32mreturn\u001b[0m \u001b[0mdtl\u001b[0m\u001b[0;34m.\u001b[0m\u001b[0mDatetimeLikeArrayMixin\u001b[0m\u001b[0;34m.\u001b[0m\u001b[0mastype\u001b[0m\u001b[0;34m(\u001b[0m\u001b[0mself\u001b[0m\u001b[0;34m,\u001b[0m \u001b[0mdtype\u001b[0m\u001b[0;34m,\u001b[0m \u001b[0mcopy\u001b[0m\u001b[0;34m)\u001b[0m\u001b[0;34m\u001b[0m\u001b[0;34m\u001b[0m\u001b[0m\n\u001b[0m\u001b[1;32m    611\u001b[0m \u001b[0;34m\u001b[0m\u001b[0m\n",
      "\u001b[0;32m~/.conda/envs/m5-comp/lib/python3.8/site-packages/pandas/core/arrays/datetimelike.py\u001b[0m in \u001b[0;36mastype\u001b[0;34m(self, dtype, copy)\u001b[0m\n\u001b[1;32m    344\u001b[0m         \u001b[0;32mif\u001b[0m \u001b[0mis_object_dtype\u001b[0m\u001b[0;34m(\u001b[0m\u001b[0mdtype\u001b[0m\u001b[0;34m)\u001b[0m\u001b[0;34m:\u001b[0m\u001b[0;34m\u001b[0m\u001b[0;34m\u001b[0m\u001b[0m\n\u001b[0;32m--> 345\u001b[0;31m             \u001b[0;32mreturn\u001b[0m \u001b[0mself\u001b[0m\u001b[0;34m.\u001b[0m\u001b[0m_box_values\u001b[0m\u001b[0;34m(\u001b[0m\u001b[0mself\u001b[0m\u001b[0;34m.\u001b[0m\u001b[0masi8\u001b[0m\u001b[0;34m.\u001b[0m\u001b[0mravel\u001b[0m\u001b[0;34m(\u001b[0m\u001b[0;34m)\u001b[0m\u001b[0;34m)\u001b[0m\u001b[0;34m.\u001b[0m\u001b[0mreshape\u001b[0m\u001b[0;34m(\u001b[0m\u001b[0mself\u001b[0m\u001b[0;34m.\u001b[0m\u001b[0mshape\u001b[0m\u001b[0;34m)\u001b[0m\u001b[0;34m\u001b[0m\u001b[0;34m\u001b[0m\u001b[0m\n\u001b[0m\u001b[1;32m    346\u001b[0m         \u001b[0;32melif\u001b[0m \u001b[0mis_string_dtype\u001b[0m\u001b[0;34m(\u001b[0m\u001b[0mdtype\u001b[0m\u001b[0;34m)\u001b[0m \u001b[0;32mand\u001b[0m \u001b[0;32mnot\u001b[0m \u001b[0mis_categorical_dtype\u001b[0m\u001b[0;34m(\u001b[0m\u001b[0mdtype\u001b[0m\u001b[0;34m)\u001b[0m\u001b[0;34m:\u001b[0m\u001b[0;34m\u001b[0m\u001b[0;34m\u001b[0m\u001b[0m\n",
      "\u001b[0;32m~/.conda/envs/m5-comp/lib/python3.8/site-packages/pandas/core/arrays/datetimelike.py\u001b[0m in \u001b[0;36m_box_values\u001b[0;34m(self, values)\u001b[0m\n\u001b[1;32m    226\u001b[0m         \"\"\"\n\u001b[0;32m--> 227\u001b[0;31m         \u001b[0;32mreturn\u001b[0m \u001b[0mlib\u001b[0m\u001b[0;34m.\u001b[0m\u001b[0mmap_infer\u001b[0m\u001b[0;34m(\u001b[0m\u001b[0mvalues\u001b[0m\u001b[0;34m,\u001b[0m \u001b[0mself\u001b[0m\u001b[0;34m.\u001b[0m\u001b[0m_box_func\u001b[0m\u001b[0;34m)\u001b[0m\u001b[0;34m\u001b[0m\u001b[0;34m\u001b[0m\u001b[0m\n\u001b[0m\u001b[1;32m    228\u001b[0m \u001b[0;34m\u001b[0m\u001b[0m\n",
      "\u001b[0;32mpandas/_libs/lib.pyx\u001b[0m in \u001b[0;36mpandas._libs.lib.map_infer\u001b[0;34m()\u001b[0m\n",
      "\u001b[0;32m~/.conda/envs/m5-comp/lib/python3.8/site-packages/pandas/core/arrays/datetimes.py\u001b[0m in \u001b[0;36m_box_func\u001b[0;34m(self, x)\u001b[0m\n\u001b[1;32m    484\u001b[0m     \u001b[0;32mdef\u001b[0m \u001b[0m_box_func\u001b[0m\u001b[0;34m(\u001b[0m\u001b[0mself\u001b[0m\u001b[0;34m,\u001b[0m \u001b[0mx\u001b[0m\u001b[0;34m)\u001b[0m \u001b[0;34m->\u001b[0m \u001b[0mUnion\u001b[0m\u001b[0;34m[\u001b[0m\u001b[0mTimestamp\u001b[0m\u001b[0;34m,\u001b[0m \u001b[0mNaTType\u001b[0m\u001b[0;34m]\u001b[0m\u001b[0;34m:\u001b[0m\u001b[0;34m\u001b[0m\u001b[0;34m\u001b[0m\u001b[0m\n\u001b[0;32m--> 485\u001b[0;31m         \u001b[0;32mreturn\u001b[0m \u001b[0mTimestamp\u001b[0m\u001b[0;34m(\u001b[0m\u001b[0mx\u001b[0m\u001b[0;34m,\u001b[0m \u001b[0mfreq\u001b[0m\u001b[0;34m=\u001b[0m\u001b[0mself\u001b[0m\u001b[0;34m.\u001b[0m\u001b[0mfreq\u001b[0m\u001b[0;34m,\u001b[0m \u001b[0mtz\u001b[0m\u001b[0;34m=\u001b[0m\u001b[0mself\u001b[0m\u001b[0;34m.\u001b[0m\u001b[0mtz\u001b[0m\u001b[0;34m)\u001b[0m\u001b[0;34m\u001b[0m\u001b[0;34m\u001b[0m\u001b[0m\n\u001b[0m\u001b[1;32m    486\u001b[0m \u001b[0;34m\u001b[0m\u001b[0m\n",
      "\u001b[0;32mpandas/_libs/tslibs/timestamps.pyx\u001b[0m in \u001b[0;36mpandas._libs.tslibs.timestamps.Timestamp.__new__\u001b[0;34m()\u001b[0m\n",
      "\u001b[0;32mpandas/_libs/tslibs/conversion.pyx\u001b[0m in \u001b[0;36mpandas._libs.tslibs.conversion.convert_to_tsobject\u001b[0;34m()\u001b[0m\n",
      "\u001b[0;31mKeyboardInterrupt\u001b[0m: ",
      "\nDuring handling of the above exception, another exception occurred:\n",
      "\u001b[0;31mKeyboardInterrupt\u001b[0m                         Traceback (most recent call last)",
      "\u001b[0;32m<ipython-input-103-b87821ff04bd>\u001b[0m in \u001b[0;36m<module>\u001b[0;34m\u001b[0m\n\u001b[0;32m----> 1\u001b[0;31m \u001b[0mstudy\u001b[0m\u001b[0;34m.\u001b[0m\u001b[0moptimize\u001b[0m\u001b[0;34m(\u001b[0m\u001b[0mobjective\u001b[0m\u001b[0;34m,\u001b[0m \u001b[0mn_trials\u001b[0m\u001b[0;34m=\u001b[0m\u001b[0;36m1\u001b[0m\u001b[0;34m,\u001b[0m \u001b[0mgc_after_trial\u001b[0m\u001b[0;34m=\u001b[0m\u001b[0;32mTrue\u001b[0m\u001b[0;34m)\u001b[0m\u001b[0;34m\u001b[0m\u001b[0;34m\u001b[0m\u001b[0m\n\u001b[0m",
      "\u001b[0;32m~/.conda/envs/m5-comp/lib/python3.8/site-packages/optuna/study.py\u001b[0m in \u001b[0;36moptimize\u001b[0;34m(self, func, n_trials, timeout, n_jobs, catch, callbacks, gc_after_trial, show_progress_bar)\u001b[0m\n\u001b[1;32m    399\u001b[0m             )\n\u001b[1;32m    400\u001b[0m \u001b[0;34m\u001b[0m\u001b[0m\n\u001b[0;32m--> 401\u001b[0;31m         _optimize(\n\u001b[0m\u001b[1;32m    402\u001b[0m             \u001b[0mstudy\u001b[0m\u001b[0;34m=\u001b[0m\u001b[0mself\u001b[0m\u001b[0;34m,\u001b[0m\u001b[0;34m\u001b[0m\u001b[0;34m\u001b[0m\u001b[0m\n\u001b[1;32m    403\u001b[0m             \u001b[0mfunc\u001b[0m\u001b[0;34m=\u001b[0m\u001b[0mfunc\u001b[0m\u001b[0;34m,\u001b[0m\u001b[0;34m\u001b[0m\u001b[0;34m\u001b[0m\u001b[0m\n",
      "\u001b[0;32m~/.conda/envs/m5-comp/lib/python3.8/site-packages/optuna/_optimize.py\u001b[0m in \u001b[0;36m_optimize\u001b[0;34m(study, func, n_trials, timeout, n_jobs, catch, callbacks, gc_after_trial, show_progress_bar)\u001b[0m\n\u001b[1;32m     63\u001b[0m     \u001b[0;32mtry\u001b[0m\u001b[0;34m:\u001b[0m\u001b[0;34m\u001b[0m\u001b[0;34m\u001b[0m\u001b[0m\n\u001b[1;32m     64\u001b[0m         \u001b[0;32mif\u001b[0m \u001b[0mn_jobs\u001b[0m \u001b[0;34m==\u001b[0m \u001b[0;36m1\u001b[0m\u001b[0;34m:\u001b[0m\u001b[0;34m\u001b[0m\u001b[0;34m\u001b[0m\u001b[0m\n\u001b[0;32m---> 65\u001b[0;31m             _optimize_sequential(\n\u001b[0m\u001b[1;32m     66\u001b[0m                 \u001b[0mstudy\u001b[0m\u001b[0;34m,\u001b[0m\u001b[0;34m\u001b[0m\u001b[0;34m\u001b[0m\u001b[0m\n\u001b[1;32m     67\u001b[0m                 \u001b[0mfunc\u001b[0m\u001b[0;34m,\u001b[0m\u001b[0;34m\u001b[0m\u001b[0;34m\u001b[0m\u001b[0m\n",
      "\u001b[0;32m~/.conda/envs/m5-comp/lib/python3.8/site-packages/optuna/_optimize.py\u001b[0m in \u001b[0;36m_optimize_sequential\u001b[0;34m(study, func, n_trials, timeout, catch, callbacks, gc_after_trial, reseed_sampler_rng, time_start, progress_bar)\u001b[0m\n\u001b[1;32m    169\u001b[0m             \u001b[0;31m# https://github.com/optuna/optuna/pull/325.\u001b[0m\u001b[0;34m\u001b[0m\u001b[0;34m\u001b[0m\u001b[0;34m\u001b[0m\u001b[0m\n\u001b[1;32m    170\u001b[0m             \u001b[0;32mif\u001b[0m \u001b[0mgc_after_trial\u001b[0m\u001b[0;34m:\u001b[0m\u001b[0;34m\u001b[0m\u001b[0;34m\u001b[0m\u001b[0m\n\u001b[0;32m--> 171\u001b[0;31m                 \u001b[0mgc\u001b[0m\u001b[0;34m.\u001b[0m\u001b[0mcollect\u001b[0m\u001b[0;34m(\u001b[0m\u001b[0;34m)\u001b[0m\u001b[0;34m\u001b[0m\u001b[0;34m\u001b[0m\u001b[0m\n\u001b[0m\u001b[1;32m    172\u001b[0m \u001b[0;34m\u001b[0m\u001b[0m\n\u001b[1;32m    173\u001b[0m         \u001b[0;32mif\u001b[0m \u001b[0mcallbacks\u001b[0m \u001b[0;32mis\u001b[0m \u001b[0;32mnot\u001b[0m \u001b[0;32mNone\u001b[0m\u001b[0;34m:\u001b[0m\u001b[0;34m\u001b[0m\u001b[0;34m\u001b[0m\u001b[0m\n",
      "\u001b[0;31mKeyboardInterrupt\u001b[0m: "
     ]
    }
   ],
   "source": [
    "study.optimize(objective, n_trials=1, gc_after_trial=True)"
   ]
  },
  {
   "cell_type": "markdown",
   "metadata": {},
   "source": [
    "#### Refit best model"
   ]
  },
  {
   "cell_type": "markdown",
   "metadata": {},
   "source": [
    "Training set for final model is 2014 through 2015"
   ]
  },
  {
   "cell_type": "code",
   "execution_count": null,
   "metadata": {
    "ExecuteTime": {
     "end_time": "2021-07-06T00:49:38.149374Z",
     "start_time": "2021-07-06T00:39:57.028Z"
    }
   },
   "outputs": [],
   "source": [
    "xy1 = ds_train.sel(date=slice(\"2014-01-01\", \"2015-12-31\"))"
   ]
  },
  {
   "cell_type": "code",
   "execution_count": null,
   "metadata": {
    "ExecuteTime": {
     "end_time": "2021-07-06T00:49:38.150233Z",
     "start_time": "2021-07-06T00:39:57.285Z"
    }
   },
   "outputs": [],
   "source": [
    "_lgb_model = lgb.LGBMRegressor(\n",
    "    objective=\"poisson\",\n",
    "    **study.best_params\n",
    ")\n",
    "est = SKLEst(_lgb_model, targets=\"sales\", extra_fit_kwargs={\"categorical_feature\": my_cats})"
   ]
  },
  {
   "cell_type": "code",
   "execution_count": null,
   "metadata": {
    "ExecuteTime": {
     "end_time": "2021-07-06T00:49:38.151033Z",
     "start_time": "2021-07-06T00:39:57.789Z"
    }
   },
   "outputs": [],
   "source": [
    "mdl, xy1_hat = est.fit_transform(xy1)"
   ]
  },
  {
   "cell_type": "code",
   "execution_count": null,
   "metadata": {
    "ExecuteTime": {
     "end_time": "2021-07-06T00:49:38.151836Z",
     "start_time": "2021-07-06T00:39:58.171Z"
    }
   },
   "outputs": [],
   "source": [
    "xy1_hat[['sales', 'sales_hat']]"
   ]
  },
  {
   "cell_type": "code",
   "execution_count": null,
   "metadata": {
    "ExecuteTime": {
     "end_time": "2021-07-06T00:49:38.152674Z",
     "start_time": "2021-07-06T00:39:58.970Z"
    }
   },
   "outputs": [],
   "source": [
    "xy1_agg = xy1_hat[['sales', 'sales_hat']].groupby(\"date\").sum(...)\n",
    "fig, ax = plt.subplots(figsize=(12, 5))\n",
    "ax.set_title(\"Aggregated prediction (in-sample)\")\n",
    "xy1_agg.to_dataframe().plot.line(ax=ax)\n",
    "fig;"
   ]
  },
  {
   "cell_type": "markdown",
   "metadata": {},
   "source": [
    "### Validate"
   ]
  },
  {
   "cell_type": "markdown",
   "metadata": {},
   "source": [
    "Validation set: all known dates in 2016"
   ]
  },
  {
   "cell_type": "code",
   "execution_count": null,
   "metadata": {
    "ExecuteTime": {
     "end_time": "2021-07-06T00:49:38.153457Z",
     "start_time": "2021-07-06T00:39:59.713Z"
    }
   },
   "outputs": [],
   "source": [
    "xy2 = ds.sel(date=slice(\"2016-01-01\", None))"
   ]
  },
  {
   "cell_type": "code",
   "execution_count": null,
   "metadata": {
    "ExecuteTime": {
     "end_time": "2021-07-06T00:49:38.154327Z",
     "start_time": "2021-07-06T00:39:59.874Z"
    }
   },
   "outputs": [],
   "source": [
    "xy2_hat = mdl.transform(xy2)"
   ]
  },
  {
   "cell_type": "code",
   "execution_count": null,
   "metadata": {
    "ExecuteTime": {
     "end_time": "2021-07-06T00:49:38.155173Z",
     "start_time": "2021-07-06T00:40:00.048Z"
    }
   },
   "outputs": [],
   "source": [
    "xy2_agg = xy2_hat[['sales', 'sales_hat']].groupby(\"date\").sum(...)\n",
    "fig, ax = plt.subplots(figsize=(12, 5))\n",
    "ax.set_title(\"Aggregated prediction (out-of-sample)\")\n",
    "xy2_agg.to_dataframe().plot.line(ax=ax)\n",
    "fig;"
   ]
  },
  {
   "cell_type": "markdown",
   "metadata": {},
   "source": [
    "### Calculate error"
   ]
  },
  {
   "cell_type": "markdown",
   "metadata": {},
   "source": [
    "The denominator is the MSE for the naive (1-step-ahead) forecast:\n",
    "\n",
    "$$\n",
    "mse_{naive} = \\frac{1}{n-1} \\sum_{t=2}^{n}{(Y_t-Y_{t-1})^2}\n",
    "$$\n",
    "\n",
    "We calculate error only after the first non-zero demand was observed.\n",
    "\n",
    "The numerator is the MSE of your prediction, on the validation set:\n",
    "\n",
    "$$\n",
    "mse_{pred} = \\frac{1}{h} \\sum_{t=n+1}^{n+h} {(Y_t - \\hat{Y_t})^2}\n",
    "$$\n",
    "\n",
    "\n",
    "The weights are just the value of sales during the last 28 days:\n",
    "\n",
    "$$\n",
    "w_i = \\sum_{t=n-27}^{n}{Y_t \\cdot price_t}\n",
    "$$\n",
    "\n",
    "Putting it all together, we get the Root Mean Squared Scaled Error (RMSSE):\n",
    "\n",
    "$$\n",
    "RMSSE = \\sqrt{\\frac{mse_{pred}}{mse_{naive}}}\n",
    "$$\n",
    "\n",
    "The weights are used to calculate the final metric (over all series):\n",
    "\n",
    "$$\n",
    "WRMSSE = \\sum_{i=1}^{42840} {w_i * RMSSE_i}\n",
    "$$"
   ]
  },
  {
   "cell_type": "code",
   "execution_count": null,
   "metadata": {
    "ExecuteTime": {
     "end_time": "2021-07-06T00:49:38.155860Z",
     "start_time": "2021-07-06T00:40:03.027Z"
    }
   },
   "outputs": [],
   "source": [
    "get_wrmsse(xy1, xy2_hat, t_hat=\"sales_hat\")"
   ]
  },
  {
   "cell_type": "markdown",
   "metadata": {},
   "source": [
    "Note that an error greater than 1 means the forecast is worse than a 1-step-ahead naive/random walk forecast.\n",
    "However, a 1-step-ahead forecast is impossible to use, because the forecast period is more than 1 day ahead."
   ]
  },
  {
   "cell_type": "code",
   "execution_count": null,
   "metadata": {
    "ExecuteTime": {
     "end_time": "2021-07-06T00:49:38.156659Z",
     "start_time": "2021-07-06T00:40:03.397Z"
    }
   },
   "outputs": [],
   "source": [
    "errors_per_level = wrmsse_per_level(xy1, xy2_hat, t_hat=\"sales_hat\")\n",
    "errors_per_level"
   ]
  },
  {
   "cell_type": "markdown",
   "metadata": {},
   "source": [
    "This is the final error that would be shown on the leaderboard:"
   ]
  },
  {
   "cell_type": "code",
   "execution_count": null,
   "metadata": {
    "ExecuteTime": {
     "end_time": "2021-07-06T00:49:38.157403Z",
     "start_time": "2021-07-06T00:40:03.845Z"
    }
   },
   "outputs": [],
   "source": [
    "# result = wrmsse_total(xy1, xy2_hat, t_hat=\"sales_hat\")\n",
    "result = errors_per_level.mean()\n",
    "result"
   ]
  },
  {
   "cell_type": "markdown",
   "metadata": {},
   "source": [
    "## Investigate model"
   ]
  },
  {
   "cell_type": "markdown",
   "metadata": {},
   "source": [
    "### Importance"
   ]
  },
  {
   "cell_type": "code",
   "execution_count": null,
   "metadata": {
    "ExecuteTime": {
     "end_time": "2021-07-06T00:33:05.838751Z",
     "start_time": "2021-07-06T00:30:55.490Z"
    }
   },
   "outputs": [],
   "source": [
    "lgb.plot_importance(mdl.sk_obj, importance_type=\"split\", title=\"Feature importance by split\");"
   ]
  },
  {
   "cell_type": "code",
   "execution_count": null,
   "metadata": {
    "ExecuteTime": {
     "end_time": "2021-07-06T00:33:05.839253Z",
     "start_time": "2021-07-06T00:30:55.960Z"
    }
   },
   "outputs": [],
   "source": [
    "lgb.plot_importance(mdl.sk_obj, importance_type=\"gain\", title=\"Feature importance by gain\");"
   ]
  },
  {
   "cell_type": "markdown",
   "metadata": {},
   "source": [
    "### SHAP"
   ]
  },
  {
   "cell_type": "markdown",
   "metadata": {},
   "source": [
    "Prepare data for SHAP. **TODO**: Allow low-level control over dataframe in wrapper!"
   ]
  },
  {
   "cell_type": "code",
   "execution_count": null,
   "metadata": {
    "ExecuteTime": {
     "end_time": "2021-07-06T00:33:05.839703Z",
     "start_time": "2021-07-06T00:31:00.721Z"
    }
   },
   "outputs": [],
   "source": [
    "from nd_learn.compat.sklearn.wrap import _selection_helper_df\n",
    "ds = xy2\n",
    "self = mdl\n",
    "predictor_vars = self.predictors.select(ds)\n",
    "dims_obs = self.dims_obs\n",
    "obs_coords = ds[dims_obs].stack({\"obs\": dims_obs})[\"obs\"]\n",
    "\n",
    "X: pd.DataFrame = _selection_helper_df(\n",
    "    ds=ds,\n",
    "    dims_obs=dims_obs,\n",
    "    selected_vars=predictor_vars,\n",
    "    obs_coords=obs_coords,\n",
    ")\n",
    "Xs = X.sample(1000, random_state=42)"
   ]
  },
  {
   "cell_type": "markdown",
   "metadata": {},
   "source": [
    "Import and init shap."
   ]
  },
  {
   "cell_type": "code",
   "execution_count": null,
   "metadata": {
    "ExecuteTime": {
     "end_time": "2021-07-06T00:33:05.840177Z",
     "start_time": "2021-07-06T00:31:01.353Z"
    }
   },
   "outputs": [],
   "source": [
    "import shap"
   ]
  },
  {
   "cell_type": "code",
   "execution_count": null,
   "metadata": {
    "ExecuteTime": {
     "end_time": "2021-07-06T00:33:05.840638Z",
     "start_time": "2021-07-06T00:31:01.740Z"
    }
   },
   "outputs": [],
   "source": [
    "shap.initjs()"
   ]
  },
  {
   "cell_type": "code",
   "execution_count": null,
   "metadata": {
    "ExecuteTime": {
     "end_time": "2021-07-06T00:33:05.841144Z",
     "start_time": "2021-07-06T00:31:02.121Z"
    }
   },
   "outputs": [],
   "source": [
    "explainer = shap.TreeExplainer(mdl.sk_obj, feature_names=Xs.columns)"
   ]
  },
  {
   "cell_type": "code",
   "execution_count": null,
   "metadata": {
    "ExecuteTime": {
     "end_time": "2021-07-06T00:33:05.841613Z",
     "start_time": "2021-07-06T00:31:03.285Z"
    }
   },
   "outputs": [],
   "source": [
    "shap_values = explainer.shap_values(Xs)"
   ]
  },
  {
   "cell_type": "code",
   "execution_count": null,
   "metadata": {
    "ExecuteTime": {
     "end_time": "2021-07-06T00:33:05.842124Z",
     "start_time": "2021-07-06T00:31:03.807Z"
    }
   },
   "outputs": [],
   "source": [
    "sv = explainer(Xs)"
   ]
  },
  {
   "cell_type": "code",
   "execution_count": null,
   "metadata": {
    "ExecuteTime": {
     "end_time": "2021-07-06T00:33:05.842613Z",
     "start_time": "2021-07-06T00:31:05.304Z"
    }
   },
   "outputs": [],
   "source": [
    "shap.summary_plot(shap_values, Xs)"
   ]
  },
  {
   "cell_type": "code",
   "execution_count": null,
   "metadata": {
    "ExecuteTime": {
     "end_time": "2021-07-06T00:33:05.843106Z",
     "start_time": "2021-07-06T00:31:08.677Z"
    }
   },
   "outputs": [],
   "source": [
    "# shap.force_plot(explainer.expected_value, shap_values[0:], Xs)"
   ]
  },
  {
   "cell_type": "code",
   "execution_count": null,
   "metadata": {
    "ExecuteTime": {
     "end_time": "2021-07-06T00:33:05.843618Z",
     "start_time": "2021-07-06T00:31:17.575Z"
    }
   },
   "outputs": [],
   "source": [
    "shap.plots.scatter(sv[:, \"price\"])"
   ]
  },
  {
   "cell_type": "code",
   "execution_count": null,
   "metadata": {
    "ExecuteTime": {
     "end_time": "2021-07-06T00:33:05.844082Z",
     "start_time": "2021-07-06T00:31:18.397Z"
    }
   },
   "outputs": [],
   "source": [
    "shap.force_plot(explainer.expected_value, shap_values[0], Xs.iloc[0])"
   ]
  },
  {
   "cell_type": "code",
   "execution_count": null,
   "metadata": {
    "ExecuteTime": {
     "end_time": "2021-07-06T00:33:05.844550Z",
     "start_time": "2021-07-06T00:31:20.495Z"
    }
   },
   "outputs": [],
   "source": [
    "shap.waterfall_plot(sv[0])"
   ]
  },
  {
   "cell_type": "code",
   "execution_count": null,
   "metadata": {
    "ExecuteTime": {
     "end_time": "2021-07-06T00:33:05.845020Z",
     "start_time": "2021-07-06T00:31:25.949Z"
    }
   },
   "outputs": [],
   "source": [
    "price_shap = sv[:, \"price\"].values\n",
    "price_vals = sv[:, \"price\"].data\n",
    "plt.scatter(np.log(price_vals), price_shap);"
   ]
  },
  {
   "cell_type": "code",
   "execution_count": null,
   "metadata": {},
   "outputs": [],
   "source": []
  },
  {
   "cell_type": "markdown",
   "metadata": {},
   "source": [
    "### Simulation"
   ]
  },
  {
   "cell_type": "code",
   "execution_count": null,
   "metadata": {
    "ExecuteTime": {
     "end_time": "2021-07-06T00:33:05.845501Z",
     "start_time": "2021-07-06T00:31:28.385Z"
    }
   },
   "outputs": [],
   "source": [
    "pcts = np.arange(0.9, 1.1, step=0.0025)\n",
    "preds = pd.DataFrame(index=Xs.index)\n",
    "for mult in pcts:\n",
    "    Xd = Xs.copy()\n",
    "    Xd['price'] = Xs['price'] * mult\n",
    "    preds[mult] = mdl.sk_obj.predict(Xd)"
   ]
  },
  {
   "cell_type": "code",
   "execution_count": null,
   "metadata": {
    "ExecuteTime": {
     "end_time": "2021-07-06T00:33:05.845993Z",
     "start_time": "2021-07-06T00:31:28.629Z"
    }
   },
   "outputs": [],
   "source": [
    "base_pred = pd.Series(mdl.sk_obj.predict(Xs), index=Xs.index)"
   ]
  },
  {
   "cell_type": "code",
   "execution_count": null,
   "metadata": {
    "ExecuteTime": {
     "end_time": "2021-07-06T00:33:05.846471Z",
     "start_time": "2021-07-06T00:31:28.844Z"
    }
   },
   "outputs": [],
   "source": [
    "dlogy = preds.sub(base_pred, axis='rows').div(base_pred, axis='rows')\n",
    "dlogx = pd.Series(pcts-1, index=pcts)\n",
    "elasts_raw = dlogy.div(dlogx, axis='columns')\n",
    "del elasts_raw[pcts[(len(pcts)-1)//2]]"
   ]
  },
  {
   "cell_type": "code",
   "execution_count": null,
   "metadata": {
    "ExecuteTime": {
     "end_time": "2021-07-06T00:33:05.846968Z",
     "start_time": "2021-07-06T00:31:29.247Z"
    }
   },
   "outputs": [],
   "source": [
    "elast_avg_per_change = elasts_raw.mean()\n",
    "\n",
    "elast_std_per_change = elasts_raw.std()\n",
    "elast_avg_global = elast_avg_per_change.mean()"
   ]
  },
  {
   "cell_type": "code",
   "execution_count": null,
   "metadata": {
    "ExecuteTime": {
     "end_time": "2021-07-06T00:33:05.847462Z",
     "start_time": "2021-07-06T00:31:29.567Z"
    }
   },
   "outputs": [],
   "source": [
    "from scipy import stats\n",
    "_x = stats.norm.ppf(0.75)"
   ]
  },
  {
   "cell_type": "code",
   "execution_count": null,
   "metadata": {
    "ExecuteTime": {
     "end_time": "2021-07-06T00:33:05.847923Z",
     "start_time": "2021-07-06T00:31:29.940Z"
    }
   },
   "outputs": [],
   "source": [
    "stats.norm.cdf(0.6744) - stats.norm.cdf(-0.6744)"
   ]
  },
  {
   "cell_type": "code",
   "execution_count": null,
   "metadata": {
    "ExecuteTime": {
     "end_time": "2021-07-06T00:33:05.848359Z",
     "start_time": "2021-07-06T00:31:30.572Z"
    }
   },
   "outputs": [],
   "source": [
    "fig, ax = plt.subplots(figsize=(12, 8))\n",
    "elasts_raw.mean().plot.line(ax=ax, label=\"Per Change\")\n",
    "\n",
    "ax.axhline(elast_avg_global, label=f\"Average ({elast_avg_global:.2f})\", color=\"C2\", linestyle=\"--\")\n",
    "ax.fill_between(\n",
    "    elast_avg_per_change.index,\n",
    "    elast_avg_per_change - _x * elast_std_per_change,\n",
    "    elast_avg_per_change + _x * elast_std_per_change,\n",
    "    alpha=0.2,\n",
    "    label=\"50% Interval\",\n",
    ")\n",
    "ax.set_title(\"LightGBM Estimated Elasticity\")\n",
    "ax.set_xlabel(\"% change\")\n",
    "ax.set_ylabel(\"Elasticity Value\")\n",
    "ax.legend()\n",
    "fig;"
   ]
  },
  {
   "cell_type": "code",
   "execution_count": null,
   "metadata": {},
   "outputs": [],
   "source": []
  },
  {
   "cell_type": "code",
   "execution_count": null,
   "metadata": {},
   "outputs": [],
   "source": []
  }
 ],
 "metadata": {
  "kernelspec": {
   "display_name": "Python [conda env:m5-comp]",
   "language": "python",
   "name": "conda-env-m5-comp-py"
  },
  "latex_envs": {
   "LaTeX_envs_menu_present": true,
   "autoclose": false,
   "autocomplete": true,
   "bibliofile": "biblio.bib",
   "cite_by": "apalike",
   "current_citInitial": 1,
   "eqLabelWithNumbers": true,
   "eqNumInitial": 1,
   "hotkeys": {
    "equation": "Ctrl-E",
    "itemize": "Ctrl-I"
   },
   "labels_anchors": false,
   "latex_user_defs": false,
   "report_style_numbering": false,
   "user_envs_cfg": false
  },
  "toc": {
   "base_numbering": 1,
   "nav_menu": {},
   "number_sections": true,
   "sideBar": true,
   "skip_h1_title": false,
   "title_cell": "Table of Contents",
   "title_sidebar": "Contents",
   "toc_cell": false,
   "toc_position": {
    "height": "calc(100% - 180px)",
    "left": "10px",
    "top": "150px",
    "width": "269.2px"
   },
   "toc_section_display": true,
   "toc_window_display": true
  }
 },
 "nbformat": 4,
 "nbformat_minor": 5
}
